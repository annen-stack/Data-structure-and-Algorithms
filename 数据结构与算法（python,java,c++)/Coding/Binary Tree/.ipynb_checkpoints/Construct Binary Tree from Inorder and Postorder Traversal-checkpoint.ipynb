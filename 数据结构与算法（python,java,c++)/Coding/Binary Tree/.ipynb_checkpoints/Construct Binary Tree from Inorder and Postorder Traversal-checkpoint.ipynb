{
 "cells": [
  {
   "cell_type": "code",
   "execution_count": null,
   "metadata": {},
   "outputs": [],
   "source": [
    "public class Solution {\n",
    "    /**\n",
    "     *@param inorder : A list of integers that inorder traversal of a tree\n",
    "     *@param postorder : A list of integers that postorder traversal of a tree\n",
    "     *@return : Root of a tree\n",
    "     */\n",
    "    public TreeNode buildTree(int[] inorder, int[] postorder) {\n",
    "        if (inorder == null || postorder == null) return null;\n",
    "        if (inorder.length == 0 || postorder.length == 0) return null;\n",
    "        if (inorder.length != postorder.length) return null;\n",
    "\n",
    "        TreeNode root = helper(inorder, 0, inorder.length - 1,\n",
    "               postorder, 0, postorder.length - 1);\n",
    "        return root;\n",
    "    }\n",
    "\n",
    "    private TreeNode helper(int[] inorder, int instart, int inend,\n",
    "                            int[] postorder, int poststart, int postend) {\n",
    "        // corner cases\n",
    "        if (instart > inend || poststart > postend) return null;\n",
    "\n",
    "        // build root TreeNode\n",
    "        int root_val = postorder[postend];\n",
    "        TreeNode root = new TreeNode(root_val);\n",
    "        // find index of root_val in inorder[]\n",
    "        int index = findIndex(inorder, instart, inend, root_val);\n",
    "        // build left subtree\n",
    "        root.left = helper(inorder, instart, index - 1,\n",
    "                           postorder, poststart, poststart + index - instart - 1);\n",
    "        // build right subtree\n",
    "        root.right = helper(inorder, index + 1, inend,\n",
    "                           postorder, poststart + index - instart, postend - 1);\n",
    "        return root;\n",
    "    }\n",
    "\n",
    "    private int findIndex(int[] nums, int start, int end, int target) {\n",
    "        for (int i = start; i <= end; i++) {\n",
    "            if (nums[i] == target) return i;\n",
    "        }\n",
    "        return -1;\n",
    "    }\n",
    "}"
   ]
  }
 ],
 "metadata": {
  "kernelspec": {
   "display_name": "Python 3",
   "language": "python",
   "name": "python3"
  },
  "language_info": {
   "codemirror_mode": {
    "name": "ipython",
    "version": 3
   },
   "file_extension": ".py",
   "mimetype": "text/x-python",
   "name": "python",
   "nbconvert_exporter": "python",
   "pygments_lexer": "ipython3",
   "version": "3.7.7"
  }
 },
 "nbformat": 4,
 "nbformat_minor": 4
}
