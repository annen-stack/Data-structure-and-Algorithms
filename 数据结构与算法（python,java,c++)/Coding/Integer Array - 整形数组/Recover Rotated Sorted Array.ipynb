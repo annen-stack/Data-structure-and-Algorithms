{
 "cells": [
  {
   "cell_type": "markdown",
   "metadata": {},
   "source": [
    "### 三步翻转法"
   ]
  },
  {
   "cell_type": "markdown",
   "metadata": {},
   "source": [
    "首先可以想到逐步移位，但是这种方法显然太浪费时间，不可取。下面介绍利器『三步翻转法』，以[4, 5, 1, 2, 3]为例。 \n",
    "\n",
    "首先找到分割点5和1\n",
    "\n",
    "翻转前半部分4, 5为5, 4，后半部分1, 2, 3翻转为3, 2, 1。整个数组目前变为[5, 4, 3, 2, 1]\n",
    "\n",
    "最后整体翻转即可得[1, 2, 3, 4, 5]"
   ]
  },
  {
   "cell_type": "code",
   "execution_count": null,
   "metadata": {},
   "outputs": [],
   "source": [
    "//Java\n",
    "public class Solution{\n",
    "    public void recoverRotatedSortedArray(ArrayList<Integer> nums){\n",
    "        if(nums==null || nums.size()<=1){\n",
    "            return;\n",
    "        }\n",
    "        int pos=1;\n",
    "        while (pos<nums.size()){\n",
    "            if(nums.get(pos-1)>nums.get(pos))}{\n",
    "            break\n",
    "        }\n",
    "        pos++;\n",
    "    }\n",
    "    myRotate(nums,0,pos-1);\n",
    "    myRotate(nums,pos,nums.size()-1);\n",
    "    myRotate(nums,0,nums.size()-1);\n",
    "    }\n",
    "    private void myRotate(ArrayList<Integer> nums,int left, int right){\n",
    "        //首尾对调\n",
    "        while(left<right){\n",
    "            int temp=nums.get(left);\n",
    "            nums.set(left,nums.get(right));\n",
    "            nums.set(right,temp);\n",
    "            left++;\n",
    "            right--;\n",
    "        }\n",
    "    }\n",
    "}"
   ]
  },
  {
   "cell_type": "code",
   "execution_count": null,
   "metadata": {},
   "outputs": [],
   "source": [
    "//C++\n",
    "class Solution{\n",
    "private:\n",
    "    void reverse(vector<int> &nums,vector<int>::size_type start, vector<int>::size_type end){\n",
    "        for (vector<int>::size_type i = start, j = end; i < j; ++i, --j) {\n",
    "            int temp = nums[i];\n",
    "            nums[i] = nums[j];\n",
    "            nums[j] = temp;\n",
    "        }\n",
    "    }\n",
    "    }\n",
    "public:\n",
    "    void recoverRotatedSortedArray(vector<int> &nums) {\n",
    "        for (vector<int>::size_type index = 0; index != nums.size() - 1; ++index) {\n",
    "            if (nums[index] > nums[index + 1]) {\n",
    "                reverse(nums, 0, index);\n",
    "                reverse(nums, index + 1, nums.size() - 1);\n",
    "                reverse(nums, 0, nums.size() - 1);\n",
    "\n",
    "                return;\n",
    "            }\n",
    "        }\n",
    "    }\n",
    "};"
   ]
  },
  {
   "cell_type": "code",
   "execution_count": null,
   "metadata": {},
   "outputs": [],
   "source": []
  }
 ],
 "metadata": {
  "kernelspec": {
   "display_name": "Python 3",
   "language": "python",
   "name": "python3"
  },
  "language_info": {
   "codemirror_mode": {
    "name": "ipython",
    "version": 3
   },
   "file_extension": ".py",
   "mimetype": "text/x-python",
   "name": "python",
   "nbconvert_exporter": "python",
   "pygments_lexer": "ipython3",
   "version": "3.7.7"
  }
 },
 "nbformat": 4,
 "nbformat_minor": 4
}
