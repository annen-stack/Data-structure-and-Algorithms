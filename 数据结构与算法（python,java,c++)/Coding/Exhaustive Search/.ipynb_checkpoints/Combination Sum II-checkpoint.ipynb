{
 "cells": [
  {
   "cell_type": "code",
   "execution_count": null,
   "metadata": {},
   "outputs": [],
   "source": [
    "public class Solution {\n",
    "    /**\n",
    "     * @param num: Given the candidate numbers\n",
    "     * @param target: Given the target number\n",
    "     * @return: All the combinations that sum to target\n",
    "     */\n",
    "    public List<List<Integer>> combinationSum2(int[] num, int target) {\n",
    "        List<List<Integer>> result = new ArrayList<List<Integer>>();\n",
    "        List<Integer> list = new ArrayList<Integer>();\n",
    "        if (num == null) return result;\n",
    "\n",
    "        Arrays.sort(num);\n",
    "        helper(num, 0, target, list, result);\n",
    "\n",
    "        return result;\n",
    "    }\n",
    "\n",
    "    private void helper(int[] nums, int pos, int gap,\n",
    "                        List<Integer> list, List<List<Integer>> result) {\n",
    "\n",
    "        if (gap == 0) {\n",
    "            result.add(new ArrayList<Integer>(list));\n",
    "            return;\n",
    "        }\n",
    "\n",
    "        for (int i = pos; i < nums.length; i++) {\n",
    "            // ensure only the first same num is chosen, remove duplicate list\n",
    "            if (i != pos && nums[i] == nums[i - 1]) {\n",
    "                continue;\n",
    "            }\n",
    "            // cut invalid num\n",
    "            if (gap < nums[i]) {\n",
    "                return;\n",
    "            }\n",
    "            list.add(nums[i]);\n",
    "            // i + 1 ==> only be used once\n",
    "            helper(nums, i + 1, gap - nums[i], list, result);\n",
    "            list.remove(list.size() - 1);\n",
    "        }\n",
    "    }\n",
    "}"
   ]
  }
 ],
 "metadata": {
  "kernelspec": {
   "display_name": "Python 3",
   "language": "python",
   "name": "python3"
  },
  "language_info": {
   "codemirror_mode": {
    "name": "ipython",
    "version": 3
   },
   "file_extension": ".py",
   "mimetype": "text/x-python",
   "name": "python",
   "nbconvert_exporter": "python",
   "pygments_lexer": "ipython3",
   "version": "3.7.7"
  }
 },
 "nbformat": 4,
 "nbformat_minor": 4
}
