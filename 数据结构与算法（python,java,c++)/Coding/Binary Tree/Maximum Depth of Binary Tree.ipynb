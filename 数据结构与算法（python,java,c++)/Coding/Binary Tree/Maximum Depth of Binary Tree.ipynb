{
 "cells": [
  {
   "cell_type": "code",
   "execution_count": null,
   "metadata": {},
   "outputs": [],
   "source": [
    "class Solution {\n",
    "public:\n",
    "    /**\n",
    "     * @param root: The root of binary tree.\n",
    "     * @return: An integer\n",
    "     */\n",
    "    int maxDepth(TreeNode *root) {\n",
    "        if (NULL == root) {\n",
    "            return 0;\n",
    "        }\n",
    "\n",
    "        int left_depth = maxDepth(root->left);\n",
    "        int right_depth = maxDepth(root->right);\n",
    "\n",
    "        return max(left_depth, right_depth) + 1;\n",
    "    }\n",
    "};"
   ]
  },
  {
   "cell_type": "code",
   "execution_count": null,
   "metadata": {},
   "outputs": [],
   "source": [
    "public class Solution {\n",
    "    /**\n",
    "     * @param root: The root of binary tree.\n",
    "     * @return: An integer.\n",
    "     */\n",
    "    public int maxDepth(TreeNode root) {\n",
    "        // write your code here\n",
    "        if (root == null) {\n",
    "            return 0;\n",
    "        }\n",
    "        return Math.max(maxDepth(root.left), maxDepth(root.right)) + 1;\n",
    "    }\n",
    "}"
   ]
  }
 ],
 "metadata": {
  "kernelspec": {
   "display_name": "Python 3",
   "language": "python",
   "name": "python3"
  },
  "language_info": {
   "codemirror_mode": {
    "name": "ipython",
    "version": 3
   },
   "file_extension": ".py",
   "mimetype": "text/x-python",
   "name": "python",
   "nbconvert_exporter": "python",
   "pygments_lexer": "ipython3",
   "version": "3.7.7"
  }
 },
 "nbformat": 4,
 "nbformat_minor": 4
}
