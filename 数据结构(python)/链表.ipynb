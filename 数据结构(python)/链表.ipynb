{
 "cells": [
  {
   "cell_type": "markdown",
   "metadata": {},
   "source": [
    "### 1.反转一个单链表"
   ]
  },
  {
   "cell_type": "code",
   "execution_count": 2,
   "metadata": {},
   "outputs": [],
   "source": [
    "class ListNode:\n",
    "    def __init__(self, x):\n",
    "        self.val = x\n",
    "        self.next = None\n",
    "class Solution:\n",
    "    def reverseList(self,head:ListNode)->ListNode:\n",
    "        pre=None\n",
    "        while head:\n",
    "            tmp=head.next\n",
    "            head.next=pre\n",
    "            pre=head\n",
    "            head=tmp\n",
    "        return pre"
   ]
  },
  {
   "cell_type": "markdown",
   "metadata": {},
   "source": [
    "### 2.给定一个链表，确定是否有个环"
   ]
  },
  {
   "cell_type": "code",
   "execution_count": 3,
   "metadata": {},
   "outputs": [],
   "source": [
    "class ListNode(object):\n",
    "    def __init__(self,x):\n",
    "        self.val=x\n",
    "        self.next=None\n",
    "class Solution(object):\n",
    "    def hasCycle(self,head):\n",
    "        if not head or not head.next:\n",
    "            return False\n",
    "        slow,fast=head,head.next\n",
    "        while slow!=fast:\n",
    "            if not fast or not fast.next:\n",
    "                return False\n",
    "            slow,fast=slow.next,fast.next.next\n",
    "        return True"
   ]
  },
  {
   "cell_type": "markdown",
   "metadata": {},
   "source": [
    "### 3.返回链表的中间节点"
   ]
  },
  {
   "cell_type": "code",
   "execution_count": 4,
   "metadata": {},
   "outputs": [],
   "source": [
    "#快慢指针，post位于pre中间，pre找到最端点\n",
    "class ListNode(object):\n",
    "    def __init__(self,x):\n",
    "        self.val=x\n",
    "        self.next=None\n",
    "class Solution:\n",
    "    def middleNode(self,head:ListNode)->ListNode:\n",
    "        pre=post=head\n",
    "        while post.next and post:\n",
    "            pre=pre.next\n",
    "            post=post.next.next\n",
    "        return pre"
   ]
  },
  {
   "cell_type": "markdown",
   "metadata": {},
   "source": [
    "### 4.交换两个相邻的节点并返回其头部"
   ]
  },
  {
   "cell_type": "code",
   "execution_count": 5,
   "metadata": {},
   "outputs": [],
   "source": [
    "class ListNode(object):\n",
    "    def __init__(self,x):\n",
    "        self.val=x\n",
    "        self.next=None\n",
    "class Solution:\n",
    "    def swapPairs(self,head:ListNode)->ListNode:\n",
    "        dummy=tmp=ListNode(0)\n",
    "        tmp.next=head\n",
    "        while tmp.next and tmp.next.next:\n",
    "            post=tmp.next\n",
    "            pre=post.next\n",
    "            \n",
    "            tmp.next=pre\n",
    "            post.next=pre.next\n",
    "            pre.next=post\n",
    "            \n",
    "            tmp=post\n",
    "        return dummy"
   ]
  },
  {
   "cell_type": "markdown",
   "metadata": {},
   "source": [
    "### 5.将所有奇数节点连接一起，然后是偶数节点"
   ]
  },
  {
   "cell_type": "code",
   "execution_count": 6,
   "metadata": {},
   "outputs": [],
   "source": [
    "class Solution:\n",
    "    def oddEvenList(self,head:ListNode)->ListNode:\n",
    "        if not head:\n",
    "            return None\n",
    "        odd,even=head,head.next\n",
    "        eventmp=even\n",
    "        while even and even.next:\n",
    "            odd.next=even.next\n",
    "            odd=odd.next\n",
    "            even.next=odd.next\n",
    "            even=even.next\n",
    "        odd.next=eventmp\n",
    "        return head"
   ]
  },
  {
   "cell_type": "markdown",
   "metadata": {},
   "source": [
    "### 6.反转链表（m->n)\n"
   ]
  },
  {
   "cell_type": "code",
   "execution_count": 8,
   "metadata": {},
   "outputs": [],
   "source": [
    "class Solution:\n",
    "    def reverseBetween(self,head:ListNode,m:int,n:int)->ListNode:\n",
    "        pre=head\n",
    "        dummy=post=ListNode(0)\n",
    "        post.next=head\n",
    "        for i in range(m):\n",
    "            pre=post\n",
    "            post=post.next\n",
    "        for i in range(n-m):\n",
    "            cur=post.next\n",
    "            post.next=cur.next\n",
    "            cur.next=pre.next\n",
    "            pre.next=cur\n",
    "        return dummy.next          "
   ]
  },
  {
   "cell_type": "markdown",
   "metadata": {},
   "source": [
    "### 7.删除单链表中的节点"
   ]
  },
  {
   "cell_type": "code",
   "execution_count": 10,
   "metadata": {},
   "outputs": [],
   "source": [
    "class Solution:\n",
    "    def deleteNode(self,node):\n",
    "        node.val=node.next.val\n",
    "        node.next=node.next.next"
   ]
  },
  {
   "cell_type": "markdown",
   "metadata": {},
   "source": [
    "### 8.从列表末尾删除第n个节点并返回其头指针"
   ]
  },
  {
   "cell_type": "code",
   "execution_count": 11,
   "metadata": {},
   "outputs": [],
   "source": [
    "class Solution:\n",
    "    def removeNthFromEnd(self,head:ListNode,n:int)->ListNode:\n",
    "        pre=post=head\n",
    "        for _ in range(n):\n",
    "            pre=pre.next\n",
    "        if not pre:\n",
    "            return head.next\n",
    "        while pre.next:\n",
    "            pre=pre.next\n",
    "            post=post.next\n",
    "        post.next=post.next.next\n",
    "        return head "
   ]
  },
  {
   "cell_type": "markdown",
   "metadata": {},
   "source": [
    "### 9.删除所有重复元素"
   ]
  },
  {
   "cell_type": "code",
   "execution_count": 12,
   "metadata": {},
   "outputs": [],
   "source": [
    "class Solution:\n",
    "    def deleteDuplicates(self,head:ListNode)->ListNode:\n",
    "        cur=head\n",
    "        while cur:\n",
    "            while cur.next and cur.next.val==cur.val:\n",
    "                cur.next=cur.next.next\n",
    "            cur=cur.next\n",
    "        return head"
   ]
  },
  {
   "cell_type": "markdown",
   "metadata": {},
   "source": [
    "### 10.移除某值"
   ]
  },
  {
   "cell_type": "code",
   "execution_count": 13,
   "metadata": {},
   "outputs": [],
   "source": [
    "class Solution:\n",
    "    def removeElements(self, head: ListNode, val: int) -> ListNode:\n",
    "        dummy=pre=ListNode(0)\n",
    "        pre.next=head\n",
    "        tmp=head\n",
    "        while tmp:\n",
    "            if tmp.val==val:\n",
    "                pre.next=tmp.next\n",
    "            else:\n",
    "                pre=pre.next\n",
    "            tmp=tmp.next\n",
    "        return dummy.next"
   ]
  },
  {
   "cell_type": "markdown",
   "metadata": {},
   "source": [
    "### 11.移除具有重复数字的链表"
   ]
  },
  {
   "cell_type": "code",
   "execution_count": 14,
   "metadata": {},
   "outputs": [],
   "source": [
    "class Solution:\n",
    "    def deleteDuplicates(self, head: ListNode) -> ListNode:\n",
    "        dummy=pre=ListNode(0)\n",
    "        pre.next=head\n",
    "        while head and head.next:\n",
    "            if head.val == head.next.val:\n",
    "                while head and head.next and head.val == head.next.val:\n",
    "                    head=head.next\n",
    "                pre.next=head.next\n",
    "            else:\n",
    "                pre=pre.next\n",
    "            head=head.next\n",
    "            return dummy.next"
   ]
  },
  {
   "cell_type": "markdown",
   "metadata": {},
   "source": [
    "### 12.两个空链表相加"
   ]
  },
  {
   "cell_type": "code",
   "execution_count": 15,
   "metadata": {},
   "outputs": [],
   "source": [
    "class Solution:\n",
    "    def addTwoNumbers(self, l1: ListNode, l2: ListNode) -> ListNode:\n",
    "        flag=0\n",
    "        dummy=p1=ListNode(0)\n",
    "        p2=ListNode(0)\n",
    "        p1.next,p2.next=l1,l2\n",
    "        while p1.next and p2.next:\n",
    "            p1=p1.next\n",
    "            p2=p2.next\n",
    "            summ=p1.val+p2.val+flag\n",
    "            p1.val=summ%10\n",
    "            flag=summ>=10\n",
    "        p1.next=p1.next or p2.next\n",
    "        \n",
    "        while flag and p1.next:\n",
    "            p1=p1.next\n",
    "            if p1.val==9:\n",
    "                p1.val=0\n",
    "            else:\n",
    "                p1.val=p1.val+1\n",
    "                flag=0\n",
    "        p1.next=ListNode(1) if flag else p1.next\n",
    "        return dummy.next\n",
    "            "
   ]
  },
  {
   "cell_type": "markdown",
   "metadata": {},
   "source": [
    "### 13.两个空链表相加II\n"
   ]
  },
  {
   "cell_type": "code",
   "execution_count": 16,
   "metadata": {},
   "outputs": [],
   "source": [
    "class Solution:\n",
    "    def addTwoNumbers(self, l1: 'ListNode', l2: 'ListNode') -> 'ListNode':\n",
    "        if not l1 and not l2:\n",
    "            return None\n",
    "        l1_num=0\n",
    "        while l1:\n",
    "            l1_num=l1_num*10+l1.val\n",
    "            l1=l1.next\n",
    "        l2_num=0\n",
    "        while l2:\n",
    "            l2_num=l2_num*10+l2.val\n",
    "            l2=l2.next\n",
    "        lsum=l1_num+l2_num\n",
    "        head=ListNode(None)\n",
    "        cur=head\n",
    "        for istr in str(lsum):\n",
    "            cur.next=ListNode(int(istr))\n",
    "            cur=cur.next\n",
    "        return head.next"
   ]
  },
  {
   "cell_type": "markdown",
   "metadata": {},
   "source": [
    "### 14.找到两个相交单链表的公共节点"
   ]
  },
  {
   "cell_type": "code",
   "execution_count": 17,
   "metadata": {},
   "outputs": [],
   "source": [
    "class Solution(object):\n",
    "    def getIntersectionNode(self, headA, headB):\n",
    "        lenA = lenB = 0\n",
    "        h1, h2 = headA, headB\n",
    "\n",
    "        while h1:\n",
    "            h1 = h1.next\n",
    "            lenA += 1\n",
    "\n",
    "        while h2:\n",
    "            h2 = h2.next\n",
    "            lenB += 1\n",
    "\n",
    "        if lenA > lenB:\n",
    "            for i in range(lenA - lenB):\n",
    "                headA = headA.next\n",
    "        else:\n",
    "            for i in range(lenB - lenA):\n",
    "                headB = headB.next\n",
    "\n",
    "        while headA and headB:\n",
    "            if headA == headB:\n",
    "                return headA\n",
    "            headA = headA.next\n",
    "            headB = headB.next\n",
    "\n",
    "        return None"
   ]
  },
  {
   "cell_type": "markdown",
   "metadata": {},
   "source": [
    "### 15.合并两个新链表，按照大小"
   ]
  },
  {
   "cell_type": "code",
   "execution_count": 19,
   "metadata": {},
   "outputs": [],
   "source": [
    "class Solution:\n",
    "    def mergeTwoLists(self, l1: ListNode, l2: ListNode) -> ListNode:\n",
    "        dummy=tmp=ListNode(0)\n",
    "        while l1 and l2:\n",
    "            if l1.val <= l2.val:\n",
    "                tmp.next=l1\n",
    "                l1=l1.next\n",
    "            else:\n",
    "                tmp.next=l2\n",
    "                l2=l2.next\n",
    "        tmp=tmp.next\n",
    "        tmp.next=l1 or l2\n",
    "        return dummy.next"
   ]
  },
  {
   "cell_type": "markdown",
   "metadata": {},
   "source": [
    "### 16.给定一个单链表，确定是否有回文"
   ]
  },
  {
   "cell_type": "code",
   "execution_count": 20,
   "metadata": {},
   "outputs": [],
   "source": [
    "class Solution:\n",
    "    def isPalindrome(self, head: ListNode) -> bool:\n",
    "        res=[]\n",
    "        while head:\n",
    "            res.append(head.val)\n",
    "            head=head.next\n",
    "        if res[::-1]==res:\n",
    "            return True\n",
    "        else:\n",
    "            return False"
   ]
  },
  {
   "cell_type": "markdown",
   "metadata": {},
   "source": [
    "### 17.重新排序"
   ]
  },
  {
   "cell_type": "code",
   "execution_count": 21,
   "metadata": {},
   "outputs": [],
   "source": [
    "class Solution:\n",
    "    def reorderList(self, head):\n",
    "        if not head:\n",
    "            return \n",
    "        slow=fast=head\n",
    "        while fast and fast.next:\n",
    "            slow=slow.next\n",
    "            fast=fast.next\n",
    "        pre=None\n",
    "        node=slow\n",
    "        while node:\n",
    "            tmp=node\n",
    "            tmp.next=pre\n",
    "            node=node.next\n",
    "            pre=tmp\n",
    "        first,second=head,pre\n",
    "        while second.next:\n",
    "            res=first.next\n",
    "            first.next=second\n",
    "            r=second\n",
    "            r=r.next\n",
    "            first=res\n",
    "            second.next=first\n",
    "            second=r\n",
    "        return head"
   ]
  },
  {
   "cell_type": "markdown",
   "metadata": {},
   "source": [
    "### 18.返回循环开始的节点"
   ]
  },
  {
   "cell_type": "code",
   "execution_count": 22,
   "metadata": {},
   "outputs": [],
   "source": [
    "class Solution:\n",
    "    def detectCycle(self, head: ListNode) -> ListNode:\n",
    "        fast = slow = head\n",
    "        while fast and fast.next:\n",
    "            fast = fast.next.next\n",
    "            slow = slow.next\n",
    "            if fast == slow:\n",
    "                slow = head\n",
    "                while fast != slow:\n",
    "                    fast = fast.next\n",
    "                    slow = slow.next\n",
    "                return fast\n",
    "        return None"
   ]
  },
  {
   "cell_type": "markdown",
   "metadata": {},
   "source": [
    "### 19.将二叉树转化为链表"
   ]
  },
  {
   "cell_type": "code",
   "execution_count": 25,
   "metadata": {},
   "outputs": [],
   "source": [
    "# Definition for a binary tree node.\n",
    "class TreeNode:\n",
    "    def __init__(self, x):\n",
    "        self.val = x\n",
    "        self.left = None\n",
    "        self.right = None\n",
    "\n",
    "class Solution:\n",
    "    def flatten(self, root: TreeNode) -> None:\n",
    "        \"\"\"\n",
    "        Do not return anything, modify root in-place instead.\n",
    "        \"\"\"\n",
    "        if not root:return\n",
    "        stack = [root]\n",
    "        tmp = None\n",
    "        while stack:\n",
    "            node = stack.pop()\n",
    "            if node:\n",
    "                stack.append(node.right)\n",
    "                stack.append(node.left)\n",
    "                node.left = None\n",
    "                if tmp:\n",
    "                    tmp.right = node\n",
    "                tmp = node\n",
    "        return root\n",
    "    "
   ]
  },
  {
   "cell_type": "markdown",
   "metadata": {},
   "source": [
    "### 20.链表排序"
   ]
  },
  {
   "cell_type": "code",
   "execution_count": 26,
   "metadata": {},
   "outputs": [],
   "source": [
    "#将其拆开，再排序\n",
    "class Solution:\n",
    "    def sortList(self,head:ListNode)->ListNode:\n",
    "        if not head or not head.next:\n",
    "            return head\n",
    "        fast=slow=sec=head\n",
    "        while fast and fast.next:\n",
    "            fast=fast.next.next\n",
    "            sec=slow\n",
    "            slow=slow.next\n",
    "        sec.next=None\n",
    "        return self.merge(head,slow)\n",
    "    def merge(self,p1,p2):\n",
    "        dummy=tmp=ListNode(0)\n",
    "        while p1 and p2:\n",
    "            if p1.val < p2.val:\n",
    "                tmp.next=p1\n",
    "                p1=p1.next\n",
    "            else:\n",
    "                tmp.next=p2\n",
    "                p2=p2.next\n",
    "            tmp=tmp.next\n",
    "        tmp.next = p1 or p2\n",
    "        return dummy.next"
   ]
  },
  {
   "cell_type": "markdown",
   "metadata": {},
   "source": [
    "### 21.反转链表第k个节点"
   ]
  },
  {
   "cell_type": "code",
   "execution_count": 28,
   "metadata": {},
   "outputs": [],
   "source": [
    "class Solution:\n",
    "    def reverseKGroup(self, head: ListNode, k: int) -> ListNode:\n",
    "        dummy = tmp = ListNode(0)\n",
    "        tmp.next = left = right = head\n",
    "        while True:\n",
    "            count = 0\n",
    "            while right and count < k:\n",
    "                right = right.next\n",
    "                count += 1\n",
    "            if count == k:\n",
    "                pre, cur = right, left\n",
    "                for _ in range(k):\n",
    "                    pre, pre.next, cur = cur, pre, cur.next\n",
    "                tmp.next, tmp, left = pre, left, right\n",
    "            else:\n",
    "                return dummy.next"
   ]
  },
  {
   "cell_type": "markdown",
   "metadata": {},
   "source": [
    "### 22.分区域"
   ]
  },
  {
   "cell_type": "code",
   "execution_count": 29,
   "metadata": {},
   "outputs": [],
   "source": [
    "class Solution:\n",
    "    def partition(self, head: ListNode, x: int) -> ListNode:\n",
    "        dummy=less=ListNode(0)\n",
    "        dummy2=other=ListNode(0)\n",
    "        while head:\n",
    "            if head.val < x:\n",
    "                less.next=head\n",
    "                less=less.next\n",
    "            else:\n",
    "                other.next=head\n",
    "                other=other.next\n",
    "            head=head.next\n",
    "        other.next=None\n",
    "        less.next=dummy2.next\n",
    "        return dummy.next"
   ]
  },
  {
   "cell_type": "markdown",
   "metadata": {},
   "source": [
    "### 23.Next Greater Node In Linked List"
   ]
  },
  {
   "cell_type": "code",
   "execution_count": 30,
   "metadata": {},
   "outputs": [
    {
     "ename": "NameError",
     "evalue": "name 'List' is not defined",
     "output_type": "error",
     "traceback": [
      "\u001b[1;31m---------------------------------------------------------------------------\u001b[0m",
      "\u001b[1;31mNameError\u001b[0m                                 Traceback (most recent call last)",
      "\u001b[1;32m<ipython-input-30-88a82888ea96>\u001b[0m in \u001b[0;36m<module>\u001b[1;34m\u001b[0m\n\u001b[1;32m----> 1\u001b[1;33m \u001b[1;32mclass\u001b[0m \u001b[0mSolution\u001b[0m\u001b[1;33m:\u001b[0m\u001b[1;33m\u001b[0m\u001b[1;33m\u001b[0m\u001b[0m\n\u001b[0m\u001b[0;32m      2\u001b[0m     \u001b[1;32mdef\u001b[0m \u001b[0mnextLargerNodes\u001b[0m\u001b[1;33m(\u001b[0m\u001b[0mself\u001b[0m\u001b[1;33m,\u001b[0m \u001b[0mhead\u001b[0m\u001b[1;33m:\u001b[0m \u001b[0mListNode\u001b[0m\u001b[1;33m)\u001b[0m \u001b[1;33m->\u001b[0m \u001b[0mList\u001b[0m\u001b[1;33m[\u001b[0m\u001b[0mint\u001b[0m\u001b[1;33m]\u001b[0m\u001b[1;33m:\u001b[0m\u001b[1;33m\u001b[0m\u001b[1;33m\u001b[0m\u001b[0m\n\u001b[0;32m      3\u001b[0m         \u001b[1;32mif\u001b[0m \u001b[1;32mnot\u001b[0m \u001b[0mhead\u001b[0m\u001b[1;33m:\u001b[0m\u001b[1;33m\u001b[0m\u001b[1;33m\u001b[0m\u001b[0m\n\u001b[0;32m      4\u001b[0m             \u001b[1;32mreturn\u001b[0m \u001b[1;32mNone\u001b[0m\u001b[1;33m\u001b[0m\u001b[1;33m\u001b[0m\u001b[0m\n\u001b[0;32m      5\u001b[0m         \u001b[0mp\u001b[0m\u001b[1;33m,\u001b[0m \u001b[0mtmp\u001b[0m\u001b[1;33m,\u001b[0m \u001b[0mstack\u001b[0m \u001b[1;33m=\u001b[0m \u001b[0mhead\u001b[0m\u001b[1;33m,\u001b[0m \u001b[1;33m[\u001b[0m\u001b[1;33m]\u001b[0m\u001b[1;33m,\u001b[0m \u001b[1;33m[\u001b[0m\u001b[1;33m]\u001b[0m\u001b[1;33m\u001b[0m\u001b[1;33m\u001b[0m\u001b[0m\n",
      "\u001b[1;32m<ipython-input-30-88a82888ea96>\u001b[0m in \u001b[0;36mSolution\u001b[1;34m()\u001b[0m\n\u001b[0;32m      1\u001b[0m \u001b[1;32mclass\u001b[0m \u001b[0mSolution\u001b[0m\u001b[1;33m:\u001b[0m\u001b[1;33m\u001b[0m\u001b[1;33m\u001b[0m\u001b[0m\n\u001b[1;32m----> 2\u001b[1;33m     \u001b[1;32mdef\u001b[0m \u001b[0mnextLargerNodes\u001b[0m\u001b[1;33m(\u001b[0m\u001b[0mself\u001b[0m\u001b[1;33m,\u001b[0m \u001b[0mhead\u001b[0m\u001b[1;33m:\u001b[0m \u001b[0mListNode\u001b[0m\u001b[1;33m)\u001b[0m \u001b[1;33m->\u001b[0m \u001b[0mList\u001b[0m\u001b[1;33m[\u001b[0m\u001b[0mint\u001b[0m\u001b[1;33m]\u001b[0m\u001b[1;33m:\u001b[0m\u001b[1;33m\u001b[0m\u001b[1;33m\u001b[0m\u001b[0m\n\u001b[0m\u001b[0;32m      3\u001b[0m         \u001b[1;32mif\u001b[0m \u001b[1;32mnot\u001b[0m \u001b[0mhead\u001b[0m\u001b[1;33m:\u001b[0m\u001b[1;33m\u001b[0m\u001b[1;33m\u001b[0m\u001b[0m\n\u001b[0;32m      4\u001b[0m             \u001b[1;32mreturn\u001b[0m \u001b[1;32mNone\u001b[0m\u001b[1;33m\u001b[0m\u001b[1;33m\u001b[0m\u001b[0m\n\u001b[0;32m      5\u001b[0m         \u001b[0mp\u001b[0m\u001b[1;33m,\u001b[0m \u001b[0mtmp\u001b[0m\u001b[1;33m,\u001b[0m \u001b[0mstack\u001b[0m \u001b[1;33m=\u001b[0m \u001b[0mhead\u001b[0m\u001b[1;33m,\u001b[0m \u001b[1;33m[\u001b[0m\u001b[1;33m]\u001b[0m\u001b[1;33m,\u001b[0m \u001b[1;33m[\u001b[0m\u001b[1;33m]\u001b[0m\u001b[1;33m\u001b[0m\u001b[1;33m\u001b[0m\u001b[0m\n",
      "\u001b[1;31mNameError\u001b[0m: name 'List' is not defined"
     ]
    }
   ],
   "source": [
    "class Solution:\n",
    "    def nextLargerNodes(self, head: ListNode) -> List[int]:\n",
    "        if not head:\n",
    "            return None\n",
    "        p, tmp, stack = head, [], []\n",
    "        while p:\n",
    "            tmp.append(p.val)\n",
    "            p = p.next\n",
    "        res = [0] * len(tmp)\n",
    "        for i in range(len(tmp)):\n",
    "            while stack and stack[-1][1] < tmp[i]:\n",
    "                idx, _ = stack.pop()\n",
    "                res[idx] = tmp[i]\n",
    "            stack.append((i, tmp[i]))\n",
    "\n",
    "        return res"
   ]
  },
  {
   "cell_type": "code",
   "execution_count": null,
   "metadata": {},
   "outputs": [],
   "source": []
  }
 ],
 "metadata": {
  "kernelspec": {
   "display_name": "Python 3",
   "language": "python",
   "name": "python3"
  },
  "language_info": {
   "codemirror_mode": {
    "name": "ipython",
    "version": 3
   },
   "file_extension": ".py",
   "mimetype": "text/x-python",
   "name": "python",
   "nbconvert_exporter": "python",
   "pygments_lexer": "ipython3",
   "version": "3.7.7"
  }
 },
 "nbformat": 4,
 "nbformat_minor": 4
}
