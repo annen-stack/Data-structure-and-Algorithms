{
 "cells": [
  {
   "cell_type": "code",
   "execution_count": null,
   "metadata": {},
   "outputs": [],
   "source": [
    "#是否为回文串\n",
    "class Solution:\n",
    "    # @param {string} s A string\n",
    "    # @return {boolean} Whether the string is a valid palindrome\n",
    "    def isPalindrome(self, s):\n",
    "        if not s:\n",
    "            return True\n",
    "\n",
    "        l, r = 0, len(s) - 1\n",
    "\n",
    "        while l < r:\n",
    "            # find left alphanumeric character\n",
    "            if not s[l].isalnum():\n",
    "                l += 1\n",
    "                continue\n",
    "            # find right alphanumeric character\n",
    "            if not s[r].isalnum():\n",
    "                r -= 1\n",
    "                continue\n",
    "            # case insensitive compare\n",
    "            if s[l].lower() == s[r].lower():\n",
    "                l += 1\n",
    "                r -= 1\n",
    "            else:\n",
    "                return False\n",
    "        #\n",
    "        return True"
   ]
  },
  {
   "cell_type": "code",
   "execution_count": null,
   "metadata": {},
   "outputs": [],
   "source": [
    "//C++\n",
    "class Solution {\n",
    "public:\n",
    "    /**\n",
    "     * @param s A string\n",
    "     * @return Whether the string is a valid palindrome\n",
    "     */\n",
    "    bool isPalindrome(string& s) {\n",
    "        if (s.empty()) return true;\n",
    "\n",
    "        int l = 0, r = s.size() - 1;\n",
    "        while (l < r) {\n",
    "            // find left alphanumeric character\n",
    "            if (!isalnum(s[l])) {\n",
    "                ++l;\n",
    "                continue;\n",
    "            }\n",
    "            // find right alphanumeric character\n",
    "            if (!isalnum(s[r])) {\n",
    "                --r;\n",
    "                continue;\n",
    "            }\n",
    "            // case insensitive compare\n",
    "            if (tolower(s[l]) == tolower(s[r])) {\n",
    "                ++l;\n",
    "                --r;\n",
    "            } else {\n",
    "                return false;\n",
    "            }\n",
    "        }\n",
    "\n",
    "        return true;\n",
    "    }\n",
    "};"
   ]
  },
  {
   "cell_type": "code",
   "execution_count": null,
   "metadata": {},
   "outputs": [],
   "source": [
    "//Java\n",
    "public class Solution {\n",
    "    public boolean isPalindrome(String s) {\n",
    "        if (s == null || s.trim().isEmpty()) {\n",
    "            return true;\n",
    "        }\n",
    "\n",
    "        int l = 0, r = s.length() - 1;\n",
    "        while (l < r) {\n",
    "            if(!Character.isLetterOrDigit(s.charAt(l))) {\n",
    "                l++;\n",
    "                continue;\n",
    "            }\n",
    "            if(!Character.isLetterOrDigit(s.charAt(r))) {\n",
    "                r--;\n",
    "                continue;\n",
    "            }\n",
    "            if (Character.toLowerCase(s.charAt(l)) == Character.toLowerCase(s.charAt(r))) {\n",
    "                l++;\n",
    "                r--;\n",
    "            } else {\n",
    "                return false;\n",
    "            }\n",
    "        }\n",
    "\n",
    "        return true;\n",
    "    }\n",
    "}"
   ]
  },
  {
   "cell_type": "markdown",
   "metadata": {},
   "source": [
    "### 复杂度分析"
   ]
  },
  {
   "cell_type": "markdown",
   "metadata": {},
   "source": [
    "两根指针遍历一次，时间复杂度 \n",
    "O(n), 空间复杂度 \n",
    "O(1)."
   ]
  },
  {
   "cell_type": "code",
   "execution_count": null,
   "metadata": {},
   "outputs": [],
   "source": []
  }
 ],
 "metadata": {
  "kernelspec": {
   "display_name": "Python 3",
   "language": "python",
   "name": "python3"
  },
  "language_info": {
   "codemirror_mode": {
    "name": "ipython",
    "version": 3
   },
   "file_extension": ".py",
   "mimetype": "text/x-python",
   "name": "python",
   "nbconvert_exporter": "python",
   "pygments_lexer": "ipython3",
   "version": "3.7.7"
  }
 },
 "nbformat": 4,
 "nbformat_minor": 4
}
