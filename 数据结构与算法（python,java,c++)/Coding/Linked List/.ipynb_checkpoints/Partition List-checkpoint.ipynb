{
 "cells": [
  {
   "cell_type": "markdown",
   "metadata": {},
   "source": [
    "此题出自 CTCI 题 2.4，依据题意，是要根据值x对链表进行分割操作，具体是指将所有小于x的节点放到不小于x的节点之前，咋一看和快速排序的分割有些类似，但是这个题的不同之处在于只要求将小于x的节点放到前面，而并不要求对元素进行排序。"
   ]
  },
  {
   "cell_type": "code",
   "execution_count": 1,
   "metadata": {},
   "outputs": [],
   "source": [
    "class Solution:\n",
    "    \"\"\"\n",
    "    @param head: The first node of linked list.\n",
    "    @param x: an integer\n",
    "    @return: a ListNode\n",
    "    \"\"\"\n",
    "    def partition(self, head, x):\n",
    "        if head is None:\n",
    "            return None\n",
    "\n",
    "        leftDummy = ListNode(0)\n",
    "        left = leftDummy\n",
    "        rightDummy = ListNode(0)\n",
    "        right = rightDummy\n",
    "        node = head\n",
    "        while node is not None:\n",
    "            if node.val < x:\n",
    "                left.next = node\n",
    "                left = left.next\n",
    "            else:\n",
    "                right.next = node\n",
    "                right = right.next\n",
    "            node = node.next\n",
    "        # post-processing\n",
    "        right.next = None\n",
    "        left.next = rightDummy.next\n",
    "\n",
    "        return leftDummy.next"
   ]
  },
  {
   "cell_type": "code",
   "execution_count": null,
   "metadata": {},
   "outputs": [],
   "source": []
  }
 ],
 "metadata": {
  "kernelspec": {
   "display_name": "Python 3",
   "language": "python",
   "name": "python3"
  },
  "language_info": {
   "codemirror_mode": {
    "name": "ipython",
    "version": 3
   },
   "file_extension": ".py",
   "mimetype": "text/x-python",
   "name": "python",
   "nbconvert_exporter": "python",
   "pygments_lexer": "ipython3",
   "version": "3.7.7"
  }
 },
 "nbformat": 4,
 "nbformat_minor": 4
}
