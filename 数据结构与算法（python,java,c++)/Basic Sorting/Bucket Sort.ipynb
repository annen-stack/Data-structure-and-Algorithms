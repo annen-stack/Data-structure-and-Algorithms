{
 "cells": [
  {
   "cell_type": "markdown",
   "metadata": {},
   "source": [
    "桶排序和归并排序有那么点点类似，也使用了归并的思想。大致步骤如下：\n",
    "1. 设置一个定量的数组当作空桶。\n",
    "2. Divide - 从待排序数组中取出元素，将元素按照一定的规则塞进对应的桶子去。\n",
    "3. 对每个非空桶进行排序，通常可在塞元素入桶时进行插入排序。\n",
    "4. Conquer - 从非空桶把元素再放回原来的数组中。"
   ]
  },
  {
   "cell_type": "code",
   "execution_count": null,
   "metadata": {},
   "outputs": [],
   "source": []
  }
 ],
 "metadata": {
  "kernelspec": {
   "display_name": "Python 3",
   "language": "python",
   "name": "python3"
  },
  "language_info": {
   "codemirror_mode": {
    "name": "ipython",
    "version": 3
   },
   "file_extension": ".py",
   "mimetype": "text/x-python",
   "name": "python",
   "nbconvert_exporter": "python",
   "pygments_lexer": "ipython3",
   "version": "3.7.7"
  }
 },
 "nbformat": 4,
 "nbformat_minor": 4
}
