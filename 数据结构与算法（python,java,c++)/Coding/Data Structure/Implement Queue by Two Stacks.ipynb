{
 "cells": [
  {
   "cell_type": "code",
   "execution_count": null,
   "metadata": {},
   "outputs": [],
   "source": [
    "public class Solution {\n",
    "    private Stack<Integer> stack1;\n",
    "    private Stack<Integer> stack2;\n",
    "\n",
    "    public Solution() {\n",
    "        // source stack\n",
    "        stack1 = new Stack<Integer>();\n",
    "        // target stack\n",
    "        stack2 = new Stack<Integer>();\n",
    "    }\n",
    "\n",
    "    public void push(int element) {\n",
    "        stack1.push(element);\n",
    "    }\n",
    "\n",
    "    public int pop() {\n",
    "        if (stack2.empty()) {\n",
    "            stack1ToStack2(stack1, stack2);\n",
    "        }\n",
    "        return stack2.pop();\n",
    "    }\n",
    "\n",
    "    public int top() {\n",
    "        if (stack2.empty()) {\n",
    "            stack1ToStack2(stack1, stack2);\n",
    "        }\n",
    "        return stack2.peek();\n",
    "    }\n",
    "\n",
    "    private void stack1ToStack2(Stack<Integer> stack1, Stack<Integer> stack2) {\n",
    "        while (!stack1.empty()) {\n",
    "            stack2.push(stack1.pop());\n",
    "        }\n",
    "    }\n",
    "}"
   ]
  }
 ],
 "metadata": {
  "kernelspec": {
   "display_name": "Python 3",
   "language": "python",
   "name": "python3"
  },
  "language_info": {
   "codemirror_mode": {
    "name": "ipython",
    "version": 3
   },
   "file_extension": ".py",
   "mimetype": "text/x-python",
   "name": "python",
   "nbconvert_exporter": "python",
   "pygments_lexer": "ipython3",
   "version": "3.7.7"
  }
 },
 "nbformat": 4,
 "nbformat_minor": 4
}
