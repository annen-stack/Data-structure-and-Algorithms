{
 "cells": [
  {
   "cell_type": "markdown",
   "metadata": {},
   "source": [
    "核心：不断地选择剩余元素中的最小者。\n",
    "\n",
    "1. 找到数组中最小元素并将其和数组第一个元素交换位置。\n",
    "2. 在剩下的元素中找到最小元素并将其与数组第二个元素交换，直至整个数组排序。\n",
    "\n",
    "\n",
    "性质：\n",
    "1. 比较次数=(N-1)+(N-2)+(N-3)+...+2+1~N^2/2\n",
    "2. 交换次数=N\n",
    "3. 运行时间与输入无关\n",
    "4. 数据移动最少"
   ]
  },
  {
   "cell_type": "code",
   "execution_count": 3,
   "metadata": {},
   "outputs": [
    {
     "name": "stdout",
     "output_type": "stream",
     "text": [
      "[0, 1, 2, 3, 4, 5, 6, 7, 8, 9]\n"
     ]
    }
   ],
   "source": [
    "#python\n",
    "def selectionSort(alist):\n",
    "    for i in range(len(alist)):\n",
    "        min_index=i\n",
    "        for j in range(i+1,len(alist)):\n",
    "            if alist[j]<alist[min_index]:\n",
    "                min_index=j\n",
    "        alist[min_index],alist[i] = alist[i],alist[min_index]\n",
    "    return alist\n",
    "unsorted_list = [8, 5, 2, 6, 9, 3, 1, 4, 0, 7]\n",
    "print(selectionSort(unsorted_list))            "
   ]
  },
  {
   "cell_type": "code",
   "execution_count": null,
   "metadata": {},
   "outputs": [],
   "source": [
    "#java\n",
    "public class Sort {\n",
    "    public static void main(String[] args) {\n",
    "        int unsortedArray[] = new int[]{8, 5, 2, 6, 9, 3, 1, 4, 0, 7};\n",
    "        selectionSort(unsortedArray);\n",
    "        System.out.println(\"After sort: \");\n",
    "        for (int item : unsortedArray) {\n",
    "            System.out.print(item + \" \");\n",
    "        }\n",
    "    }\n",
    "\n",
    "    public static void selectionSort(int[] array) {\n",
    "        int len = array.length;\n",
    "        for (int i = 0; i < len; i++) {\n",
    "            for (int item : array) {\n",
    "                System.out.print(item + \" \");\n",
    "            }\n",
    "            System.out.println();\n",
    "            int min_index = i;\n",
    "            for (int j = i + 1; j < len; j++) {\n",
    "                if (array[j] < array[min_index]) {\n",
    "                    min_index = j;\n",
    "                }\n",
    "            }\n",
    "            int temp = array[min_index];\n",
    "            array[min_index] = array[i];\n",
    "            array[i] = temp;\n",
    "        }\n",
    "    }\n",
    "}"
   ]
  }
 ],
 "metadata": {
  "kernelspec": {
   "display_name": "Python 3",
   "language": "python",
   "name": "python3"
  },
  "language_info": {
   "codemirror_mode": {
    "name": "ipython",
    "version": 3
   },
   "file_extension": ".py",
   "mimetype": "text/x-python",
   "name": "python",
   "nbconvert_exporter": "python",
   "pygments_lexer": "ipython3",
   "version": "3.7.7"
  }
 },
 "nbformat": 4,
 "nbformat_minor": 4
}
