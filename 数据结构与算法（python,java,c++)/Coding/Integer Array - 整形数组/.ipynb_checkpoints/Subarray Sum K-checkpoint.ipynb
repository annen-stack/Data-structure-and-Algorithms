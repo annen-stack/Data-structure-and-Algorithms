{
 "cells": [
  {
   "cell_type": "markdown",
   "metadata": {},
   "source": [
    "Given an nonnegative integer array, find a subarray where the sum of numbers is k. Your code should return the index of the first number and the index of the last number.\n",
    "\n",
    "Given [1, 4, 20, 3, 10, 5], sum k = 33, return [2, 4]."
   ]
  },
  {
   "cell_type": "markdown",
   "metadata": {},
   "source": [
    "## 题解1 - 哈希表"
   ]
  },
  {
   "cell_type": "markdown",
   "metadata": {},
   "source": [
    "前一道题的核心约束条件为 \n",
    "f(i1)−f(i2)=0，这道题则变为 \n",
    "f(i1)−f(i2)=k, 那么相应的 index 则为 \n",
    "[i1+1,i2]。"
   ]
  },
  {
   "cell_type": "code",
   "execution_count": null,
   "metadata": {},
   "outputs": [],
   "source": [
    "//C++\n",
    "#include <iostream>\n",
    "#include <vector>\n",
    "#include <map>\n",
    "\n",
    "using namespace std;\n",
    "class Solution{\n",
    "public:\n",
    "    vector<int>subarraySum(vector<int>nums,int k){\n",
    "        vactor<int> result;\n",
    "        map<int,int> hash;\n",
    "        hash[0]=0;\n",
    "        int curr_sum=0;\n",
    "        for(int i=0;i!=nums.size();i++){\n",
    "            curr_sum+=nums[i];\n",
    "            if(hash.find(curr_sum-k)!=hash.end()){\n",
    "                //找到了\n",
    "                result.push_back(hash[curr_sum-k]);\n",
    "                result.push_back(i);\n",
    "                return result;\n",
    "            }\n",
    "            else{\n",
    "                hash[curr_sum]=i+1;\n",
    "            }\n",
    "        }\n",
    "        return result;\n",
    "    }\n",
    "}\n",
    "int main(int argc, char *argv[]){\n",
    "    int int_array1[]={1,4,20,3,10,5};\n",
    "    int int_array2[]={1,4,0,0,3,10,5};\n",
    "    \n",
    "    vector<int> vec_array1;\n",
    "    vector<int> vec_array2;\n",
    "    \n",
    "    for(int i=0;i!=sizeof(int_array1)/sizeof(int);++i){\n",
    "        vec_array1.push_back(int_array1[i]);\n",
    "    }\n",
    "    for(int i=0;i!=sizeof(int_array1)/sizeof(int);++i){\n",
    "        vec_array2.push_back(int_array1[i]);\n",
    "    }\n",
    "    \n",
    "    Solution solution;\n",
    "    vector<int> result1=solution.subarraySum(vec_array1);\n",
    "    vector<int> result2=solution.subarraySum(vec_array2);\n",
    "    \n",
    "    cout << \"result1 = [\" << result1[0] << \" ,\" << result1[1] << \"]\" << endl;\n",
    "    cout << \"result2 = [\" << result2[0] << \" ,\" << result2[1] << \"]\" << endl;\n",
    "\n",
    "    return 0;\n",
    "    \n",
    "    \n",
    "}\n"
   ]
  },
  {
   "cell_type": "markdown",
   "metadata": {},
   "source": [
    "## 题解2 - 利用单调函数特性"
   ]
  },
  {
   "cell_type": "markdown",
   "metadata": {},
   "source": [
    "不知道细心的你是否发现这道题的隐含条件——nonnegative integer array, 这也就意味着子串和函数 \n",
    "f(i)为「单调不减」函数。单调函数在数学中可是重点研究的对象，那么如何将这种单调性引入本题中呢？不妨设 \n",
    "i2>i1 题中的解等价于寻找 \n",
    "f(i2)−f(i1)=k, 则必有 \n",
    "f(i2)≥k."
   ]
  },
  {
   "cell_type": "markdown",
   "metadata": {},
   "source": [
    "第一个索引值往后递推，直至小于33时又往后递推第二个索引值，于是乎这种技巧又可以认为是「两根指针」。"
   ]
  },
  {
   "cell_type": "code",
   "execution_count": null,
   "metadata": {},
   "outputs": [],
   "source": [
    "#include <iostream>\n",
    "#include <vector>\n",
    "#include <map>\n",
    "\n",
    "using namespace std;\n",
    "\n",
    "class Solution {\n",
    "public:\n",
    "    /**\n",
    "     * @param nums: A list of integers\n",
    "     * @return: A list of integers includes the index of the first number\n",
    "     *          and the index of the last number\n",
    "     */\n",
    "    vector<int> subarraySum2(vector<int> &nums, int k){\n",
    "        vector<int> result;\n",
    "\n",
    "        int left_index = 0, curr_sum = 0;\n",
    "        for (int i = 0; i != nums.size(); ++i) {\n",
    "            while (curr_sum > k) {\n",
    "                curr_sum -= nums[left_index];\n",
    "                ++left_index;\n",
    "            }\n",
    "\n",
    "            if (curr_sum == k) {\n",
    "                result.push_back(left_index);\n",
    "                result.push_back(i - 1);\n",
    "                return result;\n",
    "            }\n",
    "            curr_sum += nums[i];\n",
    "        }\n",
    "        return result;\n",
    "    }\n",
    "};\n",
    "\n",
    "int main(int argc, char *argv[])\n",
    "{\n",
    "    int int_array1[] = {1, 4, 20, 3, 10, 5};\n",
    "    int int_array2[] = {1, 4, 0, 0, 3, 10, 5};\n",
    "    vector<int> vec_array1;\n",
    "    vector<int> vec_array2;\n",
    "    for (int i = 0; i != sizeof(int_array1) / sizeof(int); ++i) {\n",
    "        vec_array1.push_back(int_array1[i]);\n",
    "    }\n",
    "    for (int i = 0; i != sizeof(int_array2) / sizeof(int); ++i) {\n",
    "        vec_array2.push_back(int_array2[i]);\n",
    "    }\n",
    "\n",
    "    Solution solution;\n",
    "    vector<int> result1 = solution.subarraySum2(vec_array1, 33);\n",
    "    vector<int> result2 = solution.subarraySum2(vec_array2, 7);\n",
    "\n",
    "    cout << \"result1 = [\" << result1[0] << \" ,\" << result1[1] << \"]\" << endl;\n",
    "    cout << \"result2 = [\" << result2[0] << \" ,\" << result2[1] << \"]\" << endl;\n",
    "\n",
    "    return 0;\n",
    "}"
   ]
  },
  {
   "cell_type": "markdown",
   "metadata": {},
   "source": [
    "### 复杂度分析"
   ]
  },
  {
   "cell_type": "markdown",
   "metadata": {},
   "source": [
    "看似有两重循环，由于仅遍历一次数组，且索引最多挪动和数组等长的次数。故最终时间复杂度近似为 \n",
    "O(2n), 空间复杂度为 \n",
    "O(1)."
   ]
  },
  {
   "cell_type": "code",
   "execution_count": null,
   "metadata": {},
   "outputs": [],
   "source": []
  }
 ],
 "metadata": {
  "kernelspec": {
   "display_name": "Python 3",
   "language": "python",
   "name": "python3"
  },
  "language_info": {
   "codemirror_mode": {
    "name": "ipython",
    "version": 3
   },
   "file_extension": ".py",
   "mimetype": "text/x-python",
   "name": "python",
   "nbconvert_exporter": "python",
   "pygments_lexer": "ipython3",
   "version": "3.7.7"
  }
 },
 "nbformat": 4,
 "nbformat_minor": 4
}
