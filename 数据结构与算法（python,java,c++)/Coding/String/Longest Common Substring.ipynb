{
 "cells": [
  {
   "cell_type": "markdown",
   "metadata": {},
   "source": [
    "Given two strings, find the longest common substring.\n",
    "Return the length of it."
   ]
  },
  {
   "cell_type": "markdown",
   "metadata": {},
   "source": [
    "## 1.暴力枚举"
   ]
  },
  {
   "cell_type": "code",
   "execution_count": 1,
   "metadata": {},
   "outputs": [],
   "source": [
    "class Solution:\n",
    "    # @param A, B: Two string.\n",
    "    # @return: the length of the longest common substring.\n",
    "    def longestCommonSubstring(self, A, B):\n",
    "        if not (A and B):\n",
    "            return 0\n",
    "\n",
    "        lcs = 0\n",
    "        for i in range(len(A)):\n",
    "            for j in range(len(B)):\n",
    "                lcs_temp = 0\n",
    "                while (i + lcs_temp < len(A) and\n",
    "                       j + lcs_temp < len(B) and\n",
    "                       A[i + lcs_temp] == B[j + lcs_temp]):\n",
    "                    lcs_temp += 1\n",
    "                # update lcs\n",
    "                if lcs_temp > lcs:\n",
    "                    lcs = lcs_temp\n",
    "        return lcs"
   ]
  },
  {
   "cell_type": "code",
   "execution_count": null,
   "metadata": {},
   "outputs": [],
   "source": [
    "//C++\n",
    "class Solution {\n",
    "public:    \n",
    "    /**\n",
    "     * @param A, B: Two string.\n",
    "     * @return: the length of the longest common substring.\n",
    "     */\n",
    "    int longestCommonSubstring(string &A, string &B) {\n",
    "        if (A.empty() || B.empty()) {\n",
    "            return 0;\n",
    "        }\n",
    "\n",
    "        int lcs = 0;\n",
    "        for (int i = 0; i < A.length(); ++i) {\n",
    "            for (int j = 0; j < B.length(); ++j) {\n",
    "                int lcs_temp = 0;\n",
    "                while ((i + lcs_temp < A.length()) &&\n",
    "                       (j + lcs_temp < B.length()) &&\n",
    "                       (A[i + lcs_temp] == B[j + lcs_temp])) {\n",
    "                    ++lcs_temp;\n",
    "                }\n",
    "                // update lcs\n",
    "                if (lcs_temp > lcs) lcs = lcs_temp;\n",
    "            }\n",
    "        }\n",
    "\n",
    "        return lcs;\n",
    "    }\n",
    "};"
   ]
  },
  {
   "cell_type": "code",
   "execution_count": null,
   "metadata": {},
   "outputs": [],
   "source": [
    "//Java\n",
    "public class Solution {\n",
    "    /**\n",
    "     * @param A, B: Two string.\n",
    "     * @return: the length of the longest common substring.\n",
    "     */\n",
    "    public int longestCommonSubstring(String A, String B) {\n",
    "        if ((A == null || A.isEmpty()) || \n",
    "            (B == null || B.isEmpty())) {\n",
    "            return 0;\n",
    "        }\n",
    "\n",
    "        int lcs = 0;\n",
    "        for (int i = 0; i < A.length(); i++) {\n",
    "            for (int j = 0; j < B.length(); j++) {\n",
    "                int lcs_temp = 0;\n",
    "                while (i + lcs_temp < A.length() && \n",
    "                       j + lcs_temp < B.length() && \n",
    "                       A.charAt(i + lcs_temp) == B.charAt(j + lcs_temp)) {\n",
    "                    lcs_temp++;\n",
    "                }\n",
    "                // update lcs\n",
    "                if (lcs_temp > lcs) lcs = lcs_temp;\n",
    "            }\n",
    "        }\n",
    "\n",
    "        return lcs;\n",
    "    }\n",
    "}"
   ]
  },
  {
   "cell_type": "markdown",
   "metadata": {},
   "source": [
    "### 复杂度分析"
   ]
  },
  {
   "cell_type": "markdown",
   "metadata": {},
   "source": [
    "双重 for 循环，最坏时间复杂度约为 \n",
    "O(mn⋅lcs), lcs 最大可为 \n",
    "minm,n ."
   ]
  },
  {
   "cell_type": "markdown",
   "metadata": {},
   "source": [
    "## 2.动态规划"
   ]
  },
  {
   "cell_type": "code",
   "execution_count": null,
   "metadata": {},
   "outputs": [],
   "source": [
    "class Solution:\n",
    "    # @param A, B: Two string.\n",
    "    # @return: the length of the longest common substring.\n",
    "    def longestCommonSubstring(self, A, B):\n",
    "        if not (A and B):\n",
    "            return 0\n",
    "\n",
    "        n, m = len(A), len(B)\n",
    "        f = [[0 for i in range(m + 1)] for j in range(n + 1)]\n",
    "        for i in range(n):\n",
    "            for j in range(m):\n",
    "                if A[i] == B[j]:\n",
    "                    f[i + 1][j + 1] = 1 + f[i][j]\n",
    "\n",
    "        lcs = max(map(max, f))\n",
    "        return lcs"
   ]
  },
  {
   "cell_type": "code",
   "execution_count": null,
   "metadata": {},
   "outputs": [],
   "source": [
    "//C++\n",
    "lass Solution {\n",
    "public:\n",
    "    /**\n",
    "     * @param A, B: Two string.\n",
    "     * @return: the length of the longest common substring.\n",
    "     */\n",
    "    int longestCommonSubstring(string &A, string &B) {\n",
    "        if (A.empty() || B.empty()) {\n",
    "            return 0;\n",
    "        }\n",
    "\n",
    "        int n = A.length();\n",
    "        int m = B.length();\n",
    "        vector<vector<int> > f = vector<vector<int> >(n + 1, vector<int>(m + 1, 0));\n",
    "        for (int i = 0; i < n; ++i) {\n",
    "            for (int j = 0; j < m; ++j) {\n",
    "                if (A[i] == B[j]) {\n",
    "                    f[i + 1][j + 1] = 1 + f[i][j];\n",
    "                }\n",
    "            }\n",
    "        }\n",
    "\n",
    "        // find max lcs\n",
    "        int lcs = 0;\n",
    "        for (int i = 1; i <= n; ++i) {\n",
    "            for (int j = 1; j <= m; ++j) {\n",
    "                if (f[i][j] > lcs) lcs = f[i][j];\n",
    "            }\n",
    "        }\n",
    "\n",
    "        return lcs;\n",
    "    }\n",
    "};"
   ]
  },
  {
   "cell_type": "code",
   "execution_count": null,
   "metadata": {},
   "outputs": [],
   "source": [
    "//JAVA\n",
    "public class Solution {\n",
    "    /**\n",
    "     * @param A, B: Two string.\n",
    "     * @return: the length of the longest common substring.\n",
    "     */\n",
    "    public int longestCommonSubstring(String A, String B) {\n",
    "        if ((A == null || A.isEmpty()) ||\n",
    "            (B == null || B.isEmpty())) {\n",
    "            return 0;\n",
    "        }\n",
    "\n",
    "        int n = A.length();\n",
    "        int m = B.length();\n",
    "        int[][] f = new int[n + 1][m + 1];\n",
    "\n",
    "        for (int i = 0; i < n; i++) {\n",
    "            for (int j = 0; j < m; j++) {\n",
    "                if (A.charAt(i) == B.charAt(j)) {\n",
    "                    f[i + 1][j + 1] = 1 + f[i][j];\n",
    "                }\n",
    "            }\n",
    "        }\n",
    "\n",
    "        // find max lcs\n",
    "        int lcs = 0;\n",
    "        for (int i = 1; i <= n; i++) {\n",
    "            for (int j = 1; j <= m; j++) {\n",
    "                if (f[i][j] > lcs) lcs = f[i][j];\n",
    "            }\n",
    "        }\n",
    "\n",
    "        return lcs;\n",
    "    }\n",
    "}"
   ]
  },
  {
   "cell_type": "markdown",
   "metadata": {},
   "source": [
    "### 复杂度分析"
   ]
  },
  {
   "cell_type": "markdown",
   "metadata": {},
   "source": [
    "两次双重 for 循环，时间复杂度约为 \n",
    "O(mn), 空间复杂度为 \n",
    "O(mn). 对于这个题而言，使用动态规划的思维其复杂度并未得到明显下降。"
   ]
  },
  {
   "cell_type": "code",
   "execution_count": null,
   "metadata": {},
   "outputs": [],
   "source": []
  }
 ],
 "metadata": {
  "kernelspec": {
   "display_name": "Python 3",
   "language": "python",
   "name": "python3"
  },
  "language_info": {
   "codemirror_mode": {
    "name": "ipython",
    "version": 3
   },
   "file_extension": ".py",
   "mimetype": "text/x-python",
   "name": "python",
   "nbconvert_exporter": "python",
   "pygments_lexer": "ipython3",
   "version": "3.7.7"
  }
 },
 "nbformat": 4,
 "nbformat_minor": 4
}
