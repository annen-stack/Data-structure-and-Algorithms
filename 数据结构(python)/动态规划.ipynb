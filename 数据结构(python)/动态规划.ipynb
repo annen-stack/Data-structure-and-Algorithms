{
 "cells": [
  {
   "cell_type": "markdown",
   "metadata": {},
   "source": [
    "### 1.爬楼梯"
   ]
  },
  {
   "cell_type": "code",
   "execution_count": 1,
   "metadata": {},
   "outputs": [],
   "source": [
    "class Solution:\n",
    "    def climbStairs(self,n:int):\n",
    "        if n <= 2:\n",
    "            return n\n",
    "        dp=[0]*n\n",
    "        dp[0],dp[1]=1,2\n",
    "        for i in range(2,n):\n",
    "            dp[i]=dp[i-1]+dp[i-2]\n",
    "        return dp[-1]"
   ]
  },
  {
   "cell_type": "markdown",
   "metadata": {},
   "source": [
    "### 2.找出具有最大总和的连续数组"
   ]
  },
  {
   "cell_type": "code",
   "execution_count": 4,
   "metadata": {},
   "outputs": [],
   "source": [
    "class Solution:\n",
    "    def maxSubArray(self, nums):\n",
    "        dp = [0 for _ in range(len(nums))]\n",
    "        dp[0] = nums[0]\n",
    "        for i in range(1, len(nums)):\n",
    "            dp[i] = max(dp[i-1]+nums[i], nums[i])\n",
    "        return max(dp)"
   ]
  },
  {
   "cell_type": "markdown",
   "metadata": {},
   "source": [
    "### 3.机器人移位"
   ]
  },
  {
   "cell_type": "code",
   "execution_count": 5,
   "metadata": {},
   "outputs": [],
   "source": [
    "class Solution:\n",
    "    def uniquePaths(self, m: int, n: int):\n",
    "        dp = [[1 for _ in range(n)] for _ in range(m)]\n",
    "        for i in range(1,m):\n",
    "            for j in range(1,n):\n",
    "                dp[i][j] = dp[i-1][j] + dp[i][j-1]\n",
    "        return dp[-1][-1]"
   ]
  },
  {
   "cell_type": "markdown",
   "metadata": {},
   "source": [
    "### 4.机器人移位_添加了障碍"
   ]
  },
  {
   "cell_type": "code",
   "execution_count": 6,
   "metadata": {},
   "outputs": [],
   "source": [
    "#仍然像之前那样处理，只是该位置标注为0\n",
    "class Solution:\n",
    "    def uniquePathsWithObstacles(self, obstacleGrid):\n",
    "        if not obstacleGrid or not obstacleGrid[0]:\n",
    "            return 0\n",
    "        if obstacleGrid[0][0]==1 or obstacleGrid[-1][-1]==1:\n",
    "            return 0\n",
    "        m,n = len(obstacleGrid),len(obstacleGrid[0])\n",
    "        dp=[[0 for x in range(n)] for y in range(m)]\n",
    "        while i<m and obstacleGrid[i][0]==0:\n",
    "            dp[i][0] = 1\n",
    "            i=i+1\n",
    "        while j<n and obstacleGrid[0][j]==0:\n",
    "            dp[0][j]=1\n",
    "            j=j+1\n",
    "        for i in range(1,m):\n",
    "            for j in range(1,n):\n",
    "                if obstacleGrid[i][j]==1:\n",
    "                    dp[i][j]==0\n",
    "                else:\n",
    "                    dp[i][j]=dp[i-1][j]+d[i][j-1]\n",
    "        return dp[-1][-1]"
   ]
  },
  {
   "cell_type": "markdown",
   "metadata": {},
   "source": [
    "### 5.给定三角形输出从上到下的最小路径和"
   ]
  },
  {
   "cell_type": "code",
   "execution_count": 10,
   "metadata": {},
   "outputs": [],
   "source": [
    "class Solution(object):\n",
    "    def minimumTotal(self, triangle):\n",
    "        l=len(triangle)\n",
    "        if l==0:\n",
    "            return 0\n",
    "        for i in range(l-2,-1):\n",
    "            for j in range(i+1):\n",
    "                m = min(triangle[i+1][j],triangle[i+1][j+1])\n",
    "                triangle[i][j]=triangle[i][j]+m\n",
    "        return triangle[0][0]"
   ]
  },
  {
   "cell_type": "markdown",
   "metadata": {},
   "source": [
    "### 6.给定一个正整数，求和为n的最小平方数"
   ]
  },
  {
   "cell_type": "code",
   "execution_count": null,
   "metadata": {},
   "outputs": [],
   "source": [
    "class Solution(object):\n",
    "    _dp = [0]\n",
    "    def numSquares(self, n):\n",
    "        dp = self._dp\n",
    "        while len(dp) <= n: \n",
    "            dp += min(dp[-i*i] for i in range(1, int(len(dp)**0.5+1))) + 1,\n",
    "        return dp[n]"
   ]
  },
  {
   "cell_type": "markdown",
   "metadata": {},
   "source": [
    "### 7.word break"
   ]
  },
  {
   "cell_type": "code",
   "execution_count": 11,
   "metadata": {},
   "outputs": [],
   "source": [
    "class Solution:\n",
    "    def numSquares(self, n):\n",
    "        \"\"\"\n",
    "        :type n: int\n",
    "        :rtype: int\n",
    "        \"\"\"\n",
    "        q = list()\n",
    "        q.append([n, 0])\n",
    "        visited = [False for _ in range(n+1)]\n",
    "        visited[n] = True\n",
    "\n",
    "        while any(q):\n",
    "            num, step = q.pop(0)\n",
    "\n",
    "            i = 1\n",
    "            tNum = num - i**2\n",
    "            while tNum >= 0:\n",
    "                if tNum == 0:\n",
    "                    return step + 1\n",
    "\n",
    "                if not visited[tNum]:\n",
    "                    q.append((tNum, step + 1))\n",
    "                    visited[tNum] = True\n",
    "\n",
    "                i += 1\n",
    "                tNum = num - i**2"
   ]
  },
  {
   "cell_type": "markdown",
   "metadata": {},
   "source": [
    "### 8.Word Break"
   ]
  },
  {
   "cell_type": "code",
   "execution_count": 12,
   "metadata": {},
   "outputs": [],
   "source": [
    "class Solution:\n",
    "    def wordBreak(self, s, wordDict):\n",
    "        \"\"\"\n",
    "        :type s: str\n",
    "        :type wordDict: List[str]\n",
    "        :rtype: bool\n",
    "        \"\"\"\n",
    "        len_s = len(s)\n",
    "        pre, cur = 0, 1\n",
    "        while cur != len_s:\n",
    "            if s[pre:cur] in wordDict:\n",
    "                pre = cur\n",
    "                cur=cur+1\n",
    "            else:\n",
    "                cur += 1\n",
    "\n",
    "        if s[pre:cur] in wordDict:\n",
    "            return True\n",
    "\n",
    "        return False"
   ]
  },
  {
   "cell_type": "markdown",
   "metadata": {},
   "source": [
    "### 9.Guess Number Higher or Lower II"
   ]
  },
  {
   "cell_type": "code",
   "execution_count": 13,
   "metadata": {},
   "outputs": [],
   "source": [
    "class Solution(object):\n",
    "    def getMoneyAmount(self, n):\n",
    "        dp=[[0]*(n+1) for _ in range(n+1)]\n",
    "        return self.solve(dp,1,n)\n",
    "    def solve(self,dp,L,R):\n",
    "        if L>=R:\n",
    "            return 0\n",
    "        if dp[L][R]:return dp[L][R]\n",
    "        for i in range(L,R+1):\n",
    "            dp[L][R]=min(dp[L][R],max(self.solve(dp,L,i-1),self.solve(dp,i+1,R)))\n",
    "        return dp[L][R]"
   ]
  },
  {
   "cell_type": "markdown",
   "metadata": {},
   "source": [
    "### 10. Burst Balloons"
   ]
  },
  {
   "cell_type": "code",
   "execution_count": 14,
   "metadata": {},
   "outputs": [],
   "source": [
    "class Solution:\n",
    "    def maxCoins(self, nums):\n",
    "        nums = [1]+[x for x in nums if x>0] + [1]\n",
    "        n = len(nums)\n",
    "        dp = [[0]*n for _ in range(n)]\n",
    "        for j in range(1,n):\n",
    "            for i in range(j-2,-1,-1):\n",
    "                ans=0\n",
    "                for mid in range(i+1,j):\n",
    "                    dp[i][j]=max(dp[i][j],nums[i] * nums[mid] * nums[j] + dp[i][mid] + dp[mid][j])\n",
    "        return dp[0][n-1]\n",
    "        "
   ]
  },
  {
   "cell_type": "markdown",
   "metadata": {},
   "source": [
    "### 11.Coin Change"
   ]
  },
  {
   "cell_type": "code",
   "execution_count": null,
   "metadata": {},
   "outputs": [],
   "source": [
    "class Solution {\n",
    "public:\n",
    "    int coinChange(vector<int>& coins, int amount) {\n",
    "        vector<int> dp(amount + 1, amount + 1);\n",
    "        dp[0] = 0;\n",
    "        for (int i = 1; i <= amount; ++i) {\n",
    "            for (int j = 0; j < coins.size(); ++j) {\n",
    "                if (coins[j] <= i) {\n",
    "                    dp[i] = min(dp[i], dp[i - coins[j]] + 1);\n",
    "                }\n",
    "            }\n",
    "        }\n",
    "        return (dp[amount] > amount) ? -1 : dp[amount];\n",
    "    }\n",
    "};"
   ]
  }
 ],
 "metadata": {
  "kernelspec": {
   "display_name": "Python 3",
   "language": "python",
   "name": "python3"
  },
  "language_info": {
   "codemirror_mode": {
    "name": "ipython",
    "version": 3
   },
   "file_extension": ".py",
   "mimetype": "text/x-python",
   "name": "python",
   "nbconvert_exporter": "python",
   "pygments_lexer": "ipython3",
   "version": "3.7.7"
  }
 },
 "nbformat": 4,
 "nbformat_minor": 4
}
