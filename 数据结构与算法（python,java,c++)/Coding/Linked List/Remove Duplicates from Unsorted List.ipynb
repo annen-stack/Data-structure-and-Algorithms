{
 "cells": [
  {
   "cell_type": "code",
   "execution_count": 1,
   "metadata": {},
   "outputs": [],
   "source": [
    "class Solution:\n",
    "    \"\"\"\n",
    "    @param head: A ListNode\n",
    "    @return: A ListNode\n",
    "    \"\"\"\n",
    "    def deleteDuplicates(self, head):\n",
    "        if head is None:\n",
    "            return None\n",
    "\n",
    "        curr = head\n",
    "        while curr is not None:\n",
    "            inner = curr\n",
    "            while inner.next is not None:\n",
    "                if inner.next.val == curr.val:\n",
    "                    inner.next = inner.next.next\n",
    "                else:\n",
    "                    inner = inner.next\n",
    "            curr = curr.next\n",
    "\n",
    "        return head"
   ]
  },
  {
   "cell_type": "code",
   "execution_count": null,
   "metadata": {},
   "outputs": [],
   "source": [
    "//C++\n",
    "class Solution {\n",
    "public:\n",
    "    /**\n",
    "     * @param head: The first node of linked list.\n",
    "     * @return: head node\n",
    "     */\n",
    "    ListNode *deleteDuplicates(ListNode *head) {\n",
    "        if (head == NULL) return NULL;\n",
    "\n",
    "        ListNode *curr = head;\n",
    "        while (curr != NULL) {\n",
    "            ListNode *inner = curr;\n",
    "            while (inner->next != NULL) {\n",
    "                if (inner->next->val == curr->val) {\n",
    "                    inner->next = inner->next->next;\n",
    "                } else {\n",
    "                    inner = inner->next;\n",
    "                }\n",
    "            }\n",
    "            curr = curr->next;\n",
    "        }\n",
    "\n",
    "        return head;\n",
    "    }\n",
    "};"
   ]
  },
  {
   "cell_type": "code",
   "execution_count": null,
   "metadata": {},
   "outputs": [],
   "source": [
    "//JAVA\n",
    "public class Solution {\n",
    "    /**\n",
    "     * @param ListNode head is the head of the linked list\n",
    "     * @return: ListNode head of linked list\n",
    "     */\n",
    "    public static ListNode deleteDuplicates(ListNode head) {\n",
    "        if (head == null) return null;\n",
    "\n",
    "        ListNode curr = head;\n",
    "        while (curr != null) {\n",
    "            ListNode inner = curr;\n",
    "            while (inner.next != null) {\n",
    "                if (inner.next.val == curr.val) {\n",
    "                    inner.next = inner.next.next;\n",
    "                } else {\n",
    "                    inner = inner.next;\n",
    "                }\n",
    "            }\n",
    "            curr = curr.next;\n",
    "        }\n",
    "\n",
    "        return head;\n",
    "    }\n",
    "}"
   ]
  },
  {
   "cell_type": "markdown",
   "metadata": {},
   "source": [
    "两重循环，时间复杂度为 \n",
    "O(12n2), 空间复杂度近似为 \n",
    "O(1)."
   ]
  },
  {
   "cell_type": "markdown",
   "metadata": {},
   "source": [
    "## 万能的 hashtable"
   ]
  },
  {
   "cell_type": "code",
   "execution_count": null,
   "metadata": {},
   "outputs": [],
   "source": [
    "class Solution:\n",
    "    \"\"\"\n",
    "    @param head: A ListNode\n",
    "    @return: A ListNode\n",
    "    \"\"\"\n",
    "    def deleteDuplicates(self, head):\n",
    "        if head is None:\n",
    "            return None\n",
    "\n",
    "        hash = {}\n",
    "        hash[head.val] = True\n",
    "        curr = head\n",
    "        while curr.next is not None:\n",
    "            if hash.has_key(curr.next.val):\n",
    "                curr.next = curr.next.next\n",
    "            else:\n",
    "                hash[curr.next.val] = True\n",
    "                curr = curr.next\n",
    "\n",
    "        return head"
   ]
  },
  {
   "cell_type": "markdown",
   "metadata": {},
   "source": [
    "遍历一次链表，时间复杂度为 \n",
    "O(n), 使用了额外的哈希表，空间复杂度近似为 \n",
    "O(n)."
   ]
  },
  {
   "cell_type": "code",
   "execution_count": null,
   "metadata": {},
   "outputs": [],
   "source": []
  }
 ],
 "metadata": {
  "kernelspec": {
   "display_name": "Python 3",
   "language": "python",
   "name": "python3"
  },
  "language_info": {
   "codemirror_mode": {
    "name": "ipython",
    "version": 3
   },
   "file_extension": ".py",
   "mimetype": "text/x-python",
   "name": "python",
   "nbconvert_exporter": "python",
   "pygments_lexer": "ipython3",
   "version": "3.7.7"
  }
 },
 "nbformat": 4,
 "nbformat_minor": 4
}
