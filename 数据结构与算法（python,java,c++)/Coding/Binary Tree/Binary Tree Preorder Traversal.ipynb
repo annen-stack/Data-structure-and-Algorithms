{
 "cells": [
  {
   "cell_type": "code",
   "execution_count": 1,
   "metadata": {},
   "outputs": [],
   "source": [
    "#Binary Tree Preorder Traversal\n",
    "class Solution:\n",
    "    \"\"\"\n",
    "    @param root: The root of binary tree.\n",
    "    @return: Preorder in ArrayList which contains node values.\n",
    "    \"\"\"\n",
    "    def preorderTraversal(self, root):\n",
    "        if root == None:\n",
    "            return []\n",
    "        return [root.val] + self.preorderTraversal(root.left) \\\n",
    "                          + self.preorderTraversal(root.right)"
   ]
  },
  {
   "cell_type": "code",
   "execution_count": 2,
   "metadata": {},
   "outputs": [],
   "source": [
    "#Binary Tree Inorder Traversal\n",
    "class Solution:\n",
    "    \"\"\"\n",
    "    @param root: The root of binary tree.\n",
    "    @return: Inorder in ArrayList which contains node values.\n",
    "    \"\"\"\n",
    "    def inorderTraversal(self, root):\n",
    "        if root is None:\n",
    "            return []\n",
    "        else:\n",
    "            return  self.inorderTraversal(root.left) + [root.val] \n",
    "                              + self.inorderTraversal(root.right)"
   ]
  },
  {
   "cell_type": "code",
   "execution_count": 3,
   "metadata": {},
   "outputs": [],
   "source": [
    "#Binary Tree Postorder Traversal\n",
    "class Solution:\n",
    "    # @param {TreeNode} root\n",
    "    # @return {integer[]}\n",
    "    def postorderTraversal(self, root):\n",
    "        if root is None:\n",
    "            return []\n",
    "        else:\n",
    "            return self.postorderTraversal(root.left) +\\\n",
    "                   self.postorderTraversal(root.right) + [root.val]"
   ]
  },
  {
   "cell_type": "code",
   "execution_count": null,
   "metadata": {},
   "outputs": [],
   "source": []
  }
 ],
 "metadata": {
  "kernelspec": {
   "display_name": "Python 3",
   "language": "python",
   "name": "python3"
  },
  "language_info": {
   "codemirror_mode": {
    "name": "ipython",
    "version": 3
   },
   "file_extension": ".py",
   "mimetype": "text/x-python",
   "name": "python",
   "nbconvert_exporter": "python",
   "pygments_lexer": "ipython3",
   "version": "3.7.7"
  }
 },
 "nbformat": 4,
 "nbformat_minor": 4
}
