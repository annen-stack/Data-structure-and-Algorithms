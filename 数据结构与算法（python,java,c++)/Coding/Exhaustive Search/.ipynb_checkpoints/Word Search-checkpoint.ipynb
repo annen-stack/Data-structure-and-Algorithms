{
 "cells": [
  {
   "cell_type": "code",
   "execution_count": null,
   "metadata": {},
   "outputs": [],
   "source": [
    "public class Solution {\n",
    "    /**\n",
    "     * @param board: A list of lists of character\n",
    "     * @param word: A string\n",
    "     * @return: A boolean\n",
    "     */\n",
    "    public boolean exist(char[][] board, String word) {\n",
    "        if (board == null || board.length == 0 || board[0].length == 0) return false;\n",
    "        if (word == null || word.length() == 0) return false;\n",
    "\n",
    "        boolean[][] visited = new boolean[board.length][board[0].length];\n",
    "        for (int i = 0; i < board.length; i++) {\n",
    "            for (int j = 0; j < board[0].length; j++) {\n",
    "                if (dfs(board, word, visited, i, j, 0)) {\n",
    "                    return true;\n",
    "                }\n",
    "            }\n",
    "        }\n",
    "\n",
    "        return false;\n",
    "    }\n",
    "\n",
    "    public boolean dfs(char[][] board, String word,\n",
    "                               boolean[][] visited,\n",
    "                               int row, int col,\n",
    "                               int wi) {\n",
    "        // out of index\n",
    "        if (row < 0 || row > board.length - 1 ||\n",
    "            col < 0 || col > board[0].length - 1) {\n",
    "            return false;\n",
    "        }\n",
    "\n",
    "        if (!visited[row][col] && board[row][col] == word.charAt(wi)) {\n",
    "            // return instantly\n",
    "            if (wi == word.length() - 1) return true;\n",
    "            // traverse unvisited row and col\n",
    "            visited[row][col] = true;\n",
    "            boolean down = dfs(board, word, visited, row + 1, col, wi + 1);\n",
    "            boolean right = dfs(board, word, visited, row, col + 1, wi + 1);\n",
    "            boolean up = dfs(board, word, visited, row - 1, col, wi + 1);\n",
    "            boolean left = dfs(board, word, visited, row, col - 1, wi + 1);\n",
    "            // reset with false if none of above is true\n",
    "            visited[row][col] = up || down || left || right;\n",
    "            return up || down || left || right;\n",
    "        }\n",
    "\n",
    "        return false;\n",
    "    }\n",
    "}"
   ]
  }
 ],
 "metadata": {
  "kernelspec": {
   "display_name": "Python 3",
   "language": "python",
   "name": "python3"
  },
  "language_info": {
   "codemirror_mode": {
    "name": "ipython",
    "version": 3
   },
   "file_extension": ".py",
   "mimetype": "text/x-python",
   "name": "python",
   "nbconvert_exporter": "python",
   "pygments_lexer": "ipython3",
   "version": "3.7.7"
  }
 },
 "nbformat": 4,
 "nbformat_minor": 4
}
