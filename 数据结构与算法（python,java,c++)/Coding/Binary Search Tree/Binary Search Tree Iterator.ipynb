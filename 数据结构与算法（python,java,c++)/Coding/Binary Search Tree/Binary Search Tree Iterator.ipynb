{
 "cells": [
  {
   "cell_type": "code",
   "execution_count": null,
   "metadata": {},
   "outputs": [],
   "source": [
    "public class Solution {\n",
    "    private Stack<TreeNode> stack = new Stack<>();\n",
    "    private TreeNode curt;\n",
    "\n",
    "    // @param root: The root of binary tree.\n",
    "    public Solution(TreeNode root) {\n",
    "        curt = root;\n",
    "    }\n",
    "\n",
    "    //@return: True if there has next node, or false\n",
    "    public boolean hasNext() {\n",
    "        return (curt != null || !stack.isEmpty()); //important to judge curt != null\n",
    "    }\n",
    "\n",
    "    //@return: return next node\n",
    "    public TreeNode next() {\n",
    "        while (curt != null) {\n",
    "            stack.push(curt);\n",
    "            curt = curt.left;\n",
    "        }\n",
    "\n",
    "        curt = stack.pop();\n",
    "        TreeNode node = curt;\n",
    "        curt = curt.right;\n",
    "\n",
    "        return node;\n",
    "    }\n",
    "}"
   ]
  }
 ],
 "metadata": {
  "kernelspec": {
   "display_name": "Python 3",
   "language": "python",
   "name": "python3"
  },
  "language_info": {
   "codemirror_mode": {
    "name": "ipython",
    "version": 3
   },
   "file_extension": ".py",
   "mimetype": "text/x-python",
   "name": "python",
   "nbconvert_exporter": "python",
   "pygments_lexer": "ipython3",
   "version": "3.7.7"
  }
 },
 "nbformat": 4,
 "nbformat_minor": 4
}
