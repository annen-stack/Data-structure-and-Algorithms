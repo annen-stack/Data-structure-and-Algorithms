{
 "cells": [
  {
   "cell_type": "code",
   "execution_count": null,
   "metadata": {},
   "outputs": [],
   "source": [
    "public class Solution {\n",
    "    /**\n",
    "     * @param head: the List\n",
    "     * @param k: rotate to the right k places\n",
    "     * @return: the list after rotation\n",
    "     */\n",
    "    public ListNode rotateRight(ListNode head, int k) {\n",
    "        if (head == null) return head;\n",
    "        ListNode fast = head, slow = head;\n",
    "        int len = 1;\n",
    "        for (len = 1; fast.next != null && len <= k; len++) {\n",
    "            fast = fast.next;\n",
    "        }\n",
    "        // k mod len if k > len\n",
    "        if (len <= k) {\n",
    "            k = k % len;\n",
    "            fast = head;\n",
    "            for (int i = 0; i < k; i++) {\n",
    "                fast = fast.next;\n",
    "            }\n",
    "        }\n",
    "        // forward slow and fast\n",
    "        while (fast.next != null) {\n",
    "            fast = fast.next;\n",
    "            slow = slow.next;\n",
    "        }\n",
    "        // return new head\n",
    "        fast.next = head;\n",
    "        head = slow.next;\n",
    "        slow.next = null;\n",
    "\n",
    "        return head;\n",
    "    }\n",
    "}"
   ]
  },
  {
   "cell_type": "markdown",
   "metadata": {},
   "source": [
    "时间复杂度 \n",
    "O(n), 空间复杂度 \n",
    "O(1)."
   ]
  },
  {
   "cell_type": "code",
   "execution_count": null,
   "metadata": {},
   "outputs": [],
   "source": []
  }
 ],
 "metadata": {
  "kernelspec": {
   "display_name": "Python 3",
   "language": "python",
   "name": "python3"
  },
  "language_info": {
   "codemirror_mode": {
    "name": "ipython",
    "version": 3
   },
   "file_extension": ".py",
   "mimetype": "text/x-python",
   "name": "python",
   "nbconvert_exporter": "python",
   "pygments_lexer": "ipython3",
   "version": "3.7.7"
  }
 },
 "nbformat": 4,
 "nbformat_minor": 4
}
