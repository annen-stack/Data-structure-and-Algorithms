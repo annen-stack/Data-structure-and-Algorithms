{
 "cells": [
  {
   "cell_type": "code",
   "execution_count": null,
   "metadata": {},
   "outputs": [],
   "source": [
    "class Solution {\n",
    "public:\n",
    "    /**\n",
    "     * @param n, m: positive integer (1 <= n ,m <= 100)\n",
    "     * @return an integer\n",
    "     */\n",
    "    int uniquePaths(int m, int n) {\n",
    "        if (m < 1 || n < 1) {\n",
    "            return 0;\n",
    "        }\n",
    "\n",
    "        vector<vector<int> > ret(m, vector<int>(n, 1));\n",
    "\n",
    "        for (int i = 1; i != m; ++i) {\n",
    "            for (int j = 1; j != n; ++j) {\n",
    "                ret[i][j] = ret[i - 1][j] + ret[i][j - 1];\n",
    "            }\n",
    "        }\n",
    "\n",
    "        return ret[m - 1][n - 1];\n",
    "    }\n",
    "};"
   ]
  }
 ],
 "metadata": {
  "kernelspec": {
   "display_name": "Python 3",
   "language": "python",
   "name": "python3"
  },
  "language_info": {
   "codemirror_mode": {
    "name": "ipython",
    "version": 3
   },
   "file_extension": ".py",
   "mimetype": "text/x-python",
   "name": "python",
   "nbconvert_exporter": "python",
   "pygments_lexer": "ipython3",
   "version": "3.7.7"
  }
 },
 "nbformat": 4,
 "nbformat_minor": 4
}
