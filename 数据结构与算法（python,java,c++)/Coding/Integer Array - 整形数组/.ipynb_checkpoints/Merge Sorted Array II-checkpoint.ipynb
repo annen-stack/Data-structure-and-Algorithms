{
 "cells": [
  {
   "cell_type": "markdown",
   "metadata": {},
   "source": [
    "Merge two given sorted integer array A and B into a new sorted integer array.\n",
    "\n",
    "Example\n",
    "\n",
    "A=[1,2,3,4]\n",
    "\n",
    "B=[2,4,5,6]\n",
    "\n",
    "return [1,2,2,3,4,4,5,6]\n",
    "\n",
    "Challenge\n",
    "How can you optimize your algorithm\n",
    "if one array is very large and the other is very small?"
   ]
  },
  {
   "cell_type": "code",
   "execution_count": 1,
   "metadata": {},
   "outputs": [],
   "source": [
    "class Solution:\n",
    "    #@param A and B: sorted integer array A and B.\n",
    "    #@return: A new sorted integer array\n",
    "    def mergeSortedArray(self, A, B):\n",
    "        if A is None or len(A) == 0:\n",
    "            return B\n",
    "        if B is None or len(B) == 0:\n",
    "            return A\n",
    "\n",
    "        C = []\n",
    "        aLen, bLen = len(A), len(B)\n",
    "        i, j = 0, 0\n",
    "        while i < aLen and j < bLen:\n",
    "            if A[i] < B[j]:\n",
    "                C.append(A[i])\n",
    "                i += 1\n",
    "            else:\n",
    "                C.append(B[j])\n",
    "                j += 1\n",
    "\n",
    "        # A has elements left\n",
    "        while i < aLen:\n",
    "            C.append(A[i])\n",
    "            i += 1\n",
    "\n",
    "        # B has elements left\n",
    "        while j < bLen:\n",
    "            C.append(B[j])\n",
    "            j += 1\n",
    "\n",
    "        return C"
   ]
  },
  {
   "cell_type": "code",
   "execution_count": null,
   "metadata": {},
   "outputs": [],
   "source": [
    "//C++\n",
    "class Solution {\n",
    "public:\n",
    "    /**\n",
    "     * @param A and B: sorted integer array A and B.\n",
    "     * @return: A new sorted integer array\n",
    "     */\n",
    "    vector<int> mergeSortedArray(vector<int> &A, vector<int> &B) {\n",
    "        if (A.empty()) return B;\n",
    "        if (B.empty()) return A;\n",
    "\n",
    "        int aLen = A.size(), bLen = B.size();\n",
    "        vector<int> C;\n",
    "        int i = 0, j = 0;\n",
    "        while (i < aLen && j < bLen) {\n",
    "            if (A[i] < B[j]) {\n",
    "                C.push_back(A[i]);\n",
    "                ++i;\n",
    "            } else {\n",
    "                C.push_back(B[j]);\n",
    "                ++j;\n",
    "            }\n",
    "        }\n",
    "\n",
    "        // A has elements left\n",
    "        while (i < aLen) {\n",
    "            C.push_back(A[i]);\n",
    "            ++i;\n",
    "        }\n",
    "\n",
    "        // B has elements left\n",
    "        while (j < bLen) {\n",
    "            C.push_back(B[j]);\n",
    "            ++j;\n",
    "        }\n",
    "\n",
    "        return C;\n",
    "    }\n",
    "};"
   ]
  },
  {
   "cell_type": "code",
   "execution_count": null,
   "metadata": {},
   "outputs": [],
   "source": [
    "//JAVA\n",
    "class Solution {\n",
    "    /**\n",
    "     * @param A and B: sorted integer array A and B.\n",
    "     * @return: A new sorted integer array\n",
    "     */\n",
    "    public ArrayList<Integer> mergeSortedArray(ArrayList<Integer> A, ArrayList<Integer> B) {\n",
    "        if (A == null || A.isEmpty()) return B;\n",
    "        if (B == null || B.isEmpty()) return A;\n",
    "\n",
    "        ArrayList<Integer> C = new ArrayList<Integer>();\n",
    "        int aLen = A.size(), bLen = B.size();\n",
    "        int i = 0, j = 0;\n",
    "        while (i < aLen && j < bLen) {\n",
    "            if (A.get(i) < B.get(j)) {\n",
    "                C.add(A.get(i));\n",
    "                i++;\n",
    "            } else {\n",
    "                C.add(B.get(j));\n",
    "                j++;\n",
    "            }\n",
    "        }\n",
    "\n",
    "        // A has elements left\n",
    "        while (i < aLen) {\n",
    "            C.add(A.get(i));\n",
    "            i++;\n",
    "        }\n",
    "\n",
    "        // B has elements left\n",
    "        while (j < bLen) {\n",
    "            C.add(B.get(j));\n",
    "            j++;\n",
    "        }\n",
    "\n",
    "        return C;\n",
    "    }\n",
    "}"
   ]
  },
  {
   "cell_type": "markdown",
   "metadata": {},
   "source": [
    "### 复杂度分析"
   ]
  },
  {
   "cell_type": "markdown",
   "metadata": {},
   "source": [
    "遍历 A, B 数组各一次，时间复杂度 \n",
    "O(n), 空间复杂度 \n",
    "O(1)."
   ]
  },
  {
   "cell_type": "code",
   "execution_count": null,
   "metadata": {},
   "outputs": [],
   "source": []
  }
 ],
 "metadata": {
  "kernelspec": {
   "display_name": "Python 3",
   "language": "python",
   "name": "python3"
  },
  "language_info": {
   "codemirror_mode": {
    "name": "ipython",
    "version": 3
   },
   "file_extension": ".py",
   "mimetype": "text/x-python",
   "name": "python",
   "nbconvert_exporter": "python",
   "pygments_lexer": "ipython3",
   "version": "3.7.7"
  }
 },
 "nbformat": 4,
 "nbformat_minor": 4
}
