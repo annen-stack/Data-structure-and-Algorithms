{
 "cells": [
  {
   "cell_type": "markdown",
   "metadata": {},
   "source": [
    "Given a sorted array and a target value, return the index if the target is found. If not, return the index where it would be if it were inserted in order"
   ]
  },
  {
   "cell_type": "markdown",
   "metadata": {},
   "source": [
    "问题可以转化为， 寻找first position that value is >= target。如果没找到， 那么就插入在list的尾部。"
   ]
  },
  {
   "cell_type": "code",
   "execution_count": null,
   "metadata": {},
   "outputs": [],
   "source": [
    "public class Solution {\n",
    "    /**\n",
    "     * param A : an integer sorted array\n",
    "     * param target :  an integer to be inserted\n",
    "     * return : an integer\n",
    "     */\n",
    "    public int searchInsert(int[] A, int target) {\n",
    "        if (A == null || A.length == 0) {\n",
    "            return -1;\n",
    "        }\n",
    "\n",
    "        int start = -1, end = A.length;\n",
    "        while (start + 1 < end) {\n",
    "            int mid = start + (end - start) / 2;\n",
    "            if (A[mid] == target) {\n",
    "                return mid; // no duplicates\n",
    "            } else if (A[mid] < target) {\n",
    "                start = mid;\n",
    "            } else {\n",
    "                end = mid;\n",
    "            }\n",
    "        }\n",
    "\n",
    "    return start + 1;\n",
    "    }\n",
    "}\n",
    "                "
   ]
  },
  {
   "cell_type": "markdown",
   "metadata": {},
   "source": [
    "## 复杂度分析\n",
    "\n"
   ]
  },
  {
   "cell_type": "markdown",
   "metadata": {},
   "source": [
    "时间复杂度 \n",
    "O(logn), 空间复杂度 \n",
    "O(1)."
   ]
  },
  {
   "cell_type": "code",
   "execution_count": null,
   "metadata": {},
   "outputs": [],
   "source": []
  }
 ],
 "metadata": {
  "kernelspec": {
   "display_name": "Python 3",
   "language": "python",
   "name": "python3"
  },
  "language_info": {
   "codemirror_mode": {
    "name": "ipython",
    "version": 3
   },
   "file_extension": ".py",
   "mimetype": "text/x-python",
   "name": "python",
   "nbconvert_exporter": "python",
   "pygments_lexer": "ipython3",
   "version": "3.7.7"
  }
 },
 "nbformat": 4,
 "nbformat_minor": 4
}
