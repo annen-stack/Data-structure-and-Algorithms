{
 "cells": [
  {
   "cell_type": "markdown",
   "metadata": {},
   "source": [
    "Given a singly linked list where elements are sorted in ascending order,\n",
    "convert it to a height balanced BST"
   ]
  },
  {
   "cell_type": "markdown",
   "metadata": {},
   "source": [
    "我们可以参考上题的题解思路，思考如何才能在链表中找到「中间节点」。对于本题的单向链表来说，要想知道中间位置的节点，则必须需要知道链表的长度，因此我们就自然联想到了可以通过遍历链表来求得其长度。求得长度我们就知道了链表中间位置节点的索引了，进而根据头节点和当前节点则可将链表分为左右两半形成递归模型。到这里还只能算是解决了问题的一半，这道题另一比较麻烦的地方在于边界条件的取舍，很难第一次就 AC, 下面结合代码做进一步的分析。"
   ]
  },
  {
   "cell_type": "code",
   "execution_count": null,
   "metadata": {},
   "outputs": [],
   "source": [
    "class Solution {\n",
    "public:\n",
    "    /**\n",
    "     * @param head: The first node of linked list.\n",
    "     * @return: a tree node\n",
    "     */\n",
    "    TreeNode *sortedListToBST(ListNode *head) {\n",
    "        if (NULL == head) {\n",
    "            return NULL;\n",
    "        }\n",
    "\n",
    "        // get the size of List\n",
    "        ListNode *node = head;\n",
    "        int len = 0;\n",
    "        while (NULL != node) {\n",
    "            node = node->next;\n",
    "            ++len;\n",
    "        }\n",
    "\n",
    "        return buildBSTHelper(head, len);\n",
    "    }\n",
    "\n",
    "private:\n",
    "    TreeNode *buildBSTHelper(ListNode *head, int length) {\n",
    "        if (NULL == head || length <= 0) {\n",
    "            return NULL;\n",
    "        }\n",
    "\n",
    "        // get the middle ListNode as root TreeNode\n",
    "        ListNode *lnode = head;\n",
    "        int count = 0;\n",
    "        while (count < length / 2) {\n",
    "            lnode = lnode->next;\n",
    "            ++count;\n",
    "        }\n",
    "\n",
    "        TreeNode *root = new TreeNode(lnode->val);\n",
    "        root->left = buildBSTHelper(head, length / 2);\n",
    "        root->right = buildBSTHelper(lnode->next, length - 1 - length / 2);\n",
    "\n",
    "        return root;\n",
    "    }\n",
    "};"
   ]
  }
 ],
 "metadata": {
  "kernelspec": {
   "display_name": "Python 3",
   "language": "python",
   "name": "python3"
  },
  "language_info": {
   "codemirror_mode": {
    "name": "ipython",
    "version": 3
   },
   "file_extension": ".py",
   "mimetype": "text/x-python",
   "name": "python",
   "nbconvert_exporter": "python",
   "pygments_lexer": "ipython3",
   "version": "3.7.7"
  }
 },
 "nbformat": 4,
 "nbformat_minor": 4
}
