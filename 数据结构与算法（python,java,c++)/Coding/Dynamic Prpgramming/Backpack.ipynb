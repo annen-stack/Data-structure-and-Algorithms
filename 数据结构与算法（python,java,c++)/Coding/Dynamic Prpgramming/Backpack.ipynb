{
 "cells": [
  {
   "cell_type": "code",
   "execution_count": null,
   "metadata": {},
   "outputs": [],
   "source": [
    "public class Solution {\n",
    "    /**\n",
    "     * @param m: An integer m denotes the size of a backpack\n",
    "     * @param A: Given n items with size A[i]\n",
    "     * @return: The maximum size\n",
    "     */\n",
    "    public int backPack(int m, int[] A) {\n",
    "        if (A == null || A.length == 0) return 0;\n",
    "\n",
    "        final int M = m;\n",
    "        final int N = A.length;\n",
    "        int[][] bp = new int[N + 1][M + 1];\n",
    "\n",
    "        for (int i = 0; i < N; i++) {\n",
    "            for (int j = 0; j <= M; j++) {\n",
    "                if (A[i] > j) {\n",
    "                    bp[i + 1][j] = bp[i][j];\n",
    "                } else {\n",
    "                    bp[i + 1][j] = Math.max(bp[i][j], bp[i][j - A[i]] + A[i]);\n",
    "                }\n",
    "            }\n",
    "        }\n",
    "\n",
    "        return bp[N][M];\n",
    "    }\n",
    "}"
   ]
  }
 ],
 "metadata": {
  "kernelspec": {
   "display_name": "Python 3",
   "language": "python",
   "name": "python3"
  },
  "language_info": {
   "codemirror_mode": {
    "name": "ipython",
    "version": 3
   },
   "file_extension": ".py",
   "mimetype": "text/x-python",
   "name": "python",
   "nbconvert_exporter": "python",
   "pygments_lexer": "ipython3",
   "version": "3.7.7"
  }
 },
 "nbformat": 4,
 "nbformat_minor": 4
}
