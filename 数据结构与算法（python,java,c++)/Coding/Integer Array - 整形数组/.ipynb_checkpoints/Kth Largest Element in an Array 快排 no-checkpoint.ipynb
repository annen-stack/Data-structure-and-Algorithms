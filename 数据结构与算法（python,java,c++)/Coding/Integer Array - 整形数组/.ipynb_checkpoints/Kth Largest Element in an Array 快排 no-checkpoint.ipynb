{
 "cells": [
  {
   "cell_type": "markdown",
   "metadata": {},
   "source": [
    "Find the kth largest element in an unsorted array. Note that it is the kth largest element in the sorted order, not the kth distinct element.\n",
    "\n",
    "For example,\n",
    "Given [3,2,1,5,6,4] and k = 2, return 5.\n",
    "\n",
    "\n",
    "找第 K 大数，基于比较的排序的方法时间复杂度为 \n",
    "O(n)O(n)\n",
    "O(n), 数组元素无区间限定，故无法使用线性排序。由于只是需要找第 K 大数，这种类型的题通常需要使用快排的思想解决。Quick Sort 总结了一些经典模板。这里比较基准值最后的位置的索引值和 K 的大小关系即可递归求解。"
   ]
  },
  {
   "cell_type": "code",
   "execution_count": null,
   "metadata": {},
   "outputs": [],
   "source": [
    "//JAVA\n",
    "public class Solution {\n",
    "    public int findKthLargest(int[] nums, int k) {\n",
    "        if (nums == null || nums.length == 0) {\n",
    "            return Integer.MIN_VALUE;\n",
    "        }\n",
    "        int kthLargest = qSort(nums, 0, nums.length - 1, k);\n",
    "        return kthLargest;\n",
    "    }\n",
    "\n",
    "    private int qSort(int[] nums, int left, int right, int k) {\n",
    "        if (left >= right) {\n",
    "            return nums[right];\n",
    "        }\n",
    "\n",
    "        int m = left;\n",
    "        for (int i = left + 1; i <= right; i++) {\n",
    "            if (nums[i] > nums[left]) {\n",
    "                m++;\n",
    "                swap(nums, m, i);\n",
    "            }\n",
    "        }\n",
    "        swap(nums, m, left);\n",
    "\n",
    "        if (k == m + 1) {\n",
    "            return nums[m];\n",
    "        } else if (k > m + 1) {\n",
    "            return qSort(nums, m + 1, right, k);\n",
    "        } else {\n",
    "            return qSort(nums, left, m - 1, k);\n",
    "        }\n",
    "    }\n",
    "\n",
    "    private void swap(int[] nums, int i, int j) {\n",
    "        int tmp = nums[i];\n",
    "        nums[i] = nums[j];\n",
    "        nums[j] = tmp;\n",
    "    }\n",
    "}"
   ]
  }
 ],
 "metadata": {
  "kernelspec": {
   "display_name": "Python 3",
   "language": "python",
   "name": "python3"
  },
  "language_info": {
   "codemirror_mode": {
    "name": "ipython",
    "version": 3
   },
   "file_extension": ".py",
   "mimetype": "text/x-python",
   "name": "python",
   "nbconvert_exporter": "python",
   "pygments_lexer": "ipython3",
   "version": "3.7.7"
  }
 },
 "nbformat": 4,
 "nbformat_minor": 4
}
