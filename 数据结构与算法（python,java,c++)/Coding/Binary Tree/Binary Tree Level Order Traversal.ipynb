{
 "cells": [
  {
   "cell_type": "code",
   "execution_count": null,
   "metadata": {},
   "outputs": [],
   "source": [
    "class Solution {\n",
    "    /**\n",
    "     * @param root: The root of binary tree.\n",
    "     * @return: Level order a list of lists of integer\n",
    "     */\n",
    "public:\n",
    "    vector<vector<int> > levelOrder(TreeNode *root) {\n",
    "        vector<vector<int> > result;\n",
    "\n",
    "        if (NULL == root) {\n",
    "            return result;\n",
    "        }\n",
    "\n",
    "        queue<TreeNode *> q;\n",
    "        q.push(root);\n",
    "        while (!q.empty()) {\n",
    "            vector<int> list;\n",
    "            int size = q.size(); // keep the queue size first\n",
    "            for (int i = 0; i != size; ++i) {\n",
    "                TreeNode * node = q.front();\n",
    "                q.pop();\n",
    "                list.push_back(node->val);\n",
    "                if (node->left) {\n",
    "                    q.push(node->left);\n",
    "                }\n",
    "                if (node->right) {\n",
    "                    q.push(node->right);\n",
    "                }\n",
    "            }\n",
    "            result.push_back(list);\n",
    "        }\n",
    "\n",
    "        return result;\n",
    "    }\n",
    "};"
   ]
  },
  {
   "cell_type": "markdown",
   "metadata": {},
   "source": [
    "使用辅助队列，空间复杂度 \n",
    "O(n), 时间复杂度 \n",
    "O(n)."
   ]
  }
 ],
 "metadata": {
  "kernelspec": {
   "display_name": "Python 3",
   "language": "python",
   "name": "python3"
  },
  "language_info": {
   "codemirror_mode": {
    "name": "ipython",
    "version": 3
   },
   "file_extension": ".py",
   "mimetype": "text/x-python",
   "name": "python",
   "nbconvert_exporter": "python",
   "pygments_lexer": "ipython3",
   "version": "3.7.7"
  }
 },
 "nbformat": 4,
 "nbformat_minor": 4
}
