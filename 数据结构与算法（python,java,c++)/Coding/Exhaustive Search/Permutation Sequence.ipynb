{
 "cells": [
  {
   "cell_type": "code",
   "execution_count": null,
   "metadata": {},
   "outputs": [],
   "source": [
    "class Solution:\n",
    "    \"\"\"\n",
    "    @param n: n\n",
    "    @param k: the k-th permutation\n",
    "    @return: a string, the k-th permutation\n",
    "    \"\"\"\n",
    "    def getPermutation(self, n, k):\n",
    "        # generate factorial list\n",
    "        factorial = [1]\n",
    "        for i in xrange(1, n + 1):\n",
    "            factorial.append(factorial[-1] * i)\n",
    "\n",
    "        nums = range(1, n + 1)\n",
    "        perm = []\n",
    "        for i in xrange(n):\n",
    "            rank = (k - 1) / factorial[n - i - 1]\n",
    "            k = (k - 1) % factorial[n - i - 1] + 1\n",
    "            # append and remove nums[rank]\n",
    "            perm.append(nums[rank])\n",
    "            nums.remove(nums[rank])\n",
    "        # combine digits\n",
    "        return \"\".join([str(digit) for digit in perm])"
   ]
  }
 ],
 "metadata": {
  "kernelspec": {
   "display_name": "Python 3",
   "language": "python",
   "name": "python3"
  },
  "language_info": {
   "codemirror_mode": {
    "name": "ipython",
    "version": 3
   },
   "file_extension": ".py",
   "mimetype": "text/x-python",
   "name": "python",
   "nbconvert_exporter": "python",
   "pygments_lexer": "ipython3",
   "version": "3.7.7"
  }
 },
 "nbformat": 4,
 "nbformat_minor": 4
}
