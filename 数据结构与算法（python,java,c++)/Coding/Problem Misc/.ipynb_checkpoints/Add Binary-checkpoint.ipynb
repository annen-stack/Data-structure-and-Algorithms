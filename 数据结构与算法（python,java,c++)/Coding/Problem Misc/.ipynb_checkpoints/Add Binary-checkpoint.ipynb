{
 "cells": [
  {
   "cell_type": "code",
   "execution_count": null,
   "metadata": {},
   "outputs": [],
   "source": [
    "public class Solution {\n",
    "    /**\n",
    "     * @param a a number\n",
    "     * @param b a number\n",
    "     * @return the result\n",
    "     */\n",
    "    public String addBinary(String a, String b) {\n",
    "        if (a == null || a.length() == 0) return b;\n",
    "        if (b == null || b.length() == 0) return a;\n",
    "\n",
    "        StringBuilder sb = new StringBuilder();\n",
    "        int aLen = a.length(), bLen = b.length();\n",
    "\n",
    "        int carry = 0;\n",
    "        for (int ia = aLen - 1, ib = bLen - 1; ia >= 0 || ib >= 0; ia--, ib--) {\n",
    "            // replace with 0 if processed\n",
    "            int aNum = (ia < 0) ? 0 : a.charAt(ia) - '0';\n",
    "            int bNum = (ib < 0) ? 0 : b.charAt(ib) - '0';\n",
    "\n",
    "            int num = (aNum + bNum + carry) % 2;\n",
    "            carry = (aNum + bNum + carry) / 2;\n",
    "            sb.append(num);\n",
    "        }\n",
    "        if (carry == 1) sb.append(1);\n",
    "\n",
    "        // important!\n",
    "        sb.reverse();\n",
    "        String result = sb.toString();\n",
    "        return result;\n",
    "    }\n",
    "}"
   ]
  }
 ],
 "metadata": {
  "kernelspec": {
   "display_name": "Python 3",
   "language": "python",
   "name": "python3"
  },
  "language_info": {
   "codemirror_mode": {
    "name": "ipython",
    "version": 3
   },
   "file_extension": ".py",
   "mimetype": "text/x-python",
   "name": "python",
   "nbconvert_exporter": "python",
   "pygments_lexer": "ipython3",
   "version": "3.7.7"
  }
 },
 "nbformat": 4,
 "nbformat_minor": 4
}
