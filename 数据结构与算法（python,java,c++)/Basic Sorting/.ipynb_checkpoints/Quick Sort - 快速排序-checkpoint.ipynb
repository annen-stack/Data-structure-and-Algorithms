{
 "cells": [
  {
   "cell_type": "markdown",
   "metadata": {},
   "source": [
    "核心：快排是一种采用分治思想的排序算法，大致分为三个步骤。\n",
    "1. 定基准——首先随机选择一个元素最为基准\n",
    "2. 划分区——所有比基准小的元素置于基准左侧，比基准大的元素置于右侧\n",
    "3. 递归调用——递归地调用此切分过程"
   ]
  },
  {
   "cell_type": "markdown",
   "metadata": {},
   "source": [
    "## out-in-place - 非原地快排"
   ]
  },
  {
   "cell_type": "code",
   "execution_count": 2,
   "metadata": {},
   "outputs": [
    {
     "name": "stdout",
     "output_type": "stream",
     "text": [
      "[1, 2, 3, 4, 5, 6, 7, 8]\n"
     ]
    }
   ],
   "source": [
    "\n",
    "def qsort1(alist):\n",
    "   \n",
    "    if len(alist) <= 1:\n",
    "        return alist\n",
    "    else:\n",
    "        pivot = alist[0]\n",
    "        return qsort1([x for x in alist[1:] if x < pivot]) + \\\n",
    "               [pivot] + \\\n",
    "               qsort1([x for x in alist[1:] if x >= pivot])\n",
    "\n",
    "unsortedArray = [6, 5, 3, 1, 8, 7, 2, 4]\n",
    "print(qsort1(unsortedArray))"
   ]
  },
  {
   "cell_type": "markdown",
   "metadata": {},
   "source": [
    "『递归 + 非原地排序』的实现虽然简单易懂，但是如此一来『快速排序』便不再是最快的通用排序算法了，因为递归调用过程中非原地排序需要生成新数组，空间复杂度颇高。list comprehension 大法虽然好写，但是用在『快速排序』算法上就不是那么可取了。"
   ]
  },
  {
   "cell_type": "markdown",
   "metadata": {},
   "source": [
    "### 复杂度分析"
   ]
  },
  {
   "cell_type": "markdown",
   "metadata": {},
   "source": [
    "首先来看看什么叫空间复杂度——简单来讲可以认为是程序在运行过程中所占用的存储空间大小。那么对于递归的 out-in-place 调用而言，排除函数调用等栈空间，最好情况下，每往下递归调用一层，所需要的存储空间是上一层中的一半。完成最底层的调用后即向上返回执行出栈操作，故并不需要保存每层所有元素的值。所以需要的总的存储空间就是 \n",
    "∑i=0n2i=2n\\sum _{i=0} ^{} \\frac {n}{2^i} = 2n\n",
    "∑\n",
    "​i=0\n",
    "​\n",
    "​​\n",
    "​2\n",
    "​i\n",
    "​​\n",
    "​\n",
    "​n\n",
    "​​=2n"
   ]
  },
  {
   "cell_type": "markdown",
   "metadata": {},
   "source": [
    "那么在最坏情况下 out-in-place 需要耗费多少额外空间呢？最坏情况下第 \n",
    "ii\n",
    "i 层需要 \n",
    "i−1i - 1\n",
    "i−1 次交换，故总的空间复杂度：\n",
    "∑i=0n(n−i+1)=O(n2)\\sum_{i=0}^n (n-i+1) = O(n^2)\n",
    "∑\n",
    "​i=0\n",
    "​n\n",
    "​​(n−i+1)=O(n\n",
    "​2\n",
    "​​)"
   ]
  },
  {
   "cell_type": "markdown",
   "metadata": {},
   "source": [
    "## 原地快排"
   ]
  },
  {
   "cell_type": "code",
   "execution_count": null,
   "metadata": {},
   "outputs": [],
   "source": [
    "def qsort2(alist, l, u):\n",
    "    if l >= u:\n",
    "        return\n",
    "\n",
    "    m = l\n",
    "    for i in xrange(l + 1, u + 1):\n",
    "        if alist[i] < alist[l]:\n",
    "            m += 1\n",
    "            alist[m], alist[i] = alist[i], alist[m]\n",
    "    # swap between m and l after partition, important!\n",
    "    alist[m], alist[l] = alist[l], alist[m]\n",
    "    qsort2(alist, l, m - 1)\n",
    "    qsort2(alist, m + 1, u)\n",
    "\n",
    "unsortedArray = [6, 5, 3, 1, 8, 7, 2, 4]\n",
    "print(qsort2(unsortedArray, 0, len(unsortedArray) - 1))"
   ]
  }
 ],
 "metadata": {
  "kernelspec": {
   "display_name": "Python 3",
   "language": "python",
   "name": "python3"
  },
  "language_info": {
   "codemirror_mode": {
    "name": "ipython",
    "version": 3
   },
   "file_extension": ".py",
   "mimetype": "text/x-python",
   "name": "python",
   "nbconvert_exporter": "python",
   "pygments_lexer": "ipython3",
   "version": "3.7.7"
  }
 },
 "nbformat": 4,
 "nbformat_minor": 4
}
