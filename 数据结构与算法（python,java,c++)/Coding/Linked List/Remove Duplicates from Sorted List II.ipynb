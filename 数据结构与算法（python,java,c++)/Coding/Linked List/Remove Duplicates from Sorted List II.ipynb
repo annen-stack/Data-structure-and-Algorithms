{
 "cells": [
  {
   "cell_type": "code",
   "execution_count": null,
   "metadata": {},
   "outputs": [],
   "source": [
    "class Solution:\n",
    "    # @param {ListNode} head\n",
    "    # @return {ListNode}\n",
    "    def deleteDuplicates(self, head):\n",
    "        if head is None:\n",
    "            return None\n",
    "\n",
    "        dummy = ListNode(0)\n",
    "        dummy.next = head\n",
    "        node = dummy\n",
    "        while node.next is not None and node.next.next is not None:\n",
    "            if node.next.val == node.next.next.val:\n",
    "                val_prev = node.next.val\n",
    "                while node.next is not None and node.next.val == val_prev:\n",
    "                    node.next = node.next.next\n",
    "            else:\n",
    "                node = node.next\n",
    "\n",
    "        return dummy.next"
   ]
  },
  {
   "cell_type": "code",
   "execution_count": null,
   "metadata": {},
   "outputs": [],
   "source": [
    "//C++\n",
    "class Solution {\n",
    "public:\n",
    "    ListNode* deleteDuplicates(ListNode* head) {\n",
    "        if (head == NULL) return NULL;\n",
    "\n",
    "        ListNode dummy(0);\n",
    "        dummy.next = head;\n",
    "        ListNode *node = &dummy;\n",
    "        while (node->next != NULL && node->next->next != NULL) {\n",
    "            if (node->next->val == node->next->next->val) {\n",
    "                int val_prev = node->next->val;\n",
    "                // remove ListNode node->next\n",
    "                while (node->next != NULL && val_prev == node->next->val) {\n",
    "                    ListNode *temp = node->next;\n",
    "                    node->next = node->next->next;\n",
    "                    delete temp;\n",
    "                }\n",
    "            } else {\n",
    "                node = node->next;\n",
    "            }\n",
    "        }\n",
    "\n",
    "        return dummy.next;\n",
    "    }\n",
    "};"
   ]
  },
  {
   "cell_type": "code",
   "execution_count": null,
   "metadata": {},
   "outputs": [],
   "source": [
    "//Java\n",
    "public class Solution {\n",
    "    public ListNode deleteDuplicates(ListNode head) {\n",
    "        if (head == null) return null;\n",
    "\n",
    "        ListNode dummy = new ListNode(0);\n",
    "        dummy.next = head;\n",
    "        ListNode node = dummy;\n",
    "        while(node.next != null && node.next.next != null) {\n",
    "            if (node.next.val == node.next.next.val) {\n",
    "                int val_prev = node.next.val;\n",
    "                while (node.next != null && node.next.val == val_prev) {\n",
    "                    node.next = node.next.next;\n",
    "                }\n",
    "            } else {\n",
    "                node = node.next;\n",
    "            }\n",
    "        }\n",
    "\n",
    "        return dummy.next;\n",
    "    }\n",
    "}"
   ]
  }
 ],
 "metadata": {
  "kernelspec": {
   "display_name": "Python 3",
   "language": "python",
   "name": "python3"
  },
  "language_info": {
   "codemirror_mode": {
    "name": "ipython",
    "version": 3
   },
   "file_extension": ".py",
   "mimetype": "text/x-python",
   "name": "python",
   "nbconvert_exporter": "python",
   "pygments_lexer": "ipython3",
   "version": "3.7.7"
  }
 },
 "nbformat": 4,
 "nbformat_minor": 4
}
