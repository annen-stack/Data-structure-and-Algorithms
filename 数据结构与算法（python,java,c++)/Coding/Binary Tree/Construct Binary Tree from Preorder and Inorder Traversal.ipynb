{
 "cells": [
  {
   "cell_type": "code",
   "execution_count": null,
   "metadata": {},
   "outputs": [],
   "source": [
    "\n",
    "public class Solution {\n",
    "    /**\n",
    "     *@param preorder : A list of integers that preorder traversal of a tree\n",
    "     *@param inorder : A list of integers that inorder traversal of a tree\n",
    "     *@return : Root of a tree\n",
    "     */\n",
    "    public TreeNode buildTree(int[] preorder, int[] inorder) {\n",
    "        if (preorder == null || inorder == null) return null;\n",
    "        if (preorder.length == 0 || inorder.length == 0) return null;\n",
    "        if (preorder.length != inorder.length) return null;\n",
    "\n",
    "        TreeNode root = helper(preorder, 0, preorder.length - 1,\n",
    "                               inorder, 0, inorder.length - 1);\n",
    "        return root;\n",
    "    }\n",
    "\n",
    "    private TreeNode helper(int[] preorder, int prestart, int preend,\n",
    "                            int[] inorder, int instart, int inend) {\n",
    "        // corner cases\n",
    "        if (prestart > preend || instart > inend) return null;\n",
    "        // build root TreeNode\n",
    "        int root_val = preorder[prestart];\n",
    "        TreeNode root = new TreeNode(root_val);\n",
    "        // find index of root_val in inorder[]\n",
    "        int index = findIndex(inorder, instart, inend, root_val);\n",
    "        // build left subtree\n",
    "        root.left = helper(preorder, prestart + 1, prestart + index - instart,\n",
    "               inorder, instart, index - 1);\n",
    "        // build right subtree\n",
    "        root.right = helper(preorder, prestart + index - instart + 1, preend,\n",
    "               inorder, index + 1, inend);\n",
    "        return root;\n",
    "    }\n",
    "\n",
    "    private int findIndex(int[] nums, int start, int end, int target) {\n",
    "        for (int i = start; i <= end; i++) {\n",
    "            if (nums[i] == target) return i;\n",
    "        }\n",
    "        return -1;\n",
    "    }\n",
    "}"
   ]
  }
 ],
 "metadata": {
  "kernelspec": {
   "display_name": "Python 3",
   "language": "python",
   "name": "python3"
  },
  "language_info": {
   "codemirror_mode": {
    "name": "ipython",
    "version": 3
   },
   "file_extension": ".py",
   "mimetype": "text/x-python",
   "name": "python",
   "nbconvert_exporter": "python",
   "pygments_lexer": "ipython3",
   "version": "3.7.7"
  }
 },
 "nbformat": 4,
 "nbformat_minor": 4
}
