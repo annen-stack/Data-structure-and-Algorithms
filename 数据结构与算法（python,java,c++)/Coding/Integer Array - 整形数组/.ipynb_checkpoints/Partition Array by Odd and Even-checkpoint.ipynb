{
 "cells": [
  {
   "cell_type": "markdown",
   "metadata": {},
   "source": [
    "Partition an integers array into odd number first and even number second.\n",
    "\n",
    "Example\n",
    "Given [1, 2, 3, 4], return [1, 3, 2, 4]\n",
    "\n",
    "Challenge\n",
    "Do it in-place.\n",
    "\n",
    "将数组中的奇数和偶数分开，使用『两根指针』的方法最为自然，奇数在前，偶数在后，若不然则交换之。"
   ]
  },
  {
   "cell_type": "code",
   "execution_count": null,
   "metadata": {},
   "outputs": [],
   "source": [
    "//JAVA\n",
    "public class Solution{\n",
    "    public void partitionArray(int[] nums){\n",
    "        if(nums==null) return;\n",
    "        int left=0,right=nums.length-1;\n",
    "        \n",
    "        while(left<right){\n",
    "            while(left<right && nums[left]%2!=0){\n",
    "                left++;\n",
    "            }\n",
    "            while(left<right && nums[right]%2!=1){\n",
    "                right--;\n",
    "            }\n",
    "            if (left < right) {\n",
    "                int temp = nums[left];\n",
    "                nums[left] = nums[right];\n",
    "                nums[right] = temp;\n",
    "            }\n",
    "        }\n",
    "    }\n",
    "}"
   ]
  },
  {
   "cell_type": "code",
   "execution_count": null,
   "metadata": {},
   "outputs": [],
   "source": [
    "//C++\n",
    "  void partitionArray(vector<int> &nums) {\n",
    "        if (nums.empty()) return;\n",
    "\n",
    "        int i=0, j=nums.size()-1;\n",
    "        while (i<j) {\n",
    "            while (i<j && nums[i]%2!=0) i++;\n",
    "            while (i<j && nums[j]%2==0) j--;\n",
    "            if (i != j) swap(nums[i], nums[j]);\n",
    "        }\n",
    "    }"
   ]
  },
  {
   "cell_type": "markdown",
   "metadata": {},
   "source": [
    "### 复杂度分析"
   ]
  },
  {
   "cell_type": "markdown",
   "metadata": {},
   "source": [
    "遍历一次数组，时间复杂度为 \n",
    "O(n), 使用了两根指针，空间复杂度 \n",
    "O(1)."
   ]
  },
  {
   "cell_type": "code",
   "execution_count": null,
   "metadata": {},
   "outputs": [],
   "source": []
  }
 ],
 "metadata": {
  "kernelspec": {
   "display_name": "Python 3",
   "language": "python",
   "name": "python3"
  },
  "language_info": {
   "codemirror_mode": {
    "name": "ipython",
    "version": 3
   },
   "file_extension": ".py",
   "mimetype": "text/x-python",
   "name": "python",
   "nbconvert_exporter": "python",
   "pygments_lexer": "ipython3",
   "version": "3.7.7"
  }
 },
 "nbformat": 4,
 "nbformat_minor": 4
}
