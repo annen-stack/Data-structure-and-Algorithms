{
 "cells": [
  {
   "cell_type": "code",
   "execution_count": null,
   "metadata": {},
   "outputs": [],
   "source": [
    "public class Solution {\n",
    "    /**\n",
    "     * @param head: The head of linked list.\n",
    "     * @return: void\n",
    "     */\n",
    "    public void reorderList(ListNode head) {  \n",
    "        if (head == null || head.next == null) return;\n",
    "\n",
    "        // find middle\n",
    "        ListNode slow = head, fast = head.next;\n",
    "        while (fast != null && fast.next != null) {\n",
    "            slow = slow.next;\n",
    "            fast = fast.next.next;\n",
    "        }\n",
    "        ListNode rHead = slow.next;\n",
    "        slow.next = null;\n",
    "\n",
    "        // reverse ListNode on the right side\n",
    "        ListNode prev = null;\n",
    "        while (rHead != null) {\n",
    "            ListNode temp = rHead.next;\n",
    "            rHead.next = prev;\n",
    "            prev = rHead;\n",
    "            rHead = temp;\n",
    "        }\n",
    "\n",
    "        // merge two list\n",
    "        rHead = prev;\n",
    "        ListNode lHead = head;\n",
    "        while (lHead != null && rHead != null) {\n",
    "            ListNode temp1 = lHead.next;\n",
    "            lHead.next = rHead;\n",
    "            rHead = rHead.next;\n",
    "            lHead.next.next = temp1;\n",
    "            lHead = temp1;\n",
    "        }\n",
    "    }\n",
    "}"
   ]
  },
  {
   "cell_type": "markdown",
   "metadata": {},
   "source": [
    "1. 找中点：我在九章算法模板的基础上增加了对head->next的异常检测，增强了鲁棒性。\n",
    "2. 反转：非常精炼的模板，记牢！\n",
    "3. 合并：也可使用九章提供的模板，思想是一样的，需要注意left, right和dummy三者的赋值顺序，不能更改任何一步。"
   ]
  },
  {
   "cell_type": "markdown",
   "metadata": {},
   "source": [
    "找中点一次，时间复杂度近似为 \n",
    "O(n). 反转链表一次，时间复杂度近似为 \n",
    "O(n/2). 合并左右链表一次，时间复杂度近似为 \n",
    "O(n/2). 故总的时间复杂度为 \n",
    "O(n)."
   ]
  },
  {
   "cell_type": "code",
   "execution_count": null,
   "metadata": {},
   "outputs": [],
   "source": []
  }
 ],
 "metadata": {
  "kernelspec": {
   "display_name": "Python 3",
   "language": "python",
   "name": "python3"
  },
  "language_info": {
   "codemirror_mode": {
    "name": "ipython",
    "version": 3
   },
   "file_extension": ".py",
   "mimetype": "text/x-python",
   "name": "python",
   "nbconvert_exporter": "python",
   "pygments_lexer": "ipython3",
   "version": "3.7.7"
  }
 },
 "nbformat": 4,
 "nbformat_minor": 4
}
