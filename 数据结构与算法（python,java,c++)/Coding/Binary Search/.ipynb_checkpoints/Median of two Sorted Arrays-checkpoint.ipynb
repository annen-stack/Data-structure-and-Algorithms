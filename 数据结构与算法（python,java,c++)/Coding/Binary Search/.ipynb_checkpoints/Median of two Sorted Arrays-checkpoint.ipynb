{
 "cells": [
  {
   "cell_type": "markdown",
   "metadata": {},
   "source": [
    "## 归并排序"
   ]
  },
  {
   "cell_type": "code",
   "execution_count": null,
   "metadata": {},
   "outputs": [],
   "source": [
    "class Solution {\n",
    "    /**\n",
    "     * @param A: An integer array.\n",
    "     * @param B: An integer array.\n",
    "     * @return: a double whose format is *.5 or *.0\n",
    "     */\n",
    "    public double findMedianSortedArrays(int[] A, int[] B) {\n",
    "        if ((A == null || A.length == 0) && (B == null || B.length == 0)) {\n",
    "            return -1.0;\n",
    "        }\n",
    "        int lenA = (A == null) ? 0 : A.length;\n",
    "        int lenB = (B == null) ? 0 : B.length;\n",
    "        int len = lenA + lenB;\n",
    "\n",
    "        /* merge sort */\n",
    "        int indexA = 0, indexB = 0, indexC = 0;\n",
    "        int[] C = new int[len];\n",
    "        // case1: both A and B have elements\n",
    "        while (indexA < lenA && indexB < lenB) {\n",
    "            if (A[indexA] < B[indexB]) {\n",
    "                C[indexC++] = A[indexA++];\n",
    "            } else {\n",
    "                C[indexC++] = B[indexB++];\n",
    "            }\n",
    "        }\n",
    "        // case2: only A has elements\n",
    "        while (indexA < lenA) {\n",
    "            C[indexC++] = A[indexA++];\n",
    "        }\n",
    "        // case3: only B has elements\n",
    "        while (indexB < lenB) {\n",
    "            C[indexC++] = B[indexB++];\n",
    "        }\n",
    "\n",
    "        // return median for even and odd cases\n",
    "        int indexM1 = (len - 1) / 2, indexM2 = len / 2;\n",
    "        if (len % 2 == 0) {\n",
    "            return (C[indexM1] + C[indexM2]) / 2.0;\n",
    "        } else {\n",
    "            return C[indexM2];\n",
    "        }\n",
    "    }\n",
    "}"
   ]
  },
  {
   "cell_type": "markdown",
   "metadata": {},
   "source": [
    "时间复杂度 \n",
    "O(m+n), 空间复杂度为 \n",
    "(m+n)(使用额外数组), "
   ]
  }
 ],
 "metadata": {
  "kernelspec": {
   "display_name": "Python 3",
   "language": "python",
   "name": "python3"
  },
  "language_info": {
   "codemirror_mode": {
    "name": "ipython",
    "version": 3
   },
   "file_extension": ".py",
   "mimetype": "text/x-python",
   "name": "python",
   "nbconvert_exporter": "python",
   "pygments_lexer": "ipython3",
   "version": "3.7.7"
  }
 },
 "nbformat": 4,
 "nbformat_minor": 4
}
