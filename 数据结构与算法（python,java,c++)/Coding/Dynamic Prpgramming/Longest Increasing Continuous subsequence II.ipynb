{
 "cells": [
  {
   "cell_type": "code",
   "execution_count": null,
   "metadata": {},
   "outputs": [],
   "source": [
    "public class Solution {\n",
    "    /**\n",
    "     * @param A an integer matrix\n",
    "     * @return  an integer\n",
    "     */\n",
    "    public int longestIncreasingContinuousSubsequenceII(int[][] A) {\n",
    "        if (A == null || A.length == 0 || A[0].length == 0) return 0;\n",
    "\n",
    "        int lics = 0;\n",
    "        int[][] dp = new int[A.length][A[0].length];\n",
    "        for (int row = 0; row < A.length; row++) {\n",
    "            for (int col = 0; col < A[0].length; col++) {\n",
    "                if (dp[row][col] == 0) {\n",
    "                    lics = Math.max(lics, dfs(A, row, col, dp));\n",
    "                }\n",
    "            }\n",
    "        }\n",
    "\n",
    "        return lics;\n",
    "    }\n",
    "\n",
    "    private int dfs(int[][] A, int row, int col, int[][] dp) {\n",
    "        if (dp[row][col] != 0) {\n",
    "            return dp[row][col];\n",
    "        }\n",
    "\n",
    "        // increasing from xxx to up, down, left, right\n",
    "        int up = 0, down = 0, left = 0, right = 0;\n",
    "        // increasing from down to up\n",
    "        if (row > 0 && A[row - 1][col] > A[row][col]) {\n",
    "            up = dfs(A, row - 1, col, dp);\n",
    "        }\n",
    "        // increasing from up to down\n",
    "        if (row + 1 < A.length && A[row + 1][col] > A[row][col]) {\n",
    "            down = dfs(A, row + 1, col, dp);\n",
    "        }\n",
    "        // increasing from right to left\n",
    "        if (col > 0 && A[row][col - 1] > A[row][col]) {\n",
    "            left = dfs(A, row, col - 1, dp);\n",
    "        }\n",
    "        // increasing from left to right\n",
    "        if (col + 1 < A[0].length && A[row][col + 1] > A[row][col]) {\n",
    "            right = dfs(A, row, col + 1, dp);\n",
    "        }\n",
    "        // return maximum of up, down, left, right\n",
    "        dp[row][col] = 1 + Math.max(Math.max(up, down), Math.max(left, right));\n",
    "\n",
    "        return dp[row][col];\n",
    "    }\n",
    "}"
   ]
  }
 ],
 "metadata": {
  "kernelspec": {
   "display_name": "Python 3",
   "language": "python",
   "name": "python3"
  },
  "language_info": {
   "codemirror_mode": {
    "name": "ipython",
    "version": 3
   },
   "file_extension": ".py",
   "mimetype": "text/x-python",
   "name": "python",
   "nbconvert_exporter": "python",
   "pygments_lexer": "ipython3",
   "version": "3.7.7"
  }
 },
 "nbformat": 4,
 "nbformat_minor": 4
}
