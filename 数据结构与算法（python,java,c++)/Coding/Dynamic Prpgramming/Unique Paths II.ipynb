{
 "cells": [
  {
   "cell_type": "code",
   "execution_count": null,
   "metadata": {},
   "outputs": [],
   "source": [
    "class Solution {\n",
    "public:\n",
    "    /**\n",
    "     * @param obstacleGrid: A list of lists of integers\n",
    "     * @return: An integer\n",
    "     */\n",
    "    int uniquePathsWithObstacles(vector<vector<int> > &obstacleGrid) {\n",
    "        if(obstacleGrid.empty() || obstacleGrid[0].empty()) {\n",
    "            return 0;\n",
    "        }\n",
    "\n",
    "        const int M = obstacleGrid.size();\n",
    "        const int N = obstacleGrid[0].size();\n",
    "\n",
    "        vector<vector<int> > ret(M, vector<int>(N, 0));\n",
    "\n",
    "        for (int i = 0; i != M; ++i) {\n",
    "            if (0 == obstacleGrid[i][0]) {\n",
    "                ret[i][0] = 1;\n",
    "            }\n",
    "        }\n",
    "        for (int i = 0; i != N; ++i) {\n",
    "            if (0 == obstacleGrid[0][i]) {\n",
    "                ret[0][i] = 1;\n",
    "            }\n",
    "        }\n",
    "\n",
    "        for (int i = 1; i != M; ++i) {\n",
    "            for (int j = 1; j != N; ++j) {\n",
    "                if (obstacleGrid[i][j]) {\n",
    "                    ret[i][j] = 0;\n",
    "                } else {\n",
    "                    ret[i][j] = ret[i -1][j] + ret[i][j - 1];\n",
    "                }\n",
    "            }\n",
    "        }\n",
    "\n",
    "        return ret[M - 1][N - 1];\n",
    "    }\n",
    "};"
   ]
  }
 ],
 "metadata": {
  "kernelspec": {
   "display_name": "Python 3",
   "language": "python",
   "name": "python3"
  },
  "language_info": {
   "codemirror_mode": {
    "name": "ipython",
    "version": 3
   },
   "file_extension": ".py",
   "mimetype": "text/x-python",
   "name": "python",
   "nbconvert_exporter": "python",
   "pygments_lexer": "ipython3",
   "version": "3.7.7"
  }
 },
 "nbformat": 4,
 "nbformat_minor": 4
}
