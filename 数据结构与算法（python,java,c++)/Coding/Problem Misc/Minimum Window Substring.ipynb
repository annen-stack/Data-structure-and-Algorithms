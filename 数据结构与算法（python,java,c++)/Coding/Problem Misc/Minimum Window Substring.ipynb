{
 "cells": [
  {
   "cell_type": "code",
   "execution_count": null,
   "metadata": {},
   "outputs": [],
   "source": [
    "public class Solution {\n",
    "    /**\n",
    "     * @param source: A string\n",
    "     * @param target: A string\n",
    "     * @return: A string denote the minimum window\n",
    "     *          Return \"\" if there is no such a string\n",
    "     */\n",
    "    public String minWindow(String source, String target) {\n",
    "        if (source == null || target == null) return \"\";\n",
    "        if (source.length() < target.length()) return \"\";\n",
    "\n",
    "        final int ASCII_COUNT = 256;\n",
    "        int[] targetCount = new int[ASCII_COUNT];\n",
    "        int[] sourceCount = new int[ASCII_COUNT];\n",
    "        for (int i = 0; i < target.length(); i++) {\n",
    "            int ch2i = (int)target.charAt(i);\n",
    "            targetCount[ch2i]++;\n",
    "        }\n",
    "        // target string character appeared in source string\n",
    "        int winStart = 0, winMinStart = 0, winMin = Integer.MAX_VALUE;\n",
    "        int occurence = 0;\n",
    "        for (int winEnd = 0; winEnd < source.length(); winEnd++) {\n",
    "            // convert character to integer\n",
    "            int ch2i = (int)source.charAt(winEnd);\n",
    "            sourceCount[ch2i]++;\n",
    "            // character occur in both source and target\n",
    "            if (targetCount[ch2i] > 0 && targetCount[ch2i] >= sourceCount[ch2i]) {\n",
    "                occurence++;\n",
    "            }\n",
    "            // adjust window size if all the target char occur in source\n",
    "            if (occurence == target.length()) {\n",
    "                // convert character to integer\n",
    "                int ch2i2 = (int)source.charAt(winStart);\n",
    "                while (sourceCount[ch2i2] > targetCount[ch2i2]) {\n",
    "                    sourceCount[ch2i2]--;\n",
    "                    winStart++;\n",
    "                    ch2i2 = (int)source.charAt(winStart);\n",
    "                }\n",
    "                // update winMinStart\n",
    "                if (winMin > winEnd - winStart + 1) {\n",
    "                    winMin = winEnd - winStart + 1;\n",
    "                    winMinStart = winStart;\n",
    "                }\n",
    "            }\n",
    "        }\n",
    "\n",
    "        if (winMin == Integer.MAX_VALUE) {\n",
    "            return \"\";\n",
    "        } else {\n",
    "            return source.substring(winMinStart, winMinStart + winMin);\n",
    "        }\n",
    "    }\n",
    "}"
   ]
  }
 ],
 "metadata": {
  "kernelspec": {
   "display_name": "Python 3",
   "language": "python",
   "name": "python3"
  },
  "language_info": {
   "codemirror_mode": {
    "name": "ipython",
    "version": 3
   },
   "file_extension": ".py",
   "mimetype": "text/x-python",
   "name": "python",
   "nbconvert_exporter": "python",
   "pygments_lexer": "ipython3",
   "version": "3.7.7"
  }
 },
 "nbformat": 4,
 "nbformat_minor": 4
}
