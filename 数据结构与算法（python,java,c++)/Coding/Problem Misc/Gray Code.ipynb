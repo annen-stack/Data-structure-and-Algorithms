{
 "cells": [
  {
   "cell_type": "code",
   "execution_count": null,
   "metadata": {},
   "outputs": [],
   "source": [
    "public class Solution {\n",
    "    /**\n",
    "     * @param n a number\n",
    "     * @return Gray code\n",
    "     */\n",
    "    public ArrayList<Integer> grayCode(int n) {\n",
    "        if (n < 0) return null;\n",
    "\n",
    "        ArrayList<Integer> currGray = new ArrayList<Integer>();\n",
    "        currGray.add(0);\n",
    "\n",
    "        for (int i = 0; i < n; i++) {\n",
    "            int msb = 1 << i;\n",
    "            // backward - symmetry\n",
    "            for (int j = currGray.size() - 1; j >= 0; j--) {\n",
    "                currGray.add(msb | currGray.get(j));\n",
    "            }\n",
    "        }\n",
    "\n",
    "        return currGray;\n",
    "    }\n",
    "}"
   ]
  }
 ],
 "metadata": {
  "kernelspec": {
   "display_name": "Python 3",
   "language": "python",
   "name": "python3"
  },
  "language_info": {
   "codemirror_mode": {
    "name": "ipython",
    "version": 3
   },
   "file_extension": ".py",
   "mimetype": "text/x-python",
   "name": "python",
   "nbconvert_exporter": "python",
   "pygments_lexer": "ipython3",
   "version": "3.7.7"
  }
 },
 "nbformat": 4,
 "nbformat_minor": 4
}
