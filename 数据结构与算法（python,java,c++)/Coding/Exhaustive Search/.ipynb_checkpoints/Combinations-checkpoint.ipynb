{
 "cells": [
  {
   "cell_type": "code",
   "execution_count": null,
   "metadata": {},
   "outputs": [],
   "source": [
    "public class Solution {\n",
    "    public List<List<Integer>> combine(int n, int k) {\n",
    "        assert(n >= 1 && n >= k && k >= 1);\n",
    "\n",
    "        List<List<Integer>> result = new ArrayList<List<Integer>>();\n",
    "        List<Integer> list = new ArrayList<Integer>();\n",
    "        dfs(n, k, 1, list, result);\n",
    "\n",
    "        return result;\n",
    "    }\n",
    "\n",
    "    private void dfs(int n, int k, int pos, List<Integer> list,\n",
    "                     List<List<Integer>> result) {\n",
    "\n",
    "        if (list.size() == k) {\n",
    "            result.add(new ArrayList<Integer>(list));\n",
    "            return;\n",
    "        }\n",
    "        for (int i = pos; i <= n; i++) {\n",
    "            list.add(i);\n",
    "            dfs(n, k, i + 1, list, result);\n",
    "            list.remove(list.size() - 1);\n",
    "        }\n",
    "    }\n",
    "}"
   ]
  }
 ],
 "metadata": {
  "kernelspec": {
   "display_name": "Python 3",
   "language": "python",
   "name": "python3"
  },
  "language_info": {
   "codemirror_mode": {
    "name": "ipython",
    "version": 3
   },
   "file_extension": ".py",
   "mimetype": "text/x-python",
   "name": "python",
   "nbconvert_exporter": "python",
   "pygments_lexer": "ipython3",
   "version": "3.7.7"
  }
 },
 "nbformat": 4,
 "nbformat_minor": 4
}
