{
 "cells": [
  {
   "cell_type": "code",
   "execution_count": null,
   "metadata": {},
   "outputs": [],
   "source": [
    "public class Solution {\n",
    "    /**\n",
    "     * @param m: An integer m denotes the size of a backpack\n",
    "     * @param A & V: Given n items with size A[i] and value V[i]\n",
    "     * @return: The maximum value\n",
    "     */\n",
    "    public int backPackII(int m, int[] A, int V[]) {\n",
    "        if (A == null || V == null || A.length == 0 || V.length == 0) return 0;\n",
    "\n",
    "        final int N = A.length;\n",
    "        final int M = m;\n",
    "        int[][] bp = new int[N + 1][M + 1];\n",
    "        for (int i = 0; i < N; i++) {\n",
    "            for (int j = 0; j <= M; j++) {\n",
    "                if (A[i] > j) {\n",
    "                    bp[i + 1][j] = bp[i][j];\n",
    "                } else {\n",
    "                    bp[i + 1][j] = Math.max(bp[i][j], bp[i][j - A[i]] + V[i]);\n",
    "                }\n",
    "            }\n",
    "        }\n",
    "\n",
    "        return bp[N][M];\n",
    "    }\n",
    "}"
   ]
  }
 ],
 "metadata": {
  "kernelspec": {
   "display_name": "Python 3",
   "language": "python",
   "name": "python3"
  },
  "language_info": {
   "codemirror_mode": {
    "name": "ipython",
    "version": 3
   },
   "file_extension": ".py",
   "mimetype": "text/x-python",
   "name": "python",
   "nbconvert_exporter": "python",
   "pygments_lexer": "ipython3",
   "version": "3.7.7"
  }
 },
 "nbformat": 4,
 "nbformat_minor": 4
}
