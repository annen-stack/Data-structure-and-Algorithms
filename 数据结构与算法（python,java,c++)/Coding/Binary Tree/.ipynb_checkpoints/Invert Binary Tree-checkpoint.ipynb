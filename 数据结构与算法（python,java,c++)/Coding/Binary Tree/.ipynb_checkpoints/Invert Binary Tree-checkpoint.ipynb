{
 "cells": [
  {
   "cell_type": "code",
   "execution_count": null,
   "metadata": {},
   "outputs": [],
   "source": [
    "class Solution {\n",
    "public:\n",
    "    /**\n",
    "     * @param root: a TreeNode, the root of the binary tree\n",
    "     * @return: nothing\n",
    "     */\n",
    "    void invertBinaryTree(TreeNode *root) {\n",
    "        if (root == NULL) return;\n",
    "\n",
    "        TreeNode *temp = root->left;\n",
    "        root->left = root->right;\n",
    "        root->right = temp;\n",
    "\n",
    "        invertBinaryTree(root->left);\n",
    "        invertBinaryTree(root->right);\n",
    "    }\n",
    "};"
   ]
  }
 ],
 "metadata": {
  "kernelspec": {
   "display_name": "Python 3",
   "language": "python",
   "name": "python3"
  },
  "language_info": {
   "codemirror_mode": {
    "name": "ipython",
    "version": 3
   },
   "file_extension": ".py",
   "mimetype": "text/x-python",
   "name": "python",
   "nbconvert_exporter": "python",
   "pygments_lexer": "ipython3",
   "version": "3.7.7"
  }
 },
 "nbformat": 4,
 "nbformat_minor": 4
}
