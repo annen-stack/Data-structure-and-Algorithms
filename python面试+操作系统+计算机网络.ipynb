{
 "cells": [
  {
   "cell_type": "markdown",
   "metadata": {},
   "source": [
    "# 一、Python语言特性"
   ]
  },
  {
   "cell_type": "markdown",
   "metadata": {},
   "source": [
    "### 1.python函数参数的传递"
   ]
  },
  {
   "cell_type": "markdown",
   "metadata": {},
   "source": [
    "### 值传递"
   ]
  },
  {
   "cell_type": "code",
   "execution_count": 1,
   "metadata": {},
   "outputs": [
    {
     "name": "stdout",
     "output_type": "stream",
     "text": [
      "swap函数里，a的值是 9 ；b的值是 6\n",
      "交换结束后，变量a的值是 6 ；变量b的值是 9\n"
     ]
    }
   ],
   "source": [
    "def swap(a , b) :\n",
    "    # 下面代码实现a、b变量的值交换\n",
    "    a, b = b, a\n",
    "    print(\"swap函数里，a的值是\", \\\n",
    "        a, \"；b的值是\", b)\n",
    "a = 6\n",
    "b = 9\n",
    "swap(a , b)\n",
    "print(\"交换结束后，变量a的值是\", \\\n",
    "    a , \"；变量b的值是\", b)"
   ]
  },
  {
   "cell_type": "markdown",
   "metadata": {},
   "source": [
    "当在主程序中调用 swap() 函数时，系统分别为主程序和 swap() 函数分配两块栈区，用于保存它们的局部变量。将主程序中的 a、b 变量作为参数值传入 swap() 函数，实际上是在 swap() 函数栈区中重新产生了两个变量 a、b，并将主程序栈区中 a、b 变量的值分别赋值给 swap() 函数栈区中的 a、b 参数。此时，系统存在两个 a 变量、两个 b 变量，只是存在于不同的栈区中而己。"
   ]
  },
  {
   "cell_type": "markdown",
   "metadata": {},
   "source": [
    "当系统开始执行函数时，系统对**形参**执行初始化，就是把**实参变量**的值赋给函数的形参变量，在函数中操作的并不是实际的实参变量。"
   ]
  },
  {
   "cell_type": "markdown",
   "metadata": {},
   "source": [
    "### 引用传递"
   ]
  },
  {
   "cell_type": "markdown",
   "metadata": {},
   "source": [
    "如果实际参数的数据类型是可变对象（列表list、字典dic），则函数参数的传递方式将采用**引用**传递方式。需要注意的是，引用传递方式的底层实现，采用的依然还是值传递的方式。"
   ]
  },
  {
   "cell_type": "code",
   "execution_count": 3,
   "metadata": {},
   "outputs": [
    {
     "name": "stdout",
     "output_type": "stream",
     "text": [
      "swap函数里，a元素的值是 9 ；b元素的值是 6\n",
      "交换结束后，a元素的值是 9 ；b元素的值是 6\n"
     ]
    }
   ],
   "source": [
    "def swap(dw):\n",
    "    # 下面代码实现dw的a、b两个元素的值交换\n",
    "    dw['a'], dw['b'] = dw['b'], dw['a']\n",
    "    print(\"swap函数里，a元素的值是\",\\\n",
    "        dw['a'], \"；b元素的值是\", dw['b'])\n",
    "dw = {'a': 6, 'b': 9}#字典\n",
    "swap(dw)\n",
    "print(\"交换结束后，a元素的值是\",\\\n",
    "    dw['a'], \"；b元素的值是\", dw['b'])"
   ]
  },
  {
   "cell_type": "markdown",
   "metadata": {},
   "source": [
    "通过上面介绍可以得出如下两个结论： \n",
    "- 不管什么类型的参数，在 Python 函数中对参数直接使用“=”符号赋值是没用的，直接使用“=”符号赋值并不能改变参数。（分为复制品和真品，复制品改变时，真品不变）\n",
    "- 如果需要让函数修改某些数据，则可以通过把这些数据包装成列表、字典等可变对象，然后把列表、字典等可变对象作为参数传入函数，在函数中通过列表、字典的方法修改它们，这样才能改变这些数据。（即字典和列表可改变值，进行引用传递）"
   ]
  },
  {
   "cell_type": "markdown",
   "metadata": {},
   "source": [
    "### 2.python中的元类"
   ]
  },
  {
   "cell_type": "markdown",
   "metadata": {},
   "source": [
    "https://www.cnblogs.com/tkqasn/p/6524879.html"
   ]
  },
  {
   "cell_type": "markdown",
   "metadata": {},
   "source": [
    "### 3.@staticmethod和@classmethod"
   ]
  },
  {
   "cell_type": "markdown",
   "metadata": {},
   "source": [
    "Python其实有3个方法,即实例方法，类方法(classmethod)，静态方法(staticmethod),如下:"
   ]
  },
  {
   "cell_type": "code",
   "execution_count": 8,
   "metadata": {},
   "outputs": [],
   "source": [
    "def foo(x):\n",
    "    print( \"executing foo(%s)\"%(x))\n",
    "\n",
    "class A(object):\n",
    "    def foo(self,x):#实例方法 self\n",
    "        print( \"executing foo(%s,%s)\"%(self,x))\n",
    "\n",
    "    @classmethod\n",
    "    def class_foo(cls,x):#类方法 cls\n",
    "        print (\"executing class_foo(%s,%s)\"%(cls,x))\n",
    "\n",
    "    @staticmethod\n",
    "    def static_foo(x):#静态方法\n",
    "        print (\"executing static_foo(%s)\"%x)\n",
    "\n",
    "a=A()"
   ]
  },
  {
   "cell_type": "markdown",
   "metadata": {},
   "source": [
    "这里先理解下函数参数里面的self和cls.这个self和cls是**对类或者实例的绑定**。对于一般的函数来说我们可以这么调用foo(x),这个函数就是最常用的,它的工作跟任何东西(类,实例)无关.\n",
    "- 对于实例方法,我们知道在类里每次定义方法的时候都需要绑定这个实例,就是foo(self, x),为什么要这么做呢?因为**实例方法的调用离不开实例**,我们需要把实例自己传给函数,调用的时候是这样的a.foo(x)(其实是foo(a, x)).\n",
    "\n",
    "- 类方法一样,只不过**它传递的是类而不是实例**,A.class_foo(x).注意这里的self和cls可以替换别的参数,但是python的约定是这俩,还是不要改的好.\n",
    "\n",
    "- 对于静态方法其实和普通的方法一样,不需要对谁进行绑定,唯一的区别是调用的时候需要使用a.static_foo(x)或者A.static_foo(x)来调用."
   ]
  },
  {
   "cell_type": "markdown",
   "metadata": {},
   "source": [
    "### 4.实例变量和类变量"
   ]
  },
  {
   "cell_type": "markdown",
   "metadata": {},
   "source": [
    "### 类变量"
   ]
  },
  {
   "cell_type": "markdown",
   "metadata": {},
   "source": [
    "是可在类的所有实例之间共享的值（**也就是说，它们不是单独分配给每个实例的**）。例如下例中，num_of_instance 就是类变量，用于跟踪存在着多少个Test 的实例。"
   ]
  },
  {
   "cell_type": "markdown",
   "metadata": {},
   "source": [
    "### 实例变量"
   ]
  },
  {
   "cell_type": "markdown",
   "metadata": {},
   "source": [
    "实例化之后每个实例单独拥有的变量\n"
   ]
  },
  {
   "cell_type": "code",
   "execution_count": 10,
   "metadata": {},
   "outputs": [
    {
     "name": "stdout",
     "output_type": "stream",
     "text": [
      "0\n",
      "1\n",
      "jack 2\n",
      "lucy 2\n"
     ]
    }
   ],
   "source": [
    "class Test(object):  \n",
    "    num_of_instance = 0  #类变量\n",
    "    def __init__(self, name):  \n",
    "        self.name = name  \n",
    "        Test.num_of_instance += 1  \n",
    "  \n",
    "if __name__ == '__main__':  \n",
    "    print (Test.num_of_instance)   # 0\n",
    "    t1 = Test('jack')  \n",
    "    print (Test.num_of_instance)   # 1\n",
    "    t2 = Test('lucy')  \n",
    "    print (t1.name , t1.num_of_instance)  # jack 2\n",
    "    print (t2.name , t2.num_of_instance)  # lucy 2"
   ]
  },
  {
   "cell_type": "code",
   "execution_count": 11,
   "metadata": {},
   "outputs": [
    {
     "name": "stdout",
     "output_type": "stream",
     "text": [
      "bbb\n",
      "aaa\n",
      "aaa\n"
     ]
    }
   ],
   "source": [
    "class Person:\n",
    "    name=\"aaa\"\n",
    "\n",
    "p1=Person()\n",
    "p2=Person()\n",
    "p1.name=\"bbb\"\n",
    "print (p1.name)  # bbb\n",
    "print (p2.name)  # aaa\n",
    "print (Person.name)  # aaa"
   ]
  },
  {
   "cell_type": "markdown",
   "metadata": {},
   "source": [
    "这里p1.name=\"bbb\"是实例调用了类变量,这其实和上面第一个问题一样,就是函数传参的问题,p1.name一开始是指向的类变量name=\"aaa\",但是在实例的作用域里把类变量的引用改变了,就变成了一个实例变量,self.name不再引用Person的类变量name了. --值传递，复制"
   ]
  },
  {
   "cell_type": "code",
   "execution_count": 12,
   "metadata": {},
   "outputs": [
    {
     "name": "stdout",
     "output_type": "stream",
     "text": [
      "[1]\n",
      "[1]\n",
      "[1]\n"
     ]
    }
   ],
   "source": [
    "class Person:\n",
    "    name=[]\n",
    "\n",
    "p1=Person()\n",
    "p2=Person()\n",
    "p1.name.append(1)\n",
    "print (p1.name)  # [1]\n",
    "print (p2.name)  # [1]\n",
    "print (Person.name)  # [1]"
   ]
  },
  {
   "cell_type": "markdown",
   "metadata": {},
   "source": [
    "列表，字典是可变类型。则相当于引用传递，可以被改变"
   ]
  },
  {
   "cell_type": "markdown",
   "metadata": {},
   "source": [
    "### 5.python自省"
   ]
  },
  {
   "cell_type": "markdown",
   "metadata": {},
   "source": [
    "这个也是python彪悍的特性.\n",
    "自省就是面向对象的语言所写的程序在运行时,所能知道对象的类型.简单一句就是运行时能够获得对象的类型.比如type(),dir(),getattr(),hasattr(),isinstance()."
   ]
  },
  {
   "cell_type": "code",
   "execution_count": 13,
   "metadata": {},
   "outputs": [
    {
     "name": "stdout",
     "output_type": "stream",
     "text": [
      "<class 'list'> <class 'dict'> <class 'bool'>\n",
      "True\n"
     ]
    }
   ],
   "source": [
    "a = [1,2,3]\n",
    "b = {'a':1,'b':2,'c':3}\n",
    "c = True\n",
    "print (type(a),type(b),type(c)) # <type 'list'> <type 'dict'> <type 'bool'>\n",
    "print (isinstance(a,list)) # True  判断a是否是list"
   ]
  },
  {
   "cell_type": "markdown",
   "metadata": {},
   "source": [
    "### 6.字典推导式"
   ]
  },
  {
   "cell_type": "markdown",
   "metadata": {},
   "source": [
    "d = {key: value for (key, value) in iterable}"
   ]
  },
  {
   "cell_type": "markdown",
   "metadata": {},
   "source": [
    "### 7.python中单下划线和双下划线"
   ]
  },
  {
   "cell_type": "markdown",
   "metadata": {},
   "source": [
    "__foo__:一种约定,Python内部的名字,用来区别其他用户自定义的命名,以防冲突，就是例如\n",
    "\n",
    "__init__(),__del__(),__call__()这些特殊方法\n",
    "\n",
    "\n",
    "_foo:一种约定,用来指定变量私有.程序员用来指定私有变量的一种方式.不能用from module import * 导入，其他方面和公有一样访问；\n",
    "\n",
    "\n",
    "__foo:这个有真正的意义:解析器用_classname__foo来代替这个名字,以区别和其他类相同的命名,它无法直接像公有成员一样随便访问,通过对象名._类名__xxx这样的方式可以访问."
   ]
  },
  {
   "cell_type": "markdown",
   "metadata": {},
   "source": [
    "### 8.字符串格式化：%和.format"
   ]
  },
  {
   "cell_type": "code",
   "execution_count": null,
   "metadata": {},
   "outputs": [],
   "source": [
    "#定义一个坐标\n",
    "point = (250,250)\n",
    "#使用%来格式化\n",
    "s = '朝着敌人的坐标%s开炮'%point\n",
    "print(s)  #直接报错\n",
    "#TypeError: not all arguments converted during string formatting\n",
    "\n",
    "#将s改为如下就不会报错了\n",
    "s = '朝着敌人的坐标%s开炮'%(point,)\n",
    "print(s)  # 不报错"
   ]
  },
  {
   "cell_type": "code",
   "execution_count": 16,
   "metadata": {},
   "outputs": [
    {
     "name": "stdout",
     "output_type": "stream",
     "text": [
      "朝着敌人的坐标(250, 250)开炮\n"
     ]
    }
   ],
   "source": [
    "#使用format格式化\n",
    "s = '朝着敌人的坐标{}开炮'.format(point)\n",
    "print(s)  # 正常输出"
   ]
  },
  {
   "cell_type": "markdown",
   "metadata": {},
   "source": [
    "### 9.迭代器和生成器"
   ]
  },
  {
   "cell_type": "markdown",
   "metadata": {},
   "source": [
    "- 迭代是Python最强大的功能之一，是访问集合元素的一种方式。\n",
    "\n",
    "- 迭代器是一个可以记住遍历的位置的对象。\n",
    "\n",
    "- 迭代器对象从集合的第一个元素开始访问，直到所有的元素被访问完结束。迭代器只能往前不会后退。\n",
    "\n",
    "- 迭代器有两个基本的方法：iter() 和 next()。 \n",
    "- 字符串，列表或元组对象都可用于创建迭代器："
   ]
  },
  {
   "cell_type": "code",
   "execution_count": 17,
   "metadata": {},
   "outputs": [
    {
     "name": "stdout",
     "output_type": "stream",
     "text": [
      "1\n",
      "2\n"
     ]
    }
   ],
   "source": [
    "list=[1,2,3,4]\n",
    "it = iter(list)    # 创建迭代器对象\n",
    "print (next(it))   # 输出迭代器的下一个元素\n",
    "\n",
    "print (next(it))"
   ]
  },
  {
   "cell_type": "code",
   "execution_count": 19,
   "metadata": {},
   "outputs": [
    {
     "name": "stdout",
     "output_type": "stream",
     "text": [
      "1\n",
      "2\n",
      "3\n",
      "4\n"
     ]
    },
    {
     "ename": "StopIteration",
     "evalue": "",
     "output_type": "error",
     "traceback": [
      "\u001b[1;31m---------------------------------------------------------------------------\u001b[0m",
      "\u001b[1;31mStopIteration\u001b[0m                             Traceback (most recent call last)",
      "\u001b[1;32m<ipython-input-19-043ba07fffc4>\u001b[0m in \u001b[0;36m<module>\u001b[1;34m\u001b[0m\n\u001b[0;32m      5\u001b[0m \u001b[1;32mwhile\u001b[0m \u001b[1;32mTrue\u001b[0m\u001b[1;33m:\u001b[0m\u001b[1;33m\u001b[0m\u001b[1;33m\u001b[0m\u001b[0m\n\u001b[0;32m      6\u001b[0m \u001b[1;33m\u001b[0m\u001b[0m\n\u001b[1;32m----> 7\u001b[1;33m     \u001b[0mprint\u001b[0m \u001b[1;33m(\u001b[0m\u001b[0mnext\u001b[0m\u001b[1;33m(\u001b[0m\u001b[0mit\u001b[0m\u001b[1;33m)\u001b[0m\u001b[1;33m)\u001b[0m\u001b[1;31m#输出下个元素\u001b[0m\u001b[1;33m\u001b[0m\u001b[1;33m\u001b[0m\u001b[0m\n\u001b[0m",
      "\u001b[1;31mStopIteration\u001b[0m: "
     ]
    }
   ],
   "source": [
    "import sys         # 引入 sys 模块 \n",
    "list=[1,2,3,4]\n",
    "it = iter(list)    # 创建迭代器对象\n",
    " \n",
    "while True:\n",
    "\n",
    "    print (next(it))#输出下个元素"
   ]
  },
  {
   "cell_type": "markdown",
   "metadata": {},
   "source": [
    "### 创建一个迭代器"
   ]
  },
  {
   "cell_type": "code",
   "execution_count": 20,
   "metadata": {},
   "outputs": [
    {
     "name": "stdout",
     "output_type": "stream",
     "text": [
      "1\n",
      "2\n",
      "3\n",
      "4\n",
      "5\n"
     ]
    }
   ],
   "source": [
    "class MyNumbers:\n",
    "  def __iter__(self):#初始化\n",
    "    self.a = 1\n",
    "    return self\n",
    " \n",
    "  def __next__(self):\n",
    "    x = self.a\n",
    "    self.a += 1\n",
    "    return x\n",
    " \n",
    "myclass = MyNumbers()\n",
    "myiter = iter(myclass)\n",
    " \n",
    "print(next(myiter))\n",
    "print(next(myiter))\n",
    "print(next(myiter))\n",
    "print(next(myiter))\n",
    "print(next(myiter))"
   ]
  },
  {
   "cell_type": "code",
   "execution_count": 21,
   "metadata": {},
   "outputs": [
    {
     "name": "stdout",
     "output_type": "stream",
     "text": [
      "1\n",
      "2\n",
      "3\n",
      "4\n",
      "5\n",
      "6\n",
      "7\n",
      "8\n",
      "9\n",
      "10\n",
      "11\n",
      "12\n",
      "13\n",
      "14\n",
      "15\n",
      "16\n",
      "17\n",
      "18\n",
      "19\n",
      "20\n"
     ]
    }
   ],
   "source": [
    "class MyNumbers:\n",
    "  def __iter__(self):\n",
    "    self.a = 1\n",
    "    return self\n",
    " \n",
    "  def __next__(self):\n",
    "    if self.a <= 20:\n",
    "      x = self.a\n",
    "      self.a += 1\n",
    "      return x\n",
    "    else:\n",
    "      raise StopIteration\n",
    " \n",
    "myclass = MyNumbers()\n",
    "myiter = iter(myclass)\n",
    " \n",
    "for x in myiter:\n",
    "  print(x)"
   ]
  },
  {
   "cell_type": "markdown",
   "metadata": {},
   "source": [
    "### 生成器"
   ]
  },
  {
   "cell_type": "markdown",
   "metadata": {},
   "source": [
    "- 在 Python 中，使用了 yield 的函数被称为生成器（generator）。\n",
    "- 跟普通函数不同的是，生成器是一个返回迭代器的函数，只能用于迭代操作，更简单点理解生成器就是一个迭代器。 \n",
    "- 在调用生成器运行的过程中，每次遇到 yield 时函数会暂停并保存当前所有的运行信息，返回 yield 的值, 并在下一次执行 next() 方法时从当前位置继续运行。\n",
    "- 调用一个生成器函数，返回的是一个迭代器对象。"
   ]
  },
  {
   "cell_type": "code",
   "execution_count": 23,
   "metadata": {},
   "outputs": [
    {
     "name": "stdout",
     "output_type": "stream",
     "text": [
      "0 1 1 2 3 5 8 13 21 34 55 "
     ]
    },
    {
     "ename": "StopIteration",
     "evalue": "",
     "output_type": "error",
     "traceback": [
      "\u001b[1;31m---------------------------------------------------------------------------\u001b[0m",
      "\u001b[1;31mStopIteration\u001b[0m                             Traceback (most recent call last)",
      "\u001b[1;32m<ipython-input-23-7e37de538740>\u001b[0m in \u001b[0;36m<module>\u001b[1;34m\u001b[0m\n\u001b[0;32m     15\u001b[0m \u001b[1;32mwhile\u001b[0m \u001b[1;32mTrue\u001b[0m\u001b[1;33m:\u001b[0m\u001b[1;33m\u001b[0m\u001b[1;33m\u001b[0m\u001b[0m\n\u001b[0;32m     16\u001b[0m \u001b[1;33m\u001b[0m\u001b[0m\n\u001b[1;32m---> 17\u001b[1;33m     \u001b[0mprint\u001b[0m \u001b[1;33m(\u001b[0m\u001b[0mnext\u001b[0m\u001b[1;33m(\u001b[0m\u001b[0mf\u001b[0m\u001b[1;33m)\u001b[0m\u001b[1;33m,\u001b[0m \u001b[0mend\u001b[0m\u001b[1;33m=\u001b[0m\u001b[1;34m\" \"\u001b[0m\u001b[1;33m)\u001b[0m\u001b[1;33m\u001b[0m\u001b[1;33m\u001b[0m\u001b[0m\n\u001b[0m",
      "\u001b[1;31mStopIteration\u001b[0m: "
     ]
    }
   ],
   "source": [
    "#!/usr/bin/python3\n",
    " \n",
    "import sys\n",
    " \n",
    "def fibonacci(n): # 生成器函数 - 斐波那契\n",
    "    a, b, counter = 0, 1, 0\n",
    "    while True:\n",
    "        if (counter > n): \n",
    "            return\n",
    "        yield a\n",
    "        a, b = b, a + b\n",
    "        counter += 1\n",
    "f = fibonacci(10) # f 是一个迭代器，由生成器返回生成\n",
    " \n",
    "while True:\n",
    "\n",
    "    print (next(f), end=\" \")\n"
   ]
  },
  {
   "cell_type": "markdown",
   "metadata": {},
   "source": [
    "### 10.*args and **kwargs"
   ]
  },
  {
   "cell_type": "code",
   "execution_count": 25,
   "metadata": {},
   "outputs": [
    {
     "name": "stdout",
     "output_type": "stream",
     "text": [
      "0. apple\n",
      "1. banana\n",
      "2. cabbage\n"
     ]
    }
   ],
   "source": [
    "#当你不确定你的函数里将要传递多少参数时你可以用*args.例如,它可以传递任意数量的参数:\n",
    "def print_everything(*args):\n",
    "        for count, thing in enumerate(args):\n",
    "            print ('{0}. {1}'.format(count, thing))\n",
    "print_everything('apple', 'banana', 'cabbage')"
   ]
  },
  {
   "cell_type": "code",
   "execution_count": 27,
   "metadata": {},
   "outputs": [
    {
     "name": "stdout",
     "output_type": "stream",
     "text": [
      "apple = fruit\n",
      "cabbage = vegetable\n"
     ]
    }
   ],
   "source": [
    "#相似的,**kwargs允许你使用没有事先定义的参数名:\n",
    "def table_things(**kwargs):\n",
    "     for name, value in kwargs.items():\n",
    "        print ('{0} = {1}'.format(name, value))\n",
    "table_things(apple = 'fruit', cabbage = 'vegetable')"
   ]
  },
  {
   "cell_type": "code",
   "execution_count": 29,
   "metadata": {},
   "outputs": [
    {
     "name": "stdout",
     "output_type": "stream",
     "text": [
      "a = aardvark, b = baboon, c = cat\n"
     ]
    }
   ],
   "source": [
    "mylist = ['aardvark', 'baboon', 'cat']\n",
    "def print_three_things(a, b, c):\n",
    "     print ('a = {0}, b = {1}, c = {2}'.format(a,b,c))\n",
    "print_three_things(*mylist)"
   ]
  },
  {
   "cell_type": "markdown",
   "metadata": {},
   "source": [
    "### 11.面向切面编程AOP和装饰器"
   ]
  },
  {
   "cell_type": "markdown",
   "metadata": {},
   "source": [
    "### AOP"
   ]
  },
  {
   "cell_type": "markdown",
   "metadata": {},
   "source": [
    "简言之、这种在运行时，编译时，类和方法加载时，动态地将代码切入到类的指定方法、指定位置上的编程思想就是面向切面的编程。\n",
    "\n",
    "\n",
    "我们管切入到指定类指定方法的代码片段称为切面，而切入到哪些类、哪些方法则叫切入点。有了AOP，我们就可以把**几个类共有的代码**，抽取到一个切片中，等到需要时再切入对象中去，从而改变其原有的行为。\n",
    "\n",
    "优点是：这样的做法，对原有代码毫无入侵性\n",
    "\n",
    "\n"
   ]
  },
  {
   "cell_type": "markdown",
   "metadata": {},
   "source": [
    "### 装饰器"
   ]
  },
  {
   "cell_type": "markdown",
   "metadata": {},
   "source": [
    "装饰器是一个很著名的设计模式，经常被用于有切面需求的场景，较为经典的有插入日志、性能测试、事务处理等。装饰器是解决这类问题的绝佳设计，有了装饰器，**我们就可以抽离出大量函数中与函数功能本身无关的雷同代码并继续重用。**\n"
   ]
  },
  {
   "cell_type": "code",
   "execution_count": 35,
   "metadata": {},
   "outputs": [
    {
     "name": "stdout",
     "output_type": "stream",
     "text": [
      "I am a stand alone function, don't you dare modify me\n",
      "Before the function runs\n",
      "I am a stand alone function, don't you dare modify me\n",
      "After the function runs\n"
     ]
    }
   ],
   "source": [
    "# 装饰器就是把其他函数作为参数的函数,my_new_decorator,装饰器\n",
    "def my_new_decorator(a_function_to_decorate):\n",
    "    # 在函数里面,装饰器在运行中定义函数: 包装.\n",
    "    # 这个函数将被包装在原始函数的外面,所以可以在原始函数之前和之后执行其他代码..\n",
    "    def the_wrapper_function():\n",
    "\n",
    "        # 把要在原始函数被调用前的代码放在这里\n",
    "        print (\"Before the function runs\")\n",
    "\n",
    "        # 调用原始函数(用括号)\n",
    "        a_function_to_decorate()\n",
    "\n",
    "        # 把要在原始函数调用后的代码放在这里\n",
    "        print (\"After the function runs\")\n",
    "\n",
    "    # 在这里\"a_function_to_decorate\" 函数永远不会被执行\n",
    "    # 在这里返回刚才包装过的函数\n",
    "    # 在包装函数里包含要在原始函数前后执行的代码.\n",
    "    return the_wrapper_function\n",
    "\n",
    "# 加入你建了个函数,不想修改了\n",
    "def a_stand_alone_function():\n",
    "    print (\"I am a stand alone function, don't you dare modify me\")\n",
    "\n",
    "a_stand_alone_function()\n",
    "#输出: I am a stand alone function, don't you dare modify me\n",
    "\n",
    "# 现在,你可以装饰它来增加它的功能\n",
    "# 把它传递给装饰器,它就会返回一个被包装过的函数.\n",
    "\n",
    "a_function_decorated = my_new_decorator(a_stand_alone_function)\n",
    "# 执行\n",
    "a_function_decorated()\n",
    "#输出s:\n",
    "#Before the function runs\n",
    "#I am a stand alone function, don't you dare modify me\n",
    "#After the function runs"
   ]
  },
  {
   "cell_type": "code",
   "execution_count": 36,
   "metadata": {},
   "outputs": [
    {
     "name": "stdout",
     "output_type": "stream",
     "text": [
      "Before the function runs\n",
      "Leave me alone\n",
      "After the function runs\n"
     ]
    }
   ],
   "source": [
    "@my_new_decorator\n",
    "def another_stand_alone_function():\n",
    "    print (\"Leave me alone\")\n",
    "\n",
    "another_stand_alone_function()\n",
    "#输出:\n",
    "#Before the function runs\n",
    "#Leave me alone\n",
    "#After the function runs"
   ]
  },
  {
   "cell_type": "code",
   "execution_count": 38,
   "metadata": {},
   "outputs": [
    {
     "name": "stdout",
     "output_type": "stream",
     "text": [
      "I got args! Look: Peter Venkman\n",
      "My name is Peter Venkman\n"
     ]
    }
   ],
   "source": [
    "def a_decorator_passing_arguments(function_to_decorate):\n",
    "    def a_wrapper_accepting_arguments(arg1, arg2):\n",
    "        print (\"I got args! Look:\", arg1, arg2)\n",
    "        function_to_decorate(arg1, arg2)\n",
    "    return a_wrapper_accepting_arguments\n",
    "\n",
    "# 当你调用装饰器返回的函数时,也就调用了包装器,把参数传入包装器里,\n",
    "# 它将把参数传递给被装饰的函数里.\n",
    "\n",
    "@a_decorator_passing_arguments\n",
    "def print_full_name(first_name, last_name):\n",
    "    print (\"My name is\", first_name, last_name)\n",
    "\n",
    "print_full_name(\"Peter\", \"Venkman\")\n",
    "# 输出:\n",
    "#I got args! Look: Peter Venkman\n",
    "#My name is Peter Venkman"
   ]
  },
  {
   "cell_type": "code",
   "execution_count": 39,
   "metadata": {},
   "outputs": [
    {
     "name": "stdout",
     "output_type": "stream",
     "text": [
      "I am an ordinary function\n",
      "I am an ordinary function\n"
     ]
    }
   ],
   "source": [
    "# 装饰器就是一个'平常不过'的函数\n",
    "def my_decorator(func):\n",
    "    print (\"I am an ordinary function\")\n",
    "    def wrapper():\n",
    "        print (\"I am function returned by the decorator\")\n",
    "        func()\n",
    "    return wrapper\n",
    "\n",
    "# 因此你可以不用\"@\"也可以调用他\n",
    "\n",
    "def lazy_function():\n",
    "    print (\"zzzzzzzz\")\n",
    "\n",
    "decorated_function = my_decorator(lazy_function)\n",
    "#输出: I am an ordinary function\n",
    "\n",
    "# 之所以输出 \"I am an ordinary function\"是因为你调用了函数,\n",
    "# 并非什么魔法.\n",
    "\n",
    "@my_decorator\n",
    "def lazy_function():\n",
    "    print (\"zzzzzzzz\")\n",
    "\n",
    "#输出: I am an ordinary function"
   ]
  },
  {
   "cell_type": "code",
   "execution_count": 41,
   "metadata": {},
   "outputs": [
    {
     "name": "stdout",
     "output_type": "stream",
     "text": [
      "I make decorators! And I accept arguments: Leonard Sheldon\n",
      "I am the decorator. Somehow you passed me arguments: Leonard Sheldon\n",
      "I am the wrapper around the decorated function.\n",
      "I can access all the variables\n",
      "\t- from the decorator: Leonard Sheldon\n",
      "\t- from the function call: Rajesh Howard\n",
      "Then I can pass them to the decorated function\n",
      "I am the decorated function and only knows about my arguments: Rajesh Howard\n"
     ]
    }
   ],
   "source": [
    "def decorator_maker_with_arguments(decorator_arg1, decorator_arg2):\n",
    "\n",
    "    print (\"I make decorators! And I accept arguments:\", decorator_arg1, decorator_arg2)\n",
    "    def my_decorator(func):\n",
    "        # 这里传递参数的能力是借鉴了 closures.\n",
    "        # 如果对closures感到困惑可以看看下面这个:\n",
    "        # http://stackoverflow.com/questions/13857/can-you-explain-closures-as-they-relate-to-python\n",
    "        print (\"I am the decorator. Somehow you passed me arguments:\", decorator_arg1, decorator_arg2)\n",
    "        # 不要忘了装饰器参数和函数参数!\n",
    "        def wrapped(function_arg1, function_arg2) :\n",
    "            print (\"I am the wrapper around the decorated function.\\n\"\n",
    "                  \"I can access all the variables\\n\"\n",
    "                  \"\\t- from the decorator: {0} {1}\\n\"\n",
    "                  \"\\t- from the function call: {2} {3}\\n\"\n",
    "                  \"Then I can pass them to the decorated function\"\n",
    "                  .format(decorator_arg1, decorator_arg2,\n",
    "                          function_arg1, function_arg2))\n",
    "            return func(function_arg1, function_arg2)\n",
    "\n",
    "        return wrapped\n",
    "\n",
    "    return my_decorator\n",
    "\n",
    "@decorator_maker_with_arguments(\"Leonard\", \"Sheldon\")\n",
    "def decorated_function_with_arguments(function_arg1, function_arg2):\n",
    "    print (\"I am the decorated function and only knows about my arguments: {0}\"\n",
    "           \" {1}\".format(function_arg1, function_arg2))\n",
    "\n",
    "decorated_function_with_arguments(\"Rajesh\", \"Howard\")\n",
    "#输出:\n",
    "#I make decorators! And I accept arguments: Leonard Sheldon\n",
    "#I am the decorator. Somehow you passed me arguments: Leonard Sheldon\n",
    "#I am the wrapper around the decorated function.\n",
    "#I can access all the variables\n",
    "#   - from the decorator: Leonard Sheldon\n",
    "#   - from the function call: Rajesh Howard\n",
    "#Then I can pass them to the decorated function\n",
    "#I am the decorated function and only knows about my arguments: Rajesh Howard"
   ]
  },
  {
   "cell_type": "code",
   "execution_count": 42,
   "metadata": {},
   "outputs": [
    {
     "name": "stdout",
     "output_type": "stream",
     "text": [
      "this is oper before\n",
      "进行添加的操作\n",
      "this is oper after\n"
     ]
    }
   ],
   "source": [
    "def addTips(fun):\n",
    "    def wrap(*arg,**kwargs):\n",
    "        print(\"this is oper before\")\n",
    "        result = fun(*arg,**kwargs)\n",
    "        #return result\n",
    "        print(\"this is oper after\")\n",
    "        return result\n",
    "    return wrap\n",
    "@addTips\n",
    "def add():\n",
    "    print(\"进行添加的操作\")\n",
    "    \n",
    "add()"
   ]
  },
  {
   "cell_type": "code",
   "execution_count": 43,
   "metadata": {},
   "outputs": [
    {
     "name": "stdout",
     "output_type": "stream",
     "text": [
      "this is oper before\n",
      "8\n",
      "this is oper after\n"
     ]
    }
   ],
   "source": [
    "@addTips\n",
    "def add1(x,y):\n",
    "    print(x+y)\n",
    "add1(2,6)"
   ]
  },
  {
   "cell_type": "code",
   "execution_count": 44,
   "metadata": {},
   "outputs": [
    {
     "name": "stdout",
     "output_type": "stream",
     "text": [
      "this is oper before\n",
      "this is oper after\n",
      "5\n"
     ]
    }
   ],
   "source": [
    "@addTips\n",
    "def add2(x,y):\n",
    "    return x+y\n",
    "\n",
    "print(add2(2,3))"
   ]
  },
  {
   "cell_type": "code",
   "execution_count": 45,
   "metadata": {},
   "outputs": [
    {
     "name": "stdout",
     "output_type": "stream",
     "text": [
      "this is oper before\n",
      "5\n",
      "this is oper after\n"
     ]
    }
   ],
   "source": [
    "def addTips(i):\n",
    "    def wrap1(fun):\n",
    "        def wrap(*arg,**kwargs):\n",
    "            print(\"this is oper before\")\n",
    "            result = 0\n",
    "            if i > 10:\n",
    "                result = fun(*arg,**kwargs)\n",
    "            else:\n",
    "                print(\"you not have any auth\")\n",
    "            #return result\n",
    "            print(\"this is oper after\")\n",
    "            return result\n",
    "        return wrap\n",
    "    return wrap1\n",
    "\n",
    "@addTips(11)\n",
    "def add(x,y):\n",
    "    print(x+y)\n",
    "    \n",
    "add(2,3)"
   ]
  },
  {
   "cell_type": "markdown",
   "metadata": {},
   "source": [
    "- 装饰器使函数调用变慢了.一定要记住.\n",
    "- 装饰器不能被取消(有些人把装饰器做成可以移除的但是没有人会用)所以一旦一个函数被装饰了.所有的代码都会被装饰.\n",
    "- Python自身提供了几个装饰器,像property, staticmethod. Django用装饰器管理缓存和试图的权限. Twisted用来修改异步函数的调用.\n"
   ]
  },
  {
   "cell_type": "markdown",
   "metadata": {},
   "source": [
    "### 12.鸭子类型"
   ]
  },
  {
   "cell_type": "markdown",
   "metadata": {},
   "source": [
    "- “当看到一只鸟走起来像鸭子、游泳起来像鸭子、叫起来也像鸭子，那么这只鸟就可以被称为鸭子。”\n",
    "- 我们并不关心对象是什么类型，到底是不是鸭子，只关心行为。\n",
    "- 比如在python中，有很多file-like的东西，比如StringIO,GzipFile,socket。它们有很多相同的方法，我们把它们当作文件使用。\n",
    "- 又比如list.extend()方法中,我们并不关心它的参数是不是list,只要它是可迭代的,所以它的参数可以是list/tuple/dict/字符串/生成器等.\n",
    "- 鸭子类型在动态语言中经常使用，非常灵活，使得python不想java那样专门去弄一大堆的设计模式。"
   ]
  },
  {
   "cell_type": "markdown",
   "metadata": {},
   "source": [
    "### 13.python不需要重载"
   ]
  },
  {
   "cell_type": "markdown",
   "metadata": {},
   "source": [
    "#### 函数重载主要是为了解决两个问题。\n",
    "- 可变参数类型。\n",
    "- 可变参数个数。\n",
    "另外，一个基本的设计原则是，仅仅当两个函数除了参数类型和参数个数不同以外，**其功能是完全相同的**，此时才使用函数重载，如果两个函数的功能其实不同，那么不应当使用重载，而应当使用一个名字不同的函数。\n",
    "\n",
    "\n",
    "好吧，那么对于情况 1 ，函数功能相同，但是参数类型不同，python 如何处理？答案是根本不需要处理，因为 python 可以接受任何类型的参数，如果函数的功能相同，那么不同的参数类型在 python 中很可能是相同的代码，没有必要做成两个不同函数。\n",
    "\n",
    "\n",
    "那么对于情况 2 ，函数功能相同，但参数个数不同，python 如何处理？大家知道，答案就是缺省参数。对那些缺少的参数设定为缺省参数即可解决问题。因为你假设函数功能相同，那么那些缺少的参数终归是需要用的。\n",
    "\n",
    "\n",
    "好了，鉴于情况 1 跟 情况 2 都有了解决方案，python 自然就不需要函数重载了。"
   ]
  },
  {
   "cell_type": "markdown",
   "metadata": {},
   "source": [
    "### 14.新式类和旧式类"
   ]
  },
  {
   "cell_type": "markdown",
   "metadata": {},
   "source": [
    "- 新式类都从object继承，经典类不需要。\n",
    "- 新式类的MRO(method resolution order 基类搜索顺序)算法采用C3算法广度优先搜索，而旧式类的MRO算法是采用深度优先搜索\n",
    "- 新式类相同父类只执行一次构造函数，经典类重复执行多次。\n",
    "\n",
    "- Python 2.x中默认都是经典类，只有显式继承了object才是新式类\n",
    "- Python 3.x中默认都是新式类,经典类被移除，不必显式的继承object"
   ]
  },
  {
   "cell_type": "code",
   "execution_count": 46,
   "metadata": {},
   "outputs": [],
   "source": [
    "class A:\n",
    "\n",
    "\tpass\n",
    "\n",
    "class B:\n",
    "\n",
    "\tpass\n",
    "\n",
    "class C(B):\n",
    "\n",
    "\tpass\n",
    "\n",
    "class D(C,A):\n",
    "\n",
    "\tpass"
   ]
  },
  {
   "cell_type": "markdown",
   "metadata": {},
   "source": [
    "执行顺序为：D->C->B,->A  python2.0"
   ]
  },
  {
   "cell_type": "code",
   "execution_count": 47,
   "metadata": {},
   "outputs": [],
   "source": [
    "class A(object):\n",
    "\n",
    "\tpass\n",
    "\n",
    "class B(object):\n",
    "\n",
    "\tpass\n",
    "\n",
    "class C(object): \n",
    "\n",
    "\tpass\n",
    "\n",
    "class D(A,B,C): \n",
    "\n",
    "\tpass"
   ]
  },
  {
   "cell_type": "markdown",
   "metadata": {},
   "source": [
    "\n",
    "执行顺序为：D->A->B->C python3.0"
   ]
  },
  {
   "cell_type": "markdown",
   "metadata": {},
   "source": [
    "### 15.__new__和__init__的区别"
   ]
  },
  {
   "cell_type": "markdown",
   "metadata": {},
   "source": [
    "- __new__是一个静态方法,而__init__是一个实例方法.\n",
    "- __new__方法会返回一个创建的实例,而__init__什么都不返回.\n",
    "- 只有在__new__返回一个cls的实例时后面的__init__才能被调用.\n",
    "- 当创建一个新实例时调用__new__,初始化一个实例时用__init__."
   ]
  },
  {
   "cell_type": "markdown",
   "metadata": {},
   "source": [
    "### 16.单例模式"
   ]
  },
  {
   "cell_type": "markdown",
   "metadata": {},
   "source": [
    " 单例模式是一种常用的软件设计模式。在它的核心结构中只包含一个被称为单例类的特殊类。通过单例模式可以**保证系统中一个类只有一个实例而且该实例易于外界访问**，从而方便对**实例个数的控制并节约系统资源**。如果希望**在系统中某个类的对象只能存在一个**，单例模式是最好的解决方案。"
   ]
  },
  {
   "cell_type": "markdown",
   "metadata": {},
   "source": [
    "单例模式是指创建唯一对象，单例模式设计的类只能实例"
   ]
  },
  {
   "cell_type": "code",
   "execution_count": 48,
   "metadata": {},
   "outputs": [],
   "source": [
    "class Singleton(object):\n",
    "    def __new__(cls, *args, **kw):\n",
    "        if not hasattr(cls, '_instance'):\n",
    "            orig = super(Singleton, cls)\n",
    "            cls._instance = orig.__new__(cls, *args, **kw)\n",
    "        return cls._instance\n",
    "\n",
    "class MyClass(Singleton):\n",
    "    a = 1"
   ]
  },
  {
   "cell_type": "code",
   "execution_count": 49,
   "metadata": {},
   "outputs": [],
   "source": [
    "class Borg(object):\n",
    "    _state = {}\n",
    "    def __new__(cls, *args, **kw):\n",
    "        ob = super(Borg, cls).__new__(cls, *args, **kw)\n",
    "        ob.__dict__ = cls._state\n",
    "        return ob\n",
    "\n",
    "class MyClass2(Borg):\n",
    "    a = 1"
   ]
  },
  {
   "cell_type": "code",
   "execution_count": 50,
   "metadata": {},
   "outputs": [],
   "source": [
    "def singleton(cls):\n",
    "    instances = {}\n",
    "    def getinstance(*args, **kw):\n",
    "        if cls not in instances:\n",
    "            instances[cls] = cls(*args, **kw)\n",
    "        return instances[cls]\n",
    "    return getinstance\n",
    "\n",
    "@singleton\n",
    "class MyClass:\n",
    "  ...\n"
   ]
  },
  {
   "cell_type": "markdown",
   "metadata": {},
   "source": [
    "### 17.python中的作用域"
   ]
  },
  {
   "cell_type": "markdown",
   "metadata": {},
   "source": [
    "Python 中，一个变量的作用域总是由在代码中被赋值的地方所决定的。\n",
    "\n",
    "当 Python 遇到一个变量的话他会按照这样的顺序进行搜索：\n",
    "\n",
    "本地作用域（Local）→当前作用域被嵌入的本地作用域（Enclosing locals）→全局/模块作用域（Global）→内置作用域（Built-in）"
   ]
  },
  {
   "cell_type": "markdown",
   "metadata": {},
   "source": [
    "### 18.GIL线程全局锁"
   ]
  },
  {
   "cell_type": "markdown",
   "metadata": {},
   "source": [
    "线程全局锁(Global Interpreter Lock),即Python为了保证线程安全而采取的独立线程运行的限制,说白了**就是一个核只能在同一时间运行一个线程.**\n",
    "\n",
    "对于io密集型任务，python的多线程起到作用，但对于cpu密集型任务，python的多线程几乎占不到任何优势，还有可能因为争夺资源而变慢"
   ]
  },
  {
   "cell_type": "markdown",
   "metadata": {},
   "source": [
    "### 19.协程"
   ]
  },
  {
   "cell_type": "markdown",
   "metadata": {},
   "source": [
    "简单点说协程是进程和线程的升级版,进程和线程都面临着内核态和用户态的切换问题而耗费许多切换时间,而协程就是用户自己控制切换的时机,不再需要陷入系统的内核态."
   ]
  },
  {
   "cell_type": "markdown",
   "metadata": {},
   "source": [
    "### 20.闭包"
   ]
  },
  {
   "cell_type": "markdown",
   "metadata": {},
   "source": [
    "当一个内嵌函数引用其外部作作用域的变量,我们就会得到一个闭包. 总结一下,创建一个闭包必须满足以下几点:\n",
    "- 必须有一个内嵌函数\n",
    "- 内嵌函数必须引用外部函数中的变量\n",
    "- 外部函数的返回值必须是内嵌函数"
   ]
  },
  {
   "cell_type": "markdown",
   "metadata": {},
   "source": [
    "### 21.lambda函数"
   ]
  },
  {
   "cell_type": "markdown",
   "metadata": {},
   "source": [
    "- lambda 定义了一个匿名函数\n",
    "- lambda 并不会带来程序运行效率的提高，只会使代码更简洁。\n",
    "- 如果可以使用for...in...if来完成的，坚决不用lambda。\n",
    "- 如果使用lambda，lambda内不要包含循环，如果有，我宁愿定义函数来完成，使代码获得可重用性和更好的可读性。"
   ]
  },
  {
   "cell_type": "markdown",
   "metadata": {},
   "source": [
    "### 22.python函数式编程"
   ]
  },
  {
   "cell_type": "code",
   "execution_count": 55,
   "metadata": {},
   "outputs": [
    {
     "name": "stdout",
     "output_type": "stream",
     "text": [
      "<filter object at 0x000001E9CD902A88>\n"
     ]
    }
   ],
   "source": [
    "a = [1,2,3,4,5,6,7]\n",
    "b = filter(lambda x: x > 5, a)\n",
    "print(b)"
   ]
  },
  {
   "cell_type": "code",
   "execution_count": 59,
   "metadata": {},
   "outputs": [
    {
     "name": "stdout",
     "output_type": "stream",
     "text": [
      "<map object at 0x000001E9CD867A48>\n"
     ]
    }
   ],
   "source": [
    "a = map(lambda x:x*2,[1,2,3])\n",
    "print(a)"
   ]
  },
  {
   "cell_type": "markdown",
   "metadata": {},
   "source": [
    "### 23.python中的拷贝"
   ]
  },
  {
   "cell_type": "markdown",
   "metadata": {},
   "source": [
    "在python中，对象赋值实际上是对象的引用。当创建一个对象，然后把它赋给另一个变量的时候，python并没有拷贝这个对象，而只是拷贝了这个对象的引用。\n",
    "- 直接赋值,默认浅拷贝传递对象的引用而已,原始列表改变，被赋值的b也会做相同的改变\n",
    "- copy浅拷贝，没有拷贝子对象，所以原始数据改变，子对象会改变\n",
    "- 深拷贝，包含对象里面的自对象的拷贝，所以原始对象的改变不会造成深拷贝里任何子元素的改变"
   ]
  },
  {
   "cell_type": "code",
   "execution_count": 60,
   "metadata": {},
   "outputs": [
    {
     "name": "stdout",
     "output_type": "stream",
     "text": [
      "a =  [1, 2, 3, 4, ['a', 'b', 'c'], 5]\n",
      "b =  [1, 2, 3, 4, ['a', 'b', 'c'], 5]\n",
      "c =  [1, 2, 3, 4, ['a', 'b', 'c']]\n",
      "d =  [1, 2, 3, 4, ['a', 'b']]\n"
     ]
    }
   ],
   "source": [
    "import copy\n",
    "a = [1, 2, 3, 4, ['a', 'b']]  #原始对象\n",
    "\n",
    "b = a  #赋值，传对象的引用\n",
    "c = copy.copy(a)  #对象拷贝，浅拷贝\n",
    "d = copy.deepcopy(a)  #对象拷贝，深拷贝\n",
    "\n",
    "a.append(5)  #修改对象a\n",
    "a[4].append('c')  #修改对象a中的['a', 'b']数组对象\n",
    "\n",
    "print ('a = ', a)\n",
    "print ('b = ', b)\n",
    "print ('c = ', c)\n",
    "print ('d = ', d)\n"
   ]
  },
  {
   "cell_type": "markdown",
   "metadata": {},
   "source": [
    "### 24.python垃圾回收机制"
   ]
  },
  {
   "cell_type": "markdown",
   "metadata": {},
   "source": [
    "Python GC主要使用**引用计数**（reference counting）来跟踪和回收垃圾。在引用计数的基础上，通过“标记-清除”（mark and sweep）解决容器对象可能产生的循环引用问题，通过“分代回收”（generation collection）以空间换时间的方法提高垃圾回收效率。"
   ]
  },
  {
   "cell_type": "markdown",
   "metadata": {},
   "source": [
    "引用计数：PyObject是每个对象必有的内容，其中ob_refcnt就是做为引用计数。当一个对象有新的引用时，它的ob_refcnt就会增加，当引用它的对象被删除，它的ob_refcnt就会减少.引用计数为0时，该对象生命就结束了。"
   ]
  },
  {
   "cell_type": "markdown",
   "metadata": {},
   "source": [
    "标记清除：基本思路是先按需分配，等到没有空闲内存的时候从寄存器和程序栈上的引用出发，遍历以对象为节点、以引用为边构成的图，把所有可以访问到的对象打上标记，然后清扫一遍内存空间，把所有没标记的对象释放。"
   ]
  },
  {
   "cell_type": "markdown",
   "metadata": {},
   "source": [
    "分代回收的整体思想是：将系统中的所有内存块根据其存活时间划分为不同的集合，每个集合就成为一个“代”，垃圾收集频率随着“代”的存活时间的增大而减小，存活时间通常利用经过几次垃圾回收来度量。"
   ]
  },
  {
   "cell_type": "markdown",
   "metadata": {},
   "source": [
    "### 25.list"
   ]
  },
  {
   "cell_type": "markdown",
   "metadata": {},
   "source": [
    "http://www.jianshu.com/p/J4U6rR"
   ]
  },
  {
   "cell_type": "markdown",
   "metadata": {},
   "source": [
    "### 26.is / =="
   ]
  },
  {
   "cell_type": "markdown",
   "metadata": {},
   "source": [
    "is是对比地址,==是对比值"
   ]
  },
  {
   "cell_type": "markdown",
   "metadata": {},
   "source": [
    "### 27.read,readline和readlines"
   ]
  },
  {
   "cell_type": "markdown",
   "metadata": {},
   "source": [
    "- read 读取整个文件\n",
    "- readline 读取下一行,使用生成器(yield)方法\n",
    "- readlines 读取整个文件到一个迭代器以供我们遍历"
   ]
  },
  {
   "cell_type": "markdown",
   "metadata": {},
   "source": [
    "# 二、操作系统"
   ]
  },
  {
   "cell_type": "markdown",
   "metadata": {},
   "source": [
    "### 1.select,poll 和 epoll\n"
   ]
  },
  {
   "cell_type": "markdown",
   "metadata": {},
   "source": [
    "这个问题可能有点深入了,但相信能回答出这个问题是对I/O多路复用有很好的了解了.其中tornado使用的就是epoll的.\n",
    "\n",
    "基本上select有3个缺点:\n",
    "- 连接数受限\n",
    "- 查找配对速度慢\n",
    "- 数据由内核拷贝到用户态\n",
    "\n",
    "poll改善了第一个缺点\n",
    "\n",
    "epoll改了三个缺点."
   ]
  },
  {
   "cell_type": "markdown",
   "metadata": {},
   "source": [
    "### 2.调度算法"
   ]
  },
  {
   "cell_type": "markdown",
   "metadata": {},
   "source": [
    "#### 1. 先来先服务调度算法。\n",
    "先来先服务（FCFS）调度算法是一种最简单的调度算法，该算法既可用于作业调度， 也可用于进程调度。FCFS算法比较有利于长作业（进程），而不利于短作业（进程）。由此可知，本算法适合于CPU繁忙型作业， 而不利于I/O繁忙型的作业（进程）。\n",
    "\n",
    "\n"
   ]
  },
  {
   "cell_type": "markdown",
   "metadata": {},
   "source": [
    "#### 2. 短作业（进程）优先调度算法。\n",
    "短作业（进程）优先调度算法（SJ/PF）是指对短作业或短进程优先调度的算法，该算法既可用于作业调度， 也可用于进程调度。但其对长作业不利；不能保证紧迫性作业（进程）被及时处理；作业的长短只是被估算出来的。\n",
    "\n"
   ]
  },
  {
   "cell_type": "markdown",
   "metadata": {},
   "source": [
    "#### 3. 最高优先权优先（FPF）调度算法\n",
    "为了照顾紧迫性作业，使之进入系统后便获得优先处理，引入了最高优先权优先（FPF）调度算法。 此算法常被用在批处理系统中，作为作业调度算法，也作为多种操作系统中的进程调度，还可以用于实时系统中。当其用于作业调度， 将后备队列中若干个优先权最高的作业装入内存。当其用于进程调度时，把处理机分配给就绪队列中优先权最高的进程，此时， 又可以进一步把该算法分成以下两种：\n",
    "\n",
    "\n",
    "1)非抢占式优先权算法\n",
    "\n",
    "\n",
    "2)抢占式优先权调度算法（高性能计算机操作系统）\n",
    "\n",
    "\n",
    "动态优先权\n",
    "高响应比优先调度算法为了弥补短作业优先算法的不足，我们引入动态优先权，使作业的优先等级随着等待时间的增加而以速率a提高。 该优先权变化规律可描述为：优先权=（等待时间+要求服务时间）/要求服务时间；即 =（响应时间）/要求服务时间\n",
    "\n"
   ]
  },
  {
   "cell_type": "markdown",
   "metadata": {},
   "source": [
    "#### 4.时间片轮换法"
   ]
  },
  {
   "cell_type": "markdown",
   "metadata": {},
   "source": [
    "时间片轮转法一般用于进程调度，每次调度，把CPU分配队首进程，并令其执行一个时间片。 当执行的时间片用完时，由一个记时器发出一个时钟中断请求，该进程被停止，并被送往就绪队列末尾；依次循环。"
   ]
  },
  {
   "cell_type": "markdown",
   "metadata": {},
   "source": [
    "1) 设置多个就绪队列，并为各个队列赋予不同的优先级。在优先权越高的队列中， 为每个进程所规定的执行时间片就越小。\n",
    "\n",
    "\n",
    "2) 当一个新进程进入内存后，首先放入第一队列的末尾，按FCFS原则排队等候调度。 如果他能在一个时间片中完成，便可撤离；如果未完成，就转入第二队列的末尾，在同样等待调度…… 如此下去，当一个长作业（进程）从第一队列依次将到第n队列（最后队列）后，便按第n队列时间片轮转运行。\n",
    "\n",
    "\n",
    "3) 仅当第一队列空闲时，调度程序才调度第二队列中的进程运行；\n",
    "仅当第1到第（ i-1 ）队列空时， 才会调度第i队列中的进程运行，并执行相应的时间片轮转。\n",
    "\n",
    "\n",
    "4) 如果处理机正在处理第i队列中某进程，又有新进程进入优先权较高的队列， 则此新队列抢占正在运行的处理机，并把正在运行的进程放在第i队列的队尾。\n",
    "\n"
   ]
  },
  {
   "cell_type": "markdown",
   "metadata": {},
   "source": [
    "### 3.死锁"
   ]
  },
  {
   "cell_type": "markdown",
   "metadata": {},
   "source": [
    "- 原因\n",
    "\n",
    "1.竞争资源\n",
    "\n",
    "2.程序推进顺序不当\n",
    "\n",
    "- 必要条件\n",
    "\n",
    "1.互斥条件\n",
    "\n",
    "2.请求和保持资源\n",
    "\n",
    "3.不剥夺条件\n",
    "\n",
    "4.环路等待条件\n",
    "\n",
    "- 处理死锁的基本方法\n",
    "\n",
    "1.预防死锁\n",
    "\n",
    "2.避免死锁（银行家算法）\n",
    "\n",
    "3.检测死锁（资源分配图）\n",
    "\n",
    "4.解除死锁\n",
    "   - 剥夺资源\n",
    "   - 撤销进程"
   ]
  },
  {
   "cell_type": "markdown",
   "metadata": {},
   "source": [
    "### 4.程序编译与链接"
   ]
  },
  {
   "cell_type": "markdown",
   "metadata": {},
   "source": [
    "Bulid过程可以分解为4个步骤:预处理(Prepressing), 编译(Compilation)、汇编(Assembly)、链接(Linking)"
   ]
  },
  {
   "cell_type": "markdown",
   "metadata": {},
   "source": [
    "#### 1.预处理"
   ]
  },
  {
   "cell_type": "markdown",
   "metadata": {},
   "source": [
    "预编译过程主要处理那些源文件中的以“#”开始的预编译指令，主要处理规则有：\n",
    "\n",
    "1.将所有的“#define”删除，并展开所用的宏定义\n",
    "\n",
    "2.处理所有条件预编译指令，比如“#if”、“#ifdef”、 “#elif”、“#endif”\n",
    "\n",
    "3.处理“#include”预编译指令，将被包含的文件插入到该编译指令的位置，注：此过程是递归进行的\n",
    "\n",
    "4.删除所有注释\n",
    "\n",
    "5.添加行号和文件名标识，以便于编译时编译器产生调试用的行号信息以及用于编译时产生编译错误或警告时可显示行号\n",
    "\n",
    "6.保留所有的#pragma编译器指令。"
   ]
  },
  {
   "cell_type": "markdown",
   "metadata": {},
   "source": [
    "#### 2.编译"
   ]
  },
  {
   "cell_type": "markdown",
   "metadata": {},
   "source": [
    "编译过程就是把预处理完的文件进行一系列的词法分析、语法分析、语义分析及优化后生成相应的汇编代码文件。这个过程是整个程序构建的核心部分。"
   ]
  },
  {
   "cell_type": "markdown",
   "metadata": {},
   "source": [
    "#### 3.汇编"
   ]
  },
  {
   "cell_type": "markdown",
   "metadata": {},
   "source": [
    "汇编器是将汇编代码转化成机器可以执行的指令，每一条汇编语句几乎都是一条机器指令。经过编译、链接、汇编输出的文件成为目标文件(Object File)"
   ]
  },
  {
   "cell_type": "markdown",
   "metadata": {},
   "source": [
    "#### 4.链接"
   ]
  },
  {
   "cell_type": "markdown",
   "metadata": {},
   "source": [
    "链接的主要内容就是把各个模块之间相互引用的部分处理好，使各个模块可以正确的拼接。 链接的主要过程包块 地址和空间的分配（Address and Storage Allocation）、符号决议(Symbol Resolution)和重定位(Relocation)等步骤。"
   ]
  },
  {
   "cell_type": "markdown",
   "metadata": {},
   "source": [
    "### 5.静态链接和动态链接"
   ]
  },
  {
   "cell_type": "markdown",
   "metadata": {},
   "source": [
    "静态链接方法：静态链接的时候，载入代码就会把程序会用到的动态代码或动态代码的地址确定下来 静态库的链接可以使用静态链接，动态链接库也可以使用这种方法链接导入库\n",
    "\n",
    "\n",
    "动态链接方法：使用这种方式的程序并不在一开始就完成动态链接，而是直到真正调用动态库代码时，载入程序才计算(被调用的那部分)动态代码的逻辑地址，然后等到某个时候，程序又需要调用另外某块动态代码时，载入程序又去计算这部分代码的逻辑地址，所以，这种方式使程序初始化时间较短，但运行期间的性能比不上静态链接的程序"
   ]
  },
  {
   "cell_type": "markdown",
   "metadata": {},
   "source": [
    "### 6.虚拟内存技术"
   ]
  },
  {
   "cell_type": "markdown",
   "metadata": {},
   "source": [
    "虚拟存储器是指具有请求调入功能和置换功能,能从逻辑上对内存容量加以扩充的一种存储系统."
   ]
  },
  {
   "cell_type": "markdown",
   "metadata": {},
   "source": [
    "### 7.分页和分段"
   ]
  },
  {
   "cell_type": "markdown",
   "metadata": {},
   "source": [
    "分页: 用户程序的地址空间被划分成若干固定大小的区域，称为“页”，相应地，内存空间分成若干个物理块，页和块的大小相等。可将用户程序的任一页放在内存的任一块中，实现了离散分配。\n",
    "\n",
    "\n",
    "分段: 将用户程序地址空间分成若干个大小不等的段，每段可以定义一组相对完整的逻辑信息。存储分配时，以段为单位，段与段在内存中可以不相邻接，也实现了离散分配。"
   ]
  },
  {
   "cell_type": "markdown",
   "metadata": {},
   "source": [
    "1. 页是信息的物理单位,分页是为了实现非连续分配,以便解决内存碎片问题,或者说分页是由于系统管理的需要.段是信息的逻辑单位,它含有一组意义相对完整的信息,分段的目的是为了更好地实现共享,满足用户的需要.\n",
    "2. 页的大小固定,由系统确定,将逻辑地址划分为页号和页内地址是由机器硬件实现的.而段的长度却不固定,决定于用户所编写的程序,通常由编译程序在对源程序进行编译时根据信息的性质来划分.\n",
    "3. 分页的作业地址空间是一维的.分段的地址空间是二维的."
   ]
  },
  {
   "cell_type": "markdown",
   "metadata": {},
   "source": [
    "### 8.页面置换算法"
   ]
  },
  {
   "cell_type": "markdown",
   "metadata": {},
   "source": [
    "1. 最佳置换算法OPT:不可能实现\n",
    "2. 先进先出FIFO\n",
    "3. 最近最久未使用算法LRU:最近一段时间里最久没有使用过的页面予以置换.\n",
    "4. clock算法"
   ]
  },
  {
   "cell_type": "markdown",
   "metadata": {},
   "source": [
    "# 三、计算机网络"
   ]
  },
  {
   "cell_type": "markdown",
   "metadata": {},
   "source": [
    "## 1.基础概念"
   ]
  },
  {
   "cell_type": "markdown",
   "metadata": {},
   "source": [
    "### OSI参考模型的三个主要概念，协议，服务和接口"
   ]
  },
  {
   "cell_type": "markdown",
   "metadata": {},
   "source": [
    "计算机网络要交换数据，必须遵守一些事先约定好的原则，这些原则就是 协议。在协议控制下，使得本层可以向上层提供 服务[这里的服务指，从这一层到物理层各层服务的总和]，而提供服务，需要 接口，[上层只能调用相邻下层的服务，因为只有相邻两层才有接口，但是没关系，每一层都包含下面所有层的服务]。"
   ]
  },
  {
   "cell_type": "markdown",
   "metadata": {},
   "source": [
    "### 协议：\n",
    "是水平的，即从我电脑的传输层，到你电脑的传输层需要遵守相同的协议。 \n",
    "### 接口：\n",
    "每一层都向上层提供服务，没有接口就不能提供服务； \n",
    "### 服务：\n",
    "下层为相邻上层提供的功能调用，协议是水平的，而服务则是垂直的，下层通过接口对上层提供服务"
   ]
  },
  {
   "cell_type": "markdown",
   "metadata": {},
   "source": [
    "补充-端口号：进程通信的地址，和这里的 端口 不是一回事"
   ]
  },
  {
   "cell_type": "markdown",
   "metadata": {},
   "source": [
    "### OSI七层参考模型"
   ]
  },
  {
   "cell_type": "markdown",
   "metadata": {},
   "source": [
    "- OSI 七层参考模型：[ 快速记忆：应表会传网数物 ]"
   ]
  },
  {
   "cell_type": "markdown",
   "metadata": {},
   "source": [
    "应用层、表示层、会话层、传输层、网络层、数据链路层、物理层。"
   ]
  },
  {
   "cell_type": "markdown",
   "metadata": {},
   "source": [
    "- 表示层"
   ]
  },
  {
   "cell_type": "markdown",
   "metadata": {},
   "source": [
    "数据格式转换、数据加密解密以及数据压缩及解压等。"
   ]
  },
  {
   "cell_type": "markdown",
   "metadata": {},
   "source": [
    "- 会话层"
   ]
  },
  {
   "cell_type": "markdown",
   "metadata": {},
   "source": [
    "主要功能是在两个节点建立、维护和释放面向连接用户的连接，并对会话进行管理和控制，保证会话数据的可靠传输。传输层也是建立连接，但会话层相当于领导告诉传输层去建立连接，传输层就屁颠屁颠的跑去建立连接了。"
   ]
  },
  {
   "cell_type": "markdown",
   "metadata": {},
   "source": [
    "### TCP/IP五层模型"
   ]
  },
  {
   "cell_type": "markdown",
   "metadata": {},
   "source": [
    "TCP/IP 模型仅有四层，但是我们看作五层，即最后一层 网络接口层 拆分成两层，参照 OSI 七层参考模型对应为 数据链路层和物理层，这样可以方便记忆啊，教材也好描述 四层为：应用层、传输层、网际层、网络接口层。 此知识点需要达到，快速写出每层的任务、功能、协议。"
   ]
  },
  {
   "cell_type": "markdown",
   "metadata": {},
   "source": [
    "- 应用层：（用户对用户）\n",
    "\n",
    "传输单位：应该是 doc、pdf、txt、py、cpp、java 吧哈哈哈 \n",
    " \n",
    "任务：提供系统与用户的接口 \n",
    " \n",
    "功能：文件传输、电子邮件服务、远程登录协议 \n",
    " \n",
    "协议：FTP、SMTP、POP3、Telnet、HTTP"
   ]
  },
  {
   "cell_type": "markdown",
   "metadata": {},
   "source": [
    "- 传输层:（应用对应用，进程对进程）\n",
    "\n",
    "传输单位：报文段（TCP）或用户数据报（UDP） \n",
    "\n",
    "任务：负责主机中两个进程之间的通信 \n",
    "\n",
    "功能：为端到端链接提供可靠的传输服务；为端到端连接提供流量控制、差错控制等 \n",
    "\n",
    "协议：TCP、UDP"
   ]
  },
  {
   "cell_type": "markdown",
   "metadata": {},
   "source": [
    "- 网络层：（主机对主机）\n",
    "\n",
    "传输单位：数据报 \n",
    "\n",
    "硬件：路由器\n",
    "\n",
    "任务：将传输层传下来的报文段封装成分组、选择合适的路由，将分组传递到目的主机 \n",
    "\n",
    "功能：组包[传输分组用到]、拆包[接收分组用到]、路由选择、拥塞控制 \n",
    "\n",
    "协议：IP、CIDR、DHCP、ARP、NAT、ICMP"
   ]
  },
  {
   "cell_type": "markdown",
   "metadata": {},
   "source": [
    "- 数据链路层：\n",
    "传输单位：帧 \n",
    "\n",
    "硬件：交换机、网桥 \n",
    "\n",
    "任务：将网络层传下来的IP数据报组装成帧 \n",
    "\n",
    "功能：链路的连接建立、分离；帧定界和帧同步；差错检测 \n",
    "\n",
    "协议：PPP、HDLC、ARQ"
   ]
  },
  {
   "cell_type": "markdown",
   "metadata": {},
   "source": [
    "- 物理层\n",
    "\n",
    "传输单位：比特 \n",
    "\n",
    "硬件：集线器、中继器 \n",
    "\n",
    "任务：传输比特流 \n",
    "\n",
    "功能：为硬件设备传送数据"
   ]
  },
  {
   "cell_type": "markdown",
   "metadata": {},
   "source": [
    "### OSI七层参考模型的工作流程\n",
    "\n",
    "通过发送一封电子邮件来解释，首先在 **应用层** 编辑这封信件，然后发送给 **表示层**，表示层可以对信件进行加密，压缩，再传给 **会话层**，这时会话层会把 要开始邮件了 这个消息反馈给你，并发送消息给 **传输层**，传输层将消息分段，因为数据无法一次传输，需要分段 [所以叫做报文段嘛]，然后将分段的数据发送给 **网络层**，这时网络层会对分段进行封装并加入报头形成 数据报，还要选择一条传输路径传输这些数据，之后再将数据报传给 **数据链路层**，数据链路层加入报头和报尾封装成帧，最后再把帧发送给**物理层**形成 比特流。"
   ]
  },
  {
   "cell_type": "markdown",
   "metadata": {},
   "source": [
    "#### 问：帧、数据报、分段的数据单位大小？"
   ]
  },
  {
   "cell_type": "markdown",
   "metadata": {},
   "source": [
    "从上面的例子可看出来，帧的数据部分是数据报，数据报的数据部分是分段，因此有帧 > 数据报 > 报文段。"
   ]
  },
  {
   "cell_type": "markdown",
   "metadata": {},
   "source": [
    "#### 问：计算机网络最基本的功能是什么？"
   ]
  },
  {
   "cell_type": "markdown",
   "metadata": {},
   "source": [
    "数据通信 是计算机网络最基本的功能，包括连接控制、传输控制、差错控制、流量控制、路由控制、多路复用等子功能。"
   ]
  },
  {
   "cell_type": "markdown",
   "metadata": {},
   "source": [
    "#### 物理层、数据链路层、网络层、传输层的传输单位分别是什么？"
   ]
  },
  {
   "cell_type": "markdown",
   "metadata": {},
   "source": [
    "比特、帧、数据报（或者 IP 数据报，）、报文段（有人看过传输层叫做 UDP 数据报，但是报文段更准确）。"
   ]
  },
  {
   "cell_type": "markdown",
   "metadata": {},
   "source": [
    "## 2.物理层"
   ]
  },
  {
   "cell_type": "markdown",
   "metadata": {},
   "source": [
    "- 双绞线\n",
    "两根铜线相互缠绕，可以传输数字和模拟信号，信号保真传输距离 100 米。\n",
    "\n",
    "- 同轴电缆\n",
    "内有一根铜芯，抗干扰强，传输距离远。\n",
    "\n",
    "- 10Base5\n",
    "10Mbit/s，基带信号，每一段电缆最长为 500 米\n",
    "\n",
    "- 10Base-F/T\n",
    "F 光纤，T 双绞线。\n",
    "\n",
    "- 带宽\n",
    "分为**模拟信号的带宽**和**数字信号的带宽**，因为以前都是模拟信号，所以以前的带宽定义是：通信线路允许通过的最高频率 - 允许通过的最低频率。比如最高 3400 Hz，最低 300 Hz，那么带宽就是 3100 Hz。现在很多都用上了数字信号，因此现在带宽表示：网络通信线路传送数据的能力，就是我们常常问的网速：x bit/s。\n",
    "\n",
    "- 中继器和放大器\n",
    "一般传输数据用双绞线，传输距离过长信号会衰弱，需要中继器放大数字信号，放大器放大模拟信号。\n",
    "\n",
    "- 集线器\n",
    "\n",
    "- 碰撞域/冲突域\n",
    "如果一个网络上 两台计算机在同时通信时会发生冲突，那么这个网络就属于一个冲突域。\n",
    "\n",
    "- 广播域\n",
    "一块网卡发出一个广播，只要能收到这个广播的网卡就是一个广播域。\n",
    "\n",
    "- 物理层的设备（集线器（Hub），中继器，放大器）\n",
    "\n",
    " 不能隔离冲突域，也不能隔离广播域。\n",
    "\n",
    "- 数据链路层的设备（交换机，网桥）\n",
    "\n",
    " 能隔离冲突域，也不能隔离广播域。\n",
    "\n",
    "- 网络层的设备（路由器）\n",
    " 能隔离冲突域，也能隔离广播域。"
   ]
  },
  {
   "cell_type": "markdown",
   "metadata": {},
   "source": [
    "问：ADSL技术主要解决的问题是？\n",
    "\n",
    "\n",
    "答：ADSL 技术是一种非对称数字用户实现 宽带接入 互连网的技术，在一对双绞线上提供上行和下行速率不同的带宽，它允许高达 8 Mbps 的下行速度和 1 Mbps 的上行速度。"
   ]
  },
  {
   "cell_type": "markdown",
   "metadata": {},
   "source": [
    "问：承载信息量的基本信号单位是？\n",
    "\n",
    "\n",
    "答：码元，不是比特哦。一般网络速率有两种描述形式，一种 **比特率**，这个应该都知道 10Mbit/s 嘛，其实它传输的是二进制 码元，码元的传输速率又叫 **波特率**，二进制的码元只能携带 1 bit 信息，所以正常的码元会携带更多的信息，一般为 16 进制。"
   ]
  },
  {
   "cell_type": "markdown",
   "metadata": {},
   "source": [
    "## 3.数据链路层"
   ]
  },
  {
   "cell_type": "markdown",
   "metadata": {},
   "source": [
    "- 传输单位：帧\n",
    "- 工作设备：网桥，交换机（按照MAC地址寻址）\n",
    "- 功能：链路的连接建立、分离；帧定界和帧同步；差错检测；\n",
    "- 协议：CSMA/CD（载波帧听多路访问/冲突检测）协议；PPP；HDLC"
   ]
  },
  {
   "cell_type": "markdown",
   "metadata": {},
   "source": [
    "问：差错检测？\n",
    "\n",
    "\n",
    "答：使用**循环冗余码检验差错检测技术**，只能做到对帧的无差错接受，即我同意收入怀中的肯定是好货，那些坏的我都丢了，你自己看着办吧，所以要依靠传输层的 **TCP可靠传输**来检验了。有人问为啥不在这一层就做了呢，其实吧现在电缆质量高，基本传输都能到，如果增加了完整性验证，那么肯定会拖慢速度，得不偿失，99% 到就可以了，你不知道追求剩下的1%可能要花上好几倍的代价么。"
   ]
  },
  {
   "cell_type": "markdown",
   "metadata": {},
   "source": [
    "问：X.25 的功能？\n",
    "\n",
    "\n",
    "答：虚电路服务、多路复用、流量和差错控制 X.25：目前使用最广泛的分组交换协议， X.25的优点是经济实惠安装容易、传输可靠性高、适用于 误码率 较高的通路。 X.25的缺点是反复的错误检查过程颇为费时并加长传输时间，协议复杂、时延大，分组长度可变，存储管理复杂。 X.25的速率可高达64K bps(或64kbit/s)。"
   ]
  },
  {
   "cell_type": "markdown",
   "metadata": {},
   "source": [
    "问：帧中继 FR？\n",
    "\n",
    "\n",
    "\n",
    "答：帧中继精简了 X.25 协议，取消第二层的流量控制和差错控制，仅由端到端的高层协议实现。"
   ]
  },
  {
   "cell_type": "markdown",
   "metadata": {},
   "source": [
    "问：ATM？\n",
    "\n",
    "\n",
    "答：异步转移模式（ATM）是一种以固定长度的分组方式，并以异步时分复用方式，传送任意速率的宽带信号和数字等级系列信息的交换设备。它具有高速数据传输率和支持许多种类型如声音、数据、传真、实时视频、CD 质量音频和图像的通信。是未来 21 世纪的主要交换设备。ATM 是一种为了多种业务设计的通用的面向连接的传输模式。它适用于局域网和广域网。"
   ]
  },
  {
   "cell_type": "markdown",
   "metadata": {},
   "source": [
    "问：有人说数据链路层不提供重传机制，为什么以太网会有重传机制？\n",
    "\n",
    "\n",
    "答：以太网是不可靠的，根据上面的介绍，它不知道对方有没有收到，但是如果知道自己发错了（CSMA/CD协议，有冲突时要停止发送，发了一半，下次你不给别人重发？）以太网重传是 微秒级 的，传输层是 毫秒级 的，应用层是 秒级 的，所以越底层的重传速度越快，所以可以的话，以太网也要具有重传机制。否则将花费更多代价。"
   ]
  },
  {
   "cell_type": "markdown",
   "metadata": {},
   "source": [
    "问：计算机内的传输是（）传输，通信线路上的传输是（）传输？\n",
    "\n",
    "\n",
    "答：并行，串行。\n",
    "\n",
    "并行是指“并排行走”或“同时实行或实施”。在操作系统中是指，一组程序按独立异步的速度执行，无论从微观还是宏观，程序都是一起执行的。对比地，并发是指:在同一个时间段内，两个或多个程序执行，有时间上的重叠(宏观上是同时,微观上仍是顺序执行)。\n",
    "\n",
    "串行通信是指 使用一条数据线，将数据一位一位地依次传输，每一位数据占据一个固定的时间长度。"
   ]
  },
  {
   "cell_type": "markdown",
   "metadata": {},
   "source": [
    "问：局域网？\n",
    "\n",
    "\n",
    "答：是指一个较小范围内的多台计算机互连，以达到资源和信息共享，优点：具有广播功能。"
   ]
  },
  {
   "cell_type": "markdown",
   "metadata": {},
   "source": [
    "## 4.网络层"
   ]
  },
  {
   "cell_type": "markdown",
   "metadata": {},
   "source": [
    "传输单位：分组，（数据报）见下面详解\n",
    "\n",
    "\n",
    "功能：组包[传输分组用]、拆包[接收分组用]、路由选择、分组转发\n",
    "\n",
    "\n",
    "协议：IP、CIDR、NAT；IP相关的三个协议：ARP、DHCP、ICMP；三种常用路由选择协议：RIP、OSPF、BGP"
   ]
  },
  {
   "cell_type": "markdown",
   "metadata": {},
   "source": [
    "问：路由器（Router）的功能？\n",
    "\n",
    "\n",
    "答：功能包括：路由选择，分组转发。当中继系统是集线器或交换机时，一般不称为网络互连，这仅仅是把网络扩大了，扔然是一个网络，互联网都是指路由器进行互连的网络，路由器总是具有两个或两个以上的 IP 地址。"
   ]
  },
  {
   "cell_type": "markdown",
   "metadata": {},
   "source": [
    "问：转发 和 路由选择 是同一概念，都是指当交换结点收到分组后，根据其目的地址查找转发表，将该分组发送出去？\n",
    "\n",
    "\n",
    "答：错误。转发 发生在 路由器 上，分组到达 路由器 后，由 路由器 检查分组地址并将它转发到一个邻接的局域网( LAN )上。路由选择 是指 通过互连网络从 源节点 到 目的节点 传输信息的路线，包括多个路由器的选择，在确定最佳路径的过程中，路由选择算法需要初始化和维护路由选择表（routingtable）。路由选择表中包含的路由选择信息根据路由选择算法的不同而不同。"
   ]
  },
  {
   "cell_type": "markdown",
   "metadata": {},
   "source": [
    "问：IP 地址的分类？\n",
    "\n",
    "\n",
    "答：五类，ABC 基本类 DE 保留。\n",
    "\n",
    "\n",
    "A 类：网络地址8位，0开头；地址(0.0.0.0 - 127.255.255.255) \n",
    "\n",
    "B 类：网络地址16位，10开头；地址(128.0.0.0 - 191.255.255.255) \n",
    "\n",
    "C 类：网络地址24位，110开头；地址(192.0.0.0 - 223.255.255.255) \n",
    "\n",
    "D 类：不分网络地址和主机地址，是一个保留地址，1110开头；地址(224.0.0.0 - 239.255.255.255)\n",
    "\n",
    "E 类：不分网络地址和主机地址，1111开头；地址(240.0.0.0 - 255.255.255.255)，为将来使用，看来是没机会了，因为 128 的 ip 地址已经出来了。 注意：除网络地址位数后，其余全 0 的是网络号，全 1 的是广播地址，其余才可以当做主机地址分配。 0.0.0.0：保留地址，意思是本网络，A 类网络地址少一个。 127.x.x.x：127 开头的 IP 地址作为环回地址，用来测试软件。使用这个地址时，分组永远不会离开这个机器，A 类网络少一个。\n",
    "\n",
    "\n",
    "D 类：组播地址，D 类地址不能出现在 IP 报文的源 IP 地址字段。组播换中，数据包的目的地址不止一个，而是一组，一旦有信息流向组地址，数据就开始向接受者传输，组中成员都能接受到数据包，组播中的成员是动态的。\n",
    "区分网络号、主机号和子网号，子网是从主机号中分出来的地址。"
   ]
  },
  {
   "cell_type": "markdown",
   "metadata": {},
   "source": [
    "IP 相关的三个协议：ARP、RARP、DHCP、ICMP\n",
    "\n",
    "问：ARP（IP 地址 -> MAC 地址映射表）RARP（MAC 地址 -> IP 地址 映射表）后者就不介绍了？\n",
    "\n",
    "答：里面存放的是所有局域网上的各主机和路由器的 IP 地址到硬件地址的映射表，ARP 的职责就是动态的维护该表。**工作方式：**当源主机向本局域网上的某个主机发送 IP 分组时，应先在 ARP 缓存中查找 IP 地址对应的 MAC 地址，如果没有，广播 ARP 请求分组，获得响应后写入 ARP 缓存"
   ]
  },
  {
   "cell_type": "markdown",
   "metadata": {},
   "source": [
    "## 5.传输层"
   ]
  },
  {
   "cell_type": "markdown",
   "metadata": {},
   "source": [
    "- 传输单位：报文段或分组\n",
    "\n",
    "\n",
    "- 功能：提供应用进程间的逻辑通信；差错检测；提供有连接和无连接的服务；复用和分用；流量控制（GBN，SR）；可靠传输；\n",
    "\n",
    "\n",
    "- 协议：TCP、UDP"
   ]
  },
  {
   "cell_type": "markdown",
   "metadata": {},
   "source": [
    "问：套接字？\n",
    "\n",
    "答：数据链路层按 MAC 地址寻址，网络层按 IP 寻址，而传输层按端口号寻址。套接字是 （IP + 端口），TCP连接的端口，不是IP，不是主机，是套接字。"
   ]
  },
  {
   "cell_type": "markdown",
   "metadata": {},
   "source": [
    "问：传输层提供应用进程间的逻辑通信？\n",
    "\n",
    "\n",
    "答：是的，传输层以**端口寻址**，应用进程与外界通信也是通过端口号。"
   ]
  },
  {
   "cell_type": "markdown",
   "metadata": {},
   "source": [
    "问：差错检测？\n",
    "\n",
    "\n",
    "答：TCP 是面向字节的，TCP 将所要传送的报文看成是字节组成的数据流，并使每一个字节对应于一个序号。对收到的报文进行首部和数据进行差错检测，网络层不检查数据部分。"
   ]
  },
  {
   "cell_type": "markdown",
   "metadata": {},
   "source": [
    "问：复用和分用？\n",
    "\n",
    "\n",
    "答：这里的概念是不同的应用进程可以使用一个传输层协议，分用就是逆过程，将不同的数据取出后分给目标应用。其实看的更多的是数据链路层的复用，为了提高电缆的传输效率，可以同时将多个不同频率信号通过一条电缆传输，有时分-频分-码分-波分多路复用。时分多路复用：现在有一个玩具，十个小孩想玩，那么只能将能玩的时间分成十份，然后轮流玩。如果中间轮到有的孩子他睡着了怎么办，跳过它，到下一个，这就是 异步时分多路复用（ATM），如果要干等着，那就是同步了。"
   ]
  },
  {
   "cell_type": "markdown",
   "metadata": {},
   "source": [
    "问：在传输层应根据什么原则来确定使用面向连接服务还是无连接服务？\n",
    "\n",
    "\n",
    "答：当然是根据上层老板的要求了，一个提供服务的有啥话语权，叫你用啥就用啥。比如要使用 **FTP 文件**传送协议时，赶紧准备好 TCP，当应用程序要视频点播，**实时传送时**，用 UDP 伺候着。"
   ]
  },
  {
   "cell_type": "markdown",
   "metadata": {},
   "source": [
    "### TCP(面向连接服务）"
   ]
  },
  {
   "cell_type": "markdown",
   "metadata": {},
   "source": [
    "特点：是面向字节流的传输协议，传送数据前需要建立连接，可靠交付，但是时延长，要求实时性肯定不行了，但是要求**可靠**，那杠杠的。如文件传输协议 FTP，需要使用 TCP连接。\n",
    "\n",
    "\n",
    "要点：可靠传输、流量控制、拥塞控制、三次握手，四次挥手。"
   ]
  },
  {
   "cell_type": "markdown",
   "metadata": {},
   "source": [
    "问：传输层如何实现可靠传输？\n",
    "\n",
    "\n",
    "答：传输层的可靠性是由 TCP 实现的，所以我们可以叫 TCP 可靠传输。TCP 的可靠性表现在：它向应用层提供的数据是 无差错的、有序的、无丢失的，简单的说就是：TCP最终递交给应用层的数据和发送者发送的数据是**一模一样**的。 采用的技术就是我们经常听说的**流量控制、拥塞控制、连续 ARQ**等技术来保证它的可靠性。"
   ]
  },
  {
   "cell_type": "markdown",
   "metadata": {},
   "source": [
    "问：TCP 流量控制（GBN，SR）？\n",
    "\n",
    "\n",
    "\n",
    "答：一般来说，我们总希望数据传输越快越好嘛，但是如果发送的过快，对方接受不过来，也很麻烦。所以这里的**流量控制（Flow Control）就是让发送方的发送速率不要太快了**，考虑对方的感受嘛。一般措施采用 **滑动窗口流量控制 和 停止-等待流量控制**，后者效率低，发一帧等回复，再发一帧再等回复。因此就有了滑动窗口，可以连续发好多帧，但是不能超过窗口，窗口不停的向前移动。其中发送方的窗口和接受方的窗口没有关系，可以任意，留给对方足够的空间才能长久相处。简单来看，滑动窗口有三种机制，当接受窗口 = 1 时，肯定按序到达。 停止-等待（ARQ）：发送窗口大小 = 1，接受窗口大小 = 1； 后退 N 帧（GBN）：发送窗口大小 > 1，接受窗口大小 = 1； 选择重传（SR）：发送窗口大小 > 1，接受窗口大小 > 1；"
   ]
  },
  {
   "cell_type": "markdown",
   "metadata": {},
   "source": [
    "问：TCP 拥塞控制？\n",
    "\n",
    "\n",
    "答：其实需要从全局来看，若网络产生拥塞，网络的性能就要明显变坏，整个网络的吞吐量将随输入负荷的增大而下降。具体看下面的比较。"
   ]
  },
  {
   "cell_type": "markdown",
   "metadata": {},
   "source": [
    "拥塞控制只有一个目的，使整个网络能够承受现有的网络负荷。是一个全局性的过程，涉及所有主机，所有路由器和降低网络传输性能的有关因素。而流量控制是在指定的发送端和接受端之间点对点通信量的控制，更具体，也很容易实现。\n",
    "\n",
    "而拥塞控制更关注全局，很难设计和实现。所以为了防止发生拥塞，TCP 要求发送端维护以下两个窗口一个和流量控制差不多，接收端窗口：根据接收端反馈的信息，来调整发送端当前能够发送的数据量，另一个是拥塞窗口：根据自己估计的网络拥塞程度，设置的窗口值，所以你能发送的数据肯定是二者中的最小值。以下是最常见的四种算法：**慢开始算法，拥塞避免算法，快重传算法，快恢复算法**，有兴趣可以自己翻书哦。"
   ]
  },
  {
   "cell_type": "markdown",
   "metadata": {},
   "source": [
    "问：TCP 三次握手建立连接？\n",
    "\n",
    "\n",
    "答： 我觉得图标的效果也没想象中好嘛，也不那么容易记忆。我们来讨论一下，为啥三次？如果只要一次就建立连接，假设客户端发送的请求丢失 [ SYN = 1表示我想建立连接, seq = x表示这是数据]，那么客户端是不是死等也不会有人理他，所以不行的。那么两次呢，服务器端收到请求后，发送 [ACK=1接受你的请求，ack=x+1请再来点吧，SYN=1也请你和我连接吧，seq=y这是数据]，如果这个请求丢失，两边是不是还是死等，而且傻乎乎也不知道对面情况怎么样了。所以最少要三次，最后客户端发送 [ACK=1我代表月亮接受你的请求，ack=y+1请再来点吧，seq=x+1这是你要的东西]。"
   ]
  },
  {
   "cell_type": "markdown",
   "metadata": {},
   "source": [
    "问：建立连接会经过什么状态变化？\n",
    "\n",
    "\n",
    "答：首先由客户端发起连接，客户端：CLOSED->SYN_SENT->ESTABLISHED， 服务端：LISTEN->SYN_RECV->ESTABLISHED"
   ]
  },
  {
   "cell_type": "markdown",
   "metadata": {},
   "source": [
    "问：关闭连接会经过什么状态变化？\n",
    "\n",
    "\n",
    "答：客户端：ESTABLISHED->FIN-WAIT1->FIN-WAIT2->TIME_WAIT->CLOSED 服务端：ESTABLISHED->CLOSED-WAIT->LAST-ACK->CLOSED"
   ]
  },
  {
   "cell_type": "markdown",
   "metadata": {},
   "source": [
    "问：只有执行主动关闭端才会出现TIME_WAIT？\n",
    "\n",
    "\n",
    "答：是的。最后都会执行CLOSED。"
   ]
  },
  {
   "cell_type": "markdown",
   "metadata": {},
   "source": [
    "问：TCP 四次挥手释放连接？\n",
    "\n",
    "\n",
    "答：其实如果理解了上面的三次握手，那么你可以把四次挥手理解为，建立连接时三次握手是一起建立的，你连接我，同时我也连接你了。但是断开不同了，因为可以不同时间，即如果我把数据先发完了，那么我就先断开了，我不能发，但是我能接受哇，你可以继续发，当你发完再结束。因此大致过程是：客户端[FIN=1客户端没数据了,我不发了,seq=x最后的数据]，服务器端[ACK=1好的,ack=x+1真的木有数据了么,再来点呗,seq=y这是我的数据] 当服务器结束时：服务器[FIN=1好的吧,我也结束了,seq=w最后的数据,ACK=1知道你不发了,回我一下呗,ack=x+1给我发这个] 客户端[ACK=1好的,ack=w+1真没数据了？,seq=x+1给你] TCP连接必须经过2MSL后才真正释放。"
   ]
  },
  {
   "cell_type": "markdown",
   "metadata": {},
   "source": [
    "问：【报文分组交换】方式是把长的报文分成若干个较短的报文组，【报文分组】是交换单位，它与【报文交换】方式不同的是， 【报文分组交换】有什么？\n",
    "\n",
    "\n",
    "答：报文交换：整个报文先传送到相邻结点，全部存储下来然后查找转发表，转发到下一个结点。 分组交换：单个分组（这只是整个报文的一部分）传送到相邻结点，存储下来后查找转发表，转发到下一个结点。 显然报文交换在存储过程中报文并没有被分割成多个分组，自然没有所谓的序号。"
   ]
  },
  {
   "cell_type": "markdown",
   "metadata": {},
   "source": [
    "问：当应用程序使用面向连接的 TCP 和无连接的 IP 时，这种传输时面向连接的还是无连接的？\n",
    "\n",
    "\n",
    "答：答案应该都是，因为这个问题就有问题，答案要从不同的层次来看，**传输层是面向连接的，网络层是无连接的**。"
   ]
  },
  {
   "cell_type": "markdown",
   "metadata": {},
   "source": [
    "问：TCP 连接和网络的虚电路的区别？\n",
    "\n",
    "\n",
    "答：TCP 是在传输层抽象的**端到端**的逻辑通信，记录连接状态，通过重发保证可靠传输，没有指定哪条线路，所以 TCP 连接是抽象的概念，就像咱俩是一根绳上的蚂蚱。虚电路是建立了一条线路，记录转发的路由器编号，下次依然是这些路由器转发，这个和真正意义上的连接更近一点。"
   ]
  },
  {
   "cell_type": "markdown",
   "metadata": {},
   "source": [
    "### UDP(面向无连接服务）"
   ]
  },
  {
   "cell_type": "markdown",
   "metadata": {},
   "source": [
    "特点：传送数据前无需建立连接，数据达到后也无需确认，不可靠，但是时延短。需要保证实时性的视频等，要用UDP连接。"
   ]
  },
  {
   "cell_type": "markdown",
   "metadata": {},
   "source": [
    "问：既然传输层的 UDP 是不可靠的，为什么又说传输层提供可靠的服务？\n",
    "\n",
    "\n",
    "答：某一层是否可靠，确实取决于这一层使用了什么协议。\n",
    "\n",
    "以前说数据链路层是可靠的，是因为它使用了 HDLC 协议，但由于一般链路上不会出现什么传输错误，就换成了无连接的 PPP ，所以现在数据链路层又是不可靠的，网络层也不可靠，因为使用了无连接的 IP 。那么现在这个重担就交给我们传输层了， UDP 不能保证数据报都能正确到达目的地， 发现错误之后选择丢弃或者反馈一个错误信息，但我们还有 TCP 啊，如果用户选择 TCP 就是可靠传输，我们默认传输层是可靠的。"
   ]
  },
  {
   "cell_type": "markdown",
   "metadata": {},
   "source": [
    "问：TCP/IP 为了高效率传输，传输层采用了 UDP 协议，其传输的可靠性由谁提供？\n",
    "\n",
    "\n",
    "答：应用进程。我还以为问传输层的可靠性由谁提供，直接就写了 TCP。底层没做的，肯定交给上层 BOSS 啊。"
   ]
  },
  {
   "cell_type": "markdown",
   "metadata": {},
   "source": [
    "问：下列关于UDP协议的叙述中，正确的是？ Ⅰ 提供无连接服务 Ⅱ 提供复用/分用服务 Ⅲ 通过差错校验，保障可靠数据传输\n",
    "\n",
    "\n",
    "答：I，II 正确 II 见 TCP 部分，III UDP提供检查和校验。其原因是链路层以下的协议在源端和终端之间的某些通道可能不提供错误检测。虽然UDP提供有错误检测，但检测到错误时，UDP不做错误校正，只是简单地把损坏的消息段扔掉，或者给应用程序提供警告信息。UDP的差错校验只是保证接收方接受的UDP数据包是正确的。而可靠传输的含义是：发送方发送的报文都能够正确无误的按序到达接收方。TCP 拥有可靠传输。"
   ]
  },
  {
   "cell_type": "markdown",
   "metadata": {},
   "source": [
    "问：若因特网上所有链路传输都是可靠的，那么使用 UDP 协议能实现可靠传输？\n",
    "\n",
    "\n",
    "答：错误。就 拥塞控制 来说，即使所有链路是可靠的，但如果注入网络的数据太多，网络处理不了，也要丢弃部分数据，因而不能实现可靠传输。"
   ]
  },
  {
   "cell_type": "markdown",
   "metadata": {},
   "source": [
    "问：TCP 和 UDP 的端口是相互独立的？\n",
    "\n",
    "\n",
    "答：封装时包头信息不一样，任意帧在网络上可以区分出是 UDP 包还是 TCP 包，所以即使IP 地址和端口相同，也不会导致冲突。"
   ]
  },
  {
   "cell_type": "markdown",
   "metadata": {},
   "source": [
    "问：可以用哪个命令来查看 TCP 和 UDP 连接状态？？\n",
    "\n",
    "\n",
    "答： netstat： 命令的功能是显示网络连接、路由表和网络接口信息，可以让用户得知有哪些网络连接正在运作。 使用时如果不带参数，netstat 显示活动的 TCP 连接。 ping： 命令可以检查网络是否连通，可以很好地帮助我们分析和判定网络故障 ipconfig： 当使用 ipconfig 时不带任何参数选项，那么它显示每个已经配置了的接口 IP 地址、子网掩码和缺省网关值。  nslookup： 命令用于查询 DNS 的记录，查看域名解析是否正常，在网络故障的时候用来诊断网络问题。"
   ]
  },
  {
   "cell_type": "markdown",
   "metadata": {},
   "source": [
    "## 6.应用层"
   ]
  },
  {
   "cell_type": "markdown",
   "metadata": {},
   "source": [
    "功能：文件传输、电子邮件服务\n",
    "\n",
    "\n",
    "协议（都是基于 TCP 的）：FTP、TELNET、DNS、HTTP、HTTPS、电子邮件传输协议：SMTP、POP3、Outlook 基于 UDP 的有： TFTP、SNMP 与 DNS 其中 DNS 既可以基于 TCP，也可以基于 UDP"
   ]
  },
  {
   "cell_type": "markdown",
   "metadata": {},
   "source": [
    "问：DNS（Domain Name System 域名解析系统）？\n",
    "\n",
    "\n",
    "答：如果不允许你用 www.baiwu.com 来访问百度的首页，你要咋办。当然可以直接用 IP 地址访问，在网上搜了一下，本地可以 ping www.baidu.com 发现有好几个 IP 地址，这也好理解，大公司为了分担服务器压力，可以给一个域名分配好几个 IP 地址，然后使用循环分配使用或者其他方式，降低服务器压力，这样才不会让你感觉卡卡的嘛。题外话，DNS 就是可以根据你给的英文网址，查找对应的 IP 地址，你的浏览器再根据 IP 地址查找目的服务器，如果直接用 IP 地址是不是更快，是的。"
   ]
  },
  {
   "cell_type": "markdown",
   "metadata": {},
   "source": [
    "问：FTP（File Transfer Protocol 文件传输协议）和 TFTP（Trivial File Transfer Protocol 普通文件传输协议）？\n",
    "\n",
    "\n",
    "答：FTP 文件传输协议，是因特网上使用最广泛的传送协议。使用 TCP 连接，端口号 21，20。在传输文件时需建立 2 个 TCP 连接，21 号端口 控制连接 用于进行命令控制， 20 号端口 数据连接 进行真正的数据传送。先建立 控制连接，当需要传送数据时建立 数据连接，数据传输完成 关闭数据连接，控制连接只有等到关闭命令时才会关闭，不是一起关闭的，也不是一起建立的。 \n",
    "\n",
    "TFTP：使用的是 UDP 协议，对于每一个数据报在获得确认后才发送另一个数据报，灵活，使用资源少，流量控制较简单，是一种平等的传输协议。\n",
    "\n",
    "区别：使用协议不同，端口号不同，FTP 在速度方面没有 TFTP 快但是 FTP 安全性好。"
   ]
  },
  {
   "cell_type": "markdown",
   "metadata": {},
   "source": [
    "问：介绍 HTTP （Hyper Text Transport Protocol 超文本传输协议）协议的传输过程？\n",
    "\n",
    "\n",
    "答： 服务流程：从协议执行过程来说，当浏览器要访问 www 服务器时，首先要对服务器进行域名解析（DNS 协议）。一旦获得 IP 地址【网络层的路由选择与转发,找到目的 IP 地址】，浏览器要通过 TCP 三次握手和服务器建立连接。每个服务器都有一个服务进程，它不断监听 TCP 端口号 80，当监听到浏览器请求后便和浏览器建立连接。TCP 连接建立后，浏览器就向服务器发送某个 HTTP 请求。如 localhost/test/index.jsp 。服务器收到请求后，将构建的服务页面返回给浏览器，浏览器对信息进行解释后，显示给客户。"
   ]
  },
  {
   "cell_type": "markdown",
   "metadata": {},
   "source": [
    "问：介绍 HTTPS （超文本传输安全协议）？\n",
    "\n",
    "\n",
    "答： 简单讲是 HTTP 的安全版。即 HTTP 下加入 SSL 层。也就是说它的主要作用可以分为两种：一种是建立一个信息安全通道，来保证数据传输的安全；另一种就是确认网站的真实性，凡是使用了 HTTPS 的网站，都可以通过点击浏览器地址栏的锁头标志来查看网站认证之后的真实信息，也可以通过 CA 机构颁发的安全签章来查询 。"
   ]
  },
  {
   "cell_type": "markdown",
   "metadata": {},
   "source": [
    "问：HTTPS 和 HTTP 的区别主要？\n",
    "\n",
    "\n",
    "答：1、HTTP 是超文本传输协议，信息是明文传输，HTTPS 则是具有安全性的 SSL 加密传输协议。2、HTTP 和 HTTPS 端口不同，前者是 80，后者是 443。 HTTPS 会明显比 HTTP 协议慢很多：HTTPS 比 HTTP 更慢，因为多了协商密钥、验证证书的环节，而且之后传输的所有数据都需要加密解密。同样的服务器，能承受的 HTTPS 并发数要比 HTTP小很多。HTTP 使用 TCP 三次握手建立连接，客户端和服务器需要交换 3 个包，HTTPS 除了 TCP 的三个包，还要加上 SSL 握手需要的 9 个包，所以一共是 12 个包。 HTTPS 已被广泛地用于 Web 浏览器与服务器之间的身份认证和加密数据传输，HTTPS 协议需要到 CA 申请证书，一般免费证书较少，因而需要一定费用。"
   ]
  },
  {
   "cell_type": "markdown",
   "metadata": {},
   "source": [
    "问：GET 和 POST的区别？\n",
    "\n",
    "\n",
    "答：1、GET 请求只能进行 URL 编码，而 POST 支持多种编码方式。 2、GET 请求参数会被完整保留在浏览器历史记录里，而 POST 中的参数不会被保留。 3、GET 参数通过 URL 传递，POST 放在 Request body 中，因此 GET 比 POST 更不安全，因为参数直接暴露在 URL 上，所以不能用来传递敏感信息。\n",
    "\n",
    "参考：GET 和 POST 是什么？HTTP 协议中的两种发送请求的方法。HTTP 是什么？HTTP 是基于 TCP/IP 的关于数据如何在万维网中如何通信的协议。HTTP 的底层是 TCP/IP。所以 GET 和 POST 的底层也是 TCP/IP，也就是说，GET/POST 都是 TCP 链接。GET 和 POST 能做的事情是一样一样的。你要给 GET 加上 Request body，给 POST 带上 URL 参数，技术上是完全行的通的"
   ]
  },
  {
   "cell_type": "markdown",
   "metadata": {},
   "source": [
    "问：POST 方法比 GET 方法安全？\n",
    "\n",
    "\n",
    "答：有人说POST 比 GET 安全，因为数据在地址栏上不可见。然而，从传输的角度来说，他们都是不安全的，因为 HTTP 在网络上是明文传输的，只要在网络节点上捉包，就能完整地获取数据报文。要想安全传输，就只有加密，也就是 HTTPS。"
   ]
  },
  {
   "cell_type": "markdown",
   "metadata": {},
   "source": [
    "问：简述cookie和session的区别？\n",
    "\n",
    "\n",
    "答：1，session 在服务器端，cookie 在客户端（浏览器） 2、session 的运行依赖 session id，而 session id 是存在 cookie 中的，也就是说，如果浏览器禁用了 cookie ，同时 session 也会失效，存储Session时，键与Cookie中的sessionid相同，值是开发人员设置的键值对信息，进行了base64编码，过期时间由开发人员设置 3、cookie安全性比session差"
   ]
  }
 ],
 "metadata": {
  "kernelspec": {
   "display_name": "Python 3",
   "language": "python",
   "name": "python3"
  },
  "language_info": {
   "codemirror_mode": {
    "name": "ipython",
    "version": 3
   },
   "file_extension": ".py",
   "mimetype": "text/x-python",
   "name": "python",
   "nbconvert_exporter": "python",
   "pygments_lexer": "ipython3",
   "version": "3.7.7"
  }
 },
 "nbformat": 4,
 "nbformat_minor": 4
}
