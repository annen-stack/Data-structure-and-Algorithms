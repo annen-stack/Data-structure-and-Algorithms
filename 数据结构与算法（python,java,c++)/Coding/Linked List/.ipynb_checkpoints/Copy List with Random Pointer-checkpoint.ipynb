{
 "cells": [
  {
   "cell_type": "markdown",
   "metadata": {},
   "source": [
    "A linked list is given such that each node contains an additional random pointer\n",
    "which could point to any node in the list or null.\n",
    "\n",
    "Return a deep copy of the list."
   ]
  },
  {
   "cell_type": "code",
   "execution_count": null,
   "metadata": {},
   "outputs": [],
   "source": [
    "class Solution:\n",
    "    # @param head: A RandomListNode\n",
    "    # @return: A RandomListNode\n",
    "    def copyRandomList(self, head):\n",
    "        dummy = RandomListNode(0)\n",
    "        curNode = dummy\n",
    "        randomMap = {}\n",
    "\n",
    "        while head is not None:\n",
    "            # link newNode to new List\n",
    "            newNode = RandomListNode(head.label)\n",
    "            curNode.next = newNode\n",
    "            # map old node head to newNode\n",
    "            randomMap[head] = newNode\n",
    "            # copy old node random pointer\n",
    "            newNode.random = head.random\n",
    "            #\n",
    "            head = head.next\n",
    "            curNode = curNode.next\n",
    "\n",
    "        # re-mapping old random node to new node\n",
    "        curNode = dummy.next\n",
    "        while curNode is not None:\n",
    "            if curNode.random is not None:\n",
    "                curNode.random = randomMap[curNode.random]\n",
    "            curNode = curNode.next\n",
    "\n",
    "        return dummy.next"
   ]
  }
 ],
 "metadata": {
  "kernelspec": {
   "display_name": "Python 3",
   "language": "python",
   "name": "python3"
  },
  "language_info": {
   "codemirror_mode": {
    "name": "ipython",
    "version": 3
   },
   "file_extension": ".py",
   "mimetype": "text/x-python",
   "name": "python",
   "nbconvert_exporter": "python",
   "pygments_lexer": "ipython3",
   "version": "3.7.7"
  }
 },
 "nbformat": 4,
 "nbformat_minor": 4
}
