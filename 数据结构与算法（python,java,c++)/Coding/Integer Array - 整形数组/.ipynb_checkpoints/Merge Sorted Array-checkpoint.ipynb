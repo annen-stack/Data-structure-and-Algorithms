{
 "cells": [
  {
   "cell_type": "markdown",
   "metadata": {},
   "source": [
    "Given two sorted integer arrays A and B, merge B into A as one sorted array.\n",
    "\n",
    "Example\n",
    "A = [1, 2, 3, empty, empty], B = [4, 5]\n",
    "\n",
    "After merge, A will be filled as [1, 2, 3, 4, 5]\n",
    "\n",
    "Note\n",
    "You may assume that A has enough space (size that is greater or equal to m + n)\n",
    "to hold additional elements from B.\n",
    "The number of elements initialized in A and B are m and n respectively.\n",
    "\n",
    "因为本题有 in-place 的限制，故必须从数组末尾的两个元素开始比较；否则就会产生挪动，一旦挪动就会是 \n",
    "O(n2) 的。 自尾部向首部逐个比较两个数组内的元素，取较大的置于数组 A 中。由于 A 的容量较 B 大，故最后 m == 0 或者 n == 0 时仅需处理 B 中的元素，因为 A 中的元素已经在 A 中，无需处理。"
   ]
  },
  {
   "cell_type": "code",
   "execution_count": 2,
   "metadata": {},
   "outputs": [],
   "source": [
    "class Solution:\n",
    "    \"\"\"\n",
    "    @param A: sorted integer array A which has m elements,\n",
    "              but size of A is m+n\n",
    "    @param B: sorted integer array B which has n elements\n",
    "    @return: void\n",
    "    \"\"\"\n",
    "    def mergeSortedArray(self, A, m, B, n):\n",
    "        if B is None:\n",
    "            return A\n",
    "\n",
    "        index = m + n - 1\n",
    "        while m > 0 and n > 0:\n",
    "            if A[m - 1] > B[n - 1]:\n",
    "                A[index] = A[m - 1]\n",
    "                m -= 1\n",
    "            else:\n",
    "                A[index] = B[n - 1]\n",
    "                n -= 1\n",
    "            index -= 1\n",
    "\n",
    "        # B has elements left\n",
    "        while n > 0:\n",
    "            A[index] = B[n - 1]\n",
    "            n -= 1\n",
    "            index -= 1"
   ]
  },
  {
   "cell_type": "code",
   "execution_count": null,
   "metadata": {},
   "outputs": [],
   "source": [
    "//C++\n",
    "class Solution {\n",
    "public:\n",
    "    /**\n",
    "     * @param A: sorted integer array A which has m elements,\n",
    "     *           but size of A is m+n\n",
    "     * @param B: sorted integer array B which has n elements\n",
    "     * @return: void\n",
    "     */\n",
    "    void mergeSortedArray(int A[], int m, int B[], int n) {\n",
    "        int index = m + n - 1;\n",
    "        while (m > 0 && n > 0) {\n",
    "            if (A[m - 1] > B[n - 1]) {\n",
    "                A[index] = A[m - 1];\n",
    "                --m;\n",
    "            } else {\n",
    "                A[index] = B[n - 1];\n",
    "                --n;\n",
    "            }\n",
    "            --index;\n",
    "        }\n",
    "\n",
    "        // B has elements left\n",
    "        while (n > 0) {\n",
    "            A[index] = B[n - 1];\n",
    "            --n;\n",
    "            --index;\n",
    "        }\n",
    "    }\n",
    "};"
   ]
  },
  {
   "cell_type": "code",
   "execution_count": null,
   "metadata": {},
   "outputs": [],
   "source": [
    "//JAVA\n",
    "class Solution {\n",
    "    /**\n",
    "     * @param A: sorted integer array A which has m elements,\n",
    "     *           but size of A is m+n\n",
    "     * @param B: sorted integer array B which has n elements\n",
    "     * @return: void\n",
    "     */\n",
    "    public void mergeSortedArray(int[] A, int m, int[] B, int n) {\n",
    "        if (A == null || B == null) return;\n",
    "\n",
    "        int index = m + n - 1;\n",
    "        while (m > 0 && n > 0) {\n",
    "            if (A[m - 1] > B[n - 1]) {\n",
    "                A[index] = A[m - 1];\n",
    "                m--;\n",
    "            } else {\n",
    "                A[index] = B[n - 1];\n",
    "                n--;\n",
    "            }\n",
    "            index--;\n",
    "        }\n",
    "\n",
    "        // B has elements left\n",
    "        while (n > 0) {\n",
    "            A[index] = B[n - 1];\n",
    "            n--;\n",
    "            index--;\n",
    "        }\n",
    "    }\n",
    "}"
   ]
  },
  {
   "cell_type": "markdown",
   "metadata": {},
   "source": [
    "### 复杂度分析"
   ]
  },
  {
   "cell_type": "markdown",
   "metadata": {},
   "source": [
    "最坏情况下需要遍历两个数组中所有元素，时间复杂度为 \n",
    "O(n). 空间复杂度 \n",
    "O(1)."
   ]
  },
  {
   "cell_type": "code",
   "execution_count": null,
   "metadata": {},
   "outputs": [],
   "source": []
  }
 ],
 "metadata": {
  "kernelspec": {
   "display_name": "Python 3",
   "language": "python",
   "name": "python3"
  },
  "language_info": {
   "codemirror_mode": {
    "name": "ipython",
    "version": 3
   },
   "file_extension": ".py",
   "mimetype": "text/x-python",
   "name": "python",
   "nbconvert_exporter": "python",
   "pygments_lexer": "ipython3",
   "version": "3.7.7"
  }
 },
 "nbformat": 4,
 "nbformat_minor": 4
}
