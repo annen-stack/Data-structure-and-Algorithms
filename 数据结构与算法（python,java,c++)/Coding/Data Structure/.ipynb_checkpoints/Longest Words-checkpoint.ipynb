{
 "cells": [
  {
   "cell_type": "code",
   "execution_count": null,
   "metadata": {},
   "outputs": [],
   "source": [
    "class Solution {\n",
    "    /**\n",
    "     * @param dictionary: an array of strings\n",
    "     * @return: an arraylist of strings\n",
    "     */\n",
    "    ArrayList<String> longestWords(String[] dictionary) {\n",
    "        ArrayList<String> result = new ArrayList<String>();\n",
    "        if (dictionary == null || dictionary.length == 0) return result;\n",
    "\n",
    "        for (String str : dictionary) {\n",
    "            // combine empty and shorter length\n",
    "            if (result.isEmpty() || str.length() > result.get(0).length()) {\n",
    "                result.clear();\n",
    "                result.add(str);\n",
    "            } else if (str.length() == result.get(0).length()) {\n",
    "                result.add(str);\n",
    "            }\n",
    "        }\n",
    "\n",
    "        return result;\n",
    "    }\n",
    "}"
   ]
  }
 ],
 "metadata": {
  "kernelspec": {
   "display_name": "Python 3",
   "language": "python",
   "name": "python3"
  },
  "language_info": {
   "codemirror_mode": {
    "name": "ipython",
    "version": 3
   },
   "file_extension": ".py",
   "mimetype": "text/x-python",
   "name": "python",
   "nbconvert_exporter": "python",
   "pygments_lexer": "ipython3",
   "version": "3.7.7"
  }
 },
 "nbformat": 4,
 "nbformat_minor": 4
}
