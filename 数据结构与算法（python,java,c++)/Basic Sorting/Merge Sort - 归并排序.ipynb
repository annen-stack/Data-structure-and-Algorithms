{
 "cells": [
  {
   "cell_type": "markdown",
   "metadata": {},
   "source": [
    "核心：将两个有序对数组归并成一个更大的有序数组。通常做法为递归排序，并将两个不同的有序数组归并到第三个数组中。\n",
    "\n",
    "归并排序是一种典型的分治应用。"
   ]
  },
  {
   "cell_type": "code",
   "execution_count": 5,
   "metadata": {},
   "outputs": [
    {
     "name": "stdout",
     "output_type": "stream",
     "text": [
      "[1, 2, 3, 4, 5, 6, 7, 8]\n"
     ]
    }
   ],
   "source": [
    "\n",
    "class Sort:\n",
    "    def mergeSort(self, alist):\n",
    "        if len(alist) <= 1:\n",
    "            return alist\n",
    "\n",
    "        mid = len(alist) // 2\n",
    "        left = self.mergeSort(alist[:mid])\n",
    "       # print(\"left = \" + str(left))\n",
    "        right = self.mergeSort(alist[mid:])\n",
    "       # print(\"right = \" + str(right))\n",
    "        return self.mergeSortedArray(left, right)\n",
    "\n",
    "    #@param A and B: sorted integer array A and B.\n",
    "    #@return: A new sorted integer array\n",
    "    def mergeSortedArray(self, A, B):\n",
    "        sortedArray = []\n",
    "        l = 0\n",
    "        r = 0\n",
    "        while l < len(A) and r < len(B):\n",
    "            if A[l] < B[r]:\n",
    "                sortedArray.append(A[l])\n",
    "                l += 1\n",
    "            else:\n",
    "                sortedArray.append(B[r])\n",
    "                r += 1\n",
    "        sortedArray += A[l:]\n",
    "        sortedArray += B[r:]\n",
    "\n",
    "        return sortedArray\n",
    "\n",
    "unsortedArray = [6, 5, 3, 1, 8, 7, 2, 4]\n",
    "\n",
    "print(Sort().mergeSort(unsortedArray))"
   ]
  },
  {
   "cell_type": "code",
   "execution_count": null,
   "metadata": {},
   "outputs": [],
   "source": [
    "// java\n",
    "public class MergeSort {\n",
    "    public static void main(String[] args) {\n",
    "        int unsortedArray[] = new int[]{6, 5, 3, 1, 8, 7, 2, 4};\n",
    "        mergeSort(unsortedArray);\n",
    "        System.out.println(\"After sort: \");\n",
    "        for (int item : unsortedArray) {\n",
    "            System.out.print(item + \" \");\n",
    "        }\n",
    "    }\n",
    "\n",
    "    private static void merge(int[] array, int low, int mid, int high) {\n",
    "        int[] helper = new int[array.length];\n",
    "        // copy array to helper\n",
    "        for (int k = low; k <= high; k++) {\n",
    "            helper[k] = array[k];\n",
    "        }\n",
    "        // merge array[low...mid] and array[mid + 1...high]\n",
    "        int i = low, j = mid + 1;\n",
    "        for (int k = low; k <= high; k++) {\n",
    "            // k means current location\n",
    "            if (i > mid) {\n",
    "            // no item in left part\n",
    "                array[k] = helper[j];\n",
    "                j++;\n",
    "            } else if (j > high) {\n",
    "            // no item in right part\n",
    "                array[k] = helper[i];\n",
    "                i++;\n",
    "            } else if (helper[i] > helper[j]) {\n",
    "            // get smaller item in the right side\n",
    "                array[k] = helper[j];\n",
    "                j++;\n",
    "            } else {\n",
    "            // get smaller item in the left side\n",
    "                array[k] = helper[i];\n",
    "                i++;\n",
    "            }\n",
    "        }\n",
    "    }\n",
    "\n",
    "    public static void sort(int[] array, int low, int high) {\n",
    "        if (high <= low) return;\n",
    "        int mid = low + (high - low) / 2;\n",
    "        sort(array, low, mid);\n",
    "        sort(array, mid + 1, high);\n",
    "        merge(array, low, mid, high);\n",
    "        for (int item : array) {\n",
    "            System.out.print(item + \" \");\n",
    "        }\n",
    "        System.out.println();\n",
    "    }\n",
    "\n",
    "    public static void mergeSort(int[] array) {\n",
    "        sort(array, 0, array.length - 1);\n",
    "    }\n",
    "}"
   ]
  },
  {
   "cell_type": "markdown",
   "metadata": {},
   "source": [
    "时间复杂度为 \n",
    "O(NlogN)\n",
    ", 使用了等长的辅助数组，空间复杂度为 \n",
    "O(N)。"
   ]
  },
  {
   "cell_type": "code",
   "execution_count": null,
   "metadata": {},
   "outputs": [],
   "source": []
  }
 ],
 "metadata": {
  "kernelspec": {
   "display_name": "Python 3",
   "language": "python",
   "name": "python3"
  },
  "language_info": {
   "codemirror_mode": {
    "name": "ipython",
    "version": 3
   },
   "file_extension": ".py",
   "mimetype": "text/x-python",
   "name": "python",
   "nbconvert_exporter": "python",
   "pygments_lexer": "ipython3",
   "version": "3.7.7"
  }
 },
 "nbformat": 4,
 "nbformat_minor": 4
}
