{
 "cells": [
  {
   "cell_type": "code",
   "execution_count": null,
   "metadata": {},
   "outputs": [],
   "source": [
    "public class Solution {\n",
    "    /**\n",
    "     * @param root: The root of binary tree.\n",
    "     * @return: An integer.\n",
    "     */\n",
    "    public int minDepth(TreeNode root) {\n",
    "        if (root == null) return 0;\n",
    "\n",
    "        int leftDepth = minDepth(root.left);\n",
    "        int rightDepth = minDepth(root.right);\n",
    "\n",
    "        // current node is not leaf node\n",
    "        if (root.left == null) {\n",
    "            return 1 + rightDepth;\n",
    "        } else if (root.right == null) {\n",
    "            return 1 + leftDepth;\n",
    "        }\n",
    "\n",
    "        return 1 + Math.min(leftDepth, rightDepth);\n",
    "    }\n",
    "}"
   ]
  }
 ],
 "metadata": {
  "kernelspec": {
   "display_name": "Python 3",
   "language": "python",
   "name": "python3"
  },
  "language_info": {
   "codemirror_mode": {
    "name": "ipython",
    "version": 3
   },
   "file_extension": ".py",
   "mimetype": "text/x-python",
   "name": "python",
   "nbconvert_exporter": "python",
   "pygments_lexer": "ipython3",
   "version": "3.7.7"
  }
 },
 "nbformat": 4,
 "nbformat_minor": 4
}
