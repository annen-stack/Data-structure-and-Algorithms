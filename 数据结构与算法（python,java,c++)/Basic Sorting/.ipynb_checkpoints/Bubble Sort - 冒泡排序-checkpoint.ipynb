{
 "cells": [
  {
   "cell_type": "markdown",
   "metadata": {},
   "source": [
    "核心：冒泡，持续比较相邻元素，大的挪到后面，因此大的会逐步往后挪，故称之为冒泡。"
   ]
  },
  {
   "cell_type": "code",
   "execution_count": 1,
   "metadata": {},
   "outputs": [],
   "source": [
    "#python\n",
    "def bubbleSort(alist):\n",
    "    for i in xrange(len(alist)):\n",
    "        for j in xrange(1,len(alist)-i):\n",
    "            if alist[j-1]>alist[j]:\n",
    "                alist[j-1],alist[j]=alist[j],alist[j-1]\n",
    "    return alist\n",
    "\n",
    "unsorted_list = [6, 5, 3, 1, 8, 7, 2, 4]\n",
    "print(bubbleSort(unsorted_list))"
   ]
  },
  {
   "cell_type": "code",
   "execution_count": null,
   "metadata": {},
   "outputs": [],
   "source": [
    "#java\n",
    "public class Sort{\n",
    "    public static void main(String[] args){\n",
    "        int[] unsortedArray=new int[]{6,5,3,1,8};\n",
    "        bubbleSort(unsortedArray);\n",
    "        for(int item:unsortedArray){\n",
    "            System.out.print(item+\" \");\n",
    "        }\n",
    "        \n",
    "    }\n",
    "    \n",
    "    public static void bubbleSort(int[] nums){\n",
    "        int len=nums.length;\n",
    "        for(int i=0;i<len;i++){\n",
    "            for(int j=1;j<len-i;j++){\n",
    "                if (nums[j - 1] > nums[j]) {\n",
    "                    int temp = nums[j - 1];\n",
    "                    nums[j - 1] = nums[j];\n",
    "                    nums[j] = temp;  \n",
    "            }\n",
    "        }\n",
    "    }\n",
    "    }\n",
    "}"
   ]
  },
  {
   "cell_type": "markdown",
   "metadata": {},
   "source": [
    "### 复杂度分析"
   ]
  },
  {
   "cell_type": "markdown",
   "metadata": {},
   "source": [
    "平均情况与最坏情况均为 O(n^2), 使用了 temp 作为临时交换变量，空间复杂度为 O(1)"
   ]
  },
  {
   "cell_type": "code",
   "execution_count": null,
   "metadata": {},
   "outputs": [],
   "source": []
  }
 ],
 "metadata": {
  "kernelspec": {
   "display_name": "Python 3",
   "language": "python",
   "name": "python3"
  },
  "language_info": {
   "codemirror_mode": {
    "name": "ipython",
    "version": 3
   },
   "file_extension": ".py",
   "mimetype": "text/x-python",
   "name": "python",
   "nbconvert_exporter": "python",
   "pygments_lexer": "ipython3",
   "version": "3.7.7"
  }
 },
 "nbformat": 4,
 "nbformat_minor": 4
}
