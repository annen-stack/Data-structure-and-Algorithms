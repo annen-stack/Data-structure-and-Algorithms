{
 "cells": [
  {
   "cell_type": "markdown",
   "metadata": {},
   "source": [
    "Map 是一种关联数组的数据结构，也常被称为字典或键值对。"
   ]
  },
  {
   "cell_type": "markdown",
   "metadata": {},
   "source": [
    "## python"
   ]
  },
  {
   "cell_type": "code",
   "execution_count": 4,
   "metadata": {},
   "outputs": [],
   "source": [
    "# map 在 python 中是一个keyword\n",
    "hash_map = {} # or dict()\n",
    "hash_map['shaun'] = 98\n",
    "hash_map['wei'] = 99\n",
    "exist = 'wei' in hash_map  # check existence\n",
    "point = hash_map['shaun']  # get value by key\n",
    "point = hash_map.pop('shaun') # remove by key, return value\n",
    "\n",
    "keys = hash_map.keys()  # return key list\n",
    "\n",
    "\n",
    "# iterate dictionary(map)\n",
    "for key, value in hash_map.items():\n",
    "    # do something with k, v\n",
    "    pass"
   ]
  },
  {
   "cell_type": "markdown",
   "metadata": {},
   "source": [
    "## Java"
   ]
  },
  {
   "cell_type": "markdown",
   "metadata": {},
   "source": [
    "Java 的实现中 Map 是一种将对象与对象相关联的设计。\n",
    "\n",
    "常用的实现有HashMap和TreeMap, HashMap被用来快速访问，而TreeMap则保证『键』始终有序。\n",
    "\n",
    "Map 可以返回键的 Set, 值的 Collection, 键值对的 Set."
   ]
  },
  {
   "cell_type": "code",
   "execution_count": null,
   "metadata": {},
   "outputs": [],
   "source": [
    "Map<String,Integer> map = new HashMap<String,Integer>\n",
    "map.put(\"bill\",98);\n",
    "map.put(\"ryan\",99);\n",
    "\n",
    "boolean exist = map.containKey(\"ryan\");\n",
    "int point = map.get(\"bill\");\n",
    "int point = map.remove(\"bill\");\n",
    "\n",
    "Set<String> set = map.ketSet();\n",
    "\n",
    "for (Map.Entry<String, Integer> entry : map.entrySet()) {\n",
    "    String key = entry.getKey();\n",
    "    int value = entry.getValue();\n",
    "    // do some thing\n",
    "}"
   ]
  }
 ],
 "metadata": {
  "kernelspec": {
   "display_name": "Python 3",
   "language": "python",
   "name": "python3"
  },
  "language_info": {
   "codemirror_mode": {
    "name": "ipython",
    "version": 3
   },
   "file_extension": ".py",
   "mimetype": "text/x-python",
   "name": "python",
   "nbconvert_exporter": "python",
   "pygments_lexer": "ipython3",
   "version": "3.7.7"
  }
 },
 "nbformat": 4,
 "nbformat_minor": 4
}
