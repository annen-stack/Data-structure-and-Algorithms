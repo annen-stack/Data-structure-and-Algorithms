{
 "cells": [
  {
   "cell_type": "code",
   "execution_count": null,
   "metadata": {},
   "outputs": [],
   "source": [
    "class Solution:\n",
    "    \"\"\"\n",
    "    @param prices: Given an integer array\n",
    "    @return: Maximum profit\n",
    "    \"\"\"\n",
    "    def maxProfit(self, prices):\n",
    "        if prices is None or len(prices) <= 1:\n",
    "            return 0\n",
    "\n",
    "        profit = 0\n",
    "        for i in xrange(1, len(prices)):\n",
    "            diff = prices[i] - prices[i - 1]\n",
    "            if diff > 0:\n",
    "                profit += diff\n",
    "\n",
    "        return profit"
   ]
  }
 ],
 "metadata": {
  "kernelspec": {
   "display_name": "Python 3",
   "language": "python",
   "name": "python3"
  },
  "language_info": {
   "codemirror_mode": {
    "name": "ipython",
    "version": 3
   },
   "file_extension": ".py",
   "mimetype": "text/x-python",
   "name": "python",
   "nbconvert_exporter": "python",
   "pygments_lexer": "ipython3",
   "version": "3.7.7"
  }
 },
 "nbformat": 4,
 "nbformat_minor": 4
}
