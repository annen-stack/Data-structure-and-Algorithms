{
 "cells": [
  {
   "cell_type": "code",
   "execution_count": null,
   "metadata": {},
   "outputs": [],
   "source": [
    "class Solution:\n",
    "    # @param {integer[]} nums\n",
    "    # @return {integer[][]}\n",
    "    def permute(self, nums):\n",
    "        if nums is None:\n",
    "            return [[]]\n",
    "        elif len(nums) <= 1:\n",
    "            return [nums]\n",
    "\n",
    "        result = []\n",
    "        for i, item in enumerate(nums):\n",
    "            for p in self.permute(nums[:i] + nums[i + 1:]):\n",
    "                result.append(p + [item])\n",
    "\n",
    "        return result"
   ]
  }
 ],
 "metadata": {
  "kernelspec": {
   "display_name": "Python 3",
   "language": "python",
   "name": "python3"
  },
  "language_info": {
   "codemirror_mode": {
    "name": "ipython",
    "version": 3
   },
   "file_extension": ".py",
   "mimetype": "text/x-python",
   "name": "python",
   "nbconvert_exporter": "python",
   "pygments_lexer": "ipython3",
   "version": "3.7.7"
  }
 },
 "nbformat": 4,
 "nbformat_minor": 4
}
