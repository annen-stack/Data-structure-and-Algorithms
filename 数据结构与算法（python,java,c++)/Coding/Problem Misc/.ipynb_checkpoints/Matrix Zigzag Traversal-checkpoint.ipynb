{
 "cells": [
  {
   "cell_type": "code",
   "execution_count": null,
   "metadata": {},
   "outputs": [],
   "source": [
    "public class Solution {\n",
    "    /**\n",
    "     * @param matrix: a matrix of integers\n",
    "     * @return: an array of integers\n",
    "     */\n",
    "    public int[] printZMatrix(int[][] matrix) {\n",
    "        if (matrix == null || matrix.length == 0) return null;\n",
    "\n",
    "        int m = matrix.length - 1, n = matrix[0].length - 1;\n",
    "        int[] result = new int[(m + 1) * (n + 1)];\n",
    "        int index = 0;\n",
    "        for (int i = 0; i <= m + n; i++) {\n",
    "            if (i % 2 == 0) {\n",
    "                for (int x = i; x >= 0; x--) {\n",
    "                    // valid matrix index\n",
    "                    if ((x <= m) && (i - x <= n)) {\n",
    "                        result[index] = matrix[x][i - x];\n",
    "                        index++;\n",
    "                    }\n",
    "                }\n",
    "            } else {\n",
    "                for (int x = 0; x <= i; x++) {\n",
    "                    if ((x <= m) && (i - x <= n)) {\n",
    "                        result[index] = matrix[x][i - x];\n",
    "                        index++;\n",
    "                    }\n",
    "                }\n",
    "            }\n",
    "        }\n",
    "\n",
    "        return result;\n",
    "    }\n",
    "}"
   ]
  }
 ],
 "metadata": {
  "kernelspec": {
   "display_name": "Python 3",
   "language": "python",
   "name": "python3"
  },
  "language_info": {
   "codemirror_mode": {
    "name": "ipython",
    "version": 3
   },
   "file_extension": ".py",
   "mimetype": "text/x-python",
   "name": "python",
   "nbconvert_exporter": "python",
   "pygments_lexer": "ipython3",
   "version": "3.7.7"
  }
 },
 "nbformat": 4,
 "nbformat_minor": 4
}
