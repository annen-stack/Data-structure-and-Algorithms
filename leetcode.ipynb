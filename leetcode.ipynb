{
 "cells": [
  {
   "cell_type": "markdown",
   "metadata": {},
   "source": [
    "### 1.无重复字符的最长子串"
   ]
  },
  {
   "cell_type": "code",
   "execution_count": 3,
   "metadata": {},
   "outputs": [],
   "source": [
    "def lengthOfLongestSubstring(s):\n",
    "    if s is None or len(s)==0:\n",
    "        return 0\n",
    "    d={}\n",
    "    start=0\n",
    "    l=0\n",
    "    for i in range(len(s)):\n",
    "        if s[i] in d and d[s[i]]>=start:\n",
    "            start=d[s[i]]+1\n",
    "        d[s[i]]=i\n",
    "        l = max(l,i-start+1)\n",
    "    return l"
   ]
  },
  {
   "cell_type": "markdown",
   "metadata": {},
   "source": [
    "### 2.最长公共前缀"
   ]
  },
  {
   "cell_type": "code",
   "execution_count": 6,
   "metadata": {},
   "outputs": [],
   "source": [
    "def longestCommonPrefix(strs):\n",
    "    for s in strs:\n",
    "        if len(s)>maxlen:\n",
    "            maxlen=len(s)\n",
    "            maxs=s\n",
    "    for i in strs:\n",
    "        j=0\n",
    "        while j<maxlen and j <len(i):\n",
    "            if i[j]==maxs[j]:\n",
    "                j=j+1\n",
    "            else:\n",
    "                break\n",
    "        maxlen=j\n",
    "        maxs=maxs[:j]\n",
    "    return maxs"
   ]
  },
  {
   "cell_type": "markdown",
   "metadata": {},
   "source": [
    "### 3.字符串的排列"
   ]
  },
  {
   "cell_type": "code",
   "execution_count": 8,
   "metadata": {},
   "outputs": [],
   "source": [
    "#滑动窗口\n",
    "import collections\n",
    "def checkInclusion(s1,s2):\n",
    "    if not s2:\n",
    "        return False\n",
    "    if not s1:\n",
    "        return True\n",
    "    len1 = len(s1)\n",
    "    len2 = len(s2)\n",
    "    cur = collection.Counter(s1)\n",
    "    for i in range(len(s2)-len1+1):\n",
    "        res = collection.Counter(s2[i:i+len1])\n",
    "        if cur==res:\n",
    "            return True\n",
    "    return False"
   ]
  },
  {
   "cell_type": "markdown",
   "metadata": {},
   "source": [
    "### 4.字符串相乘\n"
   ]
  },
  {
   "cell_type": "code",
   "execution_count": 12,
   "metadata": {},
   "outputs": [],
   "source": [
    "def multiply(num1,num2):\n",
    "    len1 = len(num1)\n",
    "    len2 = len(num2)\n",
    "    num = [0]*(len1+len2)\n",
    "    for i in range(len1-1,-1,-1):\n",
    "        t = num1[i]-'0'\n",
    "        for j in range(len2-1,-1,-1):\n",
    "            summ=t*(num2[i]-'0')\n",
    "            num[i+j+1]+=summ%10\n",
    "            num[i+j]+=num[i+j+1]/10+summ/10\n",
    "            num[i+j+1]=num[i+j+1]%10\n",
    "    k=0\n",
    "    for n in num:\n",
    "        if n==0:\n",
    "            k=k+1\n",
    "        else:\n",
    "            break\n",
    "    return ''.join(num[k:])"
   ]
  },
  {
   "cell_type": "markdown",
   "metadata": {},
   "source": [
    "### 5.翻转字符串的单词"
   ]
  },
  {
   "cell_type": "code",
   "execution_count": 13,
   "metadata": {},
   "outputs": [],
   "source": [
    "def reversewords(s):\n",
    "    ss = s.split()\n",
    "    res = ss[::-1]\n",
    "    return ' '.join(res)"
   ]
  },
  {
   "cell_type": "markdown",
   "metadata": {},
   "source": [
    "### 6.简化路径"
   ]
  },
  {
   "cell_type": "code",
   "execution_count": 14,
   "metadata": {},
   "outputs": [],
   "source": [
    "class Solution(object):\n",
    "    def simplifyPath(self, path):\n",
    "        stack = []\n",
    "        for i in path.split('/'):\n",
    "            if i not in ['', '.', '..']:\n",
    "                stack.append(i)\n",
    "            elif i == '..' and stack:\n",
    "                stack.pop()\n",
    "        return \"/\" + \"/\".join(stack)"
   ]
  },
  {
   "cell_type": "code",
   "execution_count": 17,
   "metadata": {},
   "outputs": [],
   "source": [
    "def simplifypath(path):\n",
    "    stack=[]\n",
    "    for i in path.split('/'):\n",
    "        if i not in ['','.','..']:\n",
    "            stack.append(i)\n",
    "        if i=='..' and stack:\n",
    "            stack.pop()\n",
    "    return \"/\"+\"/\".join(stack)"
   ]
  },
  {
   "cell_type": "markdown",
   "metadata": {},
   "source": [
    "### 7.复原"
   ]
  },
  {
   "cell_type": "code",
   "execution_count": 19,
   "metadata": {},
   "outputs": [],
   "source": [
    "class Solution:\n",
    "    def restoreIpAddresses(self, s):    \n",
    "        def isNum(num):\n",
    "            if num and 0 <= int(num) <= 255 and str(int(num)) == num:\n",
    "                return True\n",
    "            return False\n",
    "        result = list()\n",
    "        for i in range(1, 4):\n",
    "            w1 = s[:i]\n",
    "            if not isNum(w1):\n",
    "                continue\n",
    "            for j in range(i+1, i+4):\n",
    "                w2 = s[i:j]\n",
    "                if not isNum(w2):\n",
    "                    continue\n",
    "                for k in range(j+1, j+4):\n",
    "                    w3, w4 = s[j:k], s[k:]\n",
    "                    print(w3, w4)\n",
    "                    if not isNum(w3) or not isNum(w4):\n",
    "                        continue\n",
    "                    result.append(w1 + '.' + w2 + '.' + w3 + '.' + w4)\n",
    "        return result"
   ]
  },
  {
   "cell_type": "code",
   "execution_count": 21,
   "metadata": {},
   "outputs": [],
   "source": [
    "def restoreIpAddresses(s):\n",
    "    def isNum(num):\n",
    "        if num and 0<=int(num)<=255 and str(int(num))==num:\n",
    "            return True\n",
    "        else:\n",
    "            return False\n",
    "    result = []\n",
    "    for i in range(1,4):\n",
    "        w1=s[:i]\n",
    "        if not isNum(w1):\n",
    "            continue\n",
    "        for j in range(i+1,i+4):\n",
    "            w2=s[i,j]\n",
    "            if not isNum(w2):\n",
    "                continue\n",
    "            for k in range(j+1,j+4):\n",
    "                w3=s[j,k]\n",
    "                w4=s[k:]\n",
    "                if not isNum(w3) or not isNum(w4):\n",
    "                    continue\n",
    "                result.append(w1+'.'+w2+'.'+w3+'.'+w4)\n",
    "    return result"
   ]
  },
  {
   "cell_type": "markdown",
   "metadata": {},
   "source": [
    "### 8.三数之和"
   ]
  },
  {
   "cell_type": "code",
   "execution_count": 22,
   "metadata": {},
   "outputs": [],
   "source": [
    "def threeSum(nums):\n",
    "    l = len(nums)\n",
    "    nums.sort()\n",
    "    res={}\n",
    "    for i in range(len(nums)-2):\n",
    "        a=nums[i]\n",
    "        j=i+1\n",
    "        k=len(nums)-1\n",
    "        while 0<j<k<len(nums):\n",
    "            c=nums[k]\n",
    "            b=nums[j]\n",
    "            if a+b+c==0:\n",
    "                res.add([a,b,c])\n",
    "            j+=1\n",
    "            k-=1\n",
    "    return list(res)\n",
    "                "
   ]
  },
  {
   "cell_type": "markdown",
   "metadata": {},
   "source": [
    "### 9.岛屿的最大面积 "
   ]
  },
  {
   "cell_type": "code",
   "execution_count": 25,
   "metadata": {},
   "outputs": [],
   "source": [
    "def maxAreaOfIsland(grid):\n",
    "    m=len(grid)\n",
    "    n=len(grid[0])\n",
    "    maxx=0\n",
    "    for i in range(m):\n",
    "        for j in range(n):\n",
    "            if grid[i][j]==1:\n",
    "                cur=1\n",
    "                grid[i][j]=0\n",
    "                dfs(grid,i,j,cur)\n",
    "                if cur>maxx:\n",
    "                    maxx=cur\n",
    "    return maxx\n",
    "def dfs(grid,i,j,cur):\n",
    "    l=[(1,1),(1,-1),(-1,1),(-1,-1)]\n",
    "    for a,b in l:\n",
    "        if 0<=i+a<m and 0<=j+b<n and grid[i+a][j+b]:\n",
    "            grid[i+a][j+b]=0\n",
    "            cur=cur+1\n",
    "            dfs(grid,i+a,j+b,cur)"
   ]
  },
  {
   "cell_type": "code",
   "execution_count": 27,
   "metadata": {},
   "outputs": [],
   "source": [
    "class Solution:\n",
    "    def maxAreaOfIsland(self, grid):\n",
    "        if not grid:\n",
    "            return 0\n",
    "        res=0\n",
    "        row,column=len(grid),len(grid[0])\n",
    "        moveset=[(0,1),(1,0),(-1,0),(0,-1)]\n",
    "        def dfs(grid,i,j):\n",
    "            if i < 0 or j<0 or i>=row or j>=column or grid[i][j] == 0:\n",
    "                return 0            \n",
    "            s=1\n",
    "            grid[i][j]=0\n",
    "            for cood in moveset:\n",
    "                s+=dfs(grid,i+cood[0],j+cood[1])\n",
    "            return s\n",
    "\n",
    "        for i in range(row):\n",
    "            for j in range(column):\n",
    "                if grid[i][j]==1:\n",
    "                    res=max(res,dfs(grid,i,j))            \n",
    "        return res"
   ]
  },
  {
   "cell_type": "markdown",
   "metadata": {},
   "source": [
    "### 10.搜索旋转排序数组"
   ]
  },
  {
   "cell_type": "code",
   "execution_count": 30,
   "metadata": {},
   "outputs": [],
   "source": [
    "def search(nums,target):\n",
    "    l=len(nums)\n",
    "    low = 0\n",
    "    high = l-1\n",
    "    while low<high:\n",
    "        mid = (low+high)/2\n",
    "        if nums[mid]==target:\n",
    "            return mid\n",
    "        if nums[mid]>nums[high]:\n",
    "            if target<nums[mid] and target>=nums[start]:\n",
    "                high=mid-1\n",
    "            else:\n",
    "                low=mid+1\n",
    "        if nums[mid]<nums[low]:\n",
    "            if target>nums[mid] and target<=nums[high]:\n",
    "                low=mid+1\n",
    "            else:\n",
    "                high=mid-1\n",
    "    return -1"
   ]
  },
  {
   "cell_type": "markdown",
   "metadata": {},
   "source": [
    "### 11.最长连续递增序列"
   ]
  },
  {
   "cell_type": "code",
   "execution_count": 31,
   "metadata": {},
   "outputs": [],
   "source": [
    "def findLengthOfLCIS(nums):\n",
    "    l = len(nums)\n",
    "    if l==0:\n",
    "        return 0\n",
    "    if l==1:\n",
    "        return 1\n",
    "    i=0\n",
    "    j=1\n",
    "    maxx=0\n",
    "    con=1\n",
    "    while 0<=i<j<l:\n",
    "        if nums[i]<nums[j]:\n",
    "            con=con+1\n",
    "            i=i+1\n",
    "            j=j+1\n",
    "            maxx=max(con,maxx)\n",
    "        else:\n",
    "            i=j\n",
    "            con=1\n",
    "            j=j+1\n",
    "    return res"
   ]
  },
  {
   "cell_type": "code",
   "execution_count": 32,
   "metadata": {},
   "outputs": [],
   "source": [
    "def findLengthOfLCIS(nums):\n",
    "    l = len(nums)\n",
    "    if l==0:\n",
    "        return 0\n",
    "    if l==1:\n",
    "        return 1\n",
    "    start,end=0\n",
    "    maxx=1\n",
    "    for i in range(1,l):\n",
    "        if nums[i]>nums[i-1]:\n",
    "            end=i\n",
    "            maxx=max(maxx,end-start+1)\n",
    "        else:\n",
    "            start=i\n",
    "    return maxx"
   ]
  },
  {
   "cell_type": "markdown",
   "metadata": {},
   "source": [
    "### 12.数组中的第K个大元素"
   ]
  },
  {
   "cell_type": "code",
   "execution_count": 33,
   "metadata": {},
   "outputs": [],
   "source": [
    "from typing import List\n",
    "\n",
    "\n",
    "class Solution:\n",
    "    def findKthLargest(self, nums,k):\n",
    "        size = len(nums)\n",
    "        nums.sort()\n",
    "        return nums[size - k]\n"
   ]
  },
  {
   "cell_type": "markdown",
   "metadata": {},
   "source": [
    "### 13.最长连续序列"
   ]
  },
  {
   "cell_type": "code",
   "execution_count": 36,
   "metadata": {},
   "outputs": [],
   "source": [
    "def longestConsecutive(nums):\n",
    "    l = len(nums)\n",
    "    if l<=1:\n",
    "        return nums\n",
    "    nums.sort()\n",
    "    res=0\n",
    "    i=0\n",
    "    leng=1\n",
    "    while i<l-1:\n",
    "        if nums[i]+1==nums[i+1]:\n",
    "            leng+=1\n",
    "            res=max(res,leng)\n",
    "        else:\n",
    "            leng=1\n",
    "        i=i+1\n",
    "    return res"
   ]
  },
  {
   "cell_type": "markdown",
   "metadata": {},
   "source": [
    "### 14.朋友圈"
   ]
  },
  {
   "cell_type": "code",
   "execution_count": 38,
   "metadata": {},
   "outputs": [],
   "source": [
    "class Solution:\n",
    "    def findCircleNum(self, M):\n",
    "        count = 0\n",
    "        n = len(M)\n",
    "        visited = [0 for i in range(n)] #用于记录遍历过的行\n",
    "        for i in range(n):\n",
    "            if not visited[i]:\n",
    "                count+=1 #没在同一个圈中，记数加1\n",
    "                self.dfs(M,visited,i)\n",
    "        return count\n",
    "    def dfs(self,M,visited,i):\n",
    "        visited[i] = 1\n",
    "        for j in range(len(M)): #遍历所有行\n",
    "            if M[i][j] and not visited[j]:\n",
    "                self.dfs(M,visited,j) #把列数变成行数继续dfs"
   ]
  },
  {
   "cell_type": "markdown",
   "metadata": {},
   "source": [
    "### 15.合并区间"
   ]
  },
  {
   "cell_type": "code",
   "execution_count": null,
   "metadata": {},
   "outputs": [],
   "source": [
    "class Solution:\n",
    "    def merge(self, intervals: List[List[int]]) -> List[List[int]]:\n",
    "        if intervals==[]:\n",
    "            return intervals\n",
    "        intervals.sort()\n",
    "        res=[intervals[0]]\n",
    "        for l,r in intervals[1:]:\n",
    "            if l>res[-1][1]:\n",
    "                res.append([l,r])\n",
    "            else:\n",
    "                res[-1][1]=max(r,res[-1][1])\n",
    "        return res"
   ]
  },
  {
   "cell_type": "code",
   "execution_count": 40,
   "metadata": {},
   "outputs": [],
   "source": [
    "def merge(intervals):\n",
    "    if intervals==[]:\n",
    "        return intervals\n",
    "    intervals.sort(key = lambda x:x[0])\n",
    "    res=[intervals[0]]\n",
    "    for a,b in intervals[1:]:\n",
    "        if a<=res[-1][1]:\n",
    "            res[-1][1]=max(res[-1][1],b)\n",
    "        else:\n",
    "            res.append([a,b])\n",
    "    return res"
   ]
  },
  {
   "cell_type": "markdown",
   "metadata": {},
   "source": [
    "### 16.接雨水"
   ]
  },
  {
   "cell_type": "code",
   "execution_count": null,
   "metadata": {},
   "outputs": [],
   "source": [
    "class Solution(object):\n",
    "    def trap(self, height):\n",
    "        if len(height) <= 1:\n",
    "            return 0\n",
    "        max_height = 0\n",
    "        max_height_index = 0\n",
    "        # 找到最高点\n",
    "        for i in range(len(height)):\n",
    "            h = height[i]\n",
    "            if h > max_height:\n",
    "                max_height = h\n",
    "                max_height_index = i\n",
    "        area = 0\n",
    "        # 从左边往最高点遍历\n",
    "        tmp = height[0]\n",
    "        for i in range(max_height_index):\n",
    "            if height[i] > tmp:\n",
    "                tmp = height[i]\n",
    "            else:\n",
    "                area = area + (tmp - height[i])\n",
    "        # 从右边往最高点遍历\n",
    "        tmp = height[-1]\n",
    "        for i in reversed(range(max_height_index + 1, len(height))):\n",
    "            if height[i] > tmp:\n",
    "                tmp = height[i]\n",
    "            else:\n",
    "                area = area + (tmp - height[i])\n",
    "        return area"
   ]
  },
  {
   "cell_type": "code",
   "execution_count": 42,
   "metadata": {},
   "outputs": [],
   "source": [
    "def trap(height):\n",
    "    if len(height)<=1:\n",
    "        return 0\n",
    "    max_height=height[0]\n",
    "    max_height_index=0\n",
    "    for  i in range(1,len(height)):\n",
    "        if height[i]>max_height:\n",
    "            max_height = height\n",
    "            max_height_index = i\n",
    "    area = 0\n",
    "    tmp=height[0]\n",
    "    for i in range(1,max_height_index):\n",
    "        if height[i]<tmp:\n",
    "            area+=(tmp-height[i])\n",
    "        else:\n",
    "            tmp=height[i]\n",
    "    tmp=height[-1]\n",
    "    for i in reversed(range(max_high_index+1,len(height))):\n",
    "        if height[i]<tmp:\n",
    "            area+=(tmp-height[i])\n",
    "        else:\n",
    "            tmp=height[i]\n",
    "    return area"
   ]
  },
  {
   "cell_type": "markdown",
   "metadata": {},
   "source": [
    "### 17.合并两个有序链表"
   ]
  },
  {
   "cell_type": "code",
   "execution_count": null,
   "metadata": {},
   "outputs": [],
   "source": [
    "class Solution:\n",
    "    def mergeTwoLists(self, l1: ListNode, l2: ListNode) -> ListNode:\n",
    "        res = ListNode(None)\n",
    "        node = res\n",
    "        while l1 and l2:\n",
    "            if l1.val<l2.val:\n",
    "                node.next,l1 = l1,l1.next\n",
    "            else:\n",
    "                node.next,l2 = l2,l2.next\n",
    "            node = node.next\n",
    "        if l1:\n",
    "            node.next = l1\n",
    "        else:\n",
    "            node.next = l2\n",
    "        return res.next  "
   ]
  },
  {
   "cell_type": "code",
   "execution_count": 43,
   "metadata": {},
   "outputs": [],
   "source": [
    "def mergeTwoLists(l1,l2):\n",
    "    if not l1 and not l2:\n",
    "        return None\n",
    "    if not l1:\n",
    "        return l2\n",
    "    if not l2:\n",
    "        return l1\n",
    "    res = ListNode(None)\n",
    "    head = res\n",
    "    while l1 and l2:\n",
    "        if l1.val<l2.val:\n",
    "            head.next=l1\n",
    "            head=head.next\n",
    "            l1=l1.next\n",
    "        else:\n",
    "            head.next=l2\n",
    "            head=head.next\n",
    "            l2=l2.next\n",
    "    head.next = l1 or l2\n",
    "    return res.next"
   ]
  },
  {
   "cell_type": "markdown",
   "metadata": {},
   "source": [
    "### 18.反转链表"
   ]
  },
  {
   "cell_type": "code",
   "execution_count": 45,
   "metadata": {},
   "outputs": [],
   "source": [
    "def reverseList(head):\n",
    "    if not head:\n",
    "        return None\n",
    "    if head.next==None:\n",
    "        return head\n",
    "    pre=head\n",
    "    cur=head.next\n",
    "    head.next = None\n",
    "    while cur:\n",
    "        next=cur.next\n",
    "        cur.next=pre\n",
    "        pre=cur\n",
    "        cur=next\n",
    "    return pre"
   ]
  },
  {
   "cell_type": "markdown",
   "metadata": {},
   "source": [
    "### 19.两数相加"
   ]
  },
  {
   "cell_type": "code",
   "execution_count": 46,
   "metadata": {},
   "outputs": [],
   "source": [
    "class ListNode(object):\n",
    "    def __init__(self, x):\n",
    "        self.val = x\n",
    "        self.next = None\n",
    "class Solution(object):\n",
    "    def addTwoNumbers(self, l1, l2):\n",
    "        if not l1 :\n",
    "            return l2\n",
    "        if not l2:\n",
    "            return l1\n",
    "        dummy=ListNode(0)\n",
    "        p=dummy\n",
    "        p1=l1\n",
    "        p2=l2\n",
    "        count=0\n",
    "        while  p1 or p2:\n",
    "            if  p1 and p2 :\n",
    "                s=p1.val+p2.val+count\n",
    "                count=s/10\n",
    "                p.next=ListNode(s%10)\n",
    "                p=p.next\n",
    "                p1=p1.next\n",
    "                p2=p2.next\n",
    "            elif not p1:\n",
    "                s=p2.val+count\n",
    "                p.next=ListNode(s%10)\n",
    "                count=s/10\n",
    "                p=p.next\n",
    "                p2=p2.next\n",
    "            elif not p2:\n",
    "                s=p1.val+count\n",
    "                p.next=ListNode(s%10)\n",
    "                count=s/10\n",
    "                p=p.next\n",
    "                p1=p1.next\n",
    "        if count>0:\n",
    "            p.next=ListNode(count)\n",
    "        return dummy.next"
   ]
  },
  {
   "cell_type": "markdown",
   "metadata": {},
   "source": [
    "### 20.排序链表"
   ]
  },
  {
   "cell_type": "code",
   "execution_count": 47,
   "metadata": {},
   "outputs": [],
   "source": [
    "class ListNode(object):\n",
    "    def __init__(self, x):\n",
    "        self.val = x\n",
    "        self.next = None\n",
    "\n",
    "    def sortlist(head):\n",
    "        if not head or head.next==None:\n",
    "            return head\n",
    "        slow=head\n",
    "        fast=head\n",
    "        while fast.next and fast.next.next:\n",
    "            fast = fast.next.next\n",
    "            slow = slow.next\n",
    "        mid = slow.next\n",
    "        slow.next = None\n",
    "        l1 = sortList(head)#排好序的链表\n",
    "        l2 = sortlist(mid)\n",
    "        return merge(l1,l2)\n",
    "    \n",
    "    def merge(l1,l2):\n",
    "        if not l1:\n",
    "            return l2\n",
    "        if not l2:\n",
    "            return l1\n",
    "        cur=ListNode(0)\n",
    "        m = cur\n",
    "        while l1 and l2:\n",
    "            if l1.val < l2.val:\n",
    "                cur.next=l1\n",
    "                l1=l1.next\n",
    "                cur = cur.next\n",
    "            else:\n",
    "                cur.next = l2\n",
    "                l2 = l2.next\n",
    "                cur = cur.next\n",
    "        cur.next = l1 or l2\n",
    "        return m"
   ]
  },
  {
   "cell_type": "markdown",
   "metadata": {},
   "source": [
    "### 21.环形链表"
   ]
  },
  {
   "cell_type": "code",
   "execution_count": 48,
   "metadata": {},
   "outputs": [],
   "source": [
    "def detectCycle(head):\n",
    "    fast = head\n",
    "    slow = head\n",
    "    circle = ListNode(None)\n",
    "    while fast.next and fast.next.next:\n",
    "        fast = fast.next.next\n",
    "        slow = slow.next\n",
    "        if fast==slow:\n",
    "            circle = fast\n",
    "            break\n",
    "    if circle==None:\n",
    "        return circle\n",
    "    while head != circle:\n",
    "        head=head.next\n",
    "        if circle==head:\n",
    "            break\n",
    "        circle = circle.next\n",
    "    return head\n",
    "        \n",
    "            "
   ]
  },
  {
   "cell_type": "markdown",
   "metadata": {},
   "source": [
    "### 22.相交链表"
   ]
  },
  {
   "cell_type": "code",
   "execution_count": 50,
   "metadata": {},
   "outputs": [],
   "source": [
    "def getIntersectionNode(head1,head2):\n",
    "    l1=0\n",
    "    l2=0\n",
    "    heada=head1\n",
    "    headb=head2\n",
    "    while heada:\n",
    "        l1+=1\n",
    "        taia=heada\n",
    "        heada=heada.next\n",
    "    while headb:\n",
    "        l2+=1\n",
    "        taib=headb\n",
    "        headb=headb.next\n",
    "    if taib!=taila:\n",
    "        return None\n",
    "    \n",
    "    while l1!=l2:\n",
    "        if l1>l2:\n",
    "            head1=head1.next\n",
    "            l1-=1\n",
    "        if l2>l1:\n",
    "            head2=head2.next\n",
    "            l2-=1\n",
    "    while head1!=head2:\n",
    "        head1=head1.next\n",
    "        head2=head2.next\n",
    "    return head1"
   ]
  },
  {
   "cell_type": "markdown",
   "metadata": {},
   "source": [
    "### 23.合并K个排序的链表"
   ]
  },
  {
   "cell_type": "code",
   "execution_count": 51,
   "metadata": {},
   "outputs": [],
   "source": [
    "def mergeklists(lists):\n",
    "    if not lists:\n",
    "        return None\n",
    "    res=[]\n",
    "    for l in lists:\n",
    "        while l:\n",
    "            res.append(l.val)\n",
    "            l=l.next\n",
    "    res.sort()\n",
    "    start = ListNode(None)\n",
    "    head = start\n",
    "    for i in range(len(res)):\n",
    "        head.next=ListNode(res[i])\n",
    "        head=head.next\n",
    "    head.next=None\n",
    "    return start.next"
   ]
  },
  {
   "cell_type": "markdown",
   "metadata": {},
   "source": [
    "### 24.二叉树的最近公共祖先\n"
   ]
  },
  {
   "cell_type": "code",
   "execution_count": 52,
   "metadata": {},
   "outputs": [],
   "source": [
    "def lowestcommonancestor(root,p,q):\n",
    "    if not root or root==p or root==q:\n",
    "        return root\n",
    "    left = lowestcommonancestor(root.left,p,q)\n",
    "    right = lowestcommonancestor(rootright,p,q)\n",
    "    if not left and not right:\n",
    "        return None\n",
    "    if not left:\n",
    "        return right\n",
    "    if not right:\n",
    "        return right\n",
    "    if left and right:\n",
    "        return root"
   ]
  },
  {
   "cell_type": "markdown",
   "metadata": {},
   "source": [
    "### 25.二叉搜索树的公共祖先"
   ]
  },
  {
   "cell_type": "code",
   "execution_count": 54,
   "metadata": {},
   "outputs": [],
   "source": [
    "class Solution:\n",
    "    def lowestCommonAncestor(self, root, p, q):\n",
    "        if root == None:\n",
    "            return None\n",
    "        if (root.val>p.val and root.val<q.val) or (root.val<p.val and root.val>q.val):\n",
    "            return root\n",
    "        if root.val > p.val and root.val >q.val:\n",
    "            return self.lowestCommonAncestor(root.left,p,q)\n",
    "        if root.val < p.val and root.val <q.val:\n",
    "            return self.lowestCommonAncestor(root.right,p,q)\n",
    "        return root"
   ]
  },
  {
   "cell_type": "markdown",
   "metadata": {},
   "source": [
    "### 26.二叉树的锯齿层次遍历"
   ]
  },
  {
   "cell_type": "code",
   "execution_count": null,
   "metadata": {},
   "outputs": [],
   "source": [
    "class Solution:\n",
    "    def zigzagLevelOrder(self, root: TreeNode) -> List[List[int]]:\n",
    "        if not root: return []\n",
    "        res, stack, level = [], [root], False\n",
    "        while stack:\n",
    "            temp_list = []\n",
    "            for _ in range(len(stack)):\n",
    "                temp = stack.pop(0)\n",
    "                temp_list.append(temp.val)\n",
    "                if temp.left:\n",
    "                    stack.append(temp.left)\n",
    "                if temp.right:\n",
    "                    stack.append(temp.right)\n",
    "            if level:\n",
    "                temp_list.reverse()\n",
    "            level = not level\n",
    "            res.append(temp_list)\n",
    "        return res"
   ]
  },
  {
   "cell_type": "code",
   "execution_count": 55,
   "metadata": {},
   "outputs": [],
   "source": [
    "def zigzaglevelOrder(root):\n",
    "    if not root:\n",
    "        return []\n",
    "    res,stack,level=[],[root],False\n",
    "    while stack:\n",
    "        l=[]\n",
    "        for _ in stack:\n",
    "            temp = stack.pop(0)\n",
    "            l.append(temp.val)\n",
    "            if temp.left:\n",
    "                stack.append(temp.left)\n",
    "            if temp.right:\n",
    "                stack.append(temp.right)\n",
    "        if not level:\n",
    "            res.append(l)\n",
    "        else:\n",
    "            res.append(l[::-1])\n",
    "        level = not level\n",
    "    return res"
   ]
  },
  {
   "cell_type": "markdown",
   "metadata": {},
   "source": [
    "### 27.买股票的最佳时机"
   ]
  },
  {
   "cell_type": "code",
   "execution_count": 56,
   "metadata": {},
   "outputs": [],
   "source": [
    "def maxprofit(prices):\n",
    "    if not prices:\n",
    "        return 0\n",
    "    res = 0\n",
    "    minn = float(inf)\n",
    "    maxpro =  0\n",
    "    for i in range(len(prices)):\n",
    "        minn = min(minn,prices[i])\n",
    "        maxpro = max(maxpro,prices[i]-minn)\n",
    "    return maxpro"
   ]
  },
  {
   "cell_type": "markdown",
   "metadata": {},
   "source": [
    "### 28.最大子序和\n"
   ]
  },
  {
   "cell_type": "code",
   "execution_count": 57,
   "metadata": {},
   "outputs": [],
   "source": [
    "def maxsubarray(nums):\n",
    "    if not nums:\n",
    "        return 0\n",
    "    dp = [0]*len(nums)\n",
    "    if nums[0]>=0:\n",
    "        dp[0]=nums[0]\n",
    "    else:\n",
    "        dp[0]=0\n",
    "    for i in range(1,len(nums)):\n",
    "        if nums[i]+dp[i-1]>=0:\n",
    "            dp[i]=nums[i]+dp[i-1]\n",
    "        else:\n",
    "            dp[i]=0\n",
    "    return max(dp)"
   ]
  },
  {
   "cell_type": "markdown",
   "metadata": {},
   "source": [
    "### 29.最小栈"
   ]
  },
  {
   "cell_type": "code",
   "execution_count": 58,
   "metadata": {},
   "outputs": [],
   "source": [
    "class MinStack:\n",
    "    # @param x, an integer\n",
    "    def __init__(self):\n",
    "        self.stack1 = []\n",
    "        self.stack2 = []\n",
    "    # @return an integer\n",
    "    def push(self, x):\n",
    "        self.stack1.append(x)\n",
    "        if len(self.stack2) == 0 or x <= self.stack2[-1]:\n",
    "            self.stack2.append(x)\n",
    "\n",
    "    # @return nothing\n",
    "    def pop(self):\n",
    "        top = self.stack1[-1]\n",
    "        self.stack1.pop()\n",
    "        if top == self.stack2[-1]:\n",
    "            self.stack2.pop()\n",
    "        \n",
    "    # @return an integer\n",
    "    def top(self):\n",
    "        return self.stack1[-1]\n",
    "\n",
    "    # @return an integer\n",
    "    def getMin(self):\n",
    "        return self.stack2[-1]"
   ]
  },
  {
   "cell_type": "markdown",
   "metadata": {},
   "source": [
    "### 30.缓存机制"
   ]
  },
  {
   "cell_type": "code",
   "execution_count": 59,
   "metadata": {},
   "outputs": [],
   "source": [
    "class LRUCache:\n",
    "    def __init__(self, size):\n",
    "        self.size = size\n",
    "        self.hash_map = dict()\n",
    "        self.link = DoublyLink()\n",
    "        \n",
    "    def set(self, key, value):\n",
    "        if self.size == self.link.size:\n",
    "            self.link.remove(self.link.tail)\n",
    "        if key in self.hash_map:\n",
    "            self.link.remove(self.hash_map.get(key))\n",
    "        tmp_node = self.link.insert(value)\n",
    "        self.hash_map.__setitem__(key, tmp_node)\n",
    "        \n",
    "    def get(self, key):\n",
    "        tmp_node = self.hash_map.get(key)\n",
    "        self.link.remove(tmp_node)\n",
    "        self.link.insert(tmp_node)\n",
    "        return tmp_node.data"
   ]
  },
  {
   "cell_type": "markdown",
   "metadata": {},
   "source": [
    "### 31.全O(1)的数据结构"
   ]
  },
  {
   "cell_type": "code",
   "execution_count": 60,
   "metadata": {},
   "outputs": [],
   "source": [
    "class AllOne:\n",
    "\n",
    "    def __init__(self):\n",
    "        self.lookup = {}\n",
    "        \n",
    "    def inc(self, key: str) -> None:\n",
    "        self.lookup.setdefault(key, 0)\n",
    "        self.lookup[key] += 1\n",
    "        \n",
    "\n",
    "    def dec(self, key: str) -> None:\n",
    "        \"\"\"\n",
    "        Decrements an existing key by 1. If Key's value is 1, remove it from the data structure.\n",
    "        \"\"\"\n",
    "        if key in self.lookup:\n",
    "            if self.lookup[key] == 1:\n",
    "                self.lookup.pop(key)\n",
    "            else:\n",
    "                self.lookup[key] -= 1\n",
    "\n",
    "    def getMaxKey(self) -> str:\n",
    "        \"\"\"\n",
    "        Returns one of the keys with maximal value.\n",
    "        \"\"\"\n",
    "        return max(self.lookup.items(), key=lambda x: x[1], default=[\"\"])[0]\n",
    "        \n",
    "\n",
    "    def getMinKey(self) -> str:\n",
    "        \"\"\"\n",
    "        Returns one of the keys with Minimal value.\n",
    "        \"\"\"\n",
    "        return min(self.lookup.items(), key=lambda x: x[1], default=[\"\"])[0]"
   ]
  },
  {
   "cell_type": "markdown",
   "metadata": {},
   "source": [
    "### 32.X的平方根"
   ]
  },
  {
   "cell_type": "code",
   "execution_count": 61,
   "metadata": {},
   "outputs": [],
   "source": [
    "def mysqrt(x):\n",
    "    a=1\n",
    "    diff=float(inf)\n",
    "    while diff>0.1:\n",
    "        a=(x/a+a)/2\n",
    "        diff = abs(a*a-x)\n",
    "    return a"
   ]
  },
  {
   "cell_type": "markdown",
   "metadata": {},
   "source": [
    "### 33.UTF-8编码验证"
   ]
  },
  {
   "cell_type": "code",
   "execution_count": 63,
   "metadata": {},
   "outputs": [],
   "source": [
    "class Solution:\n",
    "    def validUtf8(self, data):\n",
    "        n_bytes = 0\n",
    "        for num in data:\n",
    "            bin_rep = format(num, '#010b')[-8:]\n",
    "            if n_bytes == 0:\n",
    "                for bit in bin_rep:\n",
    "                    if bit == '0': break\n",
    "                    n_bytes += 1\n",
    "                if n_bytes == 0:\n",
    "                    continue\n",
    "                if n_bytes == 1 or n_bytes > 4:\n",
    "                    return False\n",
    "            else:\n",
    "                if not (bin_rep[0] == '1' and bin_rep[1] == '0'):\n",
    "                    return False\n",
    "            n_bytes -= 1.\n",
    "        return n_bytes == 0 "
   ]
  },
  {
   "cell_type": "markdown",
   "metadata": {},
   "source": [
    "### 34.第二高的薪水"
   ]
  },
  {
   "cell_type": "code",
   "execution_count": null,
   "metadata": {},
   "outputs": [],
   "source": []
  }
 ],
 "metadata": {
  "kernelspec": {
   "display_name": "Python 3",
   "language": "python",
   "name": "python3"
  },
  "language_info": {
   "codemirror_mode": {
    "name": "ipython",
    "version": 3
   },
   "file_extension": ".py",
   "mimetype": "text/x-python",
   "name": "python",
   "nbconvert_exporter": "python",
   "pygments_lexer": "ipython3",
   "version": "3.7.7"
  }
 },
 "nbformat": 4,
 "nbformat_minor": 4
}
