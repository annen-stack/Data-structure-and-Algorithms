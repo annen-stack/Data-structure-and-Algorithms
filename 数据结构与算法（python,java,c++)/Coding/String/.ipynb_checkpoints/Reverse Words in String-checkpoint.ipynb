{
 "cells": [
  {
   "cell_type": "code",
   "execution_count": 1,
   "metadata": {},
   "outputs": [],
   "source": [
    "class Solution(object):\n",
    "    def reverseWords(self, s):\n",
    "        \"\"\"\n",
    "        :type s: str\n",
    "        :rtype: str\n",
    "        \"\"\"\n",
    "        return ' '.join(reversed(s.strip().split()))"
   ]
  },
  {
   "cell_type": "code",
   "execution_count": null,
   "metadata": {},
   "outputs": [],
   "source": [
    "//C++\n",
    "class Solution {\n",
    "public:\n",
    "    /**\n",
    "     * @param s : A string\n",
    "     * @return : A string\n",
    "     */\n",
    "    string reverseWords(string s) {\n",
    "        if (s.empty()) {\n",
    "            return s;\n",
    "        }\n",
    "\n",
    "        string s_ret, s_temp;\n",
    "        string::size_type ix = s.size();\n",
    "        while (ix != 0) {\n",
    "            s_temp.clear();\n",
    "            while (!isspace(s[--ix])) {\n",
    "                s_temp.push_back(s[ix]);\n",
    "                if (ix == 0) {\n",
    "                    break;\n",
    "                }\n",
    "            }\n",
    "            if (!s_temp.empty()) {\n",
    "                if (!s_ret.empty()) {\n",
    "                    s_ret.push_back(' ');\n",
    "                }\n",
    "                std::reverse(s_temp.begin(), s_temp.end());\n",
    "                s_ret.append(s_temp);\n",
    "            }\n",
    "        }\n",
    "\n",
    "        return s_ret;\n",
    "    }\n",
    "};"
   ]
  },
  {
   "cell_type": "code",
   "execution_count": null,
   "metadata": {},
   "outputs": [],
   "source": [
    "public class Solution {\n",
    "    public String reverseWords(String s) {\n",
    "        if (s == null || s.trim().isEmpty()) {\n",
    "            return \"\";\n",
    "        }\n",
    "\n",
    "        String[] words = s.split(\" \");\n",
    "        StringBuilder sb = new StringBuilder();\n",
    "        for (int i = words.length - 1; i >= 0; i--) {\n",
    "            if (!words[i].isEmpty()) {\n",
    "                sb.append(words[i]).append(\" \");\n",
    "            }\n",
    "        }\n",
    "\n",
    "        return sb.substring(0, sb.length() - 1);\n",
    "    }\n",
    "}"
   ]
  }
 ],
 "metadata": {
  "kernelspec": {
   "display_name": "Python 3",
   "language": "python",
   "name": "python3"
  },
  "language_info": {
   "codemirror_mode": {
    "name": "ipython",
    "version": 3
   },
   "file_extension": ".py",
   "mimetype": "text/x-python",
   "name": "python",
   "nbconvert_exporter": "python",
   "pygments_lexer": "ipython3",
   "version": "3.7.7"
  }
 },
 "nbformat": 4,
 "nbformat_minor": 4
}
