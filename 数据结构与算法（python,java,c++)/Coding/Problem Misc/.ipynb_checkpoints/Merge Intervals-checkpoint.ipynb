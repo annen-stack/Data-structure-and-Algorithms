{
 "cells": [
  {
   "cell_type": "code",
   "execution_count": null,
   "metadata": {},
   "outputs": [],
   "source": [
    "class Solution {\n",
    "    /**\n",
    "     * @param intervals: Sorted interval list.\n",
    "     * @return: A new sorted interval list.\n",
    "     */\n",
    "    public List<Interval> merge(List<Interval> intervals) {\n",
    "        if (intervals == null || intervals.isEmpty()) return intervals;\n",
    "\n",
    "        List<Interval> result = new ArrayList<Interval>();\n",
    "        // sort with Comparator\n",
    "        Collections.sort(intervals, new IntervalComparator());\n",
    "        Interval prev = intervals.get(0);\n",
    "        for (Interval interval : intervals) {\n",
    "            if (prev.end < interval.start) {\n",
    "                result.add(prev);\n",
    "                prev = interval;\n",
    "            } else {\n",
    "                prev.start = Math.min(prev.start, interval.start);\n",
    "                prev.end = Math.max(prev.end, interval.end);\n",
    "            }\n",
    "        }\n",
    "        result.add(prev);\n",
    "\n",
    "        return result;\n",
    "    }\n",
    "\n",
    "    private class IntervalComparator implements Comparator<Interval> {\n",
    "        public int compare(Interval a, Interval b) {\n",
    "            return a.start - b.start;\n",
    "        }\n",
    "    }\n",
    "\n",
    "}"
   ]
  }
 ],
 "metadata": {
  "kernelspec": {
   "display_name": "Python 3",
   "language": "python",
   "name": "python3"
  },
  "language_info": {
   "codemirror_mode": {
    "name": "ipython",
    "version": 3
   },
   "file_extension": ".py",
   "mimetype": "text/x-python",
   "name": "python",
   "nbconvert_exporter": "python",
   "pygments_lexer": "ipython3",
   "version": "3.7.7"
  }
 },
 "nbformat": 4,
 "nbformat_minor": 4
}
