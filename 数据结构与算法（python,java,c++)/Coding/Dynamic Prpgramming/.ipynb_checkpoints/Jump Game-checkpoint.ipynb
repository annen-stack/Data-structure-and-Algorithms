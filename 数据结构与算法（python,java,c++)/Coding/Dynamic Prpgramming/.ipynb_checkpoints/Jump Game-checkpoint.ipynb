{
 "cells": [
  {
   "cell_type": "code",
   "execution_count": null,
   "metadata": {},
   "outputs": [],
   "source": [
    "class Solution {\n",
    "public:\n",
    "    /**\n",
    "     * @param A: A list of integers\n",
    "     * @return: The boolean answer\n",
    "     */\n",
    "    bool canJump(vector<int> A) {\n",
    "        if (A.empty()) {\n",
    "            return true;\n",
    "        }\n",
    "\n",
    "        vector<bool> jumpto(A.size(), false);\n",
    "        jumpto[0] = true;\n",
    "\n",
    "        for (int i = 1; i != A.size(); ++i) {\n",
    "            for (int j = i - 1; j >= 0; --j) {\n",
    "                if (jumpto[j] && (j + A[j] >= i)) {\n",
    "                    jumpto[i] = true;\n",
    "                    break;\n",
    "                }\n",
    "            }\n",
    "        }\n",
    "\n",
    "        return jumpto[A.size() - 1];\n",
    "    }\n",
    "};"
   ]
  }
 ],
 "metadata": {
  "kernelspec": {
   "display_name": "Python 3",
   "language": "python",
   "name": "python3"
  },
  "language_info": {
   "codemirror_mode": {
    "name": "ipython",
    "version": 3
   },
   "file_extension": ".py",
   "mimetype": "text/x-python",
   "name": "python",
   "nbconvert_exporter": "python",
   "pygments_lexer": "ipython3",
   "version": "3.7.7"
  }
 },
 "nbformat": 4,
 "nbformat_minor": 4
}
