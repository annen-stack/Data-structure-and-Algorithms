{
 "cells": [
  {
   "cell_type": "markdown",
   "metadata": {},
   "source": [
    "## 自右下而左下"
   ]
  },
  {
   "cell_type": "code",
   "execution_count": 2,
   "metadata": {},
   "outputs": [],
   "source": [
    "def searchMatrix( matrix, target):\n",
    "    if not matrix or not matrix[0]:\n",
    "        return 0\n",
    "    occur=0\n",
    "    row,col=0,len(matrix[0])-1\n",
    "    while row<len(matrix) and col>=0:\n",
    "        if matrix[row][col]==target:\n",
    "            occur+=1\n",
    "            col-=1\n",
    "        elif matrix[row][col]<target:\n",
    "            row+=1\n",
    "        else:\n",
    "            col-=1\n",
    "    return occur"
   ]
  },
  {
   "cell_type": "code",
   "execution_count": null,
   "metadata": {},
   "outputs": [],
   "source": [
    "//C++\n",
    "class Solution {\n",
    "public:\n",
    "    /**\n",
    "     * @param matrix: A list of lists of integers\n",
    "     * @param target: An integer you want to search in matrix\n",
    "     * @return: An integer indicate the total occurrence of target in the given matrix\n",
    "     */\n",
    "    int searchMatrix(vector<vector<int> > &matrix, int target) {\n",
    "        if (matrix.empty() || matrix[0].empty()) {\n",
    "            return 0;\n",
    "        }\n",
    "\n",
    "        const int ROW = matrix.size();\n",
    "        const int COL = matrix[0].size();\n",
    "\n",
    "        int row = 0, col = COL - 1;\n",
    "        int occur = 0;\n",
    "        while (row < ROW && col >= 0) {\n",
    "            if (target == matrix[row][col]) {\n",
    "                ++occur;\n",
    "                --col;\n",
    "            } else if (target < matrix[row][col]){\n",
    "                --col;\n",
    "            } else {\n",
    "                ++row;\n",
    "            }\n",
    "        }\n",
    "\n",
    "        return occur;\n",
    "    }\n",
    "};"
   ]
  },
  {
   "cell_type": "code",
   "execution_count": null,
   "metadata": {},
   "outputs": [],
   "source": [
    "//JAVA\n",
    "public class Solution {\n",
    "    /**\n",
    "     * @param matrix: A list of lists of integers\n",
    "     * @param: A number you want to search in the matrix\n",
    "     * @return: An integer indicate the occurrence of target in the given matrix\n",
    "     */\n",
    "    public int searchMatrix(int[][] matrix, int target) {\n",
    "        int occurrence = 0;\n",
    "        if (matrix == null || matrix[0] == null) {\n",
    "            return occurrence;\n",
    "        }\n",
    "\n",
    "        int row = 0, col = matrix[0].length - 1;\n",
    "        while (row >= 0 && row < matrix.length && col >= 0 && col < matrix[0].length) {\n",
    "            if (matrix[row][col] == target) {\n",
    "                occurrence++;\n",
    "                col--;\n",
    "            } else if (matrix[row][col] > target) {\n",
    "                col--;\n",
    "            } else {\n",
    "                row++;\n",
    "            }\n",
    "        }\n",
    "\n",
    "        return occurrence;\n",
    "    }\n",
    "}"
   ]
  },
  {
   "cell_type": "markdown",
   "metadata": {},
   "source": [
    "## 复杂度分析"
   ]
  },
  {
   "cell_type": "markdown",
   "metadata": {},
   "source": [
    "由于每行每列遍历一次，故时间复杂度为 \n",
    "O(m+n)."
   ]
  },
  {
   "cell_type": "code",
   "execution_count": null,
   "metadata": {},
   "outputs": [],
   "source": []
  }
 ],
 "metadata": {
  "kernelspec": {
   "display_name": "Python 3",
   "language": "python",
   "name": "python3"
  },
  "language_info": {
   "codemirror_mode": {
    "name": "ipython",
    "version": 3
   },
   "file_extension": ".py",
   "mimetype": "text/x-python",
   "name": "python",
   "nbconvert_exporter": "python",
   "pygments_lexer": "ipython3",
   "version": "3.7.7"
  }
 },
 "nbformat": 4,
 "nbformat_minor": 4
}
