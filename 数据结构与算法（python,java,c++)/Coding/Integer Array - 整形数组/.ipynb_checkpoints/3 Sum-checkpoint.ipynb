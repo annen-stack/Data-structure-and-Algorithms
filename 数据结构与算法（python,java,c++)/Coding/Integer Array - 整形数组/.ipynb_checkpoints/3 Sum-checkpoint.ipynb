{
 "cells": [
  {
   "cell_type": "markdown",
   "metadata": {},
   "source": [
    "Given an array S of n integers, are there elements a, b, c in S such that a + b + c = 0? Find all unique triplets in the array which gives the sum of zero."
   ]
  },
  {
   "cell_type": "markdown",
   "metadata": {},
   "source": [
    "## 题解1 - 排序 + 哈希表 + 2 Sum"
   ]
  },
  {
   "cell_type": "markdown",
   "metadata": {},
   "source": [
    "相比之前的 2 Sum, 3 Sum 又多加了一个数，按照之前 2 Sum 的分解为『1 Sum + 1 Sum』的思路，我们同样可以将 3 Sum 分解为『1 Sum + 2 Sum』的问题，具体就是首先对原数组排序，排序后选出第一个元素，随后在剩下的元素中使用 2 Sum 的解法。"
   ]
  },
  {
   "cell_type": "code",
   "execution_count": 2,
   "metadata": {},
   "outputs": [],
   "source": [
    "def threeSum(nums):\n",
    "    triplets=[]\n",
    "    length=len(nums)\n",
    "    if length<3:\n",
    "        return triplets\n",
    "    nums.sort()\n",
    "    for i in range(length):\n",
    "        target=0-nums[i]\n",
    "        \n",
    "        hashmap={}\n",
    "        for j in range(i+1,length):\n",
    "            item_j=nums[j]\n",
    "            if (target-item_j) in hashmap:\n",
    "                triplet=[nums[i],item_j,target-item_j]\n",
    "                if triplet not in triplets:\n",
    "                    triplets.append(triplet)\n",
    "            else:\n",
    "                hashmap[item_j]=j\n",
    "    return triplets"
   ]
  },
  {
   "cell_type": "markdown",
   "metadata": {},
   "source": [
    "### 复杂度分析"
   ]
  },
  {
   "cell_type": "markdown",
   "metadata": {},
   "source": [
    "排序时间复杂度 \n",
    "O(nlogn), 两重for循环，时间复杂度近似为 \n",
    "O(n2)，使用哈希表(字典)实现，空间复杂度为 \n",
    "O(n)."
   ]
  },
  {
   "cell_type": "code",
   "execution_count": null,
   "metadata": {},
   "outputs": [],
   "source": [
    "//C++\n",
    "class Solution {\n",
    "public:\n",
    "    vector<vector<int> > threeSum(vector<int> &num) \n",
    "    {\n",
    "        vector<vector<int> > result;\n",
    "        if (num.size() < 3) return result;\n",
    "\n",
    "        int ans = 0;\n",
    "\n",
    "        sort(num.begin(), num.end());\n",
    "\n",
    "        for (int i = 0;i < num.size() - 2; ++i)\n",
    "        {\n",
    "            if (i > 0 && num[i] == num[i - 1])  \n",
    "                continue;\n",
    "            int j = i + 1;\n",
    "            int k = num.size() - 1;\n",
    "\n",
    "            while (j < k)\n",
    "            {\n",
    "                ans = num[i] + num[j] + num[k];\n",
    "\n",
    "                if (ans == 0)\n",
    "                {\n",
    "                    result.push_back({num[i], num[j], num[k]});\n",
    "                    ++j;\n",
    "                    while (j < num.size() && num[j] == num[j - 1])\n",
    "                        ++j;\n",
    "                    --k;\n",
    "                    while (k >= 0 && num[k] == num[k + 1])\n",
    "                        --k;\n",
    "                }\n",
    "                else if (ans > 0) \n",
    "                    --k;\n",
    "                else \n",
    "                    ++j;\n",
    "            }\n",
    "        }\n",
    "\n",
    "        return result;\n",
    "    }\n",
    "};"
   ]
  },
  {
   "cell_type": "code",
   "execution_count": null,
   "metadata": {},
   "outputs": [],
   "source": [
    "//Java\n",
    "public class Solution {\n",
    "    public List<List<Integer>> threeSum(int[] nums) {\n",
    "        // Assumptions: array is not null, array.length >= 3\n",
    "        List<List<Integer>> result = new ArrayList<List<Integer>>();\n",
    "        Arrays.sort(nums);\n",
    "        for (int i = 0; i < nums.length - 2; i++) {\n",
    "            if (i > 0 && nums[i] == nums[i - 1]) {\n",
    "                continue;\n",
    "            }\n",
    "            int left = i + 1;\n",
    "            int right = nums.length - 1;\n",
    "            while (left < right) {\n",
    "                int tmp = nums[left] + nums[right];\n",
    "                if (tmp + nums[i] == 0) {\n",
    "                    result.add(Arrays.asList(nums[i], nums[left], nums[right]));\n",
    "                    left++;\n",
    "                    while (left < right && nums[left] == nums[left - 1]) {\n",
    "                        left++;\n",
    "                    }\n",
    "                } else if (tmp + nums[i] < 0) {\n",
    "                    left++;\n",
    "                } else {\n",
    "                    right--;\n",
    "                }\n",
    "            }\n",
    "        }\n",
    "        return result;\n",
    "    }\n",
    "}"
   ]
  },
  {
   "cell_type": "markdown",
   "metadata": {},
   "source": [
    "### 复杂度分析"
   ]
  },
  {
   "cell_type": "markdown",
   "metadata": {},
   "source": [
    "外循环i走了n轮,每轮j和k一共走n-i步，所以时间复杂度为\n",
    "O(n2)"
   ]
  },
  {
   "cell_type": "code",
   "execution_count": null,
   "metadata": {},
   "outputs": [],
   "source": []
  }
 ],
 "metadata": {
  "kernelspec": {
   "display_name": "Python 3",
   "language": "python",
   "name": "python3"
  },
  "language_info": {
   "codemirror_mode": {
    "name": "ipython",
    "version": 3
   },
   "file_extension": ".py",
   "mimetype": "text/x-python",
   "name": "python",
   "nbconvert_exporter": "python",
   "pygments_lexer": "ipython3",
   "version": "3.7.7"
  }
 },
 "nbformat": 4,
 "nbformat_minor": 4
}
