{
 "cells": [
  {
   "cell_type": "markdown",
   "metadata": {},
   "source": [
    "Given a linked list, determine if it has a cycle in it.\n",
    "\n",
    "Example\n",
    "Given -21->10->4->5, tail connects to node index 1, return true\n",
    "\n",
    "Challenge\n",
    "Follow up:\n",
    "Can you solve it without using extra space?"
   ]
  },
  {
   "cell_type": "code",
   "execution_count": null,
   "metadata": {},
   "outputs": [],
   "source": [
    "public class Solution {\n",
    "    public boolean hasCycle(ListNode head) {\n",
    "        if (head == null || head.next == null) {\n",
    "            return false;\n",
    "        }\n",
    "\n",
    "        ListNode slow = head;\n",
    "        ListNode fast = head;\n",
    "        while (fast.next != null && fast.next.next != null) {\n",
    "            slow = slow.next;\n",
    "            fast = fast.next.next;\n",
    "            if (slow == fast) {\n",
    "                return true;\n",
    "            }\n",
    "        }\n",
    "        return false;\n",
    "    }\n",
    "}"
   ]
  },
  {
   "cell_type": "markdown",
   "metadata": {},
   "source": [
    "在无环时，快指针每次走两步走到尾部节点，遍历的时间复杂度为 \n",
    "O(n/2).\n",
    "\n",
    "有环时，最坏的时间复杂度近似为 O(n). 最坏情况下链表的头尾相接，此时快指针恰好在慢指针前一个节点，还需 n 次快慢指针相遇。最好情况和无环相同，尾节点出现环。\n",
    "\n",
    "\n",
    "故总的时间复杂度可近似为 O(n)."
   ]
  },
  {
   "cell_type": "code",
   "execution_count": null,
   "metadata": {},
   "outputs": [],
   "source": []
  }
 ],
 "metadata": {
  "kernelspec": {
   "display_name": "Python 3",
   "language": "python",
   "name": "python3"
  },
  "language_info": {
   "codemirror_mode": {
    "name": "ipython",
    "version": 3
   },
   "file_extension": ".py",
   "mimetype": "text/x-python",
   "name": "python",
   "nbconvert_exporter": "python",
   "pygments_lexer": "ipython3",
   "version": "3.7.7"
  }
 },
 "nbformat": 4,
 "nbformat_minor": 4
}
