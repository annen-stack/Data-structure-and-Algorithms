{
 "cells": [
  {
   "cell_type": "code",
   "execution_count": 1,
   "metadata": {},
   "outputs": [],
   "source": [
    "class Solution(object):\n",
    "    def lengthOfLastWord(self, s):\n",
    "        \"\"\"\n",
    "        :type s: str\n",
    "        :rtype: int\n",
    "        \"\"\"\n",
    "        if s is None: return 0\n",
    "\n",
    "        last_word = s.split()\n",
    "        return len(last_word[-1]) if last_word else 0"
   ]
  },
  {
   "cell_type": "code",
   "execution_count": null,
   "metadata": {},
   "outputs": [],
   "source": [
    "class Solution(object):\n",
    "    def lengthOfLastWord(self, s):\n",
    "        \"\"\"\n",
    "        :type s: str\n",
    "        :rtype: int\n",
    "        \"\"\"\n",
    "        if s is None: return 0\n",
    "        cnt = 0\n",
    "        for c in reversed(s):\n",
    "            if c == ' ':\n",
    "                if cnt > 0: break\n",
    "            else:\n",
    "                cnt += 1\n",
    "\n",
    "        return cnt"
   ]
  },
  {
   "cell_type": "code",
   "execution_count": null,
   "metadata": {},
   "outputs": [],
   "source": [
    "//c++\n",
    "class Solution {\n",
    "public:\n",
    "    int lengthOfLastWord(string s) {\n",
    "        if (s.length() == 0) return 0;\n",
    "\n",
    "        int cnt = 0;\n",
    "        for (int i = s.length() - 1; i >= 0; --i) {\n",
    "            if (s[i] == ' ') {\n",
    "                if (cnt > 0) break;\n",
    "            } else {\n",
    "                cnt++;\n",
    "            }\n",
    "        }\n",
    "\n",
    "        return cnt;\n",
    "    }\n",
    "};"
   ]
  },
  {
   "cell_type": "code",
   "execution_count": null,
   "metadata": {},
   "outputs": [],
   "source": [
    "//Java\n",
    "public class Solution {\n",
    "    public int lengthOfLastWord(String s) {\n",
    "        if (s == null || s.isEmpty()) return 0;\n",
    "\n",
    "        int len = 0;\n",
    "        for (int i = s.length() - 1; i >= 0; i--) {\n",
    "            if (s.charAt(i) == ' ') {\n",
    "                if (len > 0) return len;\n",
    "            } else {\n",
    "                len++;\n",
    "            }\n",
    "        }\n",
    "\n",
    "        return len;\n",
    "    }\n",
    "}"
   ]
  },
  {
   "cell_type": "markdown",
   "metadata": {},
   "source": [
    "### 复杂度分析"
   ]
  },
  {
   "cell_type": "markdown",
   "metadata": {},
   "source": [
    "遍历一次，时间复杂度 \n",
    "O(n)，不复制源字符串，空间复杂度 \n",
    "O(1)."
   ]
  },
  {
   "cell_type": "code",
   "execution_count": null,
   "metadata": {},
   "outputs": [],
   "source": []
  }
 ],
 "metadata": {
  "kernelspec": {
   "display_name": "Python 3",
   "language": "python",
   "name": "python3"
  },
  "language_info": {
   "codemirror_mode": {
    "name": "ipython",
    "version": 3
   },
   "file_extension": ".py",
   "mimetype": "text/x-python",
   "name": "python",
   "nbconvert_exporter": "python",
   "pygments_lexer": "ipython3",
   "version": "3.7.7"
  }
 },
 "nbformat": 4,
 "nbformat_minor": 4
}
