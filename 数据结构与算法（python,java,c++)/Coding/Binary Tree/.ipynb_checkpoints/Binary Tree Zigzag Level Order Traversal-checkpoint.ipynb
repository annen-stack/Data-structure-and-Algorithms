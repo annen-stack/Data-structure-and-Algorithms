{
 "cells": [
  {
   "cell_type": "code",
   "execution_count": null,
   "metadata": {},
   "outputs": [],
   "source": [
    "public class Solution {\n",
    "    /**\n",
    "     * @param root: The root of binary tree.\n",
    "     * @return: A list of lists of integer include\n",
    "     *          the zigzag level order traversal of its nodes' values\n",
    "     */\n",
    "    public ArrayList<ArrayList<Integer>> zigzagLevelOrder(TreeNode root) {\n",
    "        ArrayList<ArrayList<Integer>> result = new ArrayList<ArrayList<Integer>>();\n",
    "        if (root == null) return result;\n",
    "\n",
    "        boolean odd = true;\n",
    "        Queue<TreeNode> q = new LinkedList<TreeNode>();\n",
    "        q.offer(root);\n",
    "        while (!q.isEmpty()) {\n",
    "            // level traversal\n",
    "            int qLen = q.size();\n",
    "            ArrayList<Integer> level = new ArrayList<Integer>();\n",
    "            for (int i = 0; i < qLen; i++) {\n",
    "                TreeNode node = q.poll();\n",
    "                level.add(node.val);\n",
    "                if (node.left != null) q.offer(node.left);\n",
    "                if (node.right != null) q.offer(node.right);\n",
    "            }\n",
    "            // add level order reverse for even\n",
    "            if (odd) {\n",
    "                result.add(level);\n",
    "            } else {\n",
    "                Collections.reverse(level);\n",
    "                result.add(level);\n",
    "            }\n",
    "            // flip odd and even\n",
    "            odd = !odd;\n",
    "        }\n",
    "\n",
    "        return result;\n",
    "    }\n",
    "}"
   ]
  }
 ],
 "metadata": {
  "kernelspec": {
   "display_name": "Python 3",
   "language": "python",
   "name": "python3"
  },
  "language_info": {
   "codemirror_mode": {
    "name": "ipython",
    "version": 3
   },
   "file_extension": ".py",
   "mimetype": "text/x-python",
   "name": "python",
   "nbconvert_exporter": "python",
   "pygments_lexer": "ipython3",
   "version": "3.7.7"
  }
 },
 "nbformat": 4,
 "nbformat_minor": 4
}
