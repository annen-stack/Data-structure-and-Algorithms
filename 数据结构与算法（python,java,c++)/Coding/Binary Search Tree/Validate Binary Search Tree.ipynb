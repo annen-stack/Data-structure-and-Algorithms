{
 "cells": [
  {
   "cell_type": "code",
   "execution_count": null,
   "metadata": {},
   "outputs": [],
   "source": [
    "//递归\n",
    "public class Solution {\n",
    "    /**\n",
    "     * @param root: The root of binary tree.\n",
    "     * @return: True if the binary tree is BST, or false\n",
    "     */\n",
    "    public boolean isValidBST(TreeNode root) {\n",
    "        if (root == null) return true;\n",
    "\n",
    "        return helper(root, Long.MIN_VALUE, Long.MAX_VALUE);\n",
    "    }\n",
    "\n",
    "    private boolean helper(TreeNode root, long lower, long upper) {\n",
    "        if (root == null) return true;\n",
    "        if (root.val >= upper || root.val <= lower) return false;\n",
    "        boolean isLeftValidBST = helper(root.left, lower, root.val);\n",
    "        boolean isRightValidBST = helper(root.right, root.val, upper);\n",
    "\n",
    "        return isLeftValidBST && isRightValidBST;\n",
    "    }\n",
    "}"
   ]
  },
  {
   "cell_type": "code",
   "execution_count": null,
   "metadata": {},
   "outputs": [],
   "source": [
    "//遍历\n",
    "public class Solution {\n",
    "    public boolean isValidBST(TreeNode root) {\n",
    "        Deque<TreeNode> st = new ArrayDeque<>();\n",
    "        long pre = Long.MIN_VALUE;\n",
    "        // inorder traverse\n",
    "        while (root != null || !st.isEmpty()) {\n",
    "            if (root != null) {\n",
    "                st.push(root);\n",
    "                root = root.left;\n",
    "            }\n",
    "            else {\n",
    "                root = st.pop();\n",
    "                if (root.val > pre)\n",
    "                    pre = root.val;\n",
    "                else\n",
    "                    return false;\n",
    "                root = root.right;\n",
    "            }\n",
    "        }\n",
    "        return true;\n",
    "    }\n",
    "}"
   ]
  }
 ],
 "metadata": {
  "kernelspec": {
   "display_name": "Python 3",
   "language": "python",
   "name": "python3"
  },
  "language_info": {
   "codemirror_mode": {
    "name": "ipython",
    "version": 3
   },
   "file_extension": ".py",
   "mimetype": "text/x-python",
   "name": "python",
   "nbconvert_exporter": "python",
   "pygments_lexer": "ipython3",
   "version": "3.7.7"
  }
 },
 "nbformat": 4,
 "nbformat_minor": 4
}
