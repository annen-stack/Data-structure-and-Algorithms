{
 "cells": [
  {
   "cell_type": "code",
   "execution_count": null,
   "metadata": {},
   "outputs": [],
   "source": [
    "class Solution: \n",
    "    # @param word1 & word2: Two string.\n",
    "    # @return: The minimum number of steps.\n",
    "    def minDistance(self, word1, word2):\n",
    "        len1, len2 = 0, 0\n",
    "        if word1:\n",
    "            len1 = len(word1)\n",
    "        if word2:\n",
    "            len2 = len(word2)\n",
    "        if not word1 or not word2:\n",
    "            return max(len1, len2)\n",
    "\n",
    "        f = [[i + j for i in xrange(1 + len2)] for j in xrange(1 + len1)]\n",
    "\n",
    "        for i in xrange(1, 1 + len1):\n",
    "            for j in xrange(1, 1 + len2):\n",
    "                if word1[i - 1] == word2[j - 1]:\n",
    "                    f[i][j] = min(f[i - 1][j - 1], 1 + f[i - 1][j], 1 + f[i][j - 1])\n",
    "                else:\n",
    "                    f[i][j] = 1 + min(f[i - 1][j - 1], f[i - 1][j], f[i][j - 1])\n",
    "        return f[len1][len2]"
   ]
  }
 ],
 "metadata": {
  "kernelspec": {
   "display_name": "Python 3",
   "language": "python",
   "name": "python3"
  },
  "language_info": {
   "codemirror_mode": {
    "name": "ipython",
    "version": 3
   },
   "file_extension": ".py",
   "mimetype": "text/x-python",
   "name": "python",
   "nbconvert_exporter": "python",
   "pygments_lexer": "ipython3",
   "version": "3.7.7"
  }
 },
 "nbformat": 4,
 "nbformat_minor": 4
}
