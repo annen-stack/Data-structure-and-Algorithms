{
 "cells": [
  {
   "cell_type": "markdown",
   "metadata": {},
   "source": [
    "题意为找任意两个节点间绝对值差的最小值，根据二叉搜索树的特性，中序遍历即得有序数组，找出相邻两数的最小差值即为解。"
   ]
  },
  {
   "cell_type": "code",
   "execution_count": null,
   "metadata": {},
   "outputs": [],
   "source": [
    "public class Solution {\n",
    "    private int min = Integer.MAX_VALUE;\n",
    "    private TreeNode prev = null;\n",
    "\n",
    "    public int getMinimumDifference(TreeNode root) {\n",
    "        if (root == null) return min;\n",
    "\n",
    "        getMinimumDifference(root.left);\n",
    "        if (prev != null) {\n",
    "            min = Math.min(min, root.val - prev.val);\n",
    "        }\n",
    "        prev = root;\n",
    "        getMinimumDifference(root.right);\n",
    "        return min;\n",
    "    }\n",
    "}"
   ]
  },
  {
   "cell_type": "code",
   "execution_count": null,
   "metadata": {},
   "outputs": [],
   "source": [
    "public class Solution {\n",
    "    public int getMinimumDifference(TreeNode root) {\n",
    "        int min = Integer.MAX_VALUE;\n",
    "        TreeNode prev = null;\n",
    "        Deque<TreeNode> stack = new ArrayDeque<TreeNode>();\n",
    "\n",
    "        while (root != null || (!stack.isEmpty())) {\n",
    "            if (root != null) {\n",
    "                stack.push(root);\n",
    "                root = root.left;\n",
    "            } else {\n",
    "                root = stack.pop();\n",
    "                if (prev != null) {\n",
    "                    min = Math.min(min, root.val - prev.val);\n",
    "                }\n",
    "                prev = root;\n",
    "                root = root.right;\n",
    "            }\n",
    "        }\n",
    "\n",
    "        return min;\n",
    "    }\n",
    "}"
   ]
  }
 ],
 "metadata": {
  "kernelspec": {
   "display_name": "Python 3",
   "language": "python",
   "name": "python3"
  },
  "language_info": {
   "codemirror_mode": {
    "name": "ipython",
    "version": 3
   },
   "file_extension": ".py",
   "mimetype": "text/x-python",
   "name": "python",
   "nbconvert_exporter": "python",
   "pygments_lexer": "ipython3",
   "version": "3.7.7"
  }
 },
 "nbformat": 4,
 "nbformat_minor": 4
}
