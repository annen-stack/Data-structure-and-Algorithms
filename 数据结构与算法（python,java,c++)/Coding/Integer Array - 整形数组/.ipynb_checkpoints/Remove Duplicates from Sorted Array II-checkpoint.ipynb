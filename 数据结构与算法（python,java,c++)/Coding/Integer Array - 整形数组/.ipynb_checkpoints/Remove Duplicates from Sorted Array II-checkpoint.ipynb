{
 "cells": [
  {
   "cell_type": "markdown",
   "metadata": {},
   "source": [
    "Follow up for \"Remove Duplicates\":\n",
    "What if duplicates are allowed **at most twice**?\n",
    "\n",
    "For example,\n",
    "Given sorted array A = [1,1,1,2,2,3],\n",
    "\n",
    "Your function should return length = 5, and A is now [1,1,2,2,3].\n",
    "Example"
   ]
  },
  {
   "cell_type": "code",
   "execution_count": null,
   "metadata": {},
   "outputs": [],
   "source": [
    "//C++\n",
    "public class Solution {\n",
    "    /**\n",
    "     * @param A: a array of integers\n",
    "     * @return : return an integer\n",
    "     */\n",
    "    public int removeDuplicates(int[] nums) {\n",
    "        if (nums == null) return -1;\n",
    "        if (nums.length <= 2) return nums.length;\n",
    "\n",
    "        int newIndex = 1;\n",
    "        for (int i = 2; i < nums.length; i++) {\n",
    "            if (nums[i] != nums[newIndex] || nums[i] != nums[newIndex - 1]) {\n",
    "                newIndex++;\n",
    "                nums[newIndex] = nums[i];\n",
    "            }\n",
    "        }\n",
    "\n",
    "        return newIndex + 1;\n",
    "    }\n",
    "}"
   ]
  },
  {
   "cell_type": "code",
   "execution_count": null,
   "metadata": {},
   "outputs": [],
   "source": [
    "//Java\n",
    "public class Solution {\n",
    "    /**\n",
    "     * @param A: a array of integers\n",
    "     * @return : return an integer\n",
    "     */\n",
    "    public int removeDuplicates(int[] nums) {\n",
    "        if (nums == null) return -1;\n",
    "        if (nums.length <= 2) return nums.length;\n",
    "\n",
    "        int newIndex = 1;\n",
    "        for (int i = 2; i < nums.length; i++) {\n",
    "            if (nums[i] != nums[newIndex] || nums[i] != nums[newIndex - 1]) {\n",
    "                newIndex++;\n",
    "                nums[newIndex] = nums[i];\n",
    "            }\n",
    "        }\n",
    "\n",
    "        return newIndex + 1;\n",
    "    }\n",
    "}"
   ]
  },
  {
   "cell_type": "markdown",
   "metadata": {},
   "source": [
    "### 复杂度分析"
   ]
  },
  {
   "cell_type": "markdown",
   "metadata": {},
   "source": [
    "时间复杂度 \n",
    "O(n), 空间复杂度 \n",
    "O(1)."
   ]
  }
 ],
 "metadata": {
  "kernelspec": {
   "display_name": "Python 3",
   "language": "python",
   "name": "python3"
  },
  "language_info": {
   "codemirror_mode": {
    "name": "ipython",
    "version": 3
   },
   "file_extension": ".py",
   "mimetype": "text/x-python",
   "name": "python",
   "nbconvert_exporter": "python",
   "pygments_lexer": "ipython3",
   "version": "3.7.7"
  }
 },
 "nbformat": 4,
 "nbformat_minor": 4
}
