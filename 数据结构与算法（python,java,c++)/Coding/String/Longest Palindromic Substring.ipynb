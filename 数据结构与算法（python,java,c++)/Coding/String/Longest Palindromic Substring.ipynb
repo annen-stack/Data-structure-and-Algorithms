{
 "cells": [
  {
   "cell_type": "code",
   "execution_count": 1,
   "metadata": {},
   "outputs": [],
   "source": [
    "#找出最长的回文串\n",
    "class Solution:\n",
    "    # @param {string} s input string\n",
    "    # @return {string} the longest palindromic substring\n",
    "    def longestPalindrome(self, s):\n",
    "        if not s:\n",
    "            return \"\"\n",
    "\n",
    "        n = len(s)\n",
    "        longest, left, right = 0, 0, 0\n",
    "        for i in xrange(0, n):\n",
    "            for j in xrange(i + 1, n + 1):\n",
    "                substr = s[i:j]\n",
    "                if self.isPalindrome(substr) and len(substr) > longest:\n",
    "                    longest = len(substr)\n",
    "                    left, right = i, j\n",
    "        # construct longest substr\n",
    "        result = s[left:right]\n",
    "        return result\n",
    "\n",
    "    def isPalindrome(self, s):\n",
    "        if not s:\n",
    "            return False\n",
    "        # reverse compare\n",
    "        return s == s[::-1]"
   ]
  },
  {
   "cell_type": "markdown",
   "metadata": {},
   "source": [
    "### 复杂度分析"
   ]
  },
  {
   "cell_type": "markdown",
   "metadata": {},
   "source": [
    "穷举所有的子串，\n",
    "O(Cn2)=O(n2)，O(C_n^2) = O(n^2)\n",
    ", 每次判断字符串是否为回文，复杂度为 \n",
    "O(n), 故总的时间复杂度为 \n",
    "O(n3), 大数据集下可能 TLE. 仅在最后返回取子串，空间复杂度为 \n",
    "O(1). P.S. 目前仅 Java 对回文判断优化过。"
   ]
  },
  {
   "cell_type": "markdown",
   "metadata": {},
   "source": [
    "### 解二"
   ]
  },
  {
   "cell_type": "code",
   "execution_count": null,
   "metadata": {},
   "outputs": [],
   "source": [
    "string palindrome(string& s, int l, int r) {\n",
    "    while (l>=0 && r<s.size() && s[l]==s[r]) l--, r++;\n",
    "    return s.substr(l+1, r-l-1);\n",
    "}\n",
    "\n",
    "string longestPalindrome(string s) {\n",
    "    if (s.empty()) return s;\n",
    "\n",
    "    string res;\n",
    "    for (int i=0; i<s.size(); i++) {\n",
    "        string t;\n",
    "        t = palindrome(s, i, i);\n",
    "        if (t.size() > res.size()) res = t;\n",
    "\n",
    "        t = palindrome(s, i, i+1);\n",
    "        if (t.size() > res.size()) res = t;   \n",
    "    }\n",
    "    return res;\n",
    "}"
   ]
  },
  {
   "cell_type": "markdown",
   "metadata": {},
   "source": [
    "### 复杂度分析"
   ]
  },
  {
   "cell_type": "markdown",
   "metadata": {},
   "source": [
    "时间复杂度降到 \n",
    "O(n2)."
   ]
  },
  {
   "cell_type": "code",
   "execution_count": null,
   "metadata": {},
   "outputs": [],
   "source": []
  }
 ],
 "metadata": {
  "kernelspec": {
   "display_name": "Python 3",
   "language": "python",
   "name": "python3"
  },
  "language_info": {
   "codemirror_mode": {
    "name": "ipython",
    "version": 3
   },
   "file_extension": ".py",
   "mimetype": "text/x-python",
   "name": "python",
   "nbconvert_exporter": "python",
   "pygments_lexer": "ipython3",
   "version": "3.7.7"
  }
 },
 "nbformat": 4,
 "nbformat_minor": 4
}
