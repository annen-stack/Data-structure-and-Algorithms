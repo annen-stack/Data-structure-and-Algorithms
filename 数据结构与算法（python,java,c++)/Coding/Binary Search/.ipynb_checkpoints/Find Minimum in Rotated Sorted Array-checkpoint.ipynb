{
 "cells": [
  {
   "cell_type": "markdown",
   "metadata": {},
   "source": [
    "You may assume no duplicate exists in the array."
   ]
  },
  {
   "cell_type": "code",
   "execution_count": null,
   "metadata": {},
   "outputs": [],
   "source": [
    "//C++\n",
    "class Solution {\n",
    "public:\n",
    "    /**\n",
    "     * @param num: a rotated sorted array\n",
    "     * @return: the minimum number in the array\n",
    "     */\n",
    "    int findMin(vector<int> &num) {\n",
    "        if (num.empty()) {\n",
    "            return -1;\n",
    "        }\n",
    "\n",
    "        vector<int>::size_type start = 0;\n",
    "        vector<int>::size_type end = num.size() - 1;\n",
    "        vector<int>::size_type mid;\n",
    "        while (start + 1 < end) {\n",
    "            mid = start + (end - start) / 2;\n",
    "            if (num[mid] < num[end]) {\n",
    "                end = mid;\n",
    "            } else {\n",
    "                start = mid;\n",
    "            }\n",
    "        }\n",
    "\n",
    "        if (num[start] < num[end]) {\n",
    "            return num[start];\n",
    "        } else {\n",
    "            return num[end];\n",
    "        }\n",
    "    }\n",
    "};"
   ]
  },
  {
   "cell_type": "code",
   "execution_count": null,
   "metadata": {},
   "outputs": [],
   "source": [
    "//JAVA\n",
    "public class Solution {\n",
    "    /**\n",
    "     * @param num: a rotated sorted array\n",
    "     * @return: the minimum number in the array\n",
    "     */\n",
    "    public int findMin(int[] num) {\n",
    "        if (num == null || num.length == 0) return Integer.MIN_VALUE;\n",
    "\n",
    "        int lb = 0, ub = num.length - 1;\n",
    "        // case1: num[0] < num[num.length - 1]\n",
    "        // if (num[lb] < num[ub]) return num[lb];\n",
    "\n",
    "        // case2: num[0] > num[num.length - 1] or num[0] < num[num.length - 1]\n",
    "        while (lb + 1 < ub) {\n",
    "            int mid = lb + (ub - lb) / 2;\n",
    "            if (num[mid] < num[ub]) {\n",
    "                ub = mid;\n",
    "            } else {\n",
    "                lb = mid;\n",
    "            }\n",
    "        }\n",
    "\n",
    "        return Math.min(num[lb], num[ub]);\n",
    "    }\n",
    "}"
   ]
  },
  {
   "cell_type": "markdown",
   "metadata": {},
   "source": [
    "由于无重复元素，平均情况下复杂度为 \n",
    "O(logn)."
   ]
  },
  {
   "cell_type": "code",
   "execution_count": null,
   "metadata": {},
   "outputs": [],
   "source": []
  }
 ],
 "metadata": {
  "kernelspec": {
   "display_name": "Python 3",
   "language": "python",
   "name": "python3"
  },
  "language_info": {
   "codemirror_mode": {
    "name": "ipython",
    "version": 3
   },
   "file_extension": ".py",
   "mimetype": "text/x-python",
   "name": "python",
   "nbconvert_exporter": "python",
   "pygments_lexer": "ipython3",
   "version": "3.7.7"
  }
 },
 "nbformat": 4,
 "nbformat_minor": 4
}
