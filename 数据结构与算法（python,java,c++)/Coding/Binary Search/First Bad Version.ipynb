{
 "cells": [
  {
   "cell_type": "code",
   "execution_count": null,
   "metadata": {},
   "outputs": [],
   "source": [
    "class Solution:\n",
    "    \"\"\"\n",
    "    @param n: An integers.\n",
    "    @return: An integer which is the first bad version.\n",
    "    \"\"\"\n",
    "    def findFirstBadVersion(self, n):\n",
    "        lb, ub = 0, n + 1\n",
    "        while lb + 1 < ub:\n",
    "            mid = lb + (ub - lb) / 2\n",
    "            if VersionControl.isBadVersion(mid):\n",
    "                ub = mid\n",
    "            else:\n",
    "                lb = mid\n",
    "\n",
    "        return lb + 1"
   ]
  }
 ],
 "metadata": {
  "kernelspec": {
   "display_name": "Python 3",
   "language": "python",
   "name": "python3"
  },
  "language_info": {
   "codemirror_mode": {
    "name": "ipython",
    "version": 3
   },
   "file_extension": ".py",
   "mimetype": "text/x-python",
   "name": "python",
   "nbconvert_exporter": "python",
   "pygments_lexer": "ipython3",
   "version": "3.7.7"
  }
 },
 "nbformat": 4,
 "nbformat_minor": 4
}
