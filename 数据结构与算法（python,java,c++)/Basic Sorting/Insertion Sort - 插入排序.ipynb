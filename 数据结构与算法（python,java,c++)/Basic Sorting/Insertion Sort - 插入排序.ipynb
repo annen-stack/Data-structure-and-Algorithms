{
 "cells": [
  {
   "cell_type": "markdown",
   "metadata": {},
   "source": [
    "核心：通过构建有序序列，对于未排序序列，在已排序序列中从后向前扫描(对于单向链表则只能从前往后遍历)，找到相应位置并插入。实现上通常使用in-place排序(需用到O(1)的额外空间)\n",
    "\n",
    "1. 从第一个元素开始，该元素可认为已排序\n",
    "2. 取下一个元素，对已排序数组从后往前扫描\n",
    "3. 若从排序数组中取出的元素大于新元素，则移至下一位置\n",
    "4. 重复步骤3，直至找到已排序元素小于或等于新元素的位置\n",
    "5. 插入新元素至该位置\n",
    "6. 重复2~5"
   ]
  },
  {
   "cell_type": "markdown",
   "metadata": {},
   "source": [
    "1. 交换操作和数组中倒置的数量相同\n",
    "2. 比较次数>=倒置数量，<=倒置的数量加上数组的大小减一\n",
    "3. 每次交换都改变了两个顺序颠倒的元素的位置，即减少了一对倒置，倒置数量为0时即完成排序。\n",
    "每次交换对应着一次比较，且1到N-1之间的每个i都可能需要一次额外的记录(a[i]未到达数组左端时)\n",
    "4. 最坏情况下需要~N^2/2次比较和~N^2/2次交换，最好情况下需要N-1次比较和0次交换。\n",
    "5. 平均情况下需要~N^2/4次比较和~N^2/4次交换"
   ]
  },
  {
   "cell_type": "code",
   "execution_count": 1,
   "metadata": {},
   "outputs": [
    {
     "name": "stdout",
     "output_type": "stream",
     "text": [
      "[1, 2, 3, 4, 5, 6, 7, 8]\n"
     ]
    }
   ],
   "source": [
    "def insertionSort(alist):\n",
    "    for i,item_i in enumerate(alist):\n",
    "        index = i\n",
    "        while alist[index-1]>item_i and index>0:\n",
    "            alist[index]=alist[index-1]\n",
    "            index=index-1\n",
    "        alist[index]=item_i\n",
    "    return alist\n",
    "\n",
    "unsorted_list = [6, 5, 3, 1, 8, 7, 2, 4]\n",
    "print(insertionSort(unsorted_list))"
   ]
  },
  {
   "cell_type": "code",
   "execution_count": null,
   "metadata": {},
   "outputs": [],
   "source": [
    "//Java\n",
    "public class Sort {\n",
    "    public static void main(String[] args) {\n",
    "        int unsortedArray[] = new int[]{6, 5, 3, 1, 8, 7, 2, 4};\n",
    "        insertionSort(unsortedArray);\n",
    "        System.out.println(\"After sort: \");\n",
    "        for (int item : unsortedArray) {\n",
    "            System.out.print(item + \" \");\n",
    "        }\n",
    "    }\n",
    "\n",
    "    public static void insertionSort(int[] array) {\n",
    "        int len = array.length;\n",
    "        for (int i = 0; i < len; i++) {\n",
    "            int index = i, array_i = array[i];\n",
    "            while (index > 0 && array[index - 1] > array_i) {\n",
    "                array[index] = array[index - 1];\n",
    "                index -= 1;\n",
    "            }\n",
    "            array[index] = array_i;\n",
    "\n",
    "            /* print sort process */\n",
    "            for (int item : array) {\n",
    "                System.out.print(item + \" \");\n",
    "            }\n",
    "            System.out.println();\n",
    "        }\n",
    "    }\n",
    "}"
   ]
  },
  {
   "cell_type": "markdown",
   "metadata": {},
   "source": [
    "# 希尔排序"
   ]
  },
  {
   "cell_type": "markdown",
   "metadata": {},
   "source": [
    "核心：基于插入排序，使数组中任意间隔为h的元素都是有序的，即将全部元素分为h个区域使用插入排序。其实现可类似于插入排序但使用不同增量。更高效的原因是它权衡了子数组的规模和有序性。"
   ]
  },
  {
   "cell_type": "code",
   "execution_count": null,
   "metadata": {},
   "outputs": [],
   "source": []
  }
 ],
 "metadata": {
  "kernelspec": {
   "display_name": "Python 3",
   "language": "python",
   "name": "python3"
  },
  "language_info": {
   "codemirror_mode": {
    "name": "ipython",
    "version": 3
   },
   "file_extension": ".py",
   "mimetype": "text/x-python",
   "name": "python",
   "nbconvert_exporter": "python",
   "pygments_lexer": "ipython3",
   "version": "3.7.7"
  }
 },
 "nbformat": 4,
 "nbformat_minor": 4
}
