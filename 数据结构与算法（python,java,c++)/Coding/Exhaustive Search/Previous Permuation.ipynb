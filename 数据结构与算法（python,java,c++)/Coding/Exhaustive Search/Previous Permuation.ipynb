{
 "cells": [
  {
   "cell_type": "code",
   "execution_count": null,
   "metadata": {},
   "outputs": [],
   "source": [
    "class Solution:\n",
    "    # @param num :  a list of integer\n",
    "    # @return : a list of integer\n",
    "    def previousPermuation(self, num):\n",
    "        if num is None or len(num) <= 1:\n",
    "            return num\n",
    "        # step1: find nums[i] > nums[i + 1], Loop backwards\n",
    "        i = 0\n",
    "        for i in xrange(len(num) - 2, -1, -1):\n",
    "            if num[i] > num[i + 1]:\n",
    "                break\n",
    "            elif i == 0:\n",
    "                # reverse nums if reach maximum\n",
    "                num = num[::-1]\n",
    "                return num\n",
    "        # step2: find nums[i] > nums[j], Loop backwards\n",
    "        j = 0\n",
    "        for j in xrange(len(num) - 1, i, -1):\n",
    "            if num[i] > num[j]:\n",
    "                break\n",
    "        # step3: swap betwenn nums[i] and nums[j]\n",
    "        num[i], num[j] = num[j], num[i]\n",
    "        # step4: reverse between [i + 1, n - 1]\n",
    "        num[i + 1:len(num)] = num[len(num) - 1:i:-1]\n",
    "\n",
    "        return num"
   ]
  }
 ],
 "metadata": {
  "kernelspec": {
   "display_name": "Python 3",
   "language": "python",
   "name": "python3"
  },
  "language_info": {
   "codemirror_mode": {
    "name": "ipython",
    "version": 3
   },
   "file_extension": ".py",
   "mimetype": "text/x-python",
   "name": "python",
   "nbconvert_exporter": "python",
   "pygments_lexer": "ipython3",
   "version": "3.7.7"
  }
 },
 "nbformat": 4,
 "nbformat_minor": 4
}
