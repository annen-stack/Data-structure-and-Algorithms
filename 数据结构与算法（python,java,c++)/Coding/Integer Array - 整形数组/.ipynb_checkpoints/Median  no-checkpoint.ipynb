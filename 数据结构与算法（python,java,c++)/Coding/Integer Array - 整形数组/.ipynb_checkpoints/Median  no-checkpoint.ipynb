{
 "cells": [
  {
   "cell_type": "markdown",
   "metadata": {},
   "source": [
    "Given a unsorted array with integers, find the median of it.\n",
    "\n",
    "A median is the middle number of the array after it is sorted.\n",
    "\n",
    "If there are even numbers in the array, return the N/2-th number after sorted."
   ]
  },
  {
   "cell_type": "markdown",
   "metadata": {},
   "source": [
    "寻找未排序数组的中位数，简单粗暴的方法是先排序后输出中位数索引处的数，但是基于比较的排序算法的时间复杂度为 \n",
    "O(nlogn), 不符合题目要求。线性时间复杂度的排序算法常见有计数排序、桶排序和基数排序，这三种排序方法的空间复杂度均较高，且依赖于输入数据特征（数据分布在有限的区间内），用在这里并不是比较好的解法。\n",
    "\n",
    "\n",
    "由于这里仅需要找出中位数，即找出数组中前半个长度的较大的数，不需要进行完整的排序，说到这你是不是想到了快速排序了呢？快排的核心思想就是以基准为界将原数组划分为左小右大两个部分，用在这十分合适。快排的实现见 Quick Sort, 由于调用一次快排后基准元素的最终位置是知道的，故递归的终止条件即为当基准元素的位置(索引)满足中位数的条件时(左半部分长度为原数组长度一半，无论奇偶均是如此)即返回最终结果。在数组长度确定后，我们可以直接套用 K 大数的模板来解，即 K 为 (length + 1) / 2."
   ]
  },
  {
   "cell_type": "code",
   "execution_count": null,
   "metadata": {},
   "outputs": [],
   "source": [
    "class Solution:\n",
    "    \"\"\"\n",
    "    @param nums: A list of integers.\n",
    "    @return: An integer denotes the middle number of the array.\n",
    "    \"\"\"\n",
    "    def median(self, nums):\n",
    "        if not nums:\n",
    "            return -1\n",
    "        return self.kth(nums, 0, len(nums) - 1, (1 + len(nums)) / 2)\n",
    "\n",
    "    def kth(self, nums, left, right, k):\n",
    "        # if left >= right: return nums[right]\n",
    "        m = left\n",
    "        for i in xrange(left + 1, right + 1):\n",
    "            if nums[i] < nums[left]:\n",
    "                m += 1\n",
    "                nums[m], nums[i] = nums[i], nums[m]\n",
    "\n",
    "        # swap between m and l after partition, important!\n",
    "        nums[m], nums[left] = nums[left], nums[m]\n",
    "\n",
    "        if m + 1 == k:\n",
    "            return nums[m]\n",
    "        elif m + 1 > k:\n",
    "            return self.kth(nums, left, m - 1, k)\n",
    "        else:\n",
    "            return self.kth(nums, m + 1, right, k)"
   ]
  }
 ],
 "metadata": {
  "kernelspec": {
   "display_name": "Python 3",
   "language": "python",
   "name": "python3"
  },
  "language_info": {
   "codemirror_mode": {
    "name": "ipython",
    "version": 3
   },
   "file_extension": ".py",
   "mimetype": "text/x-python",
   "name": "python",
   "nbconvert_exporter": "python",
   "pygments_lexer": "ipython3",
   "version": "3.7.7"
  }
 },
 "nbformat": 4,
 "nbformat_minor": 4
}
