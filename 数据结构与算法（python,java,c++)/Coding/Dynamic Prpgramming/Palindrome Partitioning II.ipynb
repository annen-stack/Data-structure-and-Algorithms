{
 "cells": [
  {
   "cell_type": "code",
   "execution_count": null,
   "metadata": {},
   "outputs": [],
   "source": [
    "class Solution:\n",
    "    # @param s, a string\n",
    "    # @return an integer\n",
    "    def minCut(self, s):\n",
    "        if not s:\n",
    "            print 0\n",
    "\n",
    "        cut = [i - 1 for i in xrange(1 + len(s))]\n",
    "\n",
    "        for i in xrange(1 + len(s)):\n",
    "            for j in xrange(i):\n",
    "                # s[j:i] is palindrome\n",
    "                if s[j:i] == s[j:i][::-1]:\n",
    "                    cut[i] = min(cut[i], 1 + cut[j])\n",
    "        return cut[-1]"
   ]
  },
  {
   "cell_type": "code",
   "execution_count": null,
   "metadata": {},
   "outputs": [],
   "source": []
  }
 ],
 "metadata": {
  "kernelspec": {
   "display_name": "Python 3",
   "language": "python",
   "name": "python3"
  },
  "language_info": {
   "codemirror_mode": {
    "name": "ipython",
    "version": 3
   },
   "file_extension": ".py",
   "mimetype": "text/x-python",
   "name": "python",
   "nbconvert_exporter": "python",
   "pygments_lexer": "ipython3",
   "version": "3.7.7"
  }
 },
 "nbformat": 4,
 "nbformat_minor": 4
}
