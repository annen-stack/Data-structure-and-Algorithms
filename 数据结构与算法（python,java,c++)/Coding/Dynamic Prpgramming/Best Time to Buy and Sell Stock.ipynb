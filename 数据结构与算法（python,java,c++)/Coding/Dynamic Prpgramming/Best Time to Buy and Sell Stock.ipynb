{
 "cells": [
  {
   "cell_type": "code",
   "execution_count": null,
   "metadata": {},
   "outputs": [],
   "source": [
    "class Solution:\n",
    "    \"\"\"\n",
    "    @param prices: Given an integer array\n",
    "    @return: Maximum profit\n",
    "    \"\"\"\n",
    "    def maxProfit(self, prices):\n",
    "        if prices is None or len(prices) <= 1:\n",
    "            return 0\n",
    "\n",
    "        profit = 0\n",
    "        cur_price_min = 2**31 - 1\n",
    "        for price in prices:\n",
    "            profit = max(profit, price - cur_price_min)\n",
    "            cur_price_min = min(cur_price_min, price)\n",
    "\n",
    "        return profit"
   ]
  }
 ],
 "metadata": {
  "kernelspec": {
   "display_name": "Python 3",
   "language": "python",
   "name": "python3"
  },
  "language_info": {
   "codemirror_mode": {
    "name": "ipython",
    "version": 3
   },
   "file_extension": ".py",
   "mimetype": "text/x-python",
   "name": "python",
   "nbconvert_exporter": "python",
   "pygments_lexer": "ipython3",
   "version": "3.7.7"
  }
 },
 "nbformat": 4,
 "nbformat_minor": 4
}
