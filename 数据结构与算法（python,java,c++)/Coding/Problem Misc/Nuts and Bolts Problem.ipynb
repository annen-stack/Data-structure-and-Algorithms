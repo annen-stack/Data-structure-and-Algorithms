{
 "cells": [
  {
   "cell_type": "code",
   "execution_count": null,
   "metadata": {},
   "outputs": [],
   "source": [
    "class Solution:\n",
    "    def sortNutsAndBolts(self, nuts, bolts, compare):\n",
    "        if nuts is None or bolts is None:\n",
    "            return\n",
    "        if len(nuts) != len(bolts):\n",
    "            return\n",
    "        self.qsort(nuts, bolts, 0, len(nuts) - 1, compare)\n",
    "\n",
    "    def qsort(self, nuts, bolts, l, u, compare):\n",
    "        if l >= u:\n",
    "            return\n",
    "        # find the partition index for nuts with bolts[l]\n",
    "        part_inx = self.partition(nuts, bolts[l], l, u, compare)\n",
    "        # partition bolts with nuts[part_inx]\n",
    "        self.partition(bolts, nuts[part_inx], l, u, compare)\n",
    "        # qsort recursively\n",
    "        self.qsort(nuts, bolts, l, part_inx - 1, compare)\n",
    "        self.qsort(nuts, bolts, part_inx + 1, u, compare)\n",
    "\n",
    "    def partition(self, alist, pivot, l, u, compare):\n",
    "        m = l\n",
    "        i = l + 1\n",
    "        while i <= u:\n",
    "            if compare.cmp(alist[i], pivot) == -1 or \\\n",
    "               compare.cmp(pivot, alist[i]) == 1:\n",
    "                m += 1\n",
    "                alist[i], alist[m] = alist[m], alist[i]\n",
    "                i += 1\n",
    "            elif compare.cmp(alist[i], pivot) == 0 or \\\n",
    "                 compare.cmp(pivot, alist[i]) == 0:\n",
    "                # swap nuts[l]/bolts[l] with pivot\n",
    "                alist[i], alist[l] = alist[l], alist[i]\n",
    "            else:\n",
    "                i += 1\n",
    "        # move pivot to proper index\n",
    "        alist[l], alist[m] = alist[m], alist[l]\n",
    "\n",
    "        return m"
   ]
  }
 ],
 "metadata": {
  "kernelspec": {
   "display_name": "Python 3",
   "language": "python",
   "name": "python3"
  },
  "language_info": {
   "codemirror_mode": {
    "name": "ipython",
    "version": 3
   },
   "file_extension": ".py",
   "mimetype": "text/x-python",
   "name": "python",
   "nbconvert_exporter": "python",
   "pygments_lexer": "ipython3",
   "version": "3.7.7"
  }
 },
 "nbformat": 4,
 "nbformat_minor": 4
}
