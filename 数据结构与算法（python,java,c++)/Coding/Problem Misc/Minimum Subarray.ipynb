{
 "cells": [
  {
   "cell_type": "code",
   "execution_count": null,
   "metadata": {},
   "outputs": [],
   "source": [
    "public class Solution {\n",
    "    /**\n",
    "     * @param nums: a list of integers\n",
    "     * @return: A integer indicate the sum of minimum subarray\n",
    "     */\n",
    "    public int minSubArray(ArrayList<Integer> nums) {\n",
    "        if (nums == null || nums.isEmpty()) return -1;\n",
    "\n",
    "        int sum = 0, maxSum = 0, minSub = Integer.MAX_VALUE;\n",
    "        for (int num : nums) {\n",
    "            maxSum = Math.max(maxSum, sum);\n",
    "            sum += num;\n",
    "            minSub = Math.min(minSub, sum - maxSum);\n",
    "        }\n",
    "\n",
    "        return minSub;\n",
    "    }\n",
    "}"
   ]
  }
 ],
 "metadata": {
  "kernelspec": {
   "display_name": "Python 3",
   "language": "python",
   "name": "python3"
  },
  "language_info": {
   "codemirror_mode": {
    "name": "ipython",
    "version": 3
   },
   "file_extension": ".py",
   "mimetype": "text/x-python",
   "name": "python",
   "nbconvert_exporter": "python",
   "pygments_lexer": "ipython3",
   "version": "3.7.7"
  }
 },
 "nbformat": 4,
 "nbformat_minor": 4
}
