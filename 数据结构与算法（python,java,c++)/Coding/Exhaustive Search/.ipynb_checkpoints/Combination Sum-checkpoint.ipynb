{
 "cells": [
  {
   "cell_type": "code",
   "execution_count": null,
   "metadata": {},
   "outputs": [],
   "source": [
    "public class Solution {\n",
    "    /**\n",
    "     * @param candidates: A list of integers\n",
    "     * @param target:An integer\n",
    "     * @return: A list of lists of integers\n",
    "     */\n",
    "    public List<List<Integer>> combinationSum(int[] candidates, int target) {\n",
    "        List<List<Integer>> result = new ArrayList<List<Integer>>();\n",
    "        List<Integer> list = new ArrayList<Integer>();\n",
    "        if (candidates == null) return result;\n",
    "\n",
    "        Arrays.sort(candidates);\n",
    "        helper(candidates, 0, target, list, result);\n",
    "\n",
    "        return result;\n",
    "    }\n",
    "\n",
    "    private void helper(int[] candidates, int pos, int gap,\n",
    "                        List<Integer> list, List<List<Integer>> result) {\n",
    "\n",
    "        if (gap == 0) {\n",
    "            // add new object for result\n",
    "            result.add(new ArrayList<Integer>(list));\n",
    "            return;\n",
    "        }\n",
    "\n",
    "        for (int i = pos; i < candidates.length; i++) {\n",
    "            // cut invalid candidate\n",
    "            if (gap < candidates[i]) {\n",
    "                return;\n",
    "            }\n",
    "            list.add(candidates[i]);\n",
    "            helper(candidates, i, gap - candidates[i], list, result);\n",
    "            list.remove(list.size() - 1);\n",
    "        }\n",
    "    }\n",
    "}"
   ]
  }
 ],
 "metadata": {
  "kernelspec": {
   "display_name": "Python 3",
   "language": "python",
   "name": "python3"
  },
  "language_info": {
   "codemirror_mode": {
    "name": "ipython",
    "version": 3
   },
   "file_extension": ".py",
   "mimetype": "text/x-python",
   "name": "python",
   "nbconvert_exporter": "python",
   "pygments_lexer": "ipython3",
   "version": "3.7.7"
  }
 },
 "nbformat": 4,
 "nbformat_minor": 4
}
