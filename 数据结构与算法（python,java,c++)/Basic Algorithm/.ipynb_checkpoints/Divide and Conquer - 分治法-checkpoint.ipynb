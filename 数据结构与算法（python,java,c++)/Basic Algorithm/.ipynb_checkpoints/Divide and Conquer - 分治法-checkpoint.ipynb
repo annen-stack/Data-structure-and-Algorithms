{
 "cells": [
  {
   "cell_type": "markdown",
   "metadata": {},
   "source": [
    "在计算机科学中，分治法是一种很重要的算法。分治法即『分而治之』，把一个复杂的问题分成两个或更多的相同或相似的子问题，再把子问题分成更小的子问题……直到最后子问题可以简单的直接求解，原问题的解即子问题的解的合并。这个思想是很多高效算法的基础，如排序算法（**快速排序，归并排序**）等。"
   ]
  },
  {
   "cell_type": "markdown",
   "metadata": {},
   "source": [
    "### 分治法的思想"
   ]
  },
  {
   "cell_type": "markdown",
   "metadata": {},
   "source": [
    "分治法所能解决的问题一般具有以下几个特征：\n",
    "\n",
    "1. 问题的规模缩小到一定的程度就可以容易地解决。\n",
    "2. 问题可以分解为若干个规模较小的**相同问题**，即该问题具有**最优子结构**性质。\n",
    "3. 利用该问题分解出的子问题的解可以合并为该问题的解。\n",
    "4. 该问题所分解出的各个子问题是**相互独立**的，即子问题之间**不包含公共的子问题**。"
   ]
  },
  {
   "cell_type": "markdown",
   "metadata": {},
   "source": [
    "### 分治法的三个步骤是：\n",
    "1. 分解（Divide）：将原问题分解为若干子问题，这些子问题都是原问题规模较小的实例。\n",
    "2. 解决（Conquer）：递归地求解各子问题。如果子问题规模足够小，则直接求解。\n",
    "3. 合并（Combine）：将所有子问题的解合并为原问题的解。"
   ]
  },
  {
   "cell_type": "markdown",
   "metadata": {},
   "source": [
    "### 分治法的经典题目：\n",
    "1. 二分搜索\n",
    "2. 大整数乘法\n",
    "3. Strassen矩阵乘法\n",
    "4. 棋盘覆盖\n",
    "5. 归并排序\n",
    "6. 快速排序\n",
    "7. 循环赛日程表\n",
    "8. 汉诺塔"
   ]
  },
  {
   "cell_type": "code",
   "execution_count": null,
   "metadata": {},
   "outputs": [],
   "source": []
  }
 ],
 "metadata": {
  "kernelspec": {
   "display_name": "Python 3",
   "language": "python",
   "name": "python3"
  },
  "language_info": {
   "codemirror_mode": {
    "name": "ipython",
    "version": 3
   },
   "file_extension": ".py",
   "mimetype": "text/x-python",
   "name": "python",
   "nbconvert_exporter": "python",
   "pygments_lexer": "ipython3",
   "version": "3.7.7"
  }
 },
 "nbformat": 4,
 "nbformat_minor": 4
}
