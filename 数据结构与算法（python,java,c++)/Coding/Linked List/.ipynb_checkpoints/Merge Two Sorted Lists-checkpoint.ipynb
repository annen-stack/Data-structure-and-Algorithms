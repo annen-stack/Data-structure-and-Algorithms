{
 "cells": [
  {
   "cell_type": "code",
   "execution_count": null,
   "metadata": {},
   "outputs": [],
   "source": [
    "public class Solution {\n",
    "    /**\n",
    "     * @param ListNode l1 is the head of the linked list\n",
    "     * @param ListNode l2 is the head of the linked list\n",
    "     * @return: ListNode head of linked list\n",
    "     */\n",
    "    public ListNode mergeTwoLists(ListNode l1, ListNode l2) {\n",
    "        ListNode dummy = new ListNode(0);\n",
    "        ListNode curr = dummy;\n",
    "\n",
    "        while ((l1 != null) && (l2 != null)) {\n",
    "            if (l1.val > l2.val) {\n",
    "                curr.next = l2;\n",
    "                l2 = l2.next;\n",
    "            } else {\n",
    "                curr.next = l1;\n",
    "                l1 = l1.next;\n",
    "            }\n",
    "            curr = curr.next;\n",
    "        }\n",
    "\n",
    "        // link to non-null list\n",
    "        curr.next = (l1 != null) ? l1 : l2;\n",
    "\n",
    "        return dummy.next;\n",
    "    }\n",
    "}"
   ]
  },
  {
   "cell_type": "code",
   "execution_count": null,
   "metadata": {},
   "outputs": [],
   "source": [
    "class Solution {\n",
    "public:\n",
    "    ListNode* mergeTwoLists(ListNode* l1, ListNode* l2) {\n",
    "        ListNode *dummy = new ListNode(0);\n",
    "        ListNode *lastNode = dummy;\n",
    "        while ((NULL != l1) && (NULL != l2)) {\n",
    "            if (l1->val < l2->val) {\n",
    "                lastNode->next = l1;\n",
    "                l1 = l1->next;\n",
    "            } else {\n",
    "                lastNode->next = l2;\n",
    "                l2 = l2->next;\n",
    "            }\n",
    "\n",
    "            lastNode = lastNode->next;\n",
    "        }\n",
    "\n",
    "        // do not forget this line!\n",
    "        lastNode->next =  (NULL != l1) ? l1 : l2;\n",
    "\n",
    "        return dummy->next;\n",
    "    }\n",
    "};"
   ]
  },
  {
   "cell_type": "markdown",
   "metadata": {},
   "source": [
    "最好情况下，一个链表为空，时间复杂度为 \n",
    "O(1). 最坏情况下，curr遍历两个链表中的每一个节点，时间复杂度为 \n",
    "O(l1+l2). 空间复杂度近似为 \n",
    "O(1)."
   ]
  },
  {
   "cell_type": "code",
   "execution_count": null,
   "metadata": {},
   "outputs": [],
   "source": []
  }
 ],
 "metadata": {
  "kernelspec": {
   "display_name": "Python 3",
   "language": "python",
   "name": "python3"
  },
  "language_info": {
   "codemirror_mode": {
    "name": "ipython",
    "version": 3
   },
   "file_extension": ".py",
   "mimetype": "text/x-python",
   "name": "python",
   "nbconvert_exporter": "python",
   "pygments_lexer": "ipython3",
   "version": "3.7.7"
  }
 },
 "nbformat": 4,
 "nbformat_minor": 4
}
