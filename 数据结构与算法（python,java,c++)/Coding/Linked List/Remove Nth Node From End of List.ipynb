{
 "cells": [
  {
   "cell_type": "markdown",
   "metadata": {},
   "source": [
    "Given linked list: 1->2->3->4->5->null, and n = 2.\n",
    "\n",
    "\n",
    "After removing the second node from the end, the linked list becomes 1->2->3->5->null."
   ]
  },
  {
   "cell_type": "markdown",
   "metadata": {},
   "source": [
    "简单题，使用快慢指针解决此题，需要注意最后删除的是否为头节点。让快指针先走n步，直至快指针走到终点，找到需要删除节点之前的一个节点，改变node->next域即可。见基础数据结构部分的链表解析。"
   ]
  },
  {
   "cell_type": "code",
   "execution_count": null,
   "metadata": {},
   "outputs": [],
   "source": [
    "//C++\n",
    "class Solution {\n",
    "    public ListNode removeNthFromEnd(ListNode head, int n) {\n",
    "        if (head == nul) return head;\n",
    "\n",
    "        ListNode dummy = new ListNode(0);\n",
    "        dummy.next = head;\n",
    "        ListNode fast = head;\n",
    "        ListNode slow = dummy;\n",
    "        for (int i = 0; i < n; i++) {\n",
    "            fast = fast.next;\n",
    "        }\n",
    "\n",
    "        while(fast != null) {\n",
    "            fast = fast.next;\n",
    "            slow = slow.next;\n",
    "        }\n",
    "\n",
    "        // gc friendly\n",
    "        // ListNode toBeDeleted = slow.next;\n",
    "        slow.next = slow.next.next;\n",
    "        // toBeDeleted.next = null;\n",
    "        // toBeDeleted = null;\n",
    "\n",
    "        return dummy.next;\n",
    "    }\n",
    "}"
   ]
  },
  {
   "cell_type": "code",
   "execution_count": null,
   "metadata": {},
   "outputs": [],
   "source": [
    "//JAVA\n",
    "class Solution {\n",
    "public:\n",
    "    /**\n",
    "     * @param head: The first node of linked list.\n",
    "     * @param n: An integer.\n",
    "     * @return: The head of linked list.\n",
    "     */\n",
    "    ListNode *removeNthFromEnd(ListNode *head, int n) {\n",
    "        if (NULL == head || n < 1) {\n",
    "            return head;\n",
    "        }\n",
    "\n",
    "        ListNode dummy(0);\n",
    "        dummy.next = head;\n",
    "        ListNode *preDel = dummy;\n",
    "\n",
    "        for (int i = 0; i != n; ++i) {\n",
    "            if (NULL == head) {\n",
    "                return NULL;\n",
    "            }\n",
    "            head = head->next;\n",
    "        }\n",
    "\n",
    "        while (head) {\n",
    "            head = head->next;\n",
    "            preDel = preDel->next;\n",
    "        }\n",
    "        preDel->next = preDel->next->next;\n",
    "\n",
    "        return dummy.next;\n",
    "    }\n",
    "};"
   ]
  }
 ],
 "metadata": {
  "kernelspec": {
   "display_name": "Python 3",
   "language": "python",
   "name": "python3"
  },
  "language_info": {
   "codemirror_mode": {
    "name": "ipython",
    "version": 3
   },
   "file_extension": ".py",
   "mimetype": "text/x-python",
   "name": "python",
   "nbconvert_exporter": "python",
   "pygments_lexer": "ipython3",
   "version": "3.7.7"
  }
 },
 "nbformat": 4,
 "nbformat_minor": 4
}
