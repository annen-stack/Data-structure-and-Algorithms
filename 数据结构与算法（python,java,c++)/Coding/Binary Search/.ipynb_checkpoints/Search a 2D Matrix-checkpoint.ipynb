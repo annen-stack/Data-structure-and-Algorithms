{
 "cells": [
  {
   "cell_type": "markdown",
   "metadata": {},
   "source": [
    "- 一次二分搜索 - 由于矩阵按升序排列，因此可将二维矩阵转换为一维问题。对原始的二分搜索进行适当改变即可(求行和列)。时间复杂度为 O(log(mn))=O(log(m)+log(n))"
   ]
  },
  {
   "cell_type": "code",
   "execution_count": 1,
   "metadata": {},
   "outputs": [],
   "source": [
    "class Solution:\n",
    "    def search_matrix(self, matrix, target):\n",
    "        # Find the first position of target\n",
    "        if not matrix or not matrix[0]:\n",
    "            return False\n",
    "        m, n = len(matrix), len(matrix[0])\n",
    "        st, ed = 0, m * n - 1\n",
    "\n",
    "        while st + 1 < ed:\n",
    "            mid = (st + ed) / 2\n",
    "            if matrix[mid / n][mid % n] == target:\n",
    "                return True\n",
    "            elif matrix[mid / n][mid % n] < target:\n",
    "                st = mid\n",
    "            else:\n",
    "                ed = mid\n",
    "        return matrix[st / n][st % n] == target or \\\n",
    "                matrix[ed / n][ed % n] == target"
   ]
  },
  {
   "cell_type": "code",
   "execution_count": null,
   "metadata": {},
   "outputs": [],
   "source": [
    "//C++\n",
    "class Solution {\n",
    "public:\n",
    "    bool searchMatrix(vector<vector<int>>& matrix, int target) {\n",
    "        if (matrix.empty() || matrix[0].empty()) return false;\n",
    "\n",
    "        int ROW = matrix.size(), COL = matrix[0].size();\n",
    "        int lb = -1, ub = ROW * COL;\n",
    "        while (lb + 1 < ub) {\n",
    "            int mid = lb + (ub - lb) / 2;\n",
    "            if (matrix[mid / COL][mid % COL] < target) {\n",
    "                lb = mid;\n",
    "            } else {\n",
    "                if (matrix[mid / COL][mid % COL] == target) return true;\n",
    "                ub = mid;\n",
    "            }\n",
    "        }\n",
    "        return false;\n",
    "    }\n",
    "};"
   ]
  },
  {
   "cell_type": "code",
   "execution_count": null,
   "metadata": {},
   "outputs": [],
   "source": [
    "//JAVA\n",
    "public class Solution {\n",
    "    /**\n",
    "     * @param matrix, a list of lists of integers\n",
    "     * @param target, an integer\n",
    "     * @return a boolean, indicate whether matrix contains target\n",
    "     */\n",
    "    public boolean searchMatrix(int[][] matrix, int target) {\n",
    "        if (matrix == null || matrix.length == 0 || matrix[0] == null) {\n",
    "            return false;\n",
    "        }\n",
    "\n",
    "        int ROW = matrix.length, COL = matrix[0].length;\n",
    "        int lb = -1, ub = ROW * COL;\n",
    "        while (lb + 1 < ub) {\n",
    "            int mid = lb + (ub - lb) / 2;\n",
    "            if (matrix[mid / COL][mid % COL] < target) {\n",
    "                lb = mid;\n",
    "            } else {\n",
    "                if (matrix[mid / COL][mid % COL] == target) {\n",
    "                    return true;\n",
    "                }\n",
    "                ub = mid;\n",
    "            }\n",
    "        }\n",
    "\n",
    "        return false;\n",
    "    }\n",
    "}"
   ]
  },
  {
   "cell_type": "markdown",
   "metadata": {},
   "source": [
    "### 源码分析"
   ]
  },
  {
   "cell_type": "markdown",
   "metadata": {},
   "source": [
    "二分搜索，\n",
    "O(logmn)."
   ]
  }
 ],
 "metadata": {
  "kernelspec": {
   "display_name": "Python 3",
   "language": "python",
   "name": "python3"
  },
  "language_info": {
   "codemirror_mode": {
    "name": "ipython",
    "version": 3
   },
   "file_extension": ".py",
   "mimetype": "text/x-python",
   "name": "python",
   "nbconvert_exporter": "python",
   "pygments_lexer": "ipython3",
   "version": "3.7.7"
  }
 },
 "nbformat": 4,
 "nbformat_minor": 4
}
