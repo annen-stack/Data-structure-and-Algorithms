{
 "cells": [
  {
   "cell_type": "code",
   "execution_count": null,
   "metadata": {},
   "outputs": [],
   "source": [
    "class Solution {\n",
    "public:\n",
    "    /**\n",
    "     * @param triangle: a list of lists of integers.\n",
    "     * @return: An integer, minimum path sum.\n",
    "     */\n",
    "    int minimumTotal(vector<vector<int> > &triangle) {\n",
    "        if (triangle.empty()) {\n",
    "            return -1;\n",
    "        }\n",
    "\n",
    "        vector<vector<int> > hashmap(triangle);\n",
    "\n",
    "        // get the total row number of triangle\n",
    "        const int N = triangle.size();\n",
    "        for (int i = 0; i != N; ++i) {\n",
    "            hashmap[N-1][i] = triangle[N-1][i];\n",
    "        }\n",
    "\n",
    "        for (int i = N - 2; i >= 0; --i) {\n",
    "            for (int j = 0; j < i + 1; ++j) {\n",
    "                hashmap[i][j] = min(hashmap[i + 1][j], hashmap[i + 1][j + 1]) + triangle[i][j];\n",
    "            }\n",
    "        }\n",
    "\n",
    "        return hashmap[0][0];\n",
    "    }\n",
    "};"
   ]
  }
 ],
 "metadata": {
  "kernelspec": {
   "display_name": "Python 3",
   "language": "python",
   "name": "python3"
  },
  "language_info": {
   "codemirror_mode": {
    "name": "ipython",
    "version": 3
   },
   "file_extension": ".py",
   "mimetype": "text/x-python",
   "name": "python",
   "nbconvert_exporter": "python",
   "pygments_lexer": "ipython3",
   "version": "3.7.7"
  }
 },
 "nbformat": 4,
 "nbformat_minor": 4
}
