{
 "cells": [
  {
   "cell_type": "markdown",
   "metadata": {},
   "source": [
    "Reverse a linked list from position m to n."
   ]
  },
  {
   "cell_type": "code",
   "execution_count": null,
   "metadata": {},
   "outputs": [],
   "source": [
    "public class Solution {\n",
    "    /**\n",
    "     * @param ListNode head is the head of the linked list \n",
    "     * @oaram m and n\n",
    "     * @return: The head of the reversed ListNode\n",
    "     */\n",
    "    \n",
    "    public ListNode reverseBetween(ListNode head, int m , int n) {\n",
    "        ListNode dummy = new ListNode(0);\n",
    "        dummy.next = head;\n",
    "\n",
    "        // find the mth node\n",
    "        ListNode premNode = dummy;\n",
    "        for (int i = 1; i < m; i++) {\n",
    "            premNode = premNode.next;\n",
    "        }\n",
    "\n",
    "        // reverse node between m and n\n",
    "        ListNode prev = null, curr = premNode.next;\n",
    "        while (curr != null && (m <= n)) {\n",
    "            ListNode nextNode = curr.next;\n",
    "            curr.next = prev;\n",
    "            prev = curr;\n",
    "            curr = nextNode;\n",
    "            m++;\n",
    "        }\n",
    "\n",
    "        // join head and tail before m and after n\n",
    "        premNode.next.next = curr;\n",
    "        premNode.next = prev;\n",
    "\n",
    "        return dummy.next;\n",
    "    }\n",
    "}"
   ]
  }
 ],
 "metadata": {
  "kernelspec": {
   "display_name": "Python 3",
   "language": "python",
   "name": "python3"
  },
  "language_info": {
   "codemirror_mode": {
    "name": "ipython",
    "version": 3
   },
   "file_extension": ".py",
   "mimetype": "text/x-python",
   "name": "python",
   "nbconvert_exporter": "python",
   "pygments_lexer": "ipython3",
   "version": "3.7.7"
  }
 },
 "nbformat": 4,
 "nbformat_minor": 4
}
