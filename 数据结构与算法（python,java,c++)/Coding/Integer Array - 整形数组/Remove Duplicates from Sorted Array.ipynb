{
 "cells": [
  {
   "cell_type": "markdown",
   "metadata": {},
   "source": [
    "Given a sorted array, remove the duplicates in place\n",
    "such that each element appear only once and return the new length.\n",
    "\n",
    "Do not allocate extra space for another array,\n",
    "you must do this in place with constant memory.\n",
    "\n",
    "For example,\n",
    "Given input array A = [1,1,2],\n",
    "\n",
    "Your function should return length = 2, and A is now [1,2].\n",
    "\n",
    "Example"
   ]
  },
  {
   "cell_type": "code",
   "execution_count": null,
   "metadata": {},
   "outputs": [],
   "source": [
    "//C++\n",
    "class Solution{\n",
    "public:\n",
    "    int removeDuplicates(vector<int> &nums){\n",
    "        if(nums.size()<=1) return nums.size();\n",
    "        int len=nums.size()\n",
    "        int newIndex=0;\n",
    "        for(int i=1;i<len;i++){\n",
    "            if(nums[i]!=nums[newIndex]){\n",
    "                newIndex++;\n",
    "                nums[newIndex]=nums[i];\n",
    "            }\n",
    "        }\n",
    "        return newIndex+1;\n",
    "    }\n",
    "}"
   ]
  },
  {
   "cell_type": "code",
   "execution_count": null,
   "metadata": {},
   "outputs": [],
   "source": [
    "//Java\n",
    "public class Solution {\n",
    "    /**\n",
    "     * @param A: a array of integers\n",
    "     * @return : return an integer\n",
    "     */\n",
    "    public int removeDuplicates(int[] nums) {\n",
    "        if (nums == null) return -1;\n",
    "        if (nums.length <= 1) return nums.length;\n",
    "\n",
    "        int newIndex = 0;\n",
    "        for (int i = 1; i < nums.length; i++) {\n",
    "            if (nums[i] != nums[newIndex]) {\n",
    "                newIndex++;\n",
    "                nums[newIndex] = nums[i];\n",
    "            }\n",
    "        }\n",
    "\n",
    "        return newIndex + 1;\n",
    "    }\n",
    "}"
   ]
  },
  {
   "cell_type": "markdown",
   "metadata": {},
   "source": [
    "### 复杂度分析"
   ]
  },
  {
   "cell_type": "markdown",
   "metadata": {},
   "source": [
    "遍历一次数组，时间复杂度 \n",
    "O(n), 空间复杂度 \n",
    "O(1)."
   ]
  },
  {
   "cell_type": "code",
   "execution_count": null,
   "metadata": {},
   "outputs": [],
   "source": []
  }
 ],
 "metadata": {
  "kernelspec": {
   "display_name": "Python 3",
   "language": "python",
   "name": "python3"
  },
  "language_info": {
   "codemirror_mode": {
    "name": "ipython",
    "version": 3
   },
   "file_extension": ".py",
   "mimetype": "text/x-python",
   "name": "python",
   "nbconvert_exporter": "python",
   "pygments_lexer": "ipython3",
   "version": "3.7.7"
  }
 },
 "nbformat": 4,
 "nbformat_minor": 4
}
