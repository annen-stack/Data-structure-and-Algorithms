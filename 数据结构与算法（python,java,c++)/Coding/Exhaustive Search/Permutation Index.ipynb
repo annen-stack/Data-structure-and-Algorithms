{
 "cells": [
  {
   "cell_type": "code",
   "execution_count": null,
   "metadata": {},
   "outputs": [],
   "source": [
    "class Solution:\n",
    "    # @param {int[]} A an integer array\n",
    "    # @return {long} a long integer\n",
    "    def permutationIndex(self, A):\n",
    "        if A is None or len(A) == 0:\n",
    "            return 0\n",
    "\n",
    "        index = 1\n",
    "        factor = 1\n",
    "        for i in xrange(len(A) - 1, -1, -1):\n",
    "            rank = 0\n",
    "            for j in xrange(i + 1, len(A)):\n",
    "                if A[i] > A[j]:\n",
    "                    rank += 1\n",
    "\n",
    "            index += rank * factor\n",
    "            factor *= (len(A) - i)\n",
    "\n",
    "        return index"
   ]
  }
 ],
 "metadata": {
  "kernelspec": {
   "display_name": "Python 3",
   "language": "python",
   "name": "python3"
  },
  "language_info": {
   "codemirror_mode": {
    "name": "ipython",
    "version": 3
   },
   "file_extension": ".py",
   "mimetype": "text/x-python",
   "name": "python",
   "nbconvert_exporter": "python",
   "pygments_lexer": "ipython3",
   "version": "3.7.7"
  }
 },
 "nbformat": 4,
 "nbformat_minor": 4
}
