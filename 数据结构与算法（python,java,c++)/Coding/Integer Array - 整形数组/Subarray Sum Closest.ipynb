{
 "cells": [
  {
   "cell_type": "code",
   "execution_count": null,
   "metadata": {},
   "outputs": [],
   "source": [
    "//C++\n",
    "//首先遍历一次数组求得子串和。\n",
    "//对子串和排序。\n",
    "//逐个比较相邻两项差值的绝对值，返回差值绝对值最小的两项。\n",
    "class Solution {\n",
    "public:\n",
    "    /**\n",
    "     * @param nums: A list of integers\n",
    "     * @return: A list of integers includes the index of the first number\n",
    "     *          and the index of the last number\n",
    "     */\n",
    "    vector<int> subarraySumClosest(vector<int> nums){\n",
    "        vector<int> result;\n",
    "        if (nums.empty()) {\n",
    "            return result;\n",
    "        }\n",
    "\n",
    "        const int num_size = nums.size();\n",
    "        vector<pair<int, int> > sum_index(num_size + 1);\n",
    "\n",
    "        for (int i = 0; i < num_size; ++i) {\n",
    "            sum_index[i + 1].first = sum_index[i].first + nums[i];\n",
    "            sum_index[i + 1].second = i + 1;\n",
    "        }\n",
    "\n",
    "        sort(sum_index.begin(), sum_index.end());//对value排序\n",
    "\n",
    "        int min_diff = INT_MAX;\n",
    "        int closest_index = 1;\n",
    "        for (int i = 1; i < num_size + 1; ++i) {\n",
    "            int sum_diff = abs(sum_index[i].first - sum_index[i - 1].first);\n",
    "            if (min_diff > sum_diff) {\n",
    "                min_diff = sum_diff;\n",
    "                closest_index = i;\n",
    "            }\n",
    "        }\n",
    "\n",
    "        int left_index = min(sum_index[closest_index - 1].second,\\\n",
    "                             sum_index[closest_index].second);\n",
    "        int right_index = -1 + max(sum_index[closest_index - 1].second,\\\n",
    "                                   sum_index[closest_index].second);\n",
    "        result.push_back(left_index);\n",
    "        result.push_back(right_index);\n",
    "        return result;\n",
    "    }\n",
    "};"
   ]
  },
  {
   "cell_type": "markdown",
   "metadata": {},
   "source": [
    "### 复杂度分析"
   ]
  },
  {
   "cell_type": "markdown",
   "metadata": {},
   "source": [
    "1. 遍历一次求得子串和时间复杂度为 O(n), 空间复杂度为 O(n+1).\n",
    "2. 对子串和排序，平均时间复杂度为 O(nlogn).\n",
    "3. 遍历排序后的子串和数组，时间复杂度为 O(n).\n",
    "\n",
    "\n",
    "总的时间复杂度为 O(nlogn), 空间复杂度为 O(n)."
   ]
  },
  {
   "cell_type": "code",
   "execution_count": null,
   "metadata": {},
   "outputs": [],
   "source": []
  }
 ],
 "metadata": {
  "kernelspec": {
   "display_name": "Python 3",
   "language": "python",
   "name": "python3"
  },
  "language_info": {
   "codemirror_mode": {
    "name": "ipython",
    "version": 3
   },
   "file_extension": ".py",
   "mimetype": "text/x-python",
   "name": "python",
   "nbconvert_exporter": "python",
   "pygments_lexer": "ipython3",
   "version": "3.7.7"
  }
 },
 "nbformat": 4,
 "nbformat_minor": 4
}
