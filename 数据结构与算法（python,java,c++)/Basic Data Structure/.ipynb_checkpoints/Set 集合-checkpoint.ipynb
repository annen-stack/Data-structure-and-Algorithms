{
 "cells": [
  {
   "cell_type": "markdown",
   "metadata": {},
   "source": [
    "Set 是一种用于保存不重复元素的数据结构。常被用作测试归属性，故其查找的性能十分重要。"
   ]
  },
  {
   "cell_type": "markdown",
   "metadata": {},
   "source": [
    "## python"
   ]
  },
  {
   "cell_type": "code",
   "execution_count": 1,
   "metadata": {},
   "outputs": [],
   "source": [
    "s = set()\n",
    "s1 = {1, 2, 3}\n",
    "s.add('shaunwei')\n",
    "'shaun' in s  # return true\n",
    "s.remove('shaunwei')"
   ]
  },
  {
   "cell_type": "markdown",
   "metadata": {},
   "source": [
    "## Java"
   ]
  },
  {
   "cell_type": "markdown",
   "metadata": {},
   "source": [
    "Set 与 Collection 具有安全一样的接口，通常有HashSet, TreeSet 或 LinkedHashSet三种实现。HashSet基于散列函数实现，无序，查询速度最快；TreeSet基于红-黑树实现，有序。"
   ]
  },
  {
   "cell_type": "code",
   "execution_count": null,
   "metadata": {},
   "outputs": [],
   "source": [
    "Set<String> hash = new HashSet<String>();\n",
    "hash.add(\"billryan\");\n",
    "hash.contains(\"billryan\");"
   ]
  }
 ],
 "metadata": {
  "kernelspec": {
   "display_name": "Python 3",
   "language": "python",
   "name": "python3"
  },
  "language_info": {
   "codemirror_mode": {
    "name": "ipython",
    "version": 3
   },
   "file_extension": ".py",
   "mimetype": "text/x-python",
   "name": "python",
   "nbconvert_exporter": "python",
   "pygments_lexer": "ipython3",
   "version": "3.7.7"
  }
 },
 "nbformat": 4,
 "nbformat_minor": 4
}
