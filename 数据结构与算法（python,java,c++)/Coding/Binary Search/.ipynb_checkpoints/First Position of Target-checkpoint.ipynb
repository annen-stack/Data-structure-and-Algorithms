{
 "cells": [
  {
   "cell_type": "markdown",
   "metadata": {},
   "source": [
    "1. 能使用二分搜索的前提是数组已排序。\n",
    "2. 二分查找的使用场景：（1）可转换为find the first/last position of...（2）时间复杂度至少为O(lgn)。\n",
    "3. 递归和迭代的使用场景：能用迭代就用迭代，特别复杂时采用递归。"
   ]
  },
  {
   "cell_type": "markdown",
   "metadata": {},
   "source": [
    "For a given sorted array (ascending order) and a target number, find the first index of this number in O(log n) time complexity."
   ]
  },
  {
   "cell_type": "markdown",
   "metadata": {},
   "source": [
    "对于已排序升序(升序)数组，使用二分查找可满足复杂度要求，注意数组中可能有重复值，所以需要使用类似lower_bound中提到的方法。"
   ]
  },
  {
   "cell_type": "code",
   "execution_count": null,
   "metadata": {},
   "outputs": [],
   "source": [
    "//java \n",
    "class Solution{\n",
    "    public int binary(int[] nums, int target){\n",
    "    if (nums == null || nums.length == 0) {\n",
    "            return -1;\n",
    "        }\n",
    "    int start=-1,end=nums.length;\n",
    "    int mid;\n",
    "    while(start+1<end){\n",
    "        mid=start+(end-start)/2;\n",
    "        if(nums[mid]<target){\n",
    "            start=mid;\n",
    "        }else{\n",
    "            end=mid;\n",
    "        }\n",
    "    }\n",
    "    if(end=nums.length||nums[end]!=target){\n",
    "        return -1;\n",
    "    }else{\n",
    "        return end;\n",
    "    }\n",
    "}"
   ]
  },
  {
   "cell_type": "markdown",
   "metadata": {},
   "source": [
    "### 源码分析"
   ]
  },
  {
   "cell_type": "markdown",
   "metadata": {},
   "source": [
    "1. 首先对输入做异常处理，数组为空或者长度为0。\n",
    "2. 初始化 start, end, mid三个变量，这里start初始化为-1主要是考虑到end为1。注意mid的求值方法，可以防止两个整型值相加时溢出。\n",
    "3. 使用迭代而不是递归进行二分查找，因为工程中递归写法存在潜在溢出的可能。\n",
    "4. while终止条件应为start + 1 < end而不是start <= end，start == end时可能出现死循环。即循环终止条件是相邻或相交元素时退出。由于这里初始化时start < end，所以一定是start + 1 == end时退出循环。\n",
    "5. 迭代终止时有两种情况，一种是在原数组中找到了，这种情况下一定是end, 因为start的更新只在nums[mid] < target.\n",
    "6. 最后判断end和target的关系，先排除end为数组长度这种会引起越界的情况，然后再判断和目标值是否相等。"
   ]
  },
  {
   "cell_type": "markdown",
   "metadata": {},
   "source": [
    "## 复杂度分析"
   ]
  },
  {
   "cell_type": "markdown",
   "metadata": {},
   "source": [
    "时间复杂度 \n",
    "O(logn), 空间复杂度 \n",
    "(1). "
   ]
  },
  {
   "cell_type": "code",
   "execution_count": null,
   "metadata": {},
   "outputs": [],
   "source": []
  }
 ],
 "metadata": {
  "kernelspec": {
   "display_name": "Python 3",
   "language": "python",
   "name": "python3"
  },
  "language_info": {
   "codemirror_mode": {
    "name": "ipython",
    "version": 3
   },
   "file_extension": ".py",
   "mimetype": "text/x-python",
   "name": "python",
   "nbconvert_exporter": "python",
   "pygments_lexer": "ipython3",
   "version": "3.7.7"
  }
 },
 "nbformat": 4,
 "nbformat_minor": 4
}
