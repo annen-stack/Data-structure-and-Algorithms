{
 "cells": [
  {
   "cell_type": "code",
   "execution_count": null,
   "metadata": {},
   "outputs": [],
   "source": [
    "class Solution {\n",
    "    /**\n",
    "     * Insert newInterval into intervals.\n",
    "     * @param intervals: Sorted interval list.\n",
    "     * @param newInterval: A new interval.\n",
    "     * @return: A new sorted interval list.\n",
    "     */\n",
    "    public ArrayList<Interval> insert(ArrayList<Interval> intervals, Interval newInterval) {\n",
    "        ArrayList<Interval> result = new ArrayList<Interval>();\n",
    "        if (intervals == null || intervals.isEmpty()) {\n",
    "            if (newInterval != null) {\n",
    "                result.add(newInterval);\n",
    "            }\n",
    "            return result;\n",
    "        }\n",
    "\n",
    "        int insertPos = 0;\n",
    "        for (Interval interval : intervals) {\n",
    "            if (newInterval.end < interval.start) {\n",
    "                // case 1: [new], [old]\n",
    "                result.add(interval);\n",
    "            } else if (interval.end < newInterval.start) {\n",
    "                // case 2: [old], [new]\n",
    "                result.add(interval);\n",
    "                insertPos++;\n",
    "            } else {\n",
    "                // case 3, 4: [old, new] or [new, old]\n",
    "                newInterval.start = Math.min(newInterval.start, interval.start);\n",
    "                newInterval.end = Math.max(newInterval.end, interval.end);\n",
    "            }\n",
    "        }\n",
    "\n",
    "        result.add(insertPos, newInterval);\n",
    "\n",
    "        return result;\n",
    "    }\n",
    "}"
   ]
  }
 ],
 "metadata": {
  "kernelspec": {
   "display_name": "Python 3",
   "language": "python",
   "name": "python3"
  },
  "language_info": {
   "codemirror_mode": {
    "name": "ipython",
    "version": 3
   },
   "file_extension": ".py",
   "mimetype": "text/x-python",
   "name": "python",
   "nbconvert_exporter": "python",
   "pygments_lexer": "ipython3",
   "version": "3.7.7"
  }
 },
 "nbformat": 4,
 "nbformat_minor": 4
}
