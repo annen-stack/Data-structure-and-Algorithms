{
 "cells": [
  {
   "cell_type": "code",
   "execution_count": null,
   "metadata": {},
   "outputs": [],
   "source": [
    "public class Solution {\n",
    "    /**\n",
    "     * @param s: A string\n",
    "     * @param p: A string includes \"?\" and \"*\"\n",
    "     * @return: A boolean\n",
    "     */\n",
    "    public boolean isMatch(String s, String p) {\n",
    "        if (s == null || p == null) return false;\n",
    "        if (s.length() == 0|| p.length() == 0) return false;\n",
    "\n",
    "        return helper(s, 0, p, 0);\n",
    "    }\n",
    "\n",
    "    private boolean helper(String s, int si, String p, int pj) {\n",
    "        // index out of range check\n",
    "        if (si == s.length() || pj == p.length()) {\n",
    "            if (si == s.length() && pj == p.length()) {\n",
    "                return true;\n",
    "            } else {\n",
    "                return false;\n",
    "            }\n",
    "        }\n",
    "\n",
    "        if (p.charAt(pj) == '*') {\n",
    "            // remove coninuous *\n",
    "            while (p.charAt(pj) == '*') {\n",
    "                pj++;\n",
    "                // index out of range check\n",
    "                if (pj == p.length()) return true;\n",
    "            }\n",
    "\n",
    "            // compare remaining part of p after * with s\n",
    "            while (si < s.length() && !helper(s, si, p, pj)) {\n",
    "                si++;\n",
    "            }\n",
    "            // substring of p equals to s\n",
    "            return si != s.length();\n",
    "        } else if (s.charAt(si) == p.charAt(pj) || p.charAt(pj) == '?') {\n",
    "            return helper(s, si + 1, p, pj + 1);\n",
    "        } else {\n",
    "            return false;\n",
    "        }\n",
    "    }\n",
    "}"
   ]
  }
 ],
 "metadata": {
  "kernelspec": {
   "display_name": "Python 3",
   "language": "python",
   "name": "python3"
  },
  "language_info": {
   "codemirror_mode": {
    "name": "ipython",
    "version": 3
   },
   "file_extension": ".py",
   "mimetype": "text/x-python",
   "name": "python",
   "nbconvert_exporter": "python",
   "pygments_lexer": "ipython3",
   "version": "3.7.7"
  }
 },
 "nbformat": 4,
 "nbformat_minor": 4
}
