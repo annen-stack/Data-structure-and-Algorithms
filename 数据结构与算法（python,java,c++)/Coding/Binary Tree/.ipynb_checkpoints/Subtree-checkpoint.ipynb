{
 "cells": [
  {
   "cell_type": "code",
   "execution_count": null,
   "metadata": {},
   "outputs": [],
   "source": [
    "public class Solution {\n",
    "    /**\n",
    "     * @param T1, T2: The roots of binary tree.\n",
    "     * @return: True if T2 is a subtree of T1, or false.\n",
    "     */\n",
    "    public boolean isSubtree(TreeNode T1, TreeNode T2) {\n",
    "        if (T2 == null) return true;\n",
    "        if (T1 == null) return false;\n",
    "        return identical(T1, T2) || isSubtree(T1.left, T2) || isSubtree(T1.right, T2);\n",
    "    }\n",
    "\n",
    "    private boolean identical(TreeNode T1, TreeNode T2) {\n",
    "        if (T1 == null && T2 == null) return true;\n",
    "        if (T1 == null || T2 == null) return false;\n",
    "        if (T1.val != T2.val) return false;\n",
    "        return identical(T1.left, T2.left) && identical(T1.right, T2.right);\n",
    "    }\n",
    "}"
   ]
  }
 ],
 "metadata": {
  "kernelspec": {
   "display_name": "Python 3",
   "language": "python",
   "name": "python3"
  },
  "language_info": {
   "codemirror_mode": {
    "name": "ipython",
    "version": 3
   },
   "file_extension": ".py",
   "mimetype": "text/x-python",
   "name": "python",
   "nbconvert_exporter": "python",
   "pygments_lexer": "ipython3",
   "version": "3.7.7"
  }
 },
 "nbformat": 4,
 "nbformat_minor": 4
}
