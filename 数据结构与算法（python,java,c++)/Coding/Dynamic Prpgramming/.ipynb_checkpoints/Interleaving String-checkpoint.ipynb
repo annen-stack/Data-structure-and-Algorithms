{
 "cells": [
  {
   "cell_type": "code",
   "execution_count": null,
   "metadata": {},
   "outputs": [],
   "source": [
    "public class Solution {\n",
    "    /**\n",
    "     * Determine whether s3 is formed by interleaving of s1 and s2.\n",
    "     * @param s1, s2, s3: As description.\n",
    "     * @return: true or false.\n",
    "     */\n",
    "    public boolean isInterleave(String s1, String s2, String s3) {\n",
    "        int len1 = (s1 == null) ? 0 : s1.length();\n",
    "        int len2 = (s2 == null) ? 0 : s2.length();\n",
    "        int len3 = (s3 == null) ? 0 : s3.length();\n",
    "\n",
    "        if (len3 != len1 + len2) return false;\n",
    "\n",
    "        int i1 = 0, i2 = 0;\n",
    "        for (int i3 = 0; i3 < len3; i3++) {\n",
    "            boolean result = false;\n",
    "            if (i1 < len1 && s1.charAt(i1) == s3.charAt(i3)) {\n",
    "                i1++;\n",
    "                result = true;\n",
    "                continue;\n",
    "            }\n",
    "            if (i2 < len2 && s2.charAt(i2) == s3.charAt(i3)) {\n",
    "                i2++;\n",
    "                result = true;\n",
    "                continue;\n",
    "            }\n",
    "\n",
    "            // return instantly if both s1 and s2 can not pair with s3\n",
    "            if (!result) return false;\n",
    "        }\n",
    "\n",
    "        return true;\n",
    "    }\n",
    "}"
   ]
  }
 ],
 "metadata": {
  "kernelspec": {
   "display_name": "Python 3",
   "language": "python",
   "name": "python3"
  },
  "language_info": {
   "codemirror_mode": {
    "name": "ipython",
    "version": 3
   },
   "file_extension": ".py",
   "mimetype": "text/x-python",
   "name": "python",
   "nbconvert_exporter": "python",
   "pygments_lexer": "ipython3",
   "version": "3.7.7"
  }
 },
 "nbformat": 4,
 "nbformat_minor": 4
}
