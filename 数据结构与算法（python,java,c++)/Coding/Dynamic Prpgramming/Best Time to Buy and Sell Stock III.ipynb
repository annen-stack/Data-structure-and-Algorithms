{
 "cells": [
  {
   "cell_type": "code",
   "execution_count": null,
   "metadata": {},
   "outputs": [],
   "source": [
    "class Solution:\n",
    "    \"\"\"\n",
    "    @param prices: Given an integer array\n",
    "    @return: Maximum profit\n",
    "    \"\"\"\n",
    "    def maxProfit(self, prices):\n",
    "        if prices is None or len(prices) <= 1:\n",
    "            return 0\n",
    "\n",
    "        n = len(prices)\n",
    "        # get profit in the front of prices\n",
    "        profit_front = [0] * n\n",
    "        valley = prices[0]\n",
    "        for i in xrange(1, n):\n",
    "            profit_front[i] = max(profit_front[i - 1], prices[i] - valley)\n",
    "            valley = min(valley, prices[i])\n",
    "        # get profit in the back of prices, (i, n)\n",
    "        profit_back = [0] * n\n",
    "        peak = prices[-1]\n",
    "        for i in xrange(n - 2, -1, -1):\n",
    "            profit_back[i] = max(profit_back[i + 1], peak - prices[i])\n",
    "            peak = max(peak, prices[i])\n",
    "        # add the profit front and back\n",
    "        profit = 0\n",
    "        for i in xrange(n):\n",
    "            profit = max(profit, profit_front[i] + profit_back[i])\n",
    "\n",
    "        return profit"
   ]
  }
 ],
 "metadata": {
  "kernelspec": {
   "display_name": "Python 3",
   "language": "python",
   "name": "python3"
  },
  "language_info": {
   "codemirror_mode": {
    "name": "ipython",
    "version": 3
   },
   "file_extension": ".py",
   "mimetype": "text/x-python",
   "name": "python",
   "nbconvert_exporter": "python",
   "pygments_lexer": "ipython3",
   "version": "3.7.7"
  }
 },
 "nbformat": 4,
 "nbformat_minor": 4
}
