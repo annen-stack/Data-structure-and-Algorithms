{
 "cells": [
  {
   "cell_type": "markdown",
   "metadata": {},
   "source": [
    "给定一个 haystack 字符串和一个 needle 字符串，在 haystack 字符串中找出 needle 字符串出现的第一个位置 (从0开始)。如果不存在，则返回  -1。\n"
   ]
  },
  {
   "cell_type": "code",
   "execution_count": 2,
   "metadata": {},
   "outputs": [],
   "source": [
    "def strStr(source,target):\n",
    "    f=1\n",
    "    if source is None or target is None:\n",
    "        return -1\n",
    "    for i in range(len(source)-len(target)+1):\n",
    "        \n",
    "        for j in range(len(target)):\n",
    "            f=0\n",
    "            if source[i+j]!=target[j]:\n",
    "                f=1\n",
    "                break\n",
    "        if f==0:\n",
    "            return i\n",
    "    return -1"
   ]
  },
  {
   "cell_type": "code",
   "execution_count": null,
   "metadata": {},
   "outputs": [],
   "source": [
    "//C++\n",
    "class Solution {\n",
    "public:\n",
    "    int strStr(string haystack, string needle) {\n",
    "        if (haystack.empty() && needle.empty()) return 0;\n",
    "        if (haystack.empty()) return -1;\n",
    "        if (haystack.size() < needle.size()) return -1;\n",
    "\n",
    "        for (string::size_type i = 0; i < haystack.size() - needle.size() + 1; i++) {\n",
    "            string::size_type j = 0;\n",
    "            for (; j < needle.size(); j++) {\n",
    "                if (haystack[i + j] != needle[j]) break;\n",
    "            }\n",
    "            if (j == needle.size()) return i;\n",
    "        }\n",
    "\n",
    "        return -1;\n",
    "    }\n",
    "};"
   ]
  },
  {
   "cell_type": "code",
   "execution_count": null,
   "metadata": {},
   "outputs": [],
   "source": [
    "//JAVA\n",
    "public class Solution {\n",
    "    public int strStr(String haystack, String needle) {\n",
    "        if (haystack == null && needle == null) return 0;\n",
    "        if (haystack == null) return -1;\n",
    "        if (needle == null) return 0;\n",
    "\n",
    "        for (int i = 0; i < haystack.length() - needle.length() + 1; i++) {\n",
    "            int j = 0;\n",
    "            for (; j < needle.length(); j++) {\n",
    "                if (haystack.charAt(i+j) != needle.charAt(j)) break;\n",
    "            }\n",
    "            if (j == needle.length()) return i;\n",
    "        }\n",
    "\n",
    "        return -1;\n",
    "    }\n",
    "}"
   ]
  },
  {
   "cell_type": "markdown",
   "metadata": {},
   "source": [
    "### 复杂度分析\n"
   ]
  },
  {
   "cell_type": "markdown",
   "metadata": {},
   "source": [
    "双重 for 循环，时间复杂度最坏情况下为 \n",
    "O((n−m)∗m)."
   ]
  },
  {
   "cell_type": "code",
   "execution_count": null,
   "metadata": {},
   "outputs": [],
   "source": []
  }
 ],
 "metadata": {
  "kernelspec": {
   "display_name": "Python 3",
   "language": "python",
   "name": "python3"
  },
  "language_info": {
   "codemirror_mode": {
    "name": "ipython",
    "version": 3
   },
   "file_extension": ".py",
   "mimetype": "text/x-python",
   "name": "python",
   "nbconvert_exporter": "python",
   "pygments_lexer": "ipython3",
   "version": "3.7.7"
  }
 },
 "nbformat": 4,
 "nbformat_minor": 4
}
