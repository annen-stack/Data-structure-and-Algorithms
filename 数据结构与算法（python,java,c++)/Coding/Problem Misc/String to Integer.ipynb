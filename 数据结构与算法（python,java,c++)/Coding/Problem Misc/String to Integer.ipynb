{
 "cells": [
  {
   "cell_type": "code",
   "execution_count": null,
   "metadata": {},
   "outputs": [],
   "source": [
    "public class Solution {\n",
    "    /**\n",
    "     * @param str: A string\n",
    "     * @return An integer\n",
    "     */\n",
    "    public int atoi(String str) {\n",
    "        if (str == null || str.length() == 0) return 0;\n",
    "\n",
    "        // trim left and right spaces\n",
    "        String strTrim = str.trim();\n",
    "        int len = strTrim.length();\n",
    "        // sign symbol for positive and negative\n",
    "        int sign = 1;\n",
    "        // index for iteration\n",
    "        int i = 0;\n",
    "        if (strTrim.charAt(i) == '+') {\n",
    "            i++;\n",
    "        } else if (strTrim.charAt(i) == '-') {\n",
    "            sign = -1;\n",
    "            i++;\n",
    "        }\n",
    "\n",
    "        // store the result as long to avoid overflow\n",
    "        long result = 0;\n",
    "        while (i < len) {\n",
    "            if (strTrim.charAt(i) < '0' || strTrim.charAt(i) > '9') {\n",
    "                break;\n",
    "            }\n",
    "            result = 10 * result + sign * (strTrim.charAt(i) - '0');\n",
    "            // overflow\n",
    "            if (result > Integer.MAX_VALUE) {\n",
    "                return Integer.MAX_VALUE;\n",
    "            } else if (result < Integer.MIN_VALUE) {\n",
    "                return Integer.MIN_VALUE;\n",
    "            }\n",
    "            i++;\n",
    "        }\n",
    "\n",
    "        return (int)result;\n",
    "    }\n",
    "}"
   ]
  }
 ],
 "metadata": {
  "kernelspec": {
   "display_name": "Python 3",
   "language": "python",
   "name": "python3"
  },
  "language_info": {
   "codemirror_mode": {
    "name": "ipython",
    "version": 3
   },
   "file_extension": ".py",
   "mimetype": "text/x-python",
   "name": "python",
   "nbconvert_exporter": "python",
   "pygments_lexer": "ipython3",
   "version": "3.7.7"
  }
 },
 "nbformat": 4,
 "nbformat_minor": 4
}
