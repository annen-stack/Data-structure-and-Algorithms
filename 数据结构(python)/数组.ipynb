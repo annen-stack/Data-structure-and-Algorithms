{
 "cells": [
  {
   "cell_type": "code",
   "execution_count": 2,
   "metadata": {},
   "outputs": [],
   "source": [
    "class Solution:\n",
    "    def removeElement(self, nums):\n",
    "        pos = 0\n",
    "        for i in range(len(nums)):\n",
    "            if nums[i] != val:\n",
    "                nums[pos] = nums[i]\n",
    "                pos += 1\n",
    "        return pos"
   ]
  },
  {
   "cell_type": "code",
   "execution_count": 3,
   "metadata": {},
   "outputs": [],
   "source": [
    "#去掉重复数字\n",
    "class Solution:\n",
    "    def removeDuplicates(self,nums):\n",
    "        pos=0\n",
    "        for i in range(1,len(nums)):\n",
    "            if nums[pos]<nums[i]:\n",
    "                pos=pos+1\n",
    "                nums[pos]=nums[i]\n",
    "        return pos+1"
   ]
  },
  {
   "cell_type": "code",
   "execution_count": 5,
   "metadata": {},
   "outputs": [],
   "source": [
    "class Solution:\n",
    "    def rotate(self, nums, k) :\n",
    "        k %= len(nums)\n",
    "        if k == 0:return\n",
    "        t1 = nums[-k:]\n",
    "        t2 = nums[:-k]\n",
    "        return t1+t2"
   ]
  },
  {
   "cell_type": "code",
   "execution_count": 7,
   "metadata": {},
   "outputs": [],
   "source": [
    "class Solution:\n",
    "    def firstMissingPositive(self, nums):\n",
    "        l=list(range(min(nums),max(nums)+1))\n",
    "        nums=nums.sort()\n",
    "        for i in range(len(nums)):\n",
    "            if nums[i]!=l[i]:\n",
    "                return l[i]"
   ]
  },
  {
   "cell_type": "code",
   "execution_count": 8,
   "metadata": {},
   "outputs": [],
   "source": [
    "class Solution:\n",
    "    def canCompleteCircuit(self,gas,cost):\n",
    "        if sum(gas) < sum(cost): return -1\n",
    "        start = rest = 0\n",
    "        for i in range(len(gas)):\n",
    "            if gas[i] + rest < cost[i]:\n",
    "                start, rest = i+1, 0\n",
    "            else:\n",
    "                rest += gas[i]-cost[i]\n",
    "        return start"
   ]
  },
  {
   "cell_type": "code",
   "execution_count": 9,
   "metadata": {},
   "outputs": [],
   "source": [
    "class Solution:\n",
    "    def generate(self, numRows):\n",
    "        if not numRows:\n",
    "            return []\n",
    "        res=[[1]]\n",
    "        for i in range(1,numRows):\n",
    "            res=res+[[1]+[res[-1][i]+res[-1][i+1] for i in range(len(res[-1])-1)]+[1]]\n",
    "        return res"
   ]
  },
  {
   "cell_type": "code",
   "execution_count": 10,
   "metadata": {},
   "outputs": [],
   "source": [
    "class Solution:\n",
    "    def generate(self, numRows):\n",
    "        if not numRows:\n",
    "            return []\n",
    "        numRows=numRows+1\n",
    "        res=[[1]]\n",
    "        for i in range(1,numRows):\n",
    "            res=res+[[1]+[res[-1][i]+res[-1][i+1] for i in range(len(res[-1])-1)]+[1]]\n",
    "        return res[-1]"
   ]
  },
  {
   "cell_type": "code",
   "execution_count": 11,
   "metadata": {},
   "outputs": [],
   "source": [
    "class Solution:\n",
    "    def majorityElement(self, nums):\n",
    "        for i in range(len(nums)):\n",
    "           if nums.count(nums[i]) > len(nums)//2:\n",
    "                return nums[i]\n",
    "            "
   ]
  },
  {
   "cell_type": "code",
   "execution_count": 13,
   "metadata": {},
   "outputs": [],
   "source": [
    "class Solution:\n",
    "    def hIndex(self, citations):\n",
    "        c = sorted(citations, reverse=True)\n",
    "        for i, v in enumerate(c):\n",
    "            if v <= i:\n",
    "                return i\n",
    "        return len(c)"
   ]
  },
  {
   "cell_type": "code",
   "execution_count": 15,
   "metadata": {},
   "outputs": [],
   "source": [
    "class Solution:\n",
    "    def hIndex(self, citation):\n",
    "        lo, hi = 0, len(citations)\n",
    "        while lo < hi:\n",
    "            mid = (lo + hi) // 2\n",
    "            if citations[~mid] > mid:\n",
    "                lo = mid + 1\n",
    "            else:\n",
    "                hi = mid\n",
    "        return lo"
   ]
  },
  {
   "cell_type": "code",
   "execution_count": 16,
   "metadata": {},
   "outputs": [],
   "source": [
    "class Solution:\n",
    "    def containsDuplicate(self, nums):\n",
    "        return len(nums) > len(set(nums))"
   ]
  },
  {
   "cell_type": "code",
   "execution_count": 18,
   "metadata": {},
   "outputs": [],
   "source": [
    "class Solution:\n",
    "    def containsNearbyDuplicate(self, nums):\n",
    "        used = {}\n",
    "        flag = False\n",
    "        for i, v in enumerate(nums):\n",
    "            if v in used and not flag:\n",
    "                flag = (i - used[v] <= k)\n",
    "            used[v] = i\n",
    "        return flag"
   ]
  },
  {
   "cell_type": "code",
   "execution_count": 19,
   "metadata": {},
   "outputs": [],
   "source": [
    "class Solution:\n",
    "    def containsNearbyAlmostDuplicate(self, nums,k,t) -> bool:\n",
    "        if t == 0 and len(nums) == len(set(nums)): return False\n",
    "        for i in range(len(nums)):\n",
    "            for j in range(1, k + 1):\n",
    "                if i + j >= len(nums): break\n",
    "                if abs(nums[i] - nums[i + j]) <= t: return True\n",
    "        return False"
   ]
  },
  {
   "cell_type": "code",
   "execution_count": 21,
   "metadata": {},
   "outputs": [],
   "source": [
    "class Solution: # 从后往前,不能优化。\n",
    "    def canJump(self, nums):\n",
    "        lastpos = len(nums)-1\n",
    "        for i in range(len(nums)-1, -1, -1):\n",
    "            if i + nums[i] >= lastpos:\n",
    "                lastpos = i\n",
    "        return lastpos == 0"
   ]
  },
  {
   "cell_type": "code",
   "execution_count": 23,
   "metadata": {},
   "outputs": [],
   "source": [
    "class Solution:\n",
    "    def jump(self, nums):\n",
    "        tmp = [i + v for i, v in enumerate(nums)]\n",
    "        left = right = res = 0\n",
    "        while right < len(nums)-1:\n",
    "            left, right = right, max(tmp[left:right+1])\n",
    "            res += 1\n",
    "        return res"
   ]
  },
  {
   "cell_type": "code",
   "execution_count": 24,
   "metadata": {},
   "outputs": [],
   "source": [
    "class Solution:\n",
    "    def maxArea(self, height):\n",
    "        res, i, j = 0, 0, len(height) - 1\n",
    "        while i < j:\n",
    "            res = max(res, min(height[i], height[j]) * (j - i))\n",
    "            if height[i] > height[j]: j -= 1\n",
    "            else: i += 1\n",
    "        return res"
   ]
  },
  {
   "cell_type": "code",
   "execution_count": 25,
   "metadata": {},
   "outputs": [],
   "source": [
    "class Solution:\n",
    "    def trap(self, height):\n",
    "        if not height:\n",
    "            return 0\n",
    "        res, i, j = 0, 0, len(height)-1\n",
    "        l_max, r_max = height[i], height[j]\n",
    "        while i < j:\n",
    "            if l_max > r_max:\n",
    "                j -= 1\n",
    "                r_max = max(r_max, height[j])\n",
    "                res += max(0, r_max - height[j])\n",
    "            else:\n",
    "                i += 1\n",
    "                l_max = max(l_max, height[i])\n",
    "                res += max(0, l_max - height[i])\n",
    "        return res"
   ]
  },
  {
   "cell_type": "code",
   "execution_count": 26,
   "metadata": {},
   "outputs": [],
   "source": [
    "class Solution:\n",
    "    def longestConsecutive(self, nums):\n",
    "        nums = set(nums)\n",
    "        best = 0\n",
    "        for x in nums:\n",
    "            if x - 1 not in nums:\n",
    "                y = x + 1\n",
    "                while y in nums:\n",
    "                    y += 1\n",
    "                best = max(best, y - x)\n",
    "        return best"
   ]
  },
  {
   "cell_type": "code",
   "execution_count": 28,
   "metadata": {},
   "outputs": [],
   "source": [
    "###返回所有可能的子集\n",
    "class Solution:\n",
    "    def subsets(self,nums):\n",
    "        subsets=[[]]\n",
    "        for n in nums:\n",
    "            subsets+=[s+[n] for s in subsets]\n",
    "        return subsets"
   ]
  },
  {
   "cell_type": "code",
   "execution_count": 29,
   "metadata": {},
   "outputs": [],
   "source": [
    "class Solution:\n",
    "    def insert(self, intervals, newInterval):\n",
    "        start, end = newInterval\n",
    "        left, right = [], []\n",
    "        for i in intervals:\n",
    "            if i[1] < start:\n",
    "                left += i,\n",
    "            elif i[0] > end:\n",
    "                right += i,\n",
    "            else:\n",
    "                start = min(start, i[0])\n",
    "                end = max(end, i[1])\n",
    "        return left + [[start, end]] + right"
   ]
  },
  {
   "cell_type": "code",
   "execution_count": 30,
   "metadata": {},
   "outputs": [],
   "source": [
    "class Solution:\n",
    "    def merge(self, intervals):\n",
    "        intervals.sort(key=lambda x:x[0])\n",
    "        res=[[]]\n",
    "        for i in intervals:\n",
    "            if not res or res[-1][1]<i[0]:\n",
    "                res+=i\n",
    "            else:\n",
    "                res[-1][1]=max(res[-1][1],i[1])\n",
    "        return res.pop(0)"
   ]
  },
  {
   "cell_type": "code",
   "execution_count": 31,
   "metadata": {},
   "outputs": [],
   "source": [
    "class Solution:\n",
    "    def intervalIntersection(self, A,B):\n",
    "        res = []\n",
    "        i = j = 0\n",
    "        while i < len(A) and j < len(B):\n",
    "            a1, a2 = A[i][0], A[i][1]\n",
    "            b1, b2 = B[j][0], B[j][1]\n",
    "            if b2 >= a1 and a2 >= b1:\n",
    "                res += [max(a1, b1), min(a2, b2)],\n",
    "            if a2 < b2: i += 1\n",
    "            else: j += 1\n",
    "        return res"
   ]
  },
  {
   "cell_type": "code",
   "execution_count": 32,
   "metadata": {},
   "outputs": [],
   "source": [
    "class Solution:\n",
    "    def minSubArrayLen(self, s):\n",
    "        i, sum, res = 0, 0, float('inf')\n",
    "        for j in range(len(nums)):\n",
    "            sum += nums[j]\n",
    "            while sum >= s:\n",
    "                i, sum, res = i + 1, sum - nums[i], min(res, j - i + 1)\n",
    "        return 0 if res == float('inf') else res"
   ]
  },
  {
   "cell_type": "code",
   "execution_count": 33,
   "metadata": {},
   "outputs": [],
   "source": [
    "class Solution:\n",
    "    def productExceptSelf(self, nums):\n",
    "        res = [1] * len(nums)\n",
    "        for i in range(1, len(nums)):\n",
    "            res[i] = nums[i-1] * res[i-1]\n",
    "        tmp = 1\n",
    "        for j in range(len(nums)-2, -1, -1):\n",
    "            tmp *= nums[j+1]\n",
    "            res[j] *= tmp\n",
    "        return res"
   ]
  }
 ],
 "metadata": {
  "kernelspec": {
   "display_name": "Python 3",
   "language": "python",
   "name": "python3"
  },
  "language_info": {
   "codemirror_mode": {
    "name": "ipython",
    "version": 3
   },
   "file_extension": ".py",
   "mimetype": "text/x-python",
   "name": "python",
   "nbconvert_exporter": "python",
   "pygments_lexer": "ipython3",
   "version": "3.7.7"
  }
 },
 "nbformat": 4,
 "nbformat_minor": 4
}
