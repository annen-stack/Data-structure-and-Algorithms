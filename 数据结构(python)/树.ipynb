{
 "cells": [
  {
   "cell_type": "markdown",
   "metadata": {},
   "source": [
    "### 1.前序遍历"
   ]
  },
  {
   "cell_type": "code",
   "execution_count": 1,
   "metadata": {},
   "outputs": [],
   "source": [
    "class Solution:\n",
    "    def preorderTraversal(self,root):\n",
    "        if not root:\n",
    "            return []\n",
    "        else:\n",
    "            return [root.val]+preorderTraversal(root.left)+preorderTraversal(root.right)"
   ]
  },
  {
   "cell_type": "markdown",
   "metadata": {},
   "source": [
    "### 2.中序遍历"
   ]
  },
  {
   "cell_type": "code",
   "execution_count": 5,
   "metadata": {},
   "outputs": [],
   "source": [
    "class Solution:\n",
    "    def inorderTraversal(self, root):\n",
    "        return [] if not root else self.inorderTraversal(root.left) + [root.val] + self.inorderTraversal(root.right)"
   ]
  },
  {
   "cell_type": "markdown",
   "metadata": {},
   "source": [
    "### 3.后序遍历"
   ]
  },
  {
   "cell_type": "code",
   "execution_count": 7,
   "metadata": {},
   "outputs": [],
   "source": [
    "class Solution:\n",
    "    def postorderTraversal(self, root):\n",
    "        return self.postorderTraversal(root.left) + self.postorderTraversal(root.right) + [root.val] if root else []"
   ]
  },
  {
   "cell_type": "markdown",
   "metadata": {},
   "source": [
    "### 4.层次遍历"
   ]
  },
  {
   "cell_type": "code",
   "execution_count": 9,
   "metadata": {},
   "outputs": [],
   "source": [
    "class Solution:\n",
    "    def levelOrder(self, root: TreeNode):\n",
    "        res=[]\n",
    "        if root:\n",
    "            level=[root]\n",
    "            while level:\n",
    "                res.append([node.val for node in level])\n",
    "                r=[]\n",
    "                for node in level:\n",
    "                    for kid in (node.left,node.right):\n",
    "                        if  kid:\n",
    "                            r.append(kid)\n",
    "                level=r\n",
    "        return res "
   ]
  },
  {
   "cell_type": "code",
   "execution_count": 7,
   "metadata": {},
   "outputs": [],
   "source": [
    "def levelorder(root):\n",
    "    if not root:\n",
    "        return []\n",
    "    res = [root]\n",
    "    cur=[]\n",
    "    while res:\n",
    "        tmp=[]\n",
    "        for _ in range(len(res)):\n",
    "            node = res.pop(0)\n",
    "            tmp.append(node.val)\n",
    "            if node.left:\n",
    "                res.append(node.left)\n",
    "            if node.right:\n",
    "                res.append(node.right)\n",
    "        cur.append(tmp)\n",
    "    return cur"
   ]
  },
  {
   "cell_type": "markdown",
   "metadata": {},
   "source": [
    "### 5.层次遍历 自下而上"
   ]
  },
  {
   "cell_type": "code",
   "execution_count": 10,
   "metadata": {},
   "outputs": [],
   "source": [
    "class Solution:\n",
    "    def levelOrder(self, root: TreeNode):\n",
    "        res=[]\n",
    "        if root:\n",
    "            level=[root]\n",
    "            while level:\n",
    "                res.append([node.val for node in level])\n",
    "                r=[]\n",
    "                for node in level:\n",
    "                    for kid in (node.left,node.right):\n",
    "                        if kid:\n",
    "                            r.append(kid)\n",
    "                level=r\n",
    "        return res[::-1]"
   ]
  },
  {
   "cell_type": "markdown",
   "metadata": {},
   "source": [
    "### 6.层次遍历 之字形"
   ]
  },
  {
   "cell_type": "code",
   "execution_count": 12,
   "metadata": {},
   "outputs": [],
   "source": [
    "class Solution:\n",
    "    def zigzagLevelOrder(self,root:TreeNode):\n",
    "        res=[]\n",
    "        if root:\n",
    "            level=[root]\n",
    "            flag=1\n",
    "            while level:\n",
    "                res.append([i for i in level][::flag])\n",
    "                r=[]\n",
    "                flag=-1*flag\n",
    "                for node in level:\n",
    "                    for kid in (node.left,node.right):\n",
    "                        if kid:\n",
    "                            r.append(kid)\n",
    "                level=r\n",
    "        return res      "
   ]
  },
  {
   "cell_type": "code",
   "execution_count": 8,
   "metadata": {},
   "outputs": [],
   "source": [
    "def levelorder(root):\n",
    "    if not root:\n",
    "        return []\n",
    "    res = [root]\n",
    "    cur=[]\n",
    "    level=1\n",
    "    while res:\n",
    "        tmp=[]\n",
    "        for _ in range(len(res)):\n",
    "            node = res.pop(0)\n",
    "            tmp.append(node.val)\n",
    "            if node.left:\n",
    "                res.append(node.left)\n",
    "            if node.right:\n",
    "                res.append(node.right)\n",
    "        if level==1:\n",
    "            cur.append(tmp)\n",
    "        else:\n",
    "            cur.append(tmp[::-1])\n",
    "        level = -1*level\n",
    "    return cur"
   ]
  },
  {
   "cell_type": "markdown",
   "metadata": {},
   "source": [
    "### 7.判断两个二叉树是否相同"
   ]
  },
  {
   "cell_type": "code",
   "execution_count": 14,
   "metadata": {},
   "outputs": [],
   "source": [
    "class Solution:\n",
    "    def isSameTree(self, p: TreeNode, q: TreeNode):\n",
    "        if (not p) and (not q):\n",
    "            return True\n",
    "        if (not p) or (not q):\n",
    "            return False\n",
    "        if p.val==q.val:\n",
    "            return isSameTree(p.right)==isSameTree(q.right) and isSameTree(p.left)==isSameTree(q.left)\n",
    "        else:\n",
    "            return False\n",
    "        "
   ]
  },
  {
   "cell_type": "markdown",
   "metadata": {},
   "source": [
    "### 8.检查二叉树是否是自身的镜像"
   ]
  },
  {
   "cell_type": "code",
   "execution_count": 16,
   "metadata": {},
   "outputs": [],
   "source": [
    "class Solution:\n",
    "    def isSymmetric(self, root: TreeNode):\n",
    "        return isMirror(root,root)\n",
    "    def isMirror(self,r1:TreeNode,r2:TreeNode):\n",
    "        if (not r1) and (not r2):\n",
    "            return True\n",
    "        if (not r1) or (not r2):\n",
    "            return False\n",
    "        if r1.val==r2.val:\n",
    "            return isMirror(r1.right)==isMirror(r2.left) and isMirror(r1.left)==isMirror(r2.right)\n",
    "        else:\n",
    "            return False"
   ]
  },
  {
   "cell_type": "markdown",
   "metadata": {},
   "source": [
    "### 9.左右反转二叉树"
   ]
  },
  {
   "cell_type": "code",
   "execution_count": 17,
   "metadata": {},
   "outputs": [],
   "source": [
    "class Solution:\n",
    "    def invertTree(self,root):\n",
    "        stack=[root]\n",
    "        while stack:\n",
    "            node=stack.pop()\n",
    "            if node:\n",
    "                node.left,node.right=node.right,node.left\n",
    "                stack.extend([node.left,node.right])\n",
    "        return root"
   ]
  },
  {
   "cell_type": "markdown",
   "metadata": {},
   "source": [
    "### 10.给定二叉树返回所有从根到叶的路径"
   ]
  },
  {
   "cell_type": "code",
   "execution_count": 18,
   "metadata": {},
   "outputs": [],
   "source": [
    "class Solution:\n",
    "    def binaryTreePaths(self, root: TreeNode):\n",
    "        if not root:\n",
    "            return []\n",
    "        paths,stack=[],[(root,str(root.val))]\n",
    "        while stack:\n",
    "            node,path=stack.pop()\n",
    "            if not node.left and not node.right:\n",
    "                paths.append(path)\n",
    "            if node.left:\n",
    "                stack.append((node.left,path+'->'+str(node.left.val)))\n",
    "            if node.right:\n",
    "                stack.append((node.right,path+'->'+str(node.right.val)))\n",
    "        return paths"
   ]
  },
  {
   "cell_type": "markdown",
   "metadata": {},
   "source": [
    "### 11.是否存在某一路径之和为给定值"
   ]
  },
  {
   "cell_type": "code",
   "execution_count": 19,
   "metadata": {},
   "outputs": [],
   "source": [
    "class Solution:\n",
    "    def hasPathSum(self, root: TreeNode):\n",
    "        if not root:\n",
    "            return []\n",
    "        paths,stack=[],[(root,root.val)]\n",
    "        while stack:\n",
    "            node,cur=stack.pop()\n",
    "            if not node.left and not node.right and cur==sum:\n",
    "                return True\n",
    "            if node.left:\n",
    "                stack.append((node.left,cur+node.left.val))\n",
    "            if node.right:\n",
    "                stack.append((node.right,cur+node.right.val))\n",
    "        return False"
   ]
  },
  {
   "cell_type": "markdown",
   "metadata": {},
   "source": [
    "### 12.给定二叉树和一个和，输出路径"
   ]
  },
  {
   "cell_type": "code",
   "execution_count": 20,
   "metadata": {},
   "outputs": [],
   "source": [
    "class Solution:\n",
    "    def hasPathSum(self, root: TreeNode):\n",
    "        if not root:\n",
    "            return []\n",
    "        stack=[(root,root.val)]\n",
    "        res=[]\n",
    "        while stack:\n",
    "            node,cur=stack.pop()\n",
    "            if not node.left and not node.right and sum(cur)==sum:\n",
    "                res.append(cur)\n",
    "            if node.left:\n",
    "                stack.append((node.left,cur+[node.left.val]))\n",
    "            if node.right:\n",
    "                stack.append((node.right,cur+[node.right.val]))\n",
    "        return res"
   ]
  },
  {
   "cell_type": "markdown",
   "metadata": {},
   "source": [
    "### 13输出根到叶子节点的和"
   ]
  },
  {
   "cell_type": "code",
   "execution_count": 22,
   "metadata": {},
   "outputs": [],
   "source": [
    "class Solution:\n",
    "    def sumNumbers(self, root: TreeNode):\n",
    "        if not root:\n",
    "            return []\n",
    "        stack=[(root,str(root.val))]\n",
    "        res=[]\n",
    "        while stack:\n",
    "            node,cur=stack.pop()\n",
    "            if not node.left and not node.right:               \n",
    "                res.append(int(cur))\n",
    "            if node.left:\n",
    "                stack.append((node.left,cur+str(node.left.val)))\n",
    "            if node.right:\n",
    "                stack.append((node.right,cur+str(node.right.val)))\n",
    "        return sum(res)"
   ]
  },
  {
   "cell_type": "markdown",
   "metadata": {},
   "source": [
    "### 14.输出二叉树的最小深度"
   ]
  },
  {
   "cell_type": "code",
   "execution_count": 23,
   "metadata": {},
   "outputs": [],
   "source": [
    "class Solution:\n",
    "    def minDepth(self, root: TreeNode):\n",
    "        if not root:\n",
    "            return 0\n",
    "        stack=[(root,1)]\n",
    "        res=float('inf')\n",
    "        while stack:\n",
    "            node,cur=stack.pop()\n",
    "            if not node.left and not node.right:               \n",
    "                res=min(res,cur)\n",
    "            if node.left:\n",
    "                stack.append((node.left,cur+1))\n",
    "            if node.right:\n",
    "                stack.append((node.right,cur+1))\n",
    "        return res"
   ]
  },
  {
   "cell_type": "markdown",
   "metadata": {},
   "source": [
    "### 15.输出二叉树的最大深度"
   ]
  },
  {
   "cell_type": "code",
   "execution_count": 24,
   "metadata": {},
   "outputs": [],
   "source": [
    "class Solution:\n",
    "    def maxDepth(self, root: TreeNode):\n",
    "        if not root:\n",
    "            return 0\n",
    "        stack=[(root,1)]\n",
    "        res=0\n",
    "        while stack:\n",
    "            node,cur=stack.pop()\n",
    "            if not node.left and not node.right:               \n",
    "                res=max(res,cur)\n",
    "            if node.left:\n",
    "                stack.append((node.left,cur+1))\n",
    "            if node.right:\n",
    "                stack.append((node.right,cur+1))\n",
    "        return res"
   ]
  },
  {
   "cell_type": "markdown",
   "metadata": {},
   "source": [
    "### 16.最大宽度"
   ]
  },
  {
   "cell_type": "code",
   "execution_count": 26,
   "metadata": {},
   "outputs": [],
   "source": [
    "class Solution:\n",
    "    def widthOfBinaryTree(self, root: TreeNode):\n",
    "        if not root:\n",
    "            return 0\n",
    "        stack=[(root,0,0)]\n",
    "        res=[]\n",
    "        while stack:\n",
    "            node,depth,pos=stack.pop()\n",
    "            if len(res)<depth+1:\n",
    "                res.append([])\n",
    "            res[depth].append(pos)\n",
    "            if node.left:\n",
    "                stack.append((node.left,depth+1,pos*2))\n",
    "            if node.right:\n",
    "                stack.append((node.right,depth+1,pos*2+1))\n",
    "        \n",
    "        mm = 0\n",
    "        for i in range(len(res)):\n",
    "            mm = max((max(res[i])-min(res[i])),mm)\n",
    "        return mm+1"
   ]
  },
  {
   "cell_type": "markdown",
   "metadata": {},
   "source": [
    "### 17.N元树找出其最大深度"
   ]
  },
  {
   "cell_type": "code",
   "execution_count": 27,
   "metadata": {},
   "outputs": [],
   "source": [
    "class Solution:\n",
    "    def maxDepth(self, root: TreeNode):\n",
    "        if not root:\n",
    "            return 0\n",
    "        stack=[(root,1)]\n",
    "        res=0\n",
    "        while stack:\n",
    "            node,cur=stack.pop()\n",
    "            if not node.children :               \n",
    "                res=max(res,cur)\n",
    "            for kid in node.children:\n",
    "                stack.append((kid,cur+1))\n",
    "        return res"
   ]
  },
  {
   "cell_type": "markdown",
   "metadata": {},
   "source": [
    "### 18.判断二叉树是否平衡"
   ]
  },
  {
   "cell_type": "code",
   "execution_count": 28,
   "metadata": {},
   "outputs": [],
   "source": [
    "class Solution(object):\n",
    "    def isBalanced(self,root):\n",
    "        def check(root):\n",
    "            if not root:\n",
    "                return 0\n",
    "            left=check(root.left)\n",
    "            right=check(root.right)\n",
    "            if left==-1 or right==-1 or abs(left-right)>1:\n",
    "                return -1\n",
    "            return max(left,right)+1\n",
    "        return check(root)!=-1"
   ]
  },
  {
   "cell_type": "markdown",
   "metadata": {},
   "source": [
    "### 19.找出最大路径和"
   ]
  },
  {
   "cell_type": "code",
   "execution_count": 29,
   "metadata": {},
   "outputs": [],
   "source": [
    "class Solution:\n",
    "    def maxPathSum(self, root: TreeNode) -> int:\n",
    "        self.res=float('-inf')\n",
    "        def dfs(root):\n",
    "            if not root:\n",
    "                return 0\n",
    "            left=max(0,dfs(root.left))\n",
    "            right=max(0,dfs(root.right))\n",
    "            val=root.val+left+right\n",
    "            self.res=max(self.res,val)\n",
    "            return root.val + max(left,right)\n",
    "        dfs(root)\n",
    "        return self.res"
   ]
  },
  {
   "cell_type": "markdown",
   "metadata": {},
   "source": [
    "### 20.偷房子"
   ]
  },
  {
   "cell_type": "code",
   "execution_count": 31,
   "metadata": {},
   "outputs": [],
   "source": [
    "##分两种情况，根节点打劫或者不打劫\n",
    "class Solution(object):\n",
    "    def rob(self,root:TreeNode):\n",
    "        if root is None:\n",
    "            return 0\n",
    "        res1=0\n",
    "        res2=0\n",
    "        \n",
    "        res1+=root.val\n",
    "        if root.right:\n",
    "            res1=res1+self.rob(root.right.right)+self.root(root.right.left)\n",
    "        if root.left:\n",
    "            res1=res1+self.rob(root.left.right)+self.root(root.left.left)\n",
    "        res2=self.rob(root.left)+self.rob(root.right)\n",
    "        return max(res1,res2)\n",
    "    \n",
    "        "
   ]
  },
  {
   "cell_type": "markdown",
   "metadata": {},
   "source": [
    "### 21.合并两棵树"
   ]
  },
  {
   "cell_type": "code",
   "execution_count": 32,
   "metadata": {},
   "outputs": [],
   "source": [
    "class Solution(object):\n",
    "    def mergeTrees(self, t1, t2):\n",
    "        if t1 is None and t2 is None:\n",
    "            return None\n",
    "        if t1 is None:\n",
    "            return t2\n",
    "        if t2 is None:\n",
    "            return t2\n",
    "        t1.val=t1.val+t2.val\n",
    "        \n",
    "        t1.right=self.mergeTrees(t1.right,t2.right)\n",
    "        t1.left=self.mergeTrees(t1.left,t2.left)\n",
    "        return t1"
   ]
  },
  {
   "cell_type": "markdown",
   "metadata": {},
   "source": [
    "### 22.从一侧看二叉树"
   ]
  },
  {
   "cell_type": "code",
   "execution_count": 33,
   "metadata": {},
   "outputs": [],
   "source": [
    "##把每层的节点放入，然后输出每层的最后一个节点\n",
    "class Solution:\n",
    "    def rightSideView(self, root: TreeNode):\n",
    "        res=[]\n",
    "        q=[root.val]\n",
    "        level=[root]\n",
    "        while level:\n",
    "            r=[]\n",
    "            for l in level:\n",
    "                res.append(l.left)\n",
    "                res.append(l.right)\n",
    "                r.append(l.left.val)\n",
    "                r.append(l.right.val)\n",
    "            q.append(r[-1])\n",
    "            level=res\n",
    "        return q"
   ]
  },
  {
   "cell_type": "markdown",
   "metadata": {},
   "source": [
    "### 23.判断是否为有效二叉树"
   ]
  },
  {
   "cell_type": "code",
   "execution_count": 34,
   "metadata": {},
   "outputs": [],
   "source": [
    "class Solution:\n",
    "    def isValidBST(self, root: TreeNode) -> bool:\n",
    "        def validate(root, big, small):\n",
    "            if not root: \n",
    "                return True\n",
    "            if root.val >= big or root.val <= small: \n",
    "                return False\n",
    "            return validate(root.left, root.val, small) and validate(root.right, big, root.val)\n",
    "        return validate(root, float('inf'), float('-inf'))"
   ]
  },
  {
   "cell_type": "markdown",
   "metadata": {},
   "source": [
    "### 24.两个节点的最低公共祖先"
   ]
  },
  {
   "cell_type": "code",
   "execution_count": 35,
   "metadata": {},
   "outputs": [],
   "source": [
    "class Solution:\n",
    "    def lowerCommonAncestor(self,root,p,q):\n",
    "        if p.val < root.val and q.val < root.val:\n",
    "            return lowerCommonAncestor(root.left,p,q)\n",
    "        if p.val > root.val and q.val > root.val:\n",
    "            return lowerCommonAncestor(root.right,p,q)\n",
    "        return root\n",
    "        "
   ]
  },
  {
   "cell_type": "code",
   "execution_count": 36,
   "metadata": {},
   "outputs": [],
   "source": [
    "class Solution:\n",
    "    def lowestCommonAncestor(self, root: 'TreeNode', p: 'TreeNode', q: 'TreeNode') -> 'TreeNode':\n",
    "        if root == None:\n",
    "            return None\n",
    "        if root == p or root == q:\n",
    "            return root\n",
    "        m = self.lowestCommonAncestor(root.left,p,q)\n",
    "        n = self.lowestCommonAncestor(root.right,p,q)\n",
    "        if(m and n):\n",
    "            return root\n",
    "        elif m:\n",
    "            return m\n",
    "        else:\n",
    "            return n"
   ]
  },
  {
   "cell_type": "code",
   "execution_count": 37,
   "metadata": {},
   "outputs": [],
   "source": [
    "class Solution(object):\n",
    "    def lcaDeepestLeaves(self, root):\n",
    "\n",
    "        def helper(root):\n",
    "            if root is None:\n",
    "                return [None,0]\n",
    "            left = helper(root.left)\n",
    "            right = helper(root.right)\n",
    "            maxh = max(left[1],right[1])\n",
    "            if left[1] < right[1]:\n",
    "                return [right[0],maxh+1]\n",
    "            elif left[1] > right[1]:\n",
    "                return [left[0],maxh+1]\n",
    "            else:\n",
    "                return [root,maxh+1]\n",
    "        res = helper(root)\n",
    "        return res[0]"
   ]
  },
  {
   "cell_type": "markdown",
   "metadata": {},
   "source": [
    "### 25.转化为高度平衡的二叉树"
   ]
  },
  {
   "cell_type": "code",
   "execution_count": 41,
   "metadata": {},
   "outputs": [],
   "source": [
    "class Solution:\n",
    "    def sortedArrayToBST(self, nums):\n",
    "        if not nums:\n",
    "            return None\n",
    "        mid = len(nums) // 2\n",
    "        root = TreeNode(nums[mid])\n",
    "        root.left = self.sortedArrayToBST(nums[:mid])\n",
    "        root.right = self.sortedArrayToBST(nums[mid + 1:])\n",
    "        return root"
   ]
  },
  {
   "cell_type": "markdown",
   "metadata": {},
   "source": [
    "### 26.在二叉搜索树上实现迭代器"
   ]
  },
  {
   "cell_type": "code",
   "execution_count": 42,
   "metadata": {},
   "outputs": [],
   "source": [
    "class BSTIterator(object):\n",
    "\n",
    "    def __init__(self, root):\n",
    "        self.visit = root\n",
    "        self.stack = []\n",
    "\n",
    "    def next(self):\n",
    "        while self.visit:\n",
    "            self.stack.append(self.visit)\n",
    "            self.visit = self.visit.left\n",
    "        node = self.stack.pop()\n",
    "        self.visit = node.right\n",
    "        return node.val\n",
    "\n",
    "    def hasNext(self):\n",
    "        return self.visit or self.stack"
   ]
  },
  {
   "cell_type": "markdown",
   "metadata": {},
   "source": [
    "### 27.在二叉树上找到第K个最小的数"
   ]
  },
  {
   "cell_type": "code",
   "execution_count": 43,
   "metadata": {},
   "outputs": [],
   "source": [
    "class Solution:\n",
    "    def kthSmallest(self, root: TreeNode, k: int) -> int:\n",
    "        stack= []\n",
    "        while stack or root:\n",
    "            while root:\n",
    "                stack.append(root)\n",
    "                root = root.left\n",
    "            node = stack.pop()\n",
    "            k -= 1\n",
    "            if not k: return node.val\n",
    "            root = node.right\n",
    "        return None"
   ]
  },
  {
   "cell_type": "markdown",
   "metadata": {},
   "source": [
    "### 28.恢复二叉树"
   ]
  },
  {
   "cell_type": "code",
   "execution_count": 44,
   "metadata": {},
   "outputs": [],
   "source": [
    "class Solution:\n",
    "    def recoverTree(self, root: TreeNode) -> None:\n",
    "        cur = root\n",
    "        stack, res = [], []\n",
    "        while stack or cur:\n",
    "            while cur:\n",
    "                stack.append(cur)\n",
    "                cur = cur.left\n",
    "            node = stack.pop()\n",
    "            res.append(node)\n",
    "            cur = node.right\n",
    "        first, second = None, None\n",
    "        for i in range(1, len(res)):\n",
    "            if not first and res[i-1].val > res[i].val:\n",
    "                first, second = res[i-1], res[i]\n",
    "            if first and res[i-1].val > res[i].val:\n",
    "                second = res[i]\n",
    "        first.val, second.val = second.val, first.val"
   ]
  },
  {
   "cell_type": "markdown",
   "metadata": {},
   "source": [
    "### 29.将二叉树化为链表"
   ]
  },
  {
   "cell_type": "code",
   "execution_count": 45,
   "metadata": {},
   "outputs": [],
   "source": [
    "class Solution:\n",
    "    def flatten(self, root: TreeNode) -> None:\n",
    "        \"\"\"\n",
    "        Do not return anything, modify root in-place instead.\n",
    "        \"\"\"\n",
    "        if not root:return\n",
    "        stack = [root]\n",
    "        pre = None\n",
    "        while stack:\n",
    "            node = stack.pop()\n",
    "            if node:\n",
    "                stack.append(node.right)\n",
    "                stack.append(node.left)\n",
    "                node.left = None\n",
    "                if pre:\n",
    "                    pre.right = node\n",
    "                pre = node"
   ]
  },
  {
   "cell_type": "markdown",
   "metadata": {},
   "source": [
    "### 30.计算二叉树的节点数"
   ]
  },
  {
   "cell_type": "code",
   "execution_count": 46,
   "metadata": {},
   "outputs": [],
   "source": [
    "class Solution:\n",
    "    def countNodes(self, root: TreeNode) -> int:\n",
    "        if not root:\n",
    "            return 0\n",
    "        leftDepth = self.getDepth(root.left)\n",
    "        rightDepth = self.getDepth(root.right)\n",
    "        if leftDepth == rightDepth:\n",
    "            return pow(2, leftDepth) + self.countNodes(root.right)\n",
    "        else:\n",
    "            return pow(2, rightDepth) + self.countNodes(root.left)\n",
    "\n",
    "    def getDepth(self, root):\n",
    "        if not root:\n",
    "            return 0\n",
    "        return 1 + self.getDepth(root.left)"
   ]
  },
  {
   "cell_type": "markdown",
   "metadata": {},
   "source": [
    "### 31.给定前序遍历和中序遍历构造二叉树"
   ]
  },
  {
   "cell_type": "code",
   "execution_count": 10,
   "metadata": {},
   "outputs": [],
   "source": [
    "class Solution:\n",
    "    def buildTree(self, inorder,preorder):\n",
    "        if inorder:\n",
    "            ind = inorder.index(preorder.pop(0))\n",
    "            root = TreeNode(inorder[ind])\n",
    "            root.right = self.buildTree(inorder[ind+1:], preorder[ind:])\n",
    "            root.left = self.buildTree(inorder[:ind], preorder[:ind])\n",
    "            return root"
   ]
  },
  {
   "cell_type": "code",
   "execution_count": null,
   "metadata": {},
   "outputs": [],
   "source": []
  }
 ],
 "metadata": {
  "kernelspec": {
   "display_name": "Python 3",
   "language": "python",
   "name": "python3"
  },
  "language_info": {
   "codemirror_mode": {
    "name": "ipython",
    "version": 3
   },
   "file_extension": ".py",
   "mimetype": "text/x-python",
   "name": "python",
   "nbconvert_exporter": "python",
   "pygments_lexer": "ipython3",
   "version": "3.7.7"
  }
 },
 "nbformat": 4,
 "nbformat_minor": 4
}
