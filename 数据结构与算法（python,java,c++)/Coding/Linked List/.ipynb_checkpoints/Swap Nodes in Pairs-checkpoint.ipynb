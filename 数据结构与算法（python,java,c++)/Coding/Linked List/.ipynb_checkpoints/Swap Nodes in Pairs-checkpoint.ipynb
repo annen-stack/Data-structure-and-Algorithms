{
 "cells": [
  {
   "cell_type": "code",
   "execution_count": null,
   "metadata": {},
   "outputs": [],
   "source": [
    "public class Solution {\n",
    "    /**\n",
    "     * @param head a ListNode\n",
    "     * @return a ListNode\n",
    "     */\n",
    "    public ListNode swapPairs(ListNode head) {\n",
    "        ListNode dummy = new ListNode(0);\n",
    "        dummy.next = head;\n",
    "        ListNode prev = dummy, curr = head;\n",
    "\n",
    "        while (curr != null && curr.next != null) {\n",
    "            ListNode after = curr.next;\n",
    "            ListNode nextCurr = after.next;\n",
    "            after.next = curr;\n",
    "            curr.next = nextCurr;\n",
    "            // link new node after prev\n",
    "            prev.next = after;\n",
    "            // update prev and curr\n",
    "            prev = curr;\n",
    "            curr = nextCurr;\n",
    "        }\n",
    "\n",
    "        return dummy.next;\n",
    "    }\n",
    "}"
   ]
  },
  {
   "cell_type": "markdown",
   "metadata": {},
   "source": [
    "遍历链表一遍，时间复杂度 \n",
    "O(1). 使用了若干临时链表节点引用对象，空间复杂度 \n",
    "O(1)."
   ]
  },
  {
   "cell_type": "code",
   "execution_count": null,
   "metadata": {},
   "outputs": [],
   "source": []
  }
 ],
 "metadata": {
  "kernelspec": {
   "display_name": "Python 3",
   "language": "python",
   "name": "python3"
  },
  "language_info": {
   "codemirror_mode": {
    "name": "ipython",
    "version": 3
   },
   "file_extension": ".py",
   "mimetype": "text/x-python",
   "name": "python",
   "nbconvert_exporter": "python",
   "pygments_lexer": "ipython3",
   "version": "3.7.7"
  }
 },
 "nbformat": 4,
 "nbformat_minor": 4
}
