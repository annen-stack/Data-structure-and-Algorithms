{
 "cells": [
  {
   "cell_type": "code",
   "execution_count": null,
   "metadata": {},
   "outputs": [],
   "source": [
    "class Solution(object):\n",
    "    def countAndSay(self, n):\n",
    "        \"\"\"\n",
    "        :type n: int\n",
    "        :rtype: str\n",
    "        \"\"\"\n",
    "        if n <= 0:\n",
    "            return ''\n",
    "\n",
    "        curr_seq = '1'\n",
    "        for j in range(n - 1):\n",
    "            curr_seq = self._get_next_seq(curr_seq)\n",
    "\n",
    "        return curr_seq\n",
    "\n",
    "    def _get_next_seq(self, seq):\n",
    "        next_seq = ''\n",
    "        cnt = 1\n",
    "        for i in range(len(seq)):\n",
    "            if i + 1 < len(seq) and seq[i] == seq[i + 1]:\n",
    "                cnt += 1\n",
    "            else:\n",
    "                next_seq += str(cnt)\n",
    "                next_seq += seq[i]\n",
    "                cnt = 1\n",
    "\n",
    "        return next_seq"
   ]
  },
  {
   "cell_type": "code",
   "execution_count": null,
   "metadata": {},
   "outputs": [],
   "source": [
    "class Solution(object):\n",
    "    def countAndSay(self, n):\n",
    "        \"\"\"\n",
    "        :type n: int\n",
    "        :rtype: str\n",
    "        \"\"\"\n",
    "        if n <= 0:\n",
    "            return ''\n",
    "        if n == 1:\n",
    "            return '1'\n",
    "        seq = self.countAndSay(n - 1)\n",
    "        next_seq = ''\n",
    "        cnt = 1\n",
    "        for i in range(len(seq)):\n",
    "            if i + 1 < len(seq) and seq[i] == seq[i + 1]:\n",
    "                cnt += 1\n",
    "            else:\n",
    "                next_seq += str(cnt)\n",
    "                next_seq += seq[i]\n",
    "                cnt = 1\n",
    "\n",
    "        return next_seq"
   ]
  }
 ],
 "metadata": {
  "kernelspec": {
   "display_name": "Python 3",
   "language": "python",
   "name": "python3"
  },
  "language_info": {
   "codemirror_mode": {
    "name": "ipython",
    "version": 3
   },
   "file_extension": ".py",
   "mimetype": "text/x-python",
   "name": "python",
   "nbconvert_exporter": "python",
   "pygments_lexer": "ipython3",
   "version": "3.7.7"
  }
 },
 "nbformat": 4,
 "nbformat_minor": 4
}
