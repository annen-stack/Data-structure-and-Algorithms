{
 "cells": [
  {
   "cell_type": "code",
   "execution_count": null,
   "metadata": {},
   "outputs": [],
   "source": [
    "class Solution {\n",
    "public:\n",
    "    /**\n",
    "     * @param A: Given an integer array\n",
    "     * @return: void\n",
    "     */\n",
    "    void heapify(vector<int> &A) {\n",
    "        // build min heap\n",
    "        for (int i = A.size() / 2; i >= 0; --i) {\n",
    "            min_heap(A, i);\n",
    "        }\n",
    "    }\n",
    "\n",
    "private:\n",
    "    void min_heap(vector<int> &nums, int k) {\n",
    "        int len = nums.size();\n",
    "        while (k < len) {\n",
    "            int min_index = k;\n",
    "            // left leaf node search\n",
    "            if (k * 2 + 1 < len && nums[k * 2 + 1] < nums[min_index]) {\n",
    "                min_index = k * 2 + 1;\n",
    "            }\n",
    "            // right leaf node search\n",
    "            if (k * 2 + 2 < len && nums[k * 2 + 2] < nums[min_index]) {\n",
    "                min_index = k * 2 + 2;\n",
    "            }\n",
    "            if (k == min_index) {\n",
    "                break;\n",
    "            }\n",
    "            // swap with the minimal\n",
    "            int temp = nums[k];\n",
    "            nums[k] = nums[min_index];\n",
    "            nums[min_index] = temp;\n",
    "            // not only current index\n",
    "            k = min_index;\n",
    "        }\n",
    "    }\n",
    "};"
   ]
  }
 ],
 "metadata": {
  "kernelspec": {
   "display_name": "Python 3",
   "language": "python",
   "name": "python3"
  },
  "language_info": {
   "codemirror_mode": {
    "name": "ipython",
    "version": 3
   },
   "file_extension": ".py",
   "mimetype": "text/x-python",
   "name": "python",
   "nbconvert_exporter": "python",
   "pygments_lexer": "ipython3",
   "version": "3.7.7"
  }
 },
 "nbformat": 4,
 "nbformat_minor": 4
}
