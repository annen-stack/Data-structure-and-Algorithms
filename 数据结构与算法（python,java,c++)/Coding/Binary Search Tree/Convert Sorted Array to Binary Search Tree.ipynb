{
 "cells": [
  {
   "cell_type": "code",
   "execution_count": null,
   "metadata": {},
   "outputs": [],
   "source": [
    "public class Solution {\n",
    "    /**\n",
    "     * @param A: an integer array\n",
    "     * @return: a tree node\n",
    "     */\n",
    "    public TreeNode sortedArrayToBST(int[] A) {\n",
    "        if (A == null || A.length == 0) return null;\n",
    "\n",
    "        return helper(A, 0, A.length - 1);\n",
    "    }\n",
    "\n",
    "    private TreeNode helper(int[] nums, int start, int end) {\n",
    "        if (start > end) return null;\n",
    "\n",
    "        int mid = start + (end - start) / 2;\n",
    "        TreeNode root = new TreeNode(nums[mid]);\n",
    "        root.left = helper(nums, start, mid - 1);\n",
    "        root.right = helper(nums, mid + 1, end);\n",
    "\n",
    "        return root;\n",
    "    }\n",
    "}"
   ]
  }
 ],
 "metadata": {
  "kernelspec": {
   "display_name": "Python 3",
   "language": "python",
   "name": "python3"
  },
  "language_info": {
   "codemirror_mode": {
    "name": "ipython",
    "version": 3
   },
   "file_extension": ".py",
   "mimetype": "text/x-python",
   "name": "python",
   "nbconvert_exporter": "python",
   "pygments_lexer": "ipython3",
   "version": "3.7.7"
  }
 },
 "nbformat": 4,
 "nbformat_minor": 4
}
