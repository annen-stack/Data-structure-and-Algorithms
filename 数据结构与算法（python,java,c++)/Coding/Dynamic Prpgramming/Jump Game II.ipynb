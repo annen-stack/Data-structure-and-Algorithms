{
 "cells": [
  {
   "cell_type": "code",
   "execution_count": null,
   "metadata": {},
   "outputs": [],
   "source": [
    "class Solution {\n",
    "public:\n",
    "    /**\n",
    "     * @param A: A list of lists of integers\n",
    "     * @return: An integer\n",
    "     */\n",
    "    int jump(vector<int> A) {\n",
    "        if (A.empty()) {\n",
    "            return -1;\n",
    "        }\n",
    "\n",
    "        const int N = A.size() - 1;\n",
    "        vector<int> steps(N, INT_MAX);\n",
    "        steps[0] = 0;\n",
    "\n",
    "        for (int i = 1; i != N + 1; ++i) {\n",
    "            for (int j = 0; j != i; ++j) {\n",
    "                if ((steps[j] != INT_MAX) && (j + A[j] >= i)) {\n",
    "                    steps[i] = steps[j] + 1;\n",
    "                    break;\n",
    "                }\n",
    "            }\n",
    "        }\n",
    "\n",
    "        return steps[N];\n",
    "    }\n",
    "};"
   ]
  }
 ],
 "metadata": {
  "kernelspec": {
   "display_name": "Python 3",
   "language": "python",
   "name": "python3"
  },
  "language_info": {
   "codemirror_mode": {
    "name": "ipython",
    "version": 3
   },
   "file_extension": ".py",
   "mimetype": "text/x-python",
   "name": "python",
   "nbconvert_exporter": "python",
   "pygments_lexer": "ipython3",
   "version": "3.7.7"
  }
 },
 "nbformat": 4,
 "nbformat_minor": 4
}
