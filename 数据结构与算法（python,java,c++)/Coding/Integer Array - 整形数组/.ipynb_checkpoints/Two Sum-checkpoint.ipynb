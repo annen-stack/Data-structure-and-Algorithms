{
 "cells": [
  {
   "cell_type": "markdown",
   "metadata": {},
   "source": [
    "Given nums = [2, 7, 11, 15], target = 9,\n",
    "\n",
    "Because nums[**0**] + nums[**1**] = 2 + 7 = 9,\n",
    "return [**0**, **1**].\n"
   ]
  },
  {
   "cell_type": "markdown",
   "metadata": {},
   "source": [
    "## 题解1 - 哈希表"
   ]
  },
  {
   "cell_type": "code",
   "execution_count": 1,
   "metadata": {},
   "outputs": [],
   "source": [
    "def twoSum(numbers,target):\n",
    "    hashdict={}\n",
    "    for i,item in enumerate(numbers):\n",
    "        if (target-item) in hashdict:\n",
    "            return (hashdict[target-item],i)\n",
    "        hashdict[item]=i\n",
    "    return (-1,-1)"
   ]
  },
  {
   "cell_type": "code",
   "execution_count": null,
   "metadata": {},
   "outputs": [],
   "source": [
    "//C++\n",
    "class Solution {\n",
    "public:\n",
    "    /*\n",
    "     * @param numbers : An array of Integer\n",
    "     * @param target : target = numbers[index1] + numbers[index2]\n",
    "     * @return : [index1+1, index2+1] (index1 < index2)\n",
    "     */\n",
    "    vector<int> twoSum(vector<int> &nums, int target) {\n",
    "        vector<int> result;\n",
    "        const int length = nums.size();\n",
    "        if (0 == length) {\n",
    "            return result;\n",
    "        }\n",
    "\n",
    "        // first value, second index\n",
    "        unordered_map<int, int> hash(length);\n",
    "        for (int i = 0; i != length; ++i) {\n",
    "            if (hash.find(target - nums[i]) != hash.end()) {\n",
    "                result.push_back(hash[target - nums[i]]);\n",
    "                result.push_back(i + 1);\n",
    "                return result;\n",
    "            } else {\n",
    "                hash[nums[i]] = i + 1;\n",
    "            }\n",
    "        }\n",
    "\n",
    "        return result;\n",
    "    }\n",
    "};"
   ]
  },
  {
   "cell_type": "code",
   "execution_count": null,
   "metadata": {},
   "outputs": [],
   "source": [
    "//java\n",
    "public class Solution {\n",
    "    public int[] twoSum(int[] nums, int target) {\n",
    "        if (nums == null || nums.length == 0) return null;\n",
    "\n",
    "        Map<Integer, Integer> hashmap = new HashMap<Integer, Integer>();\n",
    "        int index1 = 0, index2 = 0;\n",
    "        for (int i = 0; i < nums.length; i++) {\n",
    "            if (hashmap.containsKey(target - nums[i])) {\n",
    "                index1 = hashmap.get(target - nums[i]);\n",
    "                index2 = i;\n",
    "                return new int[]{index1, index2};\n",
    "            } else {\n",
    "                hashmap.put(nums[i], i);\n",
    "            }\n",
    "        }\n",
    "\n",
    "        return null;\n",
    "    }\n",
    "}"
   ]
  },
  {
   "cell_type": "markdown",
   "metadata": {},
   "source": [
    "### 复杂度分析"
   ]
  },
  {
   "cell_type": "markdown",
   "metadata": {},
   "source": [
    "哈希表用了和数组等长的空间，空间复杂度为 \n",
    "O(n), 遍历一次数组，时间复杂度为 \n",
    "O(n)."
   ]
  },
  {
   "cell_type": "markdown",
   "metadata": {},
   "source": [
    "## 题解2-排序后使用两根指针"
   ]
  },
  {
   "cell_type": "markdown",
   "metadata": {},
   "source": [
    "但凡可以用空间换时间的做法，往往也可以使用时间换空间。另外一个容易想到的思路就是先对数组排序，然后使用两根指针分别指向首尾元素，逐步向中间靠拢，直至找到满足条件的索引为止。"
   ]
  },
  {
   "cell_type": "code",
   "execution_count": null,
   "metadata": {},
   "outputs": [],
   "source": [
    "//C++\n",
    "class Solution {\n",
    "public:\n",
    "    /*\n",
    "     * @param numbers : An array of Integer\n",
    "     * @param target : target = numbers[index1] + numbers[index2]\n",
    "     * @return : [index1+1, index2+1] (index1 < index2)\n",
    "     */\n",
    "    vector<int> twoSum(vector<int> &nums, int target) {\n",
    "        vector<int> result;\n",
    "        const int length = nums.size();\n",
    "        if (0 == length) {\n",
    "            return result;\n",
    "        }\n",
    "\n",
    "        // first num, second is index\n",
    "        vector<pair<int, int> > num_index(length);\n",
    "        // map num value and index\n",
    "        for (int i = 0; i != length; ++i) {\n",
    "            num_index[i].first = nums[i];\n",
    "            num_index[i].second = i + 1;\n",
    "        }\n",
    "\n",
    "        sort(num_index.begin(), num_index.end());\n",
    "        int start = 0, end = length - 1;\n",
    "        while (start < end) {\n",
    "            if (num_index[start].first + num_index[end].first > target) {\n",
    "                --end;\n",
    "            } else if(num_index[start].first + num_index[end].first == target) {\n",
    "                int min_index = min(num_index[start].second, num_index[end].second);\n",
    "                int max_index = max(num_index[start].second, num_index[end].second);\n",
    "                result.push_back(min_index);\n",
    "                result.push_back(max_index);\n",
    "                return result;\n",
    "            } else {\n",
    "                ++start;\n",
    "            }\n",
    "        }\n",
    "\n",
    "        return result;\n",
    "    }\n",
    "};"
   ]
  },
  {
   "cell_type": "markdown",
   "metadata": {},
   "source": [
    "### 复杂度分析"
   ]
  },
  {
   "cell_type": "markdown",
   "metadata": {},
   "source": [
    "遍历一次原数组得到pair类型的新数组，时间复杂度为 \n",
    "O(n), 空间复杂度也为 \n",
    "O(n). 标准库中的排序方法时间复杂度近似为 \n",
    "O(nlogn), 两根指针遍历数组时间复杂度为 \n",
    "O(n)."
   ]
  },
  {
   "cell_type": "code",
   "execution_count": null,
   "metadata": {},
   "outputs": [],
   "source": []
  }
 ],
 "metadata": {
  "kernelspec": {
   "display_name": "Python 3",
   "language": "python",
   "name": "python3"
  },
  "language_info": {
   "codemirror_mode": {
    "name": "ipython",
    "version": 3
   },
   "file_extension": ".py",
   "mimetype": "text/x-python",
   "name": "python",
   "nbconvert_exporter": "python",
   "pygments_lexer": "ipython3",
   "version": "3.7.7"
  }
 },
 "nbformat": 4,
 "nbformat_minor": 4
}
