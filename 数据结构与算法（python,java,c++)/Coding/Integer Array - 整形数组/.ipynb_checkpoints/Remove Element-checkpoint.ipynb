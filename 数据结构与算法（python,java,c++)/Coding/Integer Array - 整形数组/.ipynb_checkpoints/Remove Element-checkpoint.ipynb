{
 "cells": [
  {
   "cell_type": "code",
   "execution_count": 2,
   "metadata": {},
   "outputs": [],
   "source": [
    "def removeElement(nums,val):\n",
    "    left=0\n",
    "    for num in nums:\n",
    "        if num!=val:\n",
    "            nums[left]=val\n",
    "            left=left+1\n",
    "    return left"
   ]
  },
  {
   "cell_type": "code",
   "execution_count": null,
   "metadata": {},
   "outputs": [],
   "source": [
    "//java\n",
    "public class Solution{\n",
    "    public int removeElement(int[] nums, int val){\n",
    "        int left=0;\n",
    "        for(int num :nums){\n",
    "            if(num!=val){\n",
    "                nums[left]=num;\n",
    "                left=left+1;\n",
    "            }\n",
    "        }\n",
    "        return left;\n",
    "    }\n",
    "}"
   ]
  },
  {
   "cell_type": "markdown",
   "metadata": {},
   "source": [
    "### 复杂度分析"
   ]
  },
  {
   "cell_type": "markdown",
   "metadata": {},
   "source": [
    "遍历数组一次，最坏情况下需要赋值及 left 自增，故最好最坏情况下时间复杂度均为 \n",
    "O(n), 空间复杂度为 \n",
    "O(1)."
   ]
  },
  {
   "cell_type": "markdown",
   "metadata": {},
   "source": [
    "## 题解二\n"
   ]
  },
  {
   "cell_type": "markdown",
   "metadata": {},
   "source": [
    "从题解1的分析中我们可以发现在数组中元素不等于给定值时都会执行赋值及自增操作，如果给定值在数组中出现次数极少时这种方法效率不高，因此我们可以想办法减少赋值及自增操作。 由于题中明确暗示元素的顺序可变，且新长度后的元素不用理会。\n",
    "\n",
    "\n",
    "我们可以使用两根指针分别往前往后遍历，头指针用于指示当前遍历的元素位置，尾指针则用于在当前元素与欲删除值相等时替换当前元素，两根指针相遇时返回尾指针索引——即删除元素后「新数组」的长度。"
   ]
  },
  {
   "cell_type": "code",
   "execution_count": 3,
   "metadata": {},
   "outputs": [],
   "source": [
    "class Solution(object):\n",
    "    def removeElement(self, nums, val):\n",
    "        \"\"\"\n",
    "        :type nums: List[int]\n",
    "        :type val: int\n",
    "        :rtype: int\n",
    "        \"\"\"\n",
    "        left, right = 0, len(nums)\n",
    "        while left < right:\n",
    "            if nums[left] == val:\n",
    "                nums[left] = nums[right - 1]\n",
    "                right -= 1\n",
    "            else:\n",
    "                left += 1\n",
    "\n",
    "        return right"
   ]
  },
  {
   "cell_type": "code",
   "execution_count": null,
   "metadata": {},
   "outputs": [],
   "source": [
    "//C++\n",
    "class Solution{\n",
    "public:\n",
    "    int removeElement(vector<int>&nums,int val){\n",
    "        int right=nums.size();\n",
    "        for(int i=0;i<right;i++){\n",
    "            if(nums[i]==val){\n",
    "                nums[i]=nums[right-1];\n",
    "                right--;\n",
    "                i--;\n",
    "            }\n",
    "        }\n",
    "        return right;\n",
    "    }\n",
    "}"
   ]
  },
  {
   "cell_type": "code",
   "execution_count": null,
   "metadata": {},
   "outputs": [],
   "source": [
    "//Java\n",
    "public class Solution{\n",
    "    public int removeElement(int[] nums, int val){\n",
    "        int right=nums.length;\n",
    "        for(int i=0;i<right;i++){\n",
    "            if(nums[i]==val){\n",
    "                nums[i]=nums[right-1]；\n",
    "                right--;\n",
    "                i--;\n",
    "            }\n",
    "        }\n",
    "        return right;\n",
    "    }\n",
    "}"
   ]
  },
  {
   "cell_type": "markdown",
   "metadata": {},
   "source": [
    "### 复杂度分析"
   ]
  },
  {
   "cell_type": "markdown",
   "metadata": {},
   "source": [
    "此方法只遍历一次数组，因此时间复杂度是 \n",
    "O(n), 空间复杂度为 \n",
    "O(1)."
   ]
  },
  {
   "cell_type": "code",
   "execution_count": null,
   "metadata": {},
   "outputs": [],
   "source": []
  }
 ],
 "metadata": {
  "kernelspec": {
   "display_name": "Python 3",
   "language": "python",
   "name": "python3"
  },
  "language_info": {
   "codemirror_mode": {
    "name": "ipython",
    "version": 3
   },
   "file_extension": ".py",
   "mimetype": "text/x-python",
   "name": "python",
   "nbconvert_exporter": "python",
   "pygments_lexer": "ipython3",
   "version": "3.7.7"
  }
 },
 "nbformat": 4,
 "nbformat_minor": 4
}
