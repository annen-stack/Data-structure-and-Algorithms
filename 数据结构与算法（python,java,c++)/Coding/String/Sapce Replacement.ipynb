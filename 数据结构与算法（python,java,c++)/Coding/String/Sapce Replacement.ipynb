{
 "cells": [
  {
   "cell_type": "code",
   "execution_count": null,
   "metadata": {},
   "outputs": [],
   "source": [
    "//C++\n",
    "int replaceBlank(char string[], int length) {\n",
    "    int n = 0;\n",
    "    for (int i=0; i<length; i++)\n",
    "        if (string[i] == ' ') n++;\n",
    "\n",
    "    int new_len = length + n*2;\n",
    "    for (int i=length-1; i>=0; i--) {\n",
    "        if (string[i] != ' ') {\n",
    "            string[--new_len] = string[i];\n",
    "        } else {\n",
    "            string[--new_len] = '0';\n",
    "            string[--new_len] = '2';\n",
    "            string[--new_len] = '%';\n",
    "        }\n",
    "    }\n",
    "    return length + n*2;\n",
    "}"
   ]
  }
 ],
 "metadata": {
  "kernelspec": {
   "display_name": "Python 3",
   "language": "python",
   "name": "python3"
  },
  "language_info": {
   "codemirror_mode": {
    "name": "ipython",
    "version": 3
   },
   "file_extension": ".py",
   "mimetype": "text/x-python",
   "name": "python",
   "nbconvert_exporter": "python",
   "pygments_lexer": "ipython3",
   "version": "3.7.7"
  }
 },
 "nbformat": 4,
 "nbformat_minor": 4
}
