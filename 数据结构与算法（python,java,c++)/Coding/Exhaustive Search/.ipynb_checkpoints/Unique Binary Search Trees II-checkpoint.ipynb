{
 "cells": [
  {
   "cell_type": "code",
   "execution_count": null,
   "metadata": {},
   "outputs": [],
   "source": [
    "class Solution:\n",
    "    # @paramn n: An integer\n",
    "    # @return: A list of root\n",
    "    def generateTrees(self, n):\n",
    "        return self.helper(1, n)\n",
    "\n",
    "    def helper(self, start, end):\n",
    "        result = []\n",
    "        if start > end:\n",
    "            result.append(None)\n",
    "            return result\n",
    "\n",
    "        for i in xrange(start, end + 1):\n",
    "            # generate left and right sub tree\n",
    "            leftTree = self.helper(start, i - 1)\n",
    "            rightTree = self.helper(i + 1, end)\n",
    "            # link left and right sub tree to root(i)\n",
    "            for j in xrange(len(leftTree)):\n",
    "                for k in xrange(len(rightTree)):\n",
    "                    root = TreeNode(i)\n",
    "                    root.left = leftTree[j]\n",
    "                    root.right = rightTree[k]\n",
    "                    result.append(root)\n",
    "\n",
    "        return result"
   ]
  }
 ],
 "metadata": {
  "kernelspec": {
   "display_name": "Python 3",
   "language": "python",
   "name": "python3"
  },
  "language_info": {
   "codemirror_mode": {
    "name": "ipython",
    "version": 3
   },
   "file_extension": ".py",
   "mimetype": "text/x-python",
   "name": "python",
   "nbconvert_exporter": "python",
   "pygments_lexer": "ipython3",
   "version": "3.7.7"
  }
 },
 "nbformat": 4,
 "nbformat_minor": 4
}
