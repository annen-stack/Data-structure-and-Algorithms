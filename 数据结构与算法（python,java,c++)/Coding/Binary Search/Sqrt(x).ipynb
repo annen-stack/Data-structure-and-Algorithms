{
 "cells": [
  {
   "cell_type": "markdown",
   "metadata": {},
   "source": [
    "Compute and return the square root of x."
   ]
  },
  {
   "cell_type": "code",
   "execution_count": 1,
   "metadata": {},
   "outputs": [],
   "source": [
    "class Solution(object):\n",
    "    def mySqrt(self, x):\n",
    "        \"\"\"\n",
    "        :type x: int\n",
    "        :rtype: int\n",
    "        \"\"\"\n",
    "        if x < 0:\n",
    "            return -1\n",
    "        elif x == 0:\n",
    "            return 0\n",
    "\n",
    "        lb, ub = 1, x\n",
    "        while lb + 1 < ub:\n",
    "            mid = (lb + ub) / 2\n",
    "            if mid**2 == x:\n",
    "                return mid\n",
    "            elif mid**2 < x:\n",
    "                lb = mid\n",
    "            else:\n",
    "                ub = mid\n",
    "\n",
    "        return lb"
   ]
  },
  {
   "cell_type": "code",
   "execution_count": null,
   "metadata": {},
   "outputs": [],
   "source": [
    "//C++\n",
    "class Solution {\n",
    "public:\n",
    "    int mySqrt(int x) {\n",
    "        if (x < 0) return -1;\n",
    "        if (x == 0) return 0;\n",
    "\n",
    "        int lb = 1, ub = x;\n",
    "        long long mid = 0;\n",
    "        while (lb + 1 < ub) {\n",
    "            mid = lb + (ub - lb) / 2;\n",
    "            if (mid * mid == x) {\n",
    "                return mid;\n",
    "            } else if (mid * mid < x) {\n",
    "                lb = mid;\n",
    "            } else {\n",
    "                ub = mid;\n",
    "            }\n",
    "        }\n",
    "\n",
    "        return lb;\n",
    "    }\n",
    "};"
   ]
  },
  {
   "cell_type": "code",
   "execution_count": null,
   "metadata": {},
   "outputs": [],
   "source": [
    "//JAVA\n",
    "public class Solution {\n",
    "    public int mySqrt(int x) {\n",
    "        if (x < 0) return -1;\n",
    "        if (x == 0) return 0;\n",
    "\n",
    "        int lb = 1, ub = x;\n",
    "        long mid = 0;\n",
    "        while (lb + 1 < ub) {\n",
    "            mid = lb + (ub - lb) / 2;\n",
    "            if (mid * mid == x) {\n",
    "                return (int)mid;\n",
    "            } else if (mid * mid < x) {\n",
    "                lb = (int)mid;\n",
    "            } else {\n",
    "                ub = (int)mid;\n",
    "            }\n",
    "        }\n",
    "\n",
    "        return (int)lb;\n",
    "    }\n",
    "}"
   ]
  }
 ],
 "metadata": {
  "kernelspec": {
   "display_name": "Python 3",
   "language": "python",
   "name": "python3"
  },
  "language_info": {
   "codemirror_mode": {
    "name": "ipython",
    "version": 3
   },
   "file_extension": ".py",
   "mimetype": "text/x-python",
   "name": "python",
   "nbconvert_exporter": "python",
   "pygments_lexer": "ipython3",
   "version": "3.7.7"
  }
 },
 "nbformat": 4,
 "nbformat_minor": 4
}
