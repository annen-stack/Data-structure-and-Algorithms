{
 "cells": [
  {
   "cell_type": "code",
   "execution_count": null,
   "metadata": {},
   "outputs": [],
   "source": [
    "class Solution:\n",
    "    \"\"\"\n",
    "    @param k: an integer\n",
    "    @param prices: a list of integer\n",
    "    @return: an integer which is maximum profit\n",
    "    \"\"\"\n",
    "    def maxProfit(self, k, prices):\n",
    "        if prices is None or len(prices) <= 1 or k <= 0:\n",
    "            return 0\n",
    "\n",
    "        n = len(prices)\n",
    "        # k >= prices.length / 2 ==> multiple transactions Stock II\n",
    "        if k >= n / 2:\n",
    "            profit_max = 0\n",
    "            for i in xrange(1, n):\n",
    "                diff = prices[i] - prices[i - 1]\n",
    "                if diff > 0:\n",
    "                    profit_max += diff\n",
    "            return profit_max\n",
    "\n",
    "        f = [[0 for i in xrange(k + 1)] for j in xrange(n + 1)]\n",
    "        for j in xrange(1, k + 1):\n",
    "            for i in xrange(1, n + 1):\n",
    "                for x in xrange(0, i + 1):\n",
    "                    f[i][j] = max(f[i][j], f[x][j - 1] + self.profit(prices, x + 1, i))\n",
    "\n",
    "        return f[n][k]\n",
    "\n",
    "    # calculate the profit of prices(l, u)\n",
    "    def profit(self, prices, l, u):\n",
    "        if l >= u:\n",
    "            return 0\n",
    "        valley = 2**31 - 1\n",
    "        profit_max = 0\n",
    "        for price in prices[l - 1:u]:\n",
    "            profit_max = max(profit_max, price - valley)\n",
    "            valley = min(valley, price)\n",
    "        return profit_max"
   ]
  }
 ],
 "metadata": {
  "kernelspec": {
   "display_name": "Python 3",
   "language": "python",
   "name": "python3"
  },
  "language_info": {
   "codemirror_mode": {
    "name": "ipython",
    "version": 3
   },
   "file_extension": ".py",
   "mimetype": "text/x-python",
   "name": "python",
   "nbconvert_exporter": "python",
   "pygments_lexer": "ipython3",
   "version": "3.7.7"
  }
 },
 "nbformat": 4,
 "nbformat_minor": 4
}
