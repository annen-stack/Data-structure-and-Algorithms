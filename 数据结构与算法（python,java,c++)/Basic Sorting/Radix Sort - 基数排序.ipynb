{
 "cells": [
  {
   "cell_type": "markdown",
   "metadata": {},
   "source": [
    "经典排序算法 - 基数排序Radix sort\n",
    "\n",
    "\n",
    "原理类似桶排序,这里总是需要10个桶,多次使用\n",
    "\n",
    "\n",
    "首先以个位数的值进行装桶,即个位数为1则放入1号桶,为9则放入9号桶,暂时忽视十位数\n",
    "\n",
    "\n",
    "例如\n",
    "待排序数组[62,14,59,88,16]简单点五个数字\n",
    "分配10个桶,桶编号为0-9,以个位数数字为桶编号依次入桶,变成下边这样\n",
    "\n",
    "\n",
    "| 0 | 0 | 62 | 0 | 14 | 0 | 16 | 0 | 88 | 59 |\n",
    "| 0 | 1 | 2 | 3 | 4 | 5 | 6 | 7 | 8 | 9 |桶编号\n",
    "将桶里的数字顺序取出来,\n",
    "输出结果:[62,14,16,88,59]\n",
    "\n",
    "\n",
    "再次入桶,不过这次以十位数的数字为准,进入相应的桶,变成下边这样:\n",
    "\n",
    "\n",
    "由于前边做了个位数的排序,所以当十位数相等时,个位数字是由小到大的顺序入桶的,就是说,入完桶还是有序\n",
    "\n",
    "\n",
    "| 0 | 14,16 | 0 | 0 | 0 | 59 | 62 | 0 | 88 | 0 |\n",
    "| 0 | 1 | 2 | 3 | 4 | 5 | 6 | 7 | 8 | 9 |桶编号\n",
    "\n",
    "\n",
    "因为没有大过100的数字,没有百位数,所以到这排序完毕,顺序取出即可\n",
    "最后输出结果:[14,16,59,62,88]"
   ]
  },
  {
   "cell_type": "code",
   "execution_count": null,
   "metadata": {},
   "outputs": [],
   "source": []
  }
 ],
 "metadata": {
  "kernelspec": {
   "display_name": "Python 3",
   "language": "python",
   "name": "python3"
  },
  "language_info": {
   "codemirror_mode": {
    "name": "ipython",
    "version": 3
   },
   "file_extension": ".py",
   "mimetype": "text/x-python",
   "name": "python",
   "nbconvert_exporter": "python",
   "pygments_lexer": "ipython3",
   "version": "3.7.7"
  }
 },
 "nbformat": 4,
 "nbformat_minor": 4
}
