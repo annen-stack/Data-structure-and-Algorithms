{
 "cells": [
  {
   "cell_type": "markdown",
   "metadata": {},
   "source": [
    "## 1.hashmap统计词频"
   ]
  },
  {
   "cell_type": "code",
   "execution_count": 1,
   "metadata": {},
   "outputs": [],
   "source": [
    "def anagram(s,t):\n",
    "    return collections.Counter(s)==collections.Counter(t)"
   ]
  },
  {
   "cell_type": "code",
   "execution_count": null,
   "metadata": {},
   "outputs": [],
   "source": [
    "//C++\n",
    "class Solution{\n",
    "public:\n",
    "    bool anagram(string s,string t){\n",
    "        if(s.empty()||t.empty()){\n",
    "            return False;\n",
    "        }\n",
    "        if(s.size()!=t.size()){\n",
    "            return False\n",
    "        }\n",
    "        int letterCount[256]={0};\n",
    "        for(int i=0;i!=s.size(),++i){\n",
    "            ++letterCounter[s[i]];\n",
    "            --letterCounter[t[i]];\n",
    "        }\n",
    "        for(int i=0;i!=t.size();++i){\n",
    "            if(letterCount[t[i]]!=0){\n",
    "                return False\n",
    "            }\n",
    "        }\n",
    "        return True;\n",
    "    }\n",
    "}"
   ]
  },
  {
   "cell_type": "code",
   "execution_count": null,
   "metadata": {},
   "outputs": [],
   "source": [
    "//java\n",
    "public class Solution{\n",
    "    public boolean anagram(String s,String t){\n",
    "        if(s==null||t==null) return False;\n",
    "        if(s.length()!=t.length()) return False;\n",
    "        \n",
    "        final int CHAR_NUM = 256;\n",
    "        int letterCount = new int[CHAR_NUM];\n",
    "        \n",
    "        for (int i = 0; i != s.length(); i++) {\n",
    "            letterCount[s.charAt(i)]++;\n",
    "            letterCount[t.charAt(i)]--;\n",
    "        }\n",
    "        \n",
    "        for (int i = 0; i != CHAR_NUM; i++) {\n",
    "            if (letterCount[i] != 0) return false;\n",
    "        }\n",
    "\n",
    "        return true;\n",
    "    }\n",
    "};"
   ]
  },
  {
   "cell_type": "markdown",
   "metadata": {},
   "source": [
    "### 源码分析"
   ]
  },
  {
   "cell_type": "markdown",
   "metadata": {},
   "source": [
    "1. 两个字符串长度不等时必不可能为变位词(需要注意题目条件灵活处理)。\n",
    "2. 初始化含有256个字符的计数器数组。\n",
    "3. 对字符串 s 自增，字符串 t 递减，再次遍历判断letterCount数组的值，小于0时返回false.\n",
    " \n",
    " \n",
    " 在字符串长度较长(大于所有可能的字符数)时，还可对第二个for循环做进一步优化，即t.size() > 256时，使用256替代t.size()直接比较字符计数, 使用i替代t[i]."
   ]
  },
  {
   "cell_type": "markdown",
   "metadata": {},
   "source": [
    "### 复杂度分析"
   ]
  },
  {
   "cell_type": "markdown",
   "metadata": {},
   "source": [
    "两次遍历字符串，时间复杂度最坏情况下为 \n",
    "O(n), 使用了额外的数组，空间复杂度 \n",
    "O(1)."
   ]
  },
  {
   "cell_type": "markdown",
   "metadata": {},
   "source": [
    "## 2.排序字符串"
   ]
  },
  {
   "cell_type": "code",
   "execution_count": 4,
   "metadata": {},
   "outputs": [],
   "source": [
    "class Solution:\n",
    "    def anagram(self,s,t):\n",
    "        return sorted(s)==sorted(t)"
   ]
  },
  {
   "cell_type": "code",
   "execution_count": null,
   "metadata": {},
   "outputs": [],
   "source": [
    "//c++\n",
    "class Solution{\n",
    "public:\n",
    "    bool anagram(string s,string t){\n",
    "        if(s.empty()||t.empty()){\n",
    "            return False;\n",
    "        }\n",
    "        if(s.size()!=t.size()){\n",
    "            return False;\n",
    "        }\n",
    "        sort(s.begin(),s.end());\n",
    "        sort(t.begin(),t.end());\n",
    "        if(s==t){\n",
    "            return True;\n",
    "        }else{\n",
    "            return False;\n",
    "        }\n",
    "    }\n",
    "}"
   ]
  },
  {
   "cell_type": "code",
   "execution_count": null,
   "metadata": {},
   "outputs": [],
   "source": [
    "//java\n",
    "public class Solution {\n",
    "    /**\n",
    "     * @param s: The first string\n",
    "     * @param b: The second string\n",
    "     * @return true or false\n",
    "     */\n",
    "    public boolean anagram(String s, String t) {\n",
    "        if (s == null || t == null) return false;\n",
    "        if (s.length() != t.length()) return false;\n",
    "\n",
    "        char[] sChars = s.toCharArray();\n",
    "        char[] tChars = t.toCharArray();\n",
    "        Arrays.sort(sChars);\n",
    "        Arrays.sort(tChars);\n",
    "\n",
    "        for (int i = 0; i != s.length(); i++) {\n",
    "            if (sChars[i] != tChars[i]) return false;\n",
    "        }\n",
    "\n",
    "        return true;\n",
    "    }\n",
    "};"
   ]
  },
  {
   "cell_type": "markdown",
   "metadata": {},
   "source": [
    "### 复杂度分析"
   ]
  },
  {
   "cell_type": "markdown",
   "metadata": {},
   "source": [
    "C++的 STL 中 sort 的时间复杂度介于 \n",
    "O(n) 和 \n",
    "O(n2)之间，判断s == t时间复杂度最坏为 \n",
    "O(n). 可以看出此方法的时间复杂度相比题解1还是比较高的。Java 中字符串默认不可变，故空间复杂度为 \n",
    "O(n)."
   ]
  },
  {
   "cell_type": "code",
   "execution_count": null,
   "metadata": {},
   "outputs": [],
   "source": []
  }
 ],
 "metadata": {
  "kernelspec": {
   "display_name": "Python 3",
   "language": "python",
   "name": "python3"
  },
  "language_info": {
   "codemirror_mode": {
    "name": "ipython",
    "version": 3
   },
   "file_extension": ".py",
   "mimetype": "text/x-python",
   "name": "python",
   "nbconvert_exporter": "python",
   "pygments_lexer": "ipython3",
   "version": "3.7.7"
  }
 },
 "nbformat": 4,
 "nbformat_minor": 4
}
