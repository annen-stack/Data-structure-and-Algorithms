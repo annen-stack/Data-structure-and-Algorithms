{
 "cells": [
  {
   "cell_type": "markdown",
   "metadata": {},
   "source": [
    "鉴于有空间复杂度的要求，不可能使用另外一个数组来保存每个数出现的次数，考虑到异或运算的特性，根据x ^ x = 0和x ^ 0 = x可将给定数组的所有数依次异或，最后保留的即为结果。"
   ]
  },
  {
   "cell_type": "code",
   "execution_count": null,
   "metadata": {},
   "outputs": [],
   "source": [
    "//C++\n",
    "class Solution {\n",
    "public:\n",
    "    /**\n",
    "     * @param A: Array of integers.\n",
    "     * return: The single number.\n",
    "     */\n",
    "    int singleNumber(vector<int> &A) {\n",
    "        if (A.empty()) {\n",
    "            return -1;\n",
    "        }\n",
    "        int result = 0;\n",
    "\n",
    "        for (vector<int>::iterator iter = A.begin(); iter != A.end(); ++iter) {\n",
    "            result = result ^ *iter;\n",
    "        }\n",
    "\n",
    "        return result;\n",
    "    }\n",
    "};"
   ]
  },
  {
   "cell_type": "code",
   "execution_count": null,
   "metadata": {},
   "outputs": [],
   "source": [
    "//JAVA\n",
    "public class Solution {\n",
    "    public int singleNumber(int[] nums) {\n",
    "        if (nums == null || nums.length == 0) return -1;\n",
    "\n",
    "        int result = 0;\n",
    "        for (int num : nums) {\n",
    "            result ^= num;\n",
    "        }\n",
    "\n",
    "        return result;\n",
    "    }\n",
    "}"
   ]
  },
  {
   "cell_type": "markdown",
   "metadata": {},
   "source": [
    "初始化返回结果result为0，因为x ^ 0 = x"
   ]
  },
  {
   "cell_type": "code",
   "execution_count": null,
   "metadata": {},
   "outputs": [],
   "source": []
  }
 ],
 "metadata": {
  "kernelspec": {
   "display_name": "Python 3",
   "language": "python",
   "name": "python3"
  },
  "language_info": {
   "codemirror_mode": {
    "name": "ipython",
    "version": 3
   },
   "file_extension": ".py",
   "mimetype": "text/x-python",
   "name": "python",
   "nbconvert_exporter": "python",
   "pygments_lexer": "ipython3",
   "version": "3.7.7"
  }
 },
 "nbformat": 4,
 "nbformat_minor": 4
}
