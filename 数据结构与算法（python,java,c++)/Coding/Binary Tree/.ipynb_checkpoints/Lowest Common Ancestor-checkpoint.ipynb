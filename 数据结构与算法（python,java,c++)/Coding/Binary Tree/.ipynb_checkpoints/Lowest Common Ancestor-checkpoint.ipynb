{
 "cells": [
  {
   "cell_type": "code",
   "execution_count": null,
   "metadata": {},
   "outputs": [],
   "source": [
    "class Solution {\n",
    "public:\n",
    "    /**\n",
    "     * @param root: The root of the binary search tree.\n",
    "     * @param A and B: two nodes in a Binary.\n",
    "     * @return: Return the least common ancestor(LCA) of the two nodes.\n",
    "     */\n",
    "    TreeNode *lowestCommonAncestor(TreeNode *root, TreeNode *A, TreeNode *B) {\n",
    "        // return either A or B or NULL\n",
    "        if (NULL == root || root == A || root == B) return root;\n",
    "\n",
    "        TreeNode *left = lowestCommonAncestor(root->left, A, B);\n",
    "        TreeNode *right = lowestCommonAncestor(root->right, A, B);\n",
    "\n",
    "        // A and B are on both sides\n",
    "        if ((NULL != left) && (NULL != right)) return root;\n",
    "\n",
    "        // either left or right or NULL\n",
    "        return (NULL != left) ? left : right;\n",
    "    }\n",
    "};"
   ]
  }
 ],
 "metadata": {
  "kernelspec": {
   "display_name": "Python 3",
   "language": "python",
   "name": "python3"
  },
  "language_info": {
   "codemirror_mode": {
    "name": "ipython",
    "version": 3
   },
   "file_extension": ".py",
   "mimetype": "text/x-python",
   "name": "python",
   "nbconvert_exporter": "python",
   "pygments_lexer": "ipython3",
   "version": "3.7.7"
  }
 },
 "nbformat": 4,
 "nbformat_minor": 4
}
