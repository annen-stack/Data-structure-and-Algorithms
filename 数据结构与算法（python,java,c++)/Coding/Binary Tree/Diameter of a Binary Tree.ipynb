{
 "cells": [
  {
   "cell_type": "code",
   "execution_count": null,
   "metadata": {},
   "outputs": [],
   "source": [
    "class TreeNode {\n",
    "    int val;\n",
    "    TreeNode left, right;\n",
    "    TreeNode(int val) {\n",
    "        this.val = val;\n",
    "        this.left = null;\n",
    "        this.right = null;\n",
    "    }\n",
    "}\n",
    "\n",
    "public class Solution {\n",
    "    public int diameter(TreeNode root) {\n",
    "        if (root == null) return 0;\n",
    "\n",
    "        // left, right height\n",
    "        int leftHight = getHeight(root.left);\n",
    "        int rightHight = getHeight(root.right);\n",
    "\n",
    "        // left, right subtree diameter\n",
    "        int leftDia = diameter(root.left);\n",
    "        int rightDia = diameter(root.right);\n",
    "\n",
    "        int maxSubDia = Math.max(leftDia, rightDia);\n",
    "        return Math.max(maxSubDia, leftHight + 1 + rightHight);\n",
    "    }\n",
    "\n",
    "    private int getHeight(TreeNode root) {\n",
    "        if (root == null) return 0;\n",
    "\n",
    "        return 1 + Math.max(getHeight(root.left), getHeight(root.right));\n",
    "    }\n",
    "\n",
    "    public static void main(String[] args) {\n",
    "        TreeNode root = new TreeNode(1);\n",
    "        root.left = new TreeNode(2);\n",
    "        root.right = new TreeNode(3);\n",
    "        root.left.left = new TreeNode(4);\n",
    "        root.left.right = new TreeNode(5);\n",
    "        root.left.right.left = new TreeNode(6);\n",
    "        root.left.right.left.right = new TreeNode(7);\n",
    "        root.left.left.left = new TreeNode(8);\n",
    "\n",
    "        Solution sol = new Solution();\n",
    "        int maxDistance = sol.diameter(root);\n",
    "        System.out.println(\"Max Distance: \" + maxDistance);\n",
    "    }\n",
    "}"
   ]
  }
 ],
 "metadata": {
  "kernelspec": {
   "display_name": "Python 3",
   "language": "python",
   "name": "python3"
  },
  "language_info": {
   "codemirror_mode": {
    "name": "ipython",
    "version": 3
   },
   "file_extension": ".py",
   "mimetype": "text/x-python",
   "name": "python",
   "nbconvert_exporter": "python",
   "pygments_lexer": "ipython3",
   "version": "3.7.7"
  }
 },
 "nbformat": 4,
 "nbformat_minor": 4
}
