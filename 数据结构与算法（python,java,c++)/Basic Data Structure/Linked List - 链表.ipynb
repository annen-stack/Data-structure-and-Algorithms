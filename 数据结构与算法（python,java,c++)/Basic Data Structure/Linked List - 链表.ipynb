{
 "cells": [
  {
   "cell_type": "markdown",
   "metadata": {},
   "source": [
    "线性表是最基本、最简单、也是最常用的一种数据结构。线性表中的数据元素之间的关系是一对一的，即除了第一个和最后一个数据元素之外，其他元素都是首尾相接的。线性表有两种存储方式。一种是顺序存储结构，另一种是链式存储结构。数组为顺序存储，链表为链式存储。\n",
    "\n",
    "\n",
    "链式存储结构就是两个相邻的元素在内存中可能不是相邻的，每个元素都有个指针域，指针域一般存储到下个元素的指针。优点是定点插入和定点删除的时间复杂度为O(1),即插入和删除指针很快，不会浪费太多内存。缺点是访问的时间复杂度最坏为O(n)，即访问某个元素时间很长。链表是链式存储的线性表，根据指针域的不同，链表分为单向链表、双向链表、循环链表。\n",
    "\n",
    "顺序存储结构（数组）与之相反。即顺序表的特性是随机读取，也就是访问一个元素的时间复杂度是O(1)，插入和删除为O(n)。\n",
    "\n"
   ]
  },
  {
   "cell_type": "markdown",
   "metadata": {},
   "source": [
    "## python"
   ]
  },
  {
   "cell_type": "code",
   "execution_count": 1,
   "metadata": {},
   "outputs": [],
   "source": [
    "class ListNode:\n",
    "    def __init__(self,val):\n",
    "        self.val=val\n",
    "        self.next=None\n",
    "        "
   ]
  },
  {
   "cell_type": "markdown",
   "metadata": {},
   "source": [
    "## C++"
   ]
  },
  {
   "cell_type": "code",
   "execution_count": null,
   "metadata": {},
   "outputs": [],
   "source": [
    "struct ListNode{\n",
    "    int val;\n",
    "    ListNode *next;\n",
    "    ListNode(int val,ListNode *next=NULL):val(val),next(next){}\n",
    "};"
   ]
  },
  {
   "cell_type": "markdown",
   "metadata": {},
   "source": [
    "## Java"
   ]
  },
  {
   "cell_type": "code",
   "execution_count": null,
   "metadata": {},
   "outputs": [],
   "source": [
    "public class ListNode{\n",
    "    public int val;\n",
    "    public ListNode next;\n",
    "    public ListNode(int val){\n",
    "        this.val=val;\n",
    "        this.next=null;\n",
    "    }\n",
    "}"
   ]
  },
  {
   "cell_type": "markdown",
   "metadata": {},
   "source": [
    "# 链表的基本操作"
   ]
  },
  {
   "cell_type": "markdown",
   "metadata": {},
   "source": [
    "## 反转链表"
   ]
  },
  {
   "cell_type": "markdown",
   "metadata": {},
   "source": [
    "- 单向链表"
   ]
  },
  {
   "cell_type": "code",
   "execution_count": 3,
   "metadata": {},
   "outputs": [],
   "source": [
    "#python\n",
    "class ListNode:\n",
    "    def __init__(self,val):\n",
    "        self.val=val\n",
    "        self.next=None\n",
    "    def reverse(self,head):\n",
    "        prev=None\n",
    "        while head:\n",
    "            temp=head.next\n",
    "            head.next=prev\n",
    "            prev=head\n",
    "            head=temp\n",
    "        return prev"
   ]
  },
  {
   "cell_type": "code",
   "execution_count": null,
   "metadata": {},
   "outputs": [],
   "source": [
    "//C++\n",
    "ListNode * ReverseList(ListNode *head){\n",
    "    ListNode *pre=NULL;\n",
    "    ListNode *tmp;\n",
    "    while(head){\n",
    "        tmp=head->next;\n",
    "        head->next=pre;\n",
    "        pre=head;\n",
    "        head=tmp;\n",
    "    }\n",
    "    return pre;\n",
    "}"
   ]
  },
  {
   "cell_type": "code",
   "execution_count": null,
   "metadata": {},
   "outputs": [],
   "source": [
    "//java\n",
    "class ListNode{\n",
    "    int val;\n",
    "    ListNode next;\n",
    "    ListNode(int val){\n",
    "        this.val=val;\n",
    "    }\n",
    "}\n",
    "\n",
    "public ListNode reverse(ListNode head){\n",
    "    ListNode prev=NULL;\n",
    "    while(head!=NULL){\n",
    "        ListNode prev=NULL;\n",
    "        head.next=prev;\n",
    "        prev=head;\n",
    "        head=next;\n",
    "    }\n",
    "    return prev;\n",
    "}\n"
   ]
  },
  {
   "cell_type": "markdown",
   "metadata": {},
   "source": [
    "- 双向链表"
   ]
  },
  {
   "cell_type": "code",
   "execution_count": 4,
   "metadata": {},
   "outputs": [],
   "source": [
    "class DListNode:\n",
    "    def __init__(self, val):\n",
    "        self.val = val\n",
    "        self.prev = self.next = None\n",
    "\n",
    "    def reverse(self, head):\n",
    "        curt = None\n",
    "        while head:\n",
    "            curt = head\n",
    "            head = curt.next\n",
    "            curt.next = curt.prev\n",
    "            curt.prev = head\n",
    "        return curt"
   ]
  },
  {
   "cell_type": "code",
   "execution_count": null,
   "metadata": {},
   "outputs": [],
   "source": [
    "//Java\n",
    "class DListNode {\n",
    "    int val;\n",
    "    DListNode prev, next;\n",
    "    DListNode(int val) {\n",
    "        this.val = val;\n",
    "        this.prev = this.next = null;\n",
    "    }\n",
    "}\n",
    "\n",
    "public DListNode reverse(DListNode head) {\n",
    "    DListNode curr = null;\n",
    "    while (head != null) {\n",
    "        curr = head;\n",
    "        head = curr.next;\n",
    "        curr.next = curr.prev;\n",
    "        curr.prev = head;\n",
    "    }\n",
    "    return curr;\n",
    "}"
   ]
  },
  {
   "cell_type": "markdown",
   "metadata": {},
   "source": [
    "## 快慢指针"
   ]
  },
  {
   "cell_type": "markdown",
   "metadata": {},
   "source": [
    "快慢指针也是一个可以用于很多问题的技巧。所谓快慢指针中的快慢指的是指针向前移动的步长，每次移动的步长较大即为快，步长较小即为慢，常用的快慢指针一般是在单链表中让快指针每次向前移动2，慢指针则每次向前移动1。快慢两个指针都从链表头开始遍历，*于是快指针到达链表末尾的时候慢指针刚好到达中间位置，于是可以得到中间元素的值。快慢指针在链表相关问题中主要有两个应用：*"
   ]
  },
  {
   "cell_type": "markdown",
   "metadata": {},
   "source": [
    "- 快速找出未知长度单链表的中间节点 设置两个指针 *fast、*slow 都指向单链表的头节点，其中*fast的移动速度是*slow的2倍，当*fast指向末尾节点的时候，slow正好就在中间了。\n",
    "\n",
    "\n",
    "- 判断单链表是否有环 利用快慢指针的原理，同样设置两个指针 *fast、*slow 都指向单链表的头节点，其中 *fast的移动速度是*slow的2倍。如果 *fast = NULL，说明该单链表 以 NULL结尾，不是循环链表；如果 *fast = *slow，则快指针追上慢指针，说明该链表是循环链表。"
   ]
  },
  {
   "cell_type": "code",
   "execution_count": 5,
   "metadata": {},
   "outputs": [],
   "source": [
    "###判断是否为循环链表\n",
    "class NodeCircle:\n",
    "    def __init__(self,val):\n",
    "        self.val=val\n",
    "        self.next=None\n",
    "    def has_circle(self,head):\n",
    "        slow=head\n",
    "        fast=head\n",
    "        while (slow and fast):\n",
    "            fast=fast.next\n",
    "            slow=slow.next\n",
    "            if fast:\n",
    "                fast=fast.next\n",
    "            if fast==slow:\n",
    "                break\n",
    "        if fast and slow and (fast==slow):\n",
    "            return True\n",
    "        else:\n",
    "            return False\n",
    "        "
   ]
  },
  {
   "cell_type": "code",
   "execution_count": 7,
   "metadata": {},
   "outputs": [],
   "source": [
    "###找到中间值\n",
    "class Findmid:\n",
    "    def __init__(self,val):\n",
    "        self.val=val\n",
    "        self.next=None\n",
    "    def Findmid(self,head):\n",
    "        slow=head\n",
    "        fast=head\n",
    "        while fast and fast.next:\n",
    "            fast=fast.next.next\n",
    "            slow=slow.next\n",
    "\n",
    "        return slow.val"
   ]
  },
  {
   "cell_type": "code",
   "execution_count": null,
   "metadata": {},
   "outputs": [],
   "source": []
  }
 ],
 "metadata": {
  "kernelspec": {
   "display_name": "Python 3",
   "language": "python",
   "name": "python3"
  },
  "language_info": {
   "codemirror_mode": {
    "name": "ipython",
    "version": 3
   },
   "file_extension": ".py",
   "mimetype": "text/x-python",
   "name": "python",
   "nbconvert_exporter": "python",
   "pygments_lexer": "ipython3",
   "version": "3.7.7"
  }
 },
 "nbformat": 4,
 "nbformat_minor": 4
}
