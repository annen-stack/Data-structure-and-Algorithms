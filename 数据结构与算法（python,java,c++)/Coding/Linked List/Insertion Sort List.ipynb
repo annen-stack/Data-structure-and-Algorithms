{
 "cells": [
  {
   "cell_type": "code",
   "execution_count": null,
   "metadata": {},
   "outputs": [],
   "source": [
    "class Solution:\n",
    "    \"\"\"\n",
    "    @param head: The first node of linked list.\n",
    "    @return: The head of linked list.\n",
    "    \"\"\"\n",
    "    def insertionSortList(self, head):\n",
    "        dummy = ListNode(0)\n",
    "        cur = head\n",
    "        while cur is not None:\n",
    "            pre = dummy\n",
    "            while pre.next is not None and pre.next.val < cur.val:\n",
    "                pre = pre.next\n",
    "            temp = cur.next\n",
    "            cur.next = pre.next\n",
    "            pre.next = cur\n",
    "            cur = temp\n",
    "        return dummy.next"
   ]
  },
  {
   "cell_type": "code",
   "execution_count": null,
   "metadata": {},
   "outputs": [],
   "source": [
    "public class Solution {\n",
    "    public ListNode insertionSortList(ListNode head) {\n",
    "        ListNode dummy = new ListNode(0);\n",
    "        ListNode cur = head;\n",
    "        while (cur != null) {\n",
    "            ListNode pre = dummy;\n",
    "            while (pre.next != null && pre.next.val < cur.val) {\n",
    "                pre = pre.next;\n",
    "            }\n",
    "            ListNode temp = cur.next;\n",
    "            cur.next = pre.next;\n",
    "            pre.next = cur;\n",
    "            cur = temp;\n",
    "        }\n",
    "\n",
    "        return dummy.next;\n",
    "    }\n",
    "}"
   ]
  }
 ],
 "metadata": {
  "kernelspec": {
   "display_name": "Python 3",
   "language": "python",
   "name": "python3"
  },
  "language_info": {
   "codemirror_mode": {
    "name": "ipython",
    "version": 3
   },
   "file_extension": ".py",
   "mimetype": "text/x-python",
   "name": "python",
   "nbconvert_exporter": "python",
   "pygments_lexer": "ipython3",
   "version": "3.7.7"
  }
 },
 "nbformat": 4,
 "nbformat_minor": 4
}
