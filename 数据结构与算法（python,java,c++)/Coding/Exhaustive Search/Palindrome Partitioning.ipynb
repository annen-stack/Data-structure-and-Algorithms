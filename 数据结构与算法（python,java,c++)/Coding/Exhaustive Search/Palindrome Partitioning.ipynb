{
 "cells": [
  {
   "cell_type": "code",
   "execution_count": null,
   "metadata": {},
   "outputs": [],
   "source": [
    "class Solution:\n",
    "    # @param s, a string\n",
    "    # @return a list of lists of string\n",
    "    def partition(self, s):\n",
    "        result = []\n",
    "        if not s:\n",
    "            return result\n",
    "\n",
    "        palindromes = []\n",
    "        self.dfs(s, 0, palindromes, result)\n",
    "        return result\n",
    "\n",
    "    def dfs(self, s, pos, palindromes, ret):\n",
    "        if pos == len(s):\n",
    "            ret.append([] + palindromes)\n",
    "            return\n",
    "\n",
    "        for i in xrange(pos + 1, len(s) + 1):\n",
    "            if not self.isPalindrome(s[pos:i]):\n",
    "                continue\n",
    "\n",
    "            palindromes.append(s[pos:i])\n",
    "            self.dfs(s, i, palindromes, ret)\n",
    "            palindromes.pop()\n",
    "\n",
    "    def isPalindrome(self, s):\n",
    "        if not s:\n",
    "            return False\n",
    "        # reverse compare\n",
    "        return s == s[::-1]"
   ]
  }
 ],
 "metadata": {
  "kernelspec": {
   "display_name": "Python 3",
   "language": "python",
   "name": "python3"
  },
  "language_info": {
   "codemirror_mode": {
    "name": "ipython",
    "version": 3
   },
   "file_extension": ".py",
   "mimetype": "text/x-python",
   "name": "python",
   "nbconvert_exporter": "python",
   "pygments_lexer": "ipython3",
   "version": "3.7.7"
  }
 },
 "nbformat": 4,
 "nbformat_minor": 4
}
