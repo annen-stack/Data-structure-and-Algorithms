{
 "cells": [
  {
   "cell_type": "code",
   "execution_count": 1,
   "metadata": {},
   "outputs": [],
   "source": [
    "class Solution:\n",
    "    def add_two_numbers(self, l1, l2):\n",
    "        '''\n",
    "        :type l1: ListNode\n",
    "        :type l2: ListNode\n",
    "        :rtype: ListNode\n",
    "        '''\n",
    "        carry = 0\n",
    "        dummy = prev = ListNode(-1)\n",
    "        while l1 or l2 or carry:\n",
    "            v1 = l1.val if l1 else 0\n",
    "            v2 = l2.val if l2 else 0\n",
    "            val = (v1 + v2 + carry) % 10\n",
    "            carry = (v1 + v2 + carry) / 10\n",
    "\n",
    "            prev.next = ListNode(val)\n",
    "            prev = prev.next\n",
    "\n",
    "            if l1:\n",
    "                l1 = l1.next\n",
    "            if l2:\n",
    "                l2 = l2.next\n",
    "        return dummy.next"
   ]
  },
  {
   "cell_type": "code",
   "execution_count": null,
   "metadata": {},
   "outputs": [],
   "source": [
    "//C++\n",
    "class Solution {\n",
    "public:\n",
    "    ListNode* addTwoNumbers(ListNode* l1, ListNode* l2) {\n",
    "        ListNode dummy(0);\n",
    "        ListNode *curr = &dummy;\n",
    "        int carry = 0;\n",
    "\n",
    "        while ((l1 != NULL) || (l2 != NULL) || (carry != 0)) {\n",
    "            int l1_val = (l1 != NULL) ? l1->val : 0;\n",
    "            int l2_val = (l2 != NULL) ? l2->val : 0;\n",
    "            int sum = carry + l1_val + l2_val;\n",
    "            carry = sum / 10;\n",
    "            curr->next = new ListNode(sum % 10);\n",
    "\n",
    "            curr = curr->next;\n",
    "            if (l1 != NULL) l1 = l1->next;\n",
    "            if (l2 != NULL) l2 = l2->next;\n",
    "        }\n",
    "\n",
    "        return dummy.next;\n",
    "    }\n",
    "};"
   ]
  },
  {
   "cell_type": "markdown",
   "metadata": {},
   "source": [
    "没啥好分析的，时间和空间复杂度均为 \n",
    "O(max(L1,L2))."
   ]
  },
  {
   "cell_type": "code",
   "execution_count": null,
   "metadata": {},
   "outputs": [],
   "source": []
  }
 ],
 "metadata": {
  "kernelspec": {
   "display_name": "Python 3",
   "language": "python",
   "name": "python3"
  },
  "language_info": {
   "codemirror_mode": {
    "name": "ipython",
    "version": 3
   },
   "file_extension": ".py",
   "mimetype": "text/x-python",
   "name": "python",
   "nbconvert_exporter": "python",
   "pygments_lexer": "ipython3",
   "version": "3.7.7"
  }
 },
 "nbformat": 4,
 "nbformat_minor": 4
}
