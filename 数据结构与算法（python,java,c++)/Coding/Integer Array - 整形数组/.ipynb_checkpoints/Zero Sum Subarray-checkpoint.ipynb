{
 "cells": [
  {
   "cell_type": "markdown",
   "metadata": {},
   "source": [
    "Given an integer array, find a subarray where the sum of numbers is zero.\n",
    "Your code should return the index of the first number and the index of the last number.\n",
    "\n",
    "Example\n",
    "Given [-3, 1, 2, -3, 4], return [0, 2] or [1, 3]."
   ]
  },
  {
   "cell_type": "markdown",
   "metadata": {},
   "source": [
    "## 题解1 - 两重for循环"
   ]
  },
  {
   "cell_type": "markdown",
   "metadata": {},
   "source": [
    "题目中仅要求返回一个子串(连续)中和为0的索引，而不必返回所有可能满足题意的解。最简单的想法是遍历所有子串，判断其和是否为0，使用两重循环即可搞定，最坏情况下时间复杂度为 \n",
    "O(n2), 这种方法显然是极其低效的，极有可能会出现 TLE. 下面就不浪费篇幅贴代码了。"
   ]
  },
  {
   "cell_type": "markdown",
   "metadata": {},
   "source": [
    "## 题解2 - 哈希表"
   ]
  },
  {
   "cell_type": "code",
   "execution_count": null,
   "metadata": {},
   "outputs": [],
   "source": [
    "class Solution {\n",
    "public:\n",
    "    /**\n",
    "     * @param nums: A list of integers\n",
    "     * @return: A list of integers includes the index of the first number\n",
    "     *          and the index of the last number\n",
    "     */\n",
    "    vector<int> subarraySum(vector<int> nums){\n",
    "        vector<int> result;\n",
    "        // curr_sum for the first item, index for the second item\n",
    "        map<int, int> hash;\n",
    "        hash[0] = 0;\n",
    "\n",
    "        int curr_sum = 0;\n",
    "        for (int i = 0; i != nums.size(); ++i) {\n",
    "            curr_sum += nums[i];\n",
    "            if (hash.find(curr_sum) != hash.end()) {//hash表中存在curr_sum\n",
    "                result.push_back(hash[curr_sum]);//之前的值\n",
    "                result.push_back(i);//现在的值\n",
    "                return result;\n",
    "            } else {\n",
    "                hash[curr_sum] = i + 1;\n",
    "            }\n",
    "        }\n",
    "\n",
    "        return result;\n",
    "    }\n",
    "};"
   ]
  },
  {
   "cell_type": "markdown",
   "metadata": {},
   "source": [
    "### 复杂度分析"
   ]
  },
  {
   "cell_type": "markdown",
   "metadata": {},
   "source": [
    "遍历求和时间复杂度为 \n",
    "O(n), 哈希表检查键值时间复杂度为 \n",
    "O(logL), 其中 \n",
    "L为哈希表长度。如果采用unordered_map实现，最坏情况下查找的时间复杂度为线性，最好为常数级别。"
   ]
  },
  {
   "cell_type": "markdown",
   "metadata": {},
   "source": [
    "## 题解三 - 排序\n"
   ]
  },
  {
   "cell_type": "markdown",
   "metadata": {},
   "source": [
    "除了使用哈希表，我们还可使用排序的方法找到两个子串和相等的情况。这种方法的时间复杂度主要集中在排序方法的实现。由于除了记录子串和之外还需记录索引，故引入pair记录索引，最后排序时先按照sum值来排序，然后再按照索引值排序。"
   ]
  },
  {
   "cell_type": "code",
   "execution_count": null,
   "metadata": {},
   "outputs": [],
   "source": [
    "//C++\n",
    "class Solution {\n",
    "public:\n",
    "    /**\n",
    "     * @param nums: A list of integers\n",
    "     * @return: A list of integers includes the index of the first number\n",
    "     *          and the index of the last number\n",
    "     */\n",
    "    vector<int> subarraySum(vector<int> nums){\n",
    "        vector<int> result;\n",
    "        if (nums.empty()) {\n",
    "            return result;\n",
    "        }\n",
    "\n",
    "        const int num_size = nums.size();\n",
    "        vector<pair<int, int> > sum_index(num_size + 1);\n",
    "        for (int i = 0; i != num_size; ++i) {\n",
    "            sum_index[i + 1].first = sum_index[i].first + nums[i];\n",
    "            sum_index[i + 1].second = i + 1;\n",
    "        }\n",
    "\n",
    "        sort(sum_index.begin(), sum_index.end());\n",
    "        for (int i = 1; i < num_size + 1; ++i) {\n",
    "            if (sum_index[i].first == sum_index[i - 1].first) {\n",
    "                result.push_back(sum_index[i - 1].second);\n",
    "                result.push_back(sum_index[i].second - 1);\n",
    "                return result;\n",
    "            }\n",
    "        }\n",
    "\n",
    "        return result;\n",
    "    }\n",
    "};"
   ]
  },
  {
   "cell_type": "markdown",
   "metadata": {},
   "source": [
    "### 复杂度分析"
   ]
  },
  {
   "cell_type": "markdown",
   "metadata": {},
   "source": [
    "遍历求子串和，时间复杂度为 \n",
    "O(n), 空间复杂度 \n",
    "O(n). 排序时间复杂度近似 \n",
    "O(nlogn), 遍历一次最坏情况下时间复杂度为 \n",
    "O(n). 总的时间复杂度可近似为 \n",
    "O(nlogn). 空间复杂度 \n",
    "O(n)."
   ]
  },
  {
   "cell_type": "code",
   "execution_count": null,
   "metadata": {},
   "outputs": [],
   "source": []
  }
 ],
 "metadata": {
  "kernelspec": {
   "display_name": "Python 3",
   "language": "python",
   "name": "python3"
  },
  "language_info": {
   "codemirror_mode": {
    "name": "ipython",
    "version": 3
   },
   "file_extension": ".py",
   "mimetype": "text/x-python",
   "name": "python",
   "nbconvert_exporter": "python",
   "pygments_lexer": "ipython3",
   "version": "3.7.7"
  }
 },
 "nbformat": 4,
 "nbformat_minor": 4
}
