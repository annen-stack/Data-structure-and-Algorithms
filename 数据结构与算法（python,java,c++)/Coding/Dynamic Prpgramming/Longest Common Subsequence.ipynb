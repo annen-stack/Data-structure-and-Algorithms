{
 "cells": [
  {
   "cell_type": "code",
   "execution_count": null,
   "metadata": {},
   "outputs": [],
   "source": [
    "class Solution:\n",
    "    \"\"\"\n",
    "    @param A, B: Two strings.\n",
    "    @return: The length of longest common subsequence of A and B.\n",
    "    \"\"\"\n",
    "    def longestCommonSubsequence(self, A, B):\n",
    "        if not A or not B:\n",
    "            return 0\n",
    "\n",
    "        lenA, lenB = len(A), len(B)\n",
    "        lcs = [[0 for i in xrange(1 + lenA)] for j in xrange(1 + lenB)]\n",
    "\n",
    "        for i in xrange(1, 1 + lenA):\n",
    "            for j in xrange(1, 1 + lenB):\n",
    "                if A[i - 1] == B[j - 1]:\n",
    "                    lcs[i][j] = 1 + lcs[i - 1][j - 1]\n",
    "                else:\n",
    "                    lcs[i][j] = max(lcs[i - 1][j], lcs[i][j - 1])\n",
    "        return lcs[lenA][lenB]"
   ]
  }
 ],
 "metadata": {
  "kernelspec": {
   "display_name": "Python 3",
   "language": "python",
   "name": "python3"
  },
  "language_info": {
   "codemirror_mode": {
    "name": "ipython",
    "version": 3
   },
   "file_extension": ".py",
   "mimetype": "text/x-python",
   "name": "python",
   "nbconvert_exporter": "python",
   "pygments_lexer": "ipython3",
   "version": "3.7.7"
  }
 },
 "nbformat": 4,
 "nbformat_minor": 4
}
