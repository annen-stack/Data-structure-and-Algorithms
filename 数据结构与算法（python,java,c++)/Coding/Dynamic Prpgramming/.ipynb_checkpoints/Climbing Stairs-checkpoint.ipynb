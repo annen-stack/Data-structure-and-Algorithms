{
 "cells": [
  {
   "cell_type": "code",
   "execution_count": null,
   "metadata": {},
   "outputs": [],
   "source": [
    "class Solution {\n",
    "public:\n",
    "    /**\n",
    "     * @param n: An integer\n",
    "     * @return: An integer\n",
    "     */\n",
    "    int climbStairs(int n) {\n",
    "        if (n < 1) {\n",
    "            return 0;\n",
    "        }\n",
    "\n",
    "        vector<int> ret(n + 1, 1);\n",
    "\n",
    "        for (int i = 2; i != n + 1; ++i) {\n",
    "            ret[i] = ret[i - 1] + ret[i - 2];\n",
    "        }\n",
    "\n",
    "        return ret[n];\n",
    "    }\n",
    "};"
   ]
  }
 ],
 "metadata": {
  "kernelspec": {
   "display_name": "Python 3",
   "language": "python",
   "name": "python3"
  },
  "language_info": {
   "codemirror_mode": {
    "name": "ipython",
    "version": 3
   },
   "file_extension": ".py",
   "mimetype": "text/x-python",
   "name": "python",
   "nbconvert_exporter": "python",
   "pygments_lexer": "ipython3",
   "version": "3.7.7"
  }
 },
 "nbformat": 4,
 "nbformat_minor": 4
}
