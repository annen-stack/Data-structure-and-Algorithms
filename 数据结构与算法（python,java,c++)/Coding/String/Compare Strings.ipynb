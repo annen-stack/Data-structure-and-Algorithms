{
 "cells": [
  {
   "cell_type": "markdown",
   "metadata": {},
   "source": [
    "Compare two strings A and B, determine whether A contains all of the characters in B.\n",
    "The characters in string A and B are all Upper Case letters."
   ]
  },
  {
   "cell_type": "code",
   "execution_count": 1,
   "metadata": {},
   "outputs": [],
   "source": [
    "#哈希表\n",
    "class Solution:\n",
    "    def compareStrings(self,A,B):\n",
    "        letter = collections.defaultdict(int)\n",
    "        for a in A:\n",
    "            letter[a]+=1\n",
    "        for b in B:\n",
    "            letter[b]-=1\n",
    "            if b not in letter or letter[b]<0:\n",
    "                return False\n",
    "        return True\n",
    "            \n",
    "        \n",
    "            "
   ]
  },
  {
   "cell_type": "code",
   "execution_count": null,
   "metadata": {},
   "outputs": [],
   "source": [
    "//C++\n",
    "class Solution{\n",
    "public:\n",
    "    bool compareStrings(string A, string B){\n",
    "        if(A.size()<B.size()) return False;\n",
    "        const int UPPER_NUM=26;\n",
    "        int letter_cnt[UPPER_NUM]={0};\n",
    "        for(int i=0;i!=A.size();i++){\n",
    "            ++letter_cnt[A[i]-'A'];\n",
    "        }\n",
    "        for(int i=0;i!=B.size();i++){\n",
    "            ++letter_cnt[B[i]-'A'];\n",
    "            if(letter_cnt[B[i]-'A']<0){\n",
    "                return False\n",
    "            }\n",
    "        }\n",
    "        return True;\n",
    "    }\n",
    "}"
   ]
  },
  {
   "cell_type": "code",
   "execution_count": null,
   "metadata": {},
   "outputs": [],
   "source": [
    "//JAVA\n",
    "public class Solution {\n",
    "    /**\n",
    "     * @param A : A string includes Upper Case letters\n",
    "     * @param B : A string includes Upper Case letter\n",
    "     * @return :  if string A contains all of the characters in B return true else return false\n",
    "     */\n",
    "    public boolean compareStrings(String A, String B) {\n",
    "        if (A == null || B == null) return false;\n",
    "        if (A.length() < B.length()) return false;\n",
    "\n",
    "        final int UPPER_NUM = 26;\n",
    "        int[] letter_cnt = new int[UPPER_NUM];\n",
    "\n",
    "        for (int i = 0; i < A.length(); i++) {\n",
    "            letter_cnt[A.charAt(i) - 'A']++;\n",
    "        }\n",
    "        for (int i = 0; i < B.length(); i++) {\n",
    "            letter_cnt[B.charAt(i) - 'A']--;\n",
    "            if (letter_cnt[B.charAt(i) - 'A'] < 0) return false;\n",
    "        }\n",
    "\n",
    "        return true;\n",
    "    }\n",
    "}"
   ]
  },
  {
   "cell_type": "markdown",
   "metadata": {},
   "source": [
    "### 复杂度"
   ]
  },
  {
   "cell_type": "markdown",
   "metadata": {},
   "source": [
    "遍历一次 A 字符串，遍历一次 B 字符串，时间复杂度最坏 \n",
    "O(n), 空间复杂度为 \n",
    "O(1)."
   ]
  },
  {
   "cell_type": "code",
   "execution_count": null,
   "metadata": {},
   "outputs": [],
   "source": []
  }
 ],
 "metadata": {
  "kernelspec": {
   "display_name": "Python 3",
   "language": "python",
   "name": "python3"
  },
  "language_info": {
   "codemirror_mode": {
    "name": "ipython",
    "version": 3
   },
   "file_extension": ".py",
   "mimetype": "text/x-python",
   "name": "python",
   "nbconvert_exporter": "python",
   "pygments_lexer": "ipython3",
   "version": "3.7.7"
  }
 },
 "nbformat": 4,
 "nbformat_minor": 4
}
