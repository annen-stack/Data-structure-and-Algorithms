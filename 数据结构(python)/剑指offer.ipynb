{
 "cells": [
  {
   "cell_type": "markdown",
   "metadata": {},
   "source": [
    "### 1.搜索二维矩阵"
   ]
  },
  {
   "cell_type": "code",
   "execution_count": 5,
   "metadata": {},
   "outputs": [],
   "source": [
    "def searchtrix(matrix,target):\n",
    "    m,n=len(matrix),len(matrix[0])\n",
    "    i=m-1\n",
    "    n=0\n",
    "    while 0<=i<m and 0<=j<n:\n",
    "        if target<matrix[n][m]:\n",
    "            m=m-1\n",
    "        elif target>matrix[n][m]:\n",
    "            n=n+1\n",
    "        else:\n",
    "            return False\n",
    "    return True"
   ]
  },
  {
   "cell_type": "markdown",
   "metadata": {},
   "source": [
    "### 2.将每个空格替换成%20"
   ]
  },
  {
   "cell_type": "code",
   "execution_count": 6,
   "metadata": {},
   "outputs": [],
   "source": [
    "def replaceSpace(s):\n",
    "    return '%20'.join(s.split())"
   ]
  },
  {
   "cell_type": "code",
   "execution_count": 7,
   "metadata": {},
   "outputs": [],
   "source": [
    "def replaceSpace(s):\n",
    "    li=[]\n",
    "    for i in s:\n",
    "        li.append(i)\n",
    "    for i in range(len(li)):\n",
    "        if li[i]==' ':\n",
    "            li[i]='%20'\n",
    "    return ''.join(li)"
   ]
  },
  {
   "cell_type": "markdown",
   "metadata": {},
   "source": [
    "### 3.从尾到头打印链表"
   ]
  },
  {
   "cell_type": "code",
   "execution_count": null,
   "metadata": {},
   "outputs": [],
   "source": [
    "def printListFromTailToHead(head):\n",
    "    tmp = head\n",
    "    li = []\n",
    "    while tmp:\n",
    "        li.append(tmp.value)\n",
    "        tmp=tmp.next\n",
    "    return li[::-1]"
   ]
  },
  {
   "cell_type": "markdown",
   "metadata": {},
   "source": [
    "### 4.重建二叉树"
   ]
  },
  {
   "cell_type": "code",
   "execution_count": 9,
   "metadata": {},
   "outputs": [],
   "source": [
    "def reConstructBinaryTree(pre,inn):\n",
    "    if not root:\n",
    "        return None\n",
    "    root = pre.pop(0)\n",
    "    i=inn.index(root)\n",
    "    root.left=reConstructBinaryTree(pre[:i],inn[:i])\n",
    "    root.right=reConstructBinaryTree(pre[i:],inn[i+1:])\n",
    "    return root"
   ]
  },
  {
   "cell_type": "markdown",
   "metadata": {},
   "source": [
    "### 5.用两个栈实现一个队列"
   ]
  },
  {
   "cell_type": "code",
   "execution_count": 14,
   "metadata": {},
   "outputs": [],
   "source": [
    "class Queue:\n",
    "    def init(self):\n",
    "        self.stack1=[]\n",
    "        self.stack2=[]\n",
    "    def push(self,node):\n",
    "        self.stack1.append(node)\n",
    "    def pop(self):\n",
    "        if not self.stack2:\n",
    "            while self.stack1:\n",
    "                self.stack2.append(self.stack1.pop())\n",
    "        if not self.stack2 and not self.stack1:\n",
    "            return None\n",
    "        return self.stack2.pop()"
   ]
  },
  {
   "cell_type": "markdown",
   "metadata": {},
   "source": [
    "### 6.旋转数组"
   ]
  },
  {
   "cell_type": "code",
   "execution_count": 16,
   "metadata": {},
   "outputs": [],
   "source": [
    "# 输入一个非减排序的数组的一个旋转，输出旋转数组的最小元素\n",
    "# 二分法\n",
    "def minNumberInRotateArray(array):\n",
    "    start = 0\n",
    "    end = len(array)\n",
    "    while (end-start)!=1:\n",
    "        mid = (end+start)//2\n",
    "        if array[mid]>array[end]:\n",
    "            start = mid\n",
    "        if array[mid]<array[start]:\n",
    "            end=mid\n",
    "    return end"
   ]
  },
  {
   "cell_type": "markdown",
   "metadata": {},
   "source": [
    "### 7.斐波纳切数列"
   ]
  },
  {
   "cell_type": "code",
   "execution_count": 17,
   "metadata": {},
   "outputs": [],
   "source": [
    "def Fibonacci(n):\n",
    "    if n==0:\n",
    "        return 0\n",
    "    if n==1:\n",
    "        return 1\n",
    "    tmp=0\n",
    "    res=1\n",
    "    for i in range(2,n+1):\n",
    "        q=res\n",
    "        res=res+tmp\n",
    "        tmp=q\n",
    "    return res"
   ]
  },
  {
   "cell_type": "markdown",
   "metadata": {},
   "source": [
    "### 8.二进制中1的个数"
   ]
  },
  {
   "cell_type": "code",
   "execution_count": 19,
   "metadata": {},
   "outputs": [],
   "source": [
    "def NumberOf1(n):\n",
    "    mask = 0x01\n",
    "    res=0\n",
    "    t=n\n",
    "    while t:\n",
    "        if t&mask == 1:\n",
    "            res=res+1\n",
    "        t=t>>1\n",
    "    return res"
   ]
  },
  {
   "cell_type": "markdown",
   "metadata": {},
   "source": [
    "### 9.求base的exponent次方"
   ]
  },
  {
   "cell_type": "code",
   "execution_count": 22,
   "metadata": {},
   "outputs": [],
   "source": [
    "def Power(base,exponent):\n",
    "    if base==0:\n",
    "        return 0\n",
    "    if base==1:\n",
    "        return 1\n",
    "    t_exponent=abs(exponent)\n",
    "    t = self.positivepower(base,t_exponent)\n",
    "    if exponent>0:\n",
    "        return t\n",
    "    else:\n",
    "        return 1/t\n",
    "def positivepower(base,exponent):\n",
    "    if exponent==1:\n",
    "        return base\n",
    "    if exponent==0:\n",
    "        return 1\n",
    "    t = self.positivepower(base,exponent>>1)\n",
    "    t = t*t\n",
    "    if exponent&0x01 == 1: #奇数\n",
    "        t = t*base\n",
    "    return t"
   ]
  },
  {
   "cell_type": "markdown",
   "metadata": {},
   "source": [
    "### 10.打印最大的n位数"
   ]
  },
  {
   "cell_type": "code",
   "execution_count": 23,
   "metadata": {},
   "outputs": [],
   "source": [
    "def printN(n):\n",
    "    i=0\n",
    "    res=0\n",
    "    while i<n:\n",
    "        res=res*10\n",
    "        i=i+1\n",
    "    for i in range(1,res):\n",
    "        print('%5d'%i)"
   ]
  },
  {
   "cell_type": "markdown",
   "metadata": {},
   "source": [
    "### 11.删除给定的节点"
   ]
  },
  {
   "cell_type": "code",
   "execution_count": 24,
   "metadata": {},
   "outputs": [],
   "source": [
    "def DeleteNode(head,needDelete):\n",
    "    if needDelete.next == None:\n",
    "        head1 = head\n",
    "        while head1:\n",
    "            if head1.next==needDelete:\n",
    "                break\n",
    "            head1=head1.next\n",
    "        head1.next=needDelete.next\n",
    "    else:\n",
    "        res = needDelete.next.next\n",
    "        needDelete.val=needDelete.next.val\n",
    "        needDelete.next=needDelete.next.next\n",
    "    return head\n",
    "        \n",
    "            "
   ]
  },
  {
   "cell_type": "markdown",
   "metadata": {},
   "source": [
    "### 12.调整数组使得所有奇数位于偶数前\n"
   ]
  },
  {
   "cell_type": "code",
   "execution_count": 27,
   "metadata": {},
   "outputs": [],
   "source": [
    "def reOrderArray(array):\n",
    "    l = len(array)\n",
    "    if l<2:\n",
    "        return array\n",
    "    oushu = []\n",
    "    jishu = []\n",
    "    for i in range(len(array)):\n",
    "        if array[i]%2 == 1:\n",
    "            jishu.append(array[i])\n",
    "        else:\n",
    "            oushu.append(array[i])\n",
    "    array[:len(jishu)]=jishu\n",
    "    array[len(jishu):]=oushu\n",
    "    return array"
   ]
  },
  {
   "cell_type": "markdown",
   "metadata": {},
   "source": [
    "### 13.链表中倒数第k个节点"
   ]
  },
  {
   "cell_type": "code",
   "execution_count": 28,
   "metadata": {},
   "outputs": [],
   "source": [
    "def FindKthToTail(head,k):\n",
    "    if head==None:\n",
    "        return None\n",
    "    cursor=head\n",
    "    cursork=head\n",
    "    i=0\n",
    "    while cursork:\n",
    "        cursork = cursork.next\n",
    "        if i>=k:\n",
    "            cursor = cursor.next\n",
    "        i = i+1\n",
    "    if i<k:\n",
    "        return None\n",
    "    return cursor"
   ]
  },
  {
   "cell_type": "markdown",
   "metadata": {},
   "source": [
    "### 14.反转链表"
   ]
  },
  {
   "cell_type": "code",
   "execution_count": 29,
   "metadata": {},
   "outputs": [],
   "source": [
    "def ReverseList(head):\n",
    "    pre=head\n",
    "    cur=head.next\n",
    "    pre.next = None\n",
    "    while cur:\n",
    "        next = cur.next\n",
    "        cur.next=pre\n",
    "        pre = cur\n",
    "        cur = next\n",
    "    return pre"
   ]
  },
  {
   "cell_type": "markdown",
   "metadata": {},
   "source": [
    "### 15.合并两个排序链表"
   ]
  },
  {
   "cell_type": "code",
   "execution_count": 30,
   "metadata": {},
   "outputs": [],
   "source": [
    "def Merge(list1,list2):\n",
    "    if not list1:\n",
    "        return list2\n",
    "    if not list2:\n",
    "        return list1\n",
    "    head1 = list1\n",
    "    head2 = list2\n",
    "    head = ListNode(-1)\n",
    "    cur = heada\n",
    "    while head1 and head2:\n",
    "        if head1.val<head2.val:\n",
    "            cur.next = head1\n",
    "            cur = cur.next\n",
    "            head1 = head1.next\n",
    "        else:\n",
    "            cur.next=head2\n",
    "            cur = cur.next\n",
    "            head2 = head2.next\n",
    "    h = head1 or head2\n",
    "    cur.next=h\n",
    "    return head.next"
   ]
  },
  {
   "cell_type": "markdown",
   "metadata": {},
   "source": [
    "### 16.树的子结构"
   ]
  },
  {
   "cell_type": "code",
   "execution_count": 31,
   "metadata": {},
   "outputs": [],
   "source": [
    "def HasSubtree(root1,root2):\n",
    "    if not root2:\n",
    "        return None\n",
    "    pipeline=[]\n",
    "    pipeline.append(root1)\n",
    "    while pipeline:\n",
    "        node = pipeline.pop()\n",
    "        pipeline.append(node.left)\n",
    "        pipeline.append(node.right)\n",
    "        if node.val==root2.val and isSub(node,root2):\n",
    "            return True\n",
    "    return False\n",
    "def isSub(root1,root2):\n",
    "    if not root1 and not root2:\n",
    "        return False\n",
    "    if not root1:\n",
    "        return False\n",
    "    if not root2:\n",
    "        return True\n",
    "    if root1.val==root2.val and isSub(root1.left,root2.left) and isSub(root1.right,root2.right):\n",
    "        return True\n",
    "    else:\n",
    "        return False"
   ]
  },
  {
   "cell_type": "markdown",
   "metadata": {},
   "source": [
    "### 17.二叉树的镜像"
   ]
  },
  {
   "cell_type": "code",
   "execution_count": 32,
   "metadata": {},
   "outputs": [],
   "source": [
    "def Mirror(root):\n",
    "    if not root:\n",
    "        return \n",
    "    res=[root]\n",
    "    while res:\n",
    "        q = res.pop(0)\n",
    "        tmp = q.left\n",
    "        q.left = q.right\n",
    "        q.right = q.left\n",
    "        if q.left:\n",
    "            res.append(q.left)\n",
    "        if q.right:\n",
    "            res.append(q.right)\n",
    "    return root"
   ]
  },
  {
   "cell_type": "markdown",
   "metadata": {},
   "source": [
    "### 18.顺时针打印矩阵"
   ]
  },
  {
   "cell_type": "code",
   "execution_count": 35,
   "metadata": {},
   "outputs": [],
   "source": [
    "def printMatrix(matrix):\n",
    "    res=[]\n",
    "    m = len(matrix)\n",
    "    n = len(matrix[0])\n",
    "    i=0\n",
    "    j=0\n",
    "    count=0\n",
    "    while len(res)<m*n:\n",
    "        while j<m-count:\n",
    "            res.append(matrix[i][j])\n",
    "            j=j+1\n",
    "        i=i+1\n",
    "        while  i<n-count:\n",
    "            res.append(matrix[i][j])\n",
    "            i=i+1\n",
    "        j=j-1\n",
    "        while count<=j:\n",
    "            res.append(matrix[i][j])\n",
    "            j=j-1\n",
    "        i=i-1\n",
    "        count=count+1\n",
    "        while count<=i:\n",
    "            res.append(matrix[i][j])\n",
    "            i=i-1\n",
    "        j=j+1\n",
    "    return res\n",
    "    \n",
    "    \n",
    "        "
   ]
  },
  {
   "cell_type": "markdown",
   "metadata": {},
   "source": [
    "### 19.实现得到栈中最小元素的min函数"
   ]
  },
  {
   "cell_type": "markdown",
   "metadata": {},
   "source": [
    "### 20.第一个序列表示栈的压入顺序，请判断第二个序列是否可能为该栈的弹出顺序"
   ]
  },
  {
   "cell_type": "markdown",
   "metadata": {},
   "source": [
    "### 21.从上往下打印二叉树\n"
   ]
  },
  {
   "cell_type": "code",
   "execution_count": 41,
   "metadata": {},
   "outputs": [],
   "source": [
    "def PrintFromTopBottom(root):\n",
    "    if not root:\n",
    "        return None\n",
    "    res=[root]\n",
    "    level = 0\n",
    "    while res:\n",
    "        q = res.pop(0)\n",
    "        c=[]\n",
    "        r=[]\n",
    "        for i in q:\n",
    "            c.append(i)\n",
    "            if i.left:\n",
    "                r.append(i.left)\n",
    "            if i.right:\n",
    "                r.append(i.right)\n",
    "            level = level+1\n",
    "        cur.append(c)\n",
    "        res.append(r)\n",
    "    return cur"
   ]
  },
  {
   "cell_type": "markdown",
   "metadata": {},
   "source": [
    "### 22.判断某数组是否是二叉搜索树的后序遍历"
   ]
  },
  {
   "cell_type": "code",
   "execution_count": 42,
   "metadata": {},
   "outputs": [],
   "source": [
    "def VerifySquenceOfBST(sequence):\n",
    "    if len(sequence)==0:\n",
    "        return False\n",
    "    if len(sequence)==1:\n",
    "        return True\n",
    "    root=sequence[-1]\n",
    "    for i in range(len(sequence)-1):\n",
    "        if sequence[i]>root:\n",
    "            break\n",
    "    j=i\n",
    "    for j in range(i,len(sequence)-1):\n",
    "        if sequence[i]<root:\n",
    "            return False\n",
    "    if i>0:\n",
    "        left = VerifySquenceOfBST(sequence[:i])\n",
    "    if i<len(sequence)-1:\n",
    "        right = VerifySquenceOfBST(sequence[i:len(sequence)-1])\n",
    "    return left and right"
   ]
  },
  {
   "cell_type": "markdown",
   "metadata": {},
   "source": [
    "### 23.二叉树中和为某一值的路径\n"
   ]
  },
  {
   "cell_type": "code",
   "execution_count": null,
   "metadata": {},
   "outputs": [],
   "source": [
    "def pathSum(self, root: TreeNode, target: int) -> List[List[int]]:\n",
    "    if not root:return []\n",
    "    stack=[(root,[root.val])]\n",
    "    res=[]\n",
    "    while stack:\n",
    "        node,val=stack.pop()\n",
    "        if node and not node.left and not node.right and sum(val)==target:\n",
    "            res.append(val)\n",
    "        if node.left:\n",
    "            stack.append((node.left,val+[node.left.val]))\n",
    "        if node.right:\n",
    "            stack.append((node.right,val+[node.right.val]))\n",
    "    return res"
   ]
  },
  {
   "cell_type": "code",
   "execution_count": 44,
   "metadata": {},
   "outputs": [],
   "source": [
    "def pathSum(root,target):\n",
    "    if not root:\n",
    "        return []\n",
    "    stack = [(root,[root.val])]\n",
    "    res = []\n",
    "    while stack:\n",
    "        node,val = stack.pop()\n",
    "        if node and not node.left and not node.right and sum(val)==target:\n",
    "            res.append(val)\n",
    "        if node.left:\n",
    "            stack.append((node.left,val+[node.left.val]))\n",
    "        if node.right:\n",
    "            stack.append((node.right,val+[node.right.val]))\n",
    "    return res"
   ]
  },
  {
   "cell_type": "markdown",
   "metadata": {},
   "source": [
    "### 24.复杂链表的复制"
   ]
  },
  {
   "cell_type": "markdown",
   "metadata": {},
   "source": [
    "### 25.二叉搜索树与双向链表"
   ]
  },
  {
   "cell_type": "markdown",
   "metadata": {},
   "source": [
    "### 26.字符串的排列"
   ]
  },
  {
   "cell_type": "code",
   "execution_count": 45,
   "metadata": {},
   "outputs": [],
   "source": [
    "def perm(s):\n",
    "    if len(s)<=1:\n",
    "        return [s]\n",
    "    sl=[]\n",
    "    for i in range(len(s)):  \n",
    "        for j in perm(s[0:i]+s[i+1:]): \n",
    "            sl.append(s[i]+j) \n",
    "    return sl"
   ]
  },
  {
   "cell_type": "markdown",
   "metadata": {},
   "source": [
    "### 27.数组中出现次数超过一半的数字"
   ]
  },
  {
   "cell_type": "code",
   "execution_count": null,
   "metadata": {},
   "outputs": [],
   "source": [
    "def MoreThanHalfNum_Solution(numbers):\n",
    "    len1 = len(numbers)\n",
    "    if len1==0:\n",
    "        return 0\n",
    "    elif len1>=1:\n",
    "        # 遍历每个元素，并记录次数；若与前一个元素相同，则次数加1，否则次数减1\n",
    "        res = numbers[0] # 初始值\n",
    "        count = 1 # 次数\n",
    "        for i in range(1,len1):\n",
    "            if count == 0:\n",
    "                # 更新result的值为当前元素，并置次数为1\n",
    "                res = numbers[i]\n",
    "                count = 1\n",
    "            elif numbers[i] == res:\n",
    "                count += 1 # 相同则加1\n",
    "            elif numbers[i] != res:\n",
    "                count -= 1 # # 不同则加1\n",
    "        # 判断res是否符合条件，即出现次数大于数组长度的一半\n",
    "        counts = 0\n",
    "        for j in range(len1):\n",
    "            if numbers[j] == res:\n",
    "                counts += 1\n",
    "        if counts>len1//2: # python3整除为//，python2为/\n",
    "            return res\n",
    "        else:\n",
    "            return 0\n",
    "if __name__ == '__main__':\n",
    "    try:\n",
    "        while True:\n",
    "            arr = [int(i) for i in input().split()]\n",
    "            print(MoreThanHalfNum_Solution(arr))\n",
    "    except:\n",
    "        pass"
   ]
  },
  {
   "cell_type": "code",
   "execution_count": null,
   "metadata": {},
   "outputs": [],
   "source": [
    "##取排序后的中点，再统计该值是否满足条件\n",
    "def MoreThanHalfNum_Solution(numbers):\n",
    "    len1 = len(numbers)\n",
    "    if len1==0:\n",
    "        return 0\n",
    "    numbers.sort() # 排序\n",
    "    middle = numbers[len1 // 2] #取排序后的中位数\n",
    "    # 判断res是否符合条件，即出现次数大于数组长度的一半\n",
    "    counts = 0\n",
    "    for j in range(len1):\n",
    "        if numbers[j] == middle:\n",
    "            counts += 1\n",
    "    if counts>len1//2: # python3整除为//，python2为/\n",
    "        return middle\n",
    "    else:\n",
    "        return 0\n",
    "\n",
    "if __name__ == '__main__':\n",
    "    try:\n",
    "        while True:\n",
    "            arr = [int(i) for i in s.split()]\n",
    "            print(MoreThanHalfNum_Solution(arr))\n",
    "    except:\n",
    "        pass"
   ]
  },
  {
   "cell_type": "markdown",
   "metadata": {},
   "source": [
    "### 28.找出最小的k个数"
   ]
  },
  {
   "cell_type": "code",
   "execution_count": 1,
   "metadata": {},
   "outputs": [],
   "source": [
    "def GetLeastNumbers(inputs,k):\n",
    "    l = list(set(inputs)).sort()\n",
    "    return l[:k]"
   ]
  },
  {
   "cell_type": "markdown",
   "metadata": {},
   "source": [
    "### 29.连续子数组的最大和"
   ]
  },
  {
   "cell_type": "code",
   "execution_count": 5,
   "metadata": {},
   "outputs": [],
   "source": [
    "def FindGreatestSumofSubArray(array):\n",
    "    if not array:\n",
    "        return 0\n",
    "    res=[0]*len(array)\n",
    "    if array[0]>0:\n",
    "        res[0]=array[0]\n",
    "    else:\n",
    "        res[0]=0\n",
    "    for i in range(1,len(array)):\n",
    "        res[i]=max(0,array[i]+res[i-1])\n",
    "    return max(res)"
   ]
  },
  {
   "cell_type": "markdown",
   "metadata": {},
   "source": [
    "### 30.求出1-n中1出现的次数"
   ]
  },
  {
   "cell_type": "markdown",
   "metadata": {},
   "source": [
    "### 31.把数组里所有的数字拼接排成一个数字"
   ]
  },
  {
   "cell_type": "code",
   "execution_count": null,
   "metadata": {},
   "outputs": [],
   "source": [
    "class Solution:\n",
    "    def PrintMinNumber(self, numbers):\n",
    "        if numbers is None or len(numbers) == 0:\n",
    "            return \"\"\n",
    "        numbers = map(str, numbers)\n",
    "        numbers.sort(cmp = lambda x, y : cmp(x + y, y + x))\n",
    "        return \"\".join(numbers).lstrip()#去除0\n",
    "    "
   ]
  },
  {
   "cell_type": "code",
   "execution_count": 6,
   "metadata": {},
   "outputs": [],
   "source": [
    "class Solution:\n",
    "    def PrintMinNumber(self, numbers):\n",
    "        # write code here\n",
    "        if not numbers:\n",
    "            return \"\"\n",
    "        lmb = lambda n1, n2:int(str(n1)+str(n2))-int(str(n2)+str(n1))\n",
    "        array = sorted(numbers, cmp=lmb)\n",
    "        return ''.join([str(i) for i in array])"
   ]
  },
  {
   "cell_type": "markdown",
   "metadata": {},
   "source": [
    "### 32.丑数"
   ]
  },
  {
   "cell_type": "code",
   "execution_count": 9,
   "metadata": {},
   "outputs": [],
   "source": [
    "def GetUglyNumber(index):\n",
    "    if index==0:\n",
    "        return 0\n",
    "    if index==1:\n",
    "        return 1\n",
    "    res=[]\n",
    "    res[0]=1\n",
    "    pre2=0\n",
    "    pre3=0\n",
    "    pre5=0\n",
    "    for i in range(index):\n",
    "        next2 = res[i]*2\n",
    "        next3 = res[i]*3\n",
    "        next5 = res[i]*5\n",
    "        \n",
    "        nextv = min(next2,next3,next5)\n",
    "        res.append(nextv)\n",
    "        \n",
    "        while pre2<len(res)-1 and res[pre2]*2 <= nextv:\n",
    "            pre2=pre2+1\n",
    "        while pre3<len(res)-1 and res[pre3]*3 <= nextv:\n",
    "            pre3=pre3+1\n",
    "        while pre5<len(res)-1 and res[pre5]*5 <= nextv:\n",
    "            pre5=pre5+1\n",
    "    return res[-1]"
   ]
  },
  {
   "cell_type": "markdown",
   "metadata": {},
   "source": [
    "### 33.第一个只出现一次的字符"
   ]
  },
  {
   "cell_type": "code",
   "execution_count": 11,
   "metadata": {},
   "outputs": [],
   "source": [
    "def FirdtNotRepeatingChar(s):\n",
    "    dic={}\n",
    "    for i in range(len(s)):\n",
    "        if s[i] not in dic:\n",
    "            dic[s[i]]=1\n",
    "        else:\n",
    "            dic[s[i]]+=1\n",
    "    for i in range(len(s)):\n",
    "        if dic[s[i]]==1:\n",
    "            return s[i]\n",
    "    return -1"
   ]
  },
  {
   "cell_type": "markdown",
   "metadata": {},
   "source": [
    "### 34.数组中的逆序对"
   ]
  },
  {
   "cell_type": "code",
   "execution_count": 12,
   "metadata": {},
   "outputs": [],
   "source": [
    "class Solution(object):\n",
    "    def inversePairs(self, nums):\n",
    "        l = len(nums)\n",
    "        if l < 2:\n",
    "            return 0\n",
    "        res = 0\n",
    "        for i in range(0, l - 1):\n",
    "            for j in range(i + 1, l):\n",
    "                if nums[i] > nums[j]:\n",
    "                    res += 1\n",
    "        return res"
   ]
  },
  {
   "cell_type": "markdown",
   "metadata": {},
   "source": [
    "### 35.两个链表中的第一个公共节点"
   ]
  },
  {
   "cell_type": "code",
   "execution_count": 14,
   "metadata": {},
   "outputs": [],
   "source": [
    "def FindCommonNode(phead1,phead2):\n",
    "    cur1 = head1\n",
    "    cur2 = head2\n",
    "    len1=0\n",
    "    len2=0\n",
    "    while cur1:\n",
    "        len1=len1+1\n",
    "        cur1=cur1.next\n",
    "    while cur2:\n",
    "        cur2=cur2.next\n",
    "        len2=len2+1\n",
    "    if len1>len2:\n",
    "        while len1!=len2:\n",
    "            head1=head1.next\n",
    "            len1=len1-1\n",
    "    if len2>len1:\n",
    "        while len1!=len2:\n",
    "            head2=head2.next\n",
    "            len2=len2-1\n",
    "    while head1 and head2:\n",
    "        if head1==head2:\n",
    "            return head1\n",
    "        head1=head1.next\n",
    "        head2=head2.next\n",
    "    return None"
   ]
  },
  {
   "cell_type": "markdown",
   "metadata": {},
   "source": [
    "### 36.数字在排序数组中出现的次数"
   ]
  },
  {
   "cell_type": "code",
   "execution_count": 15,
   "metadata": {},
   "outputs": [],
   "source": [
    "#二分法\n",
    "def GetNumberOfk(array,k):\n",
    "    if not array :\n",
    "        return None\n",
    "    start=0\n",
    "    t=-1\n",
    "    end=len(array)-1\n",
    "    while start<end:\n",
    "        mid = (start+end)//2\n",
    "        if array[mid]==k:\n",
    "            t=mid\n",
    "            break\n",
    "        elif array[mid]>k:\n",
    "            end = mid-1\n",
    "        else:\n",
    "            start = mid+1\n",
    "    if array[start]==k:\n",
    "        t=start\n",
    "    if t==-1:\n",
    "        return 0\n",
    "    a=t\n",
    "    sum1=0\n",
    "    while a>=0 and array[a]==k:\n",
    "        a=a-1\n",
    "        sum1 = sum1+1\n",
    "    b=t+1\n",
    "    while b<len(array) and array[b]==k:\n",
    "        sum2=sum2+1\n",
    "        b=b+1\n",
    "    return sum1+sum2"
   ]
  },
  {
   "cell_type": "markdown",
   "metadata": {},
   "source": [
    "### 37.二叉树的深度"
   ]
  },
  {
   "cell_type": "code",
   "execution_count": 16,
   "metadata": {},
   "outputs": [],
   "source": [
    "def TreeDepth(root):\n",
    "    if not root:\n",
    "        return 0\n",
    "    nleft = TreeDepth(root.left)\n",
    "    nright = TreeDepth(root.right)\n",
    "    return max(nleft+1,nright+1)"
   ]
  },
  {
   "cell_type": "markdown",
   "metadata": {},
   "source": [
    "### 38.数组中只出现一次的数字"
   ]
  },
  {
   "cell_type": "code",
   "execution_count": 17,
   "metadata": {},
   "outputs": [],
   "source": [
    "def FindNumsAppearOnce(array):\n",
    "    num = 0\n",
    "    for i in array:\n",
    "        num = num^array[i]\n",
    "    return num"
   ]
  },
  {
   "cell_type": "markdown",
   "metadata": {},
   "source": [
    "### 39.两个数字和为S"
   ]
  },
  {
   "cell_type": "code",
   "execution_count": 18,
   "metadata": {},
   "outputs": [],
   "source": [
    "def FindNumbersWithSum(array,su):\n",
    "    i=0\n",
    "    j=len(array)-1\n",
    "    res = []\n",
    "    while i<j:\n",
    "        if array[i]+array[j]<su:\n",
    "            i=i+1\n",
    "        if array[i]+array[j]>su:\n",
    "            j=j-1\n",
    "        if array[i]+array[j] == su:\n",
    "            res.append((i,j))\n",
    "    res.sort(key = lambda x,y:x*y)\n",
    "    a = res.pop(0)\n",
    "    return a[0],a[1]"
   ]
  },
  {
   "cell_type": "markdown",
   "metadata": {},
   "source": [
    "### 40.和为S的连续正数序列"
   ]
  },
  {
   "cell_type": "code",
   "execution_count": null,
   "metadata": {},
   "outputs": [],
   "source": [
    "class Solution:\n",
    "    def FindContinuousSequence(self, tsum):\n",
    "        \"\"\"\n",
    "        使用滑动窗口的方法来解决，\n",
    "        设定一个动态的窗口,p_low指向窗口头部，\n",
    "        p_high指向窗口尾部，窗口之间的值，为目标值。\n",
    "        如果目标值为tsum，那就是其中一个解。否则移动窗口。\n",
    "        :param tsum:\n",
    "        \"\"\"\n",
    "        #错误判断处理，如果小于3的话 无解\n",
    "        if tsum < 3:\n",
    "            return []\n",
    "        #设定初始的滑动窗口大小\n",
    "        p_low = 1\n",
    "        p_high = 2\n",
    "\n",
    "        ans = []\n",
    "        while p_low < p_high:\n",
    "            #计算滑动窗口现在圈中的大小\n",
    "            cur_sum = sum(range(p_low,p_high+1))\n",
    "            if cur_sum == tsum:\n",
    "                #找到一组解，并记录到ans数组中。\n",
    "                ans.append(range(p_low,p_high+1))\n",
    "                #移动滑动窗口，并寻找下一组解。\n",
    "                p_high = p_high + 1\n",
    "            elif cur_sum < tsum:\n",
    "                p_high = p_high + 1\n",
    "            else :\n",
    "                p_low = p_low + 1\n",
    "        return ans\n",
    "\n",
    "if __name__ == '__main__':\n",
    "    s = Solution()\n",
    "    print  s.FindContinuousSequence(100)"
   ]
  },
  {
   "cell_type": "code",
   "execution_count": 21,
   "metadata": {},
   "outputs": [],
   "source": [
    "def FindContinuousSequence(s):\n",
    "    if s<3:\n",
    "        return None\n",
    "    low=1\n",
    "    high=2\n",
    "    ans=[]\n",
    "    while low<high:\n",
    "        cur = sum(range(low,high+1))\n",
    "        if cur == s:\n",
    "            ans.append(range(low,high))\n",
    "            high=high+1\n",
    "        if cur<s:\n",
    "            high=high+1\n",
    "        if cur>s:\n",
    "            low = low+1\n",
    "    return ans"
   ]
  },
  {
   "cell_type": "markdown",
   "metadata": {},
   "source": [
    "### 41.左旋字符串"
   ]
  },
  {
   "cell_type": "code",
   "execution_count": 22,
   "metadata": {},
   "outputs": [],
   "source": [
    "def LeftRotateString(st,n):\n",
    "    return st[-n:]+st[:-n]"
   ]
  },
  {
   "cell_type": "markdown",
   "metadata": {},
   "source": [
    "### 42.n个筛子的点数\n"
   ]
  },
  {
   "cell_type": "code",
   "execution_count": 25,
   "metadata": {},
   "outputs": [],
   "source": [
    "def getNsumCount(n,sum):\n",
    "    if n < 1 or sum < n or sum>6 * n:\n",
    "        return 0\n",
    "    if n==1:\n",
    "        return 1\n",
    "    resCount = 0\n",
    "    resCount = getNsumCount(n - 1, sum - 1) + getNsumCount(n - 1, sum - 2) + getNsumCount(n - 1, sum - 3) + getNsumCount(n - 1, sum - 4) + getNsumCount(n - 1, sum - 5) + getNsumCount(n - 1, sum - 6)\n",
    "    return resCount\n"
   ]
  },
  {
   "cell_type": "markdown",
   "metadata": {},
   "source": [
    "### 43.扑克牌顺子"
   ]
  },
  {
   "cell_type": "markdown",
   "metadata": {},
   "source": [
    "### 44.圆圈中最后剩下的数"
   ]
  },
  {
   "cell_type": "markdown",
   "metadata": {},
   "source": [
    "### 45.对称二叉树\n"
   ]
  },
  {
   "cell_type": "code",
   "execution_count": 27,
   "metadata": {},
   "outputs": [],
   "source": [
    "class Solution:\n",
    "    def isSymmetric(self, root):\n",
    "        if not root:\n",
    "            return True\n",
    "        node_queue = [root.left, root.right]    # 在空队列中加入左子树和右子树\n",
    "        while node_queue:\n",
    "            left = node_queue.pop(0)            # 依次弹出两个元素\n",
    "            right = node_queue.pop(0)\n",
    "            if not right and not left:          # 如果均为空，继续下一个循环\n",
    "                continue\n",
    "            if not right or not left:           # 如果只有一个为空，返回False\n",
    "                return False\n",
    "            if left.val != right.val:           # 都非空，再判断值是否相等\n",
    "                return False\n",
    "            node_queue.append(left.left)        # 将两个左右子树的左右子树逆序加入队列\n",
    "            node_queue.append(right.right)\n",
    "            node_queue.append(left.right)\n",
    "            node_queue.append(right.left)\n",
    "        return True"
   ]
  },
  {
   "cell_type": "markdown",
   "metadata": {},
   "source": [
    "### 46.二叉树的下个节点"
   ]
  },
  {
   "cell_type": "code",
   "execution_count": 28,
   "metadata": {},
   "outputs": [],
   "source": [
    "class Solution:\n",
    "    def GetNext(self, pNode):\n",
    "        # write code here\n",
    "        if pNode is None:\n",
    "            return None\n",
    "        if pNode.right is not None:\n",
    "            temp = pNode.right\n",
    "            while temp.left:\n",
    "                temp = temp.left\n",
    "            return temp\n",
    "        elif pNode.next is None:\n",
    "            return None\n",
    "        elif pNode.next.left == pNode:\n",
    "            return pNode.next\n",
    "        else:\n",
    "            while pNode.next:\n",
    "                if pNode.next.left != pNode:\n",
    "                    pNode = pNode.next\n",
    "                else:\n",
    "                    return pNode.next\n",
    "            return None"
   ]
  },
  {
   "cell_type": "markdown",
   "metadata": {},
   "source": [
    "### 47.把数字翻译成字符串"
   ]
  },
  {
   "cell_type": "code",
   "execution_count": 29,
   "metadata": {},
   "outputs": [],
   "source": [
    "class Solution:\n",
    "    def translateNum(self, num: int) -> int:\n",
    "        string = str(num)\n",
    "        n = len(string)\n",
    "\n",
    "        dp = [0] * (n+1)\n",
    "        \n",
    "        dp[0]=1\n",
    "        dp[1]=1\n",
    "\n",
    "        for i in range(2, n + 1):\n",
    "            if \"10\" <= string[i-2:i] <=\"25\":\n",
    "                dp[i] = dp[i-1] + dp[i-2]\n",
    "            else:\n",
    "                dp[i] = dp[i-1]\n",
    "        \n",
    "        return dp[n]"
   ]
  },
  {
   "cell_type": "markdown",
   "metadata": {},
   "source": [
    "### 48.滑动窗口"
   ]
  },
  {
   "cell_type": "code",
   "execution_count": 30,
   "metadata": {},
   "outputs": [],
   "source": [
    "def maxInwindow(num,size):\n",
    "    res = []\n",
    "    for i in range(len(num)-size):\n",
    "        r = max(num[i:i+size])\n",
    "        res.append(r)\n",
    "    return res"
   ]
  },
  {
   "cell_type": "markdown",
   "metadata": {},
   "source": [
    "### 49.股票的最大利润"
   ]
  },
  {
   "cell_type": "code",
   "execution_count": 32,
   "metadata": {},
   "outputs": [],
   "source": [
    "def maxProfit(nums):\n",
    "    if not nums:\n",
    "        return 0\n",
    "    minn = float(\"inf\")\n",
    "    maxprofit = 0\n",
    "    for i in range(len(nums)):\n",
    "        minn = min(minn,nums[i])\n",
    "        maxprofit = max(maxprofit,nums[i]-minn)\n",
    "    return maxprofit"
   ]
  },
  {
   "cell_type": "markdown",
   "metadata": {},
   "source": [
    "### 50.二叉搜索树的第k大节点"
   ]
  },
  {
   "cell_type": "code",
   "execution_count": 33,
   "metadata": {},
   "outputs": [],
   "source": [
    "def kthLargest(self, root,k):\n",
    "    self.vals=[]\n",
    "    def inorder(node):\n",
    "        if node:\n",
    "            inorder(node.left)\n",
    "            self.vals.append(node.val)\n",
    "            inorder(node.right)\n",
    "    inorder(root)\n",
    "    return self.vals[len(self.vals)-k]"
   ]
  },
  {
   "cell_type": "code",
   "execution_count": 35,
   "metadata": {},
   "outputs": [],
   "source": [
    "#中序遍历\n",
    "def kthLargest(self,root,k):\n",
    "    self.vals=[]\n",
    "    def inorder(node):\n",
    "        if not node:\n",
    "            return \n",
    "        inorder(node.left)\n",
    "        self.vals.append(node.vals)\n",
    "        inorder(node.right)\n",
    "    inorder(root)\n",
    "    return self.vals[len(self.vals)-k]"
   ]
  },
  {
   "cell_type": "markdown",
   "metadata": {},
   "source": [
    "### 51.最长不含重复字符的子字符串"
   ]
  },
  {
   "cell_type": "code",
   "execution_count": 36,
   "metadata": {},
   "outputs": [],
   "source": [
    "class Solution:\n",
    "    def lengthOfLongestSubstring(self, s):\n",
    "        # write your code here\n",
    "        res = 0\n",
    "        if s is None or len(s) == 0:\n",
    "            return res\n",
    "        d = {}\n",
    "        tmp = 0\n",
    "        start = 0\n",
    "        for i in range(len(s)):\n",
    "            if s[i] in d and d[s[i]] >= start:\n",
    "                start = d[s[i]] + 1\n",
    "            tmp = i - start + 1\n",
    "            d[s[i]] = i\n",
    "            res = max(res, tmp)\n",
    "        return res"
   ]
  },
  {
   "cell_type": "code",
   "execution_count": 39,
   "metadata": {},
   "outputs": [],
   "source": [
    "def lengthOfLongestSubstring(self,s):\n",
    "    res = 0\n",
    "    if s is None or len(s)==0:\n",
    "        return res\n",
    "    d = {}\n",
    "    tmp = 0\n",
    "    start = 0\n",
    "    for i in range(len(s)):\n",
    "        if s[i] in d and d[s[i]]>=start:\n",
    "            start = d[s[i]]+1\n",
    "        tmp = i-start+1\n",
    "        d[s[i]]=i\n",
    "        res=max(res,tmp)\n",
    "    return res"
   ]
  },
  {
   "cell_type": "markdown",
   "metadata": {},
   "source": [
    "### 52.礼物的最大价值"
   ]
  },
  {
   "cell_type": "code",
   "execution_count": 40,
   "metadata": {},
   "outputs": [],
   "source": [
    "def maxGift(matrix):\n",
    "    for i in range(len(matrix)):\n",
    "        for j in range(len(matrix[0])):\n",
    "            a=0\n",
    "            b=0\n",
    "            if i>0:\n",
    "                a=matrix[i-1][j]\n",
    "            if j>0:\n",
    "                b=matrix[i][j-1]\n",
    "            matrix[i][j]+=max(a,b)\n",
    "    return matrix[-1][-1]"
   ]
  },
  {
   "cell_type": "markdown",
   "metadata": {},
   "source": [
    "### 53.数字序列中的某一位的数字"
   ]
  },
  {
   "cell_type": "code",
   "execution_count": 41,
   "metadata": {},
   "outputs": [],
   "source": [
    "class Solution():\n",
    "    def Get_num(self, n):\n",
    "        if n < 0  :\n",
    "            print(n)\n",
    "        i = 0\n",
    "        t = n\n",
    "        while t:\n",
    "            if i ==0:\n",
    "                t = n-10\n",
    "            else:\n",
    "                t = n - 9 * pow(10, i) * (i+1)\n",
    "            if t < 0:\n",
    "                break\n",
    "            else :\n",
    "                n = t\n",
    "            i = i+1\n",
    "\n",
    "        a = n // (i+1)\n",
    "        b = n % (i+1)\n",
    "        sum = a+pow(10, i)\n",
    "\n",
    "\n",
    "        c = sum // pow(10, b)\n",
    "        c = c % 10\n",
    "        return     c"
   ]
  },
  {
   "cell_type": "markdown",
   "metadata": {},
   "source": [
    "### 54.数据流中的中位数"
   ]
  },
  {
   "cell_type": "code",
   "execution_count": 42,
   "metadata": {},
   "outputs": [],
   "source": [
    "class Solution:\n",
    "    def __init__(self):\n",
    "        self.ch = []\n",
    "    def Insert(self, num):\n",
    "        # write code here\n",
    "        self.ch.append(num)\n",
    "        self.ch.sort()\n",
    "    def GetMedian(self, ch):\n",
    "        # write code here\n",
    "        if not self.ch:\n",
    "            return None\n",
    "        if len(self.ch) % 2 == 0:\n",
    "            k = len(self.ch) / 2\n",
    "            return (float(self.ch[k]) + float(self.ch[k - 1])) / float(2)\n",
    "        else:\n",
    "            k = (len(self.ch) + 1) / 2\n",
    "            return float(self.ch[k - 1])"
   ]
  },
  {
   "cell_type": "markdown",
   "metadata": {},
   "source": [
    "### 55.序列化二叉树"
   ]
  },
  {
   "cell_type": "code",
   "execution_count": 47,
   "metadata": {},
   "outputs": [],
   "source": [
    "def Serialize(root):\n",
    "    if not root:\n",
    "        return '#'\n",
    "    return str(root.val)+','+self.Serialize(root.left)+','+self.Serialize(root.right)"
   ]
  },
  {
   "cell_type": "markdown",
   "metadata": {},
   "source": [
    "### 56.链表中环的入口"
   ]
  },
  {
   "cell_type": "code",
   "execution_count": 51,
   "metadata": {},
   "outputs": [],
   "source": [
    "def EntryNodeOfLoop(phead):\n",
    "    if not phead or not phead.next:\n",
    "        return None\n",
    "    fast = phead\n",
    "    slow = phead\n",
    "    #判断是否有环\n",
    "    while fast.next:\n",
    "        slow = slow.next\n",
    "        fast = fast.next.next\n",
    "        if fast==slow:\n",
    "            break\n",
    "    if slow!=fast:\n",
    "        return None\n",
    "    cur = phead\n",
    "    #判断环的入口在哪\n",
    "    while cur!=fast:\n",
    "        fast = fast.next\n",
    "        cur = cur.next\n",
    "    return cur"
   ]
  },
  {
   "cell_type": "markdown",
   "metadata": {},
   "source": [
    "### 57.表示数值的字符串"
   ]
  },
  {
   "cell_type": "code",
   "execution_count": 52,
   "metadata": {},
   "outputs": [],
   "source": [
    "class Solution:\n",
    "    # s字符串\n",
    "    def isNumeric(self, s):\n",
    "        sign,decimal,hasE = False,False,False\n",
    "        for i in range(0,len(s)):\n",
    "            if s[i] in ['e','E']:\n",
    "                if i == len(s)-1 or hasE:\n",
    "                    return False\n",
    "                hasE = True\n",
    "            elif s[i] == '.':\n",
    "                if hasE or decimal:\n",
    "                    return False\n",
    "                decimal = True\n",
    "            elif s[i] in ['+','-']:\n",
    "                if not sign and i>0 and s[i-1] not in ['e','E']:\n",
    "                    return False\n",
    "                if sign and s[i-1] not in ['e','E']:\n",
    "                    return False\n",
    "            else:\n",
    "                if s[i]<'0' or s[i]>'9':\n",
    "                    return False\n",
    "        return True"
   ]
  },
  {
   "cell_type": "markdown",
   "metadata": {},
   "source": [
    "### 58.正则表达式的匹配"
   ]
  },
  {
   "cell_type": "markdown",
   "metadata": {},
   "source": [
    "### 59.减绳子"
   ]
  },
  {
   "cell_type": "code",
   "execution_count": 53,
   "metadata": {},
   "outputs": [],
   "source": [
    "def cutRope(n):\n",
    "    if n<2:\n",
    "        return 0\n",
    "    if n==2:\n",
    "        return 1\n",
    "    if n==3:\n",
    "        return 2\n",
    "    timeof3 = n/3\n",
    "    if n-timeof3*3==1:\n",
    "        timeof3-=1\n",
    "    timeof2 = (n-timeof*3)/2\n",
    "    return pow(3,timeof3)*pow(2,timeof2)"
   ]
  },
  {
   "cell_type": "markdown",
   "metadata": {},
   "source": [
    "### 60机器人的运动范围"
   ]
  },
  {
   "cell_type": "code",
   "execution_count": 56,
   "metadata": {},
   "outputs": [],
   "source": [
    "class Solution: # 注意和矩阵路径的区别，不一定到头，只要满足条件即可，可以返回（回溯法的特点）\n",
    "    # 且路径节点可重复，无步数限制\n",
    "    def __init__(self):  # 机器人可以倒回来，但不能重复计数。\n",
    "        self.count = 0\n",
    "    def movingCount(self, threshold, rows, cols):\n",
    "        # write code here\n",
    "        flag = [[1 for i in range(cols)] for j in range(rows)]\n",
    "        self.findWay(flag,0,0,threshold)  # 从（0，0）开始走\n",
    "        return self.count\n",
    "    def findWay(self,flag,i,j,k):\n",
    "        if i >= 0 and j >= 0 and i < len(flag) and j < len(flag[0]) and sum(list(map(int,str(i)))) + sum(list(map(int,str(j)))) <= k and flag[i][j] == 1:\n",
    "            flag[i][j] = 0\n",
    "            self.count += 1\n",
    "            self.findWay(flag,i-1,j,k)\n",
    "            self.findWay(flag,i+1,j,k)\n",
    "            self.findWay(flag,i,j-1,k)\n",
    "            self.findWay(flag,i,j+1,k)"
   ]
  },
  {
   "cell_type": "code",
   "execution_count": 57,
   "metadata": {},
   "outputs": [],
   "source": [
    "class Solution:\n",
    "    def __init__(self):\n",
    "        self.count = 0\n",
    "    def movingCount(self,threshold,rows,cols):\n",
    "        flag = [[1 for i in range(cols)] for j in range(rows)]\n",
    "        self.findWay(flag,0,0,threshold)\n",
    "        return self.count\n",
    "    def findWay(self,flag,i,j,k):\n",
    "        if i>=0 and j>=0 and i<len(flag) and j<len(flag[0]) and sum(list(map(int,str(i))))+ sum(list(map(int,str(j)))) <= k and flag[i][j]==1:\n",
    "            flag[i][j]=0\n",
    "            self.count=self.count+1\n",
    "            self.findWay(flag,i-1,j,k)\n",
    "            self.findWay(flag,i+1,j,k)\n",
    "            self.findWay(flag,i,j-1,k)\n",
    "            self.findWay(flag,i,j+1,k)"
   ]
  },
  {
   "cell_type": "code",
   "execution_count": null,
   "metadata": {},
   "outputs": [],
   "source": []
  }
 ],
 "metadata": {
  "kernelspec": {
   "display_name": "Python 3",
   "language": "python",
   "name": "python3"
  },
  "language_info": {
   "codemirror_mode": {
    "name": "ipython",
    "version": 3
   },
   "file_extension": ".py",
   "mimetype": "text/x-python",
   "name": "python",
   "nbconvert_exporter": "python",
   "pygments_lexer": "ipython3",
   "version": "3.7.7"
  }
 },
 "nbformat": 4,
 "nbformat_minor": 4
}
