{
 "cells": [
  {
   "cell_type": "markdown",
   "metadata": {},
   "source": [
    "遍历之，遇到当前节点和下一节点的值相同时，删除下一节点，并将当前节点next值指向下一个节点的next, 当前节点首先保持不变，直到相邻节点的值不等时才移动到下一节点。"
   ]
  },
  {
   "cell_type": "code",
   "execution_count": 1,
   "metadata": {},
   "outputs": [],
   "source": [
    "def deleteDuplicates(head):\n",
    "    curt=head\n",
    "    while curt:\n",
    "        while curt.next and curt.next.val==curt.val:\n",
    "            curt.next=curt.next.next\n",
    "        curt=curt.next\n",
    "    return head"
   ]
  },
  {
   "cell_type": "code",
   "execution_count": null,
   "metadata": {},
   "outputs": [],
   "source": [
    "//C++\n",
    "class Solution {\n",
    "public:\n",
    "    /**\n",
    "     * @param head: The first node of linked list.\n",
    "     * @return: head node\n",
    "     */\n",
    "    ListNode *deleteDuplicates(ListNode *head) {\n",
    "        ListNode *curr = head;\n",
    "        while (curr != NULL) {\n",
    "            while (curr->next != NULL && curr->val == curr->next->val) {\n",
    "                ListNode *temp = curr->next;\n",
    "                curr->next = curr->next->next;\n",
    "                delete(temp);\n",
    "                temp = NULL;\n",
    "            }\n",
    "            curr = curr->next;\n",
    "        }\n",
    "\n",
    "        return head;\n",
    "    }\n",
    "};"
   ]
  },
  {
   "cell_type": "code",
   "execution_count": null,
   "metadata": {},
   "outputs": [],
   "source": [
    "//JAVA\n",
    "public class Solution {\n",
    "    /**\n",
    "     * @param ListNode head is the head of the linked list\n",
    "     * @return: ListNode head of linked list\n",
    "     */\n",
    "    public static ListNode deleteDuplicates(ListNode head) {\n",
    "        ListNode curr = head;\n",
    "        while (curr != null) {\n",
    "            while (curr.next != null && curr.val == curr.next.val) {\n",
    "                curr.next = curr.next.next;\n",
    "            }\n",
    "            curr = curr.next;\n",
    "        }\n",
    "\n",
    "        return head;\n",
    "    }\n",
    "}"
   ]
  },
  {
   "cell_type": "markdown",
   "metadata": {},
   "source": [
    "遍历链表一次，时间复杂度为 \n",
    "O(n), 使用了一个中间变量进行遍历，空间复杂度为 \n",
    "O(1)."
   ]
  },
  {
   "cell_type": "code",
   "execution_count": null,
   "metadata": {},
   "outputs": [],
   "source": []
  }
 ],
 "metadata": {
  "kernelspec": {
   "display_name": "Python 3",
   "language": "python",
   "name": "python3"
  },
  "language_info": {
   "codemirror_mode": {
    "name": "ipython",
    "version": 3
   },
   "file_extension": ".py",
   "mimetype": "text/x-python",
   "name": "python",
   "nbconvert_exporter": "python",
   "pygments_lexer": "ipython3",
   "version": "3.7.7"
  }
 },
 "nbformat": 4,
 "nbformat_minor": 4
}
