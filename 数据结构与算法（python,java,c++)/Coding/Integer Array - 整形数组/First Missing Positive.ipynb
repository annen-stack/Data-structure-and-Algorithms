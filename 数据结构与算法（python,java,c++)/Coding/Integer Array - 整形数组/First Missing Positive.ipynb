{
 "cells": [
  {
   "cell_type": "markdown",
   "metadata": {},
   "source": [
    "Given an unsorted integer array, find the first missing positive integer.\n",
    "\n",
    "For example,\n",
    "\n",
    "Given [1,2,0] return 3,\n",
    "\n",
    "and [3,4,-1,1] return 2.\n",
    "\n",
    "Your algorithm should run in O(n) time and uses constant space.\n",
    "\n",
    "\n",
    "容易想到的方案是先排序，然后遍历求得缺的最小整数。排序算法中常用的基于比较的方法时间复杂度的理论下界为 \n",
    "O(nlogn), 不符题目要求。常见的能达到**线性时间复杂度**的排序算法有 基数排序，计数排序 和 桶排序。"
   ]
  },
  {
   "cell_type": "code",
   "execution_count": null,
   "metadata": {},
   "outputs": [],
   "source": [
    "class Solution {\n",
    "public:\n",
    "    /**\n",
    "     * @param A: a vector of integers\n",
    "     * @return: an integer\n",
    "     */\n",
    "    int firstMissingPositive(vector<int> A) {\n",
    "        const int size = A.size();\n",
    "\n",
    "        for (int i = 0; i < size; ++i) {\n",
    "            while (A[i] > 0 && A[i] <= size && \\\n",
    "                  (A[i] != i + 1) && (A[i] != A[A[i] - 1])) {\n",
    "                int temp = A[A[i] - 1];\n",
    "                A[A[i] - 1] = A[i];\n",
    "                A[i] = temp;\n",
    "            }\n",
    "        }\n",
    "\n",
    "        for (int i = 0; i < size; ++i) {\n",
    "            if (A[i] != i + 1) {\n",
    "                return i + 1;\n",
    "            }\n",
    "        }\n",
    "\n",
    "        return size + 1;\n",
    "    }\n",
    "};"
   ]
  },
  {
   "cell_type": "code",
   "execution_count": null,
   "metadata": {},
   "outputs": [],
   "source": [
    "//Java\n",
    "public class Solution {\n",
    "    public int firstMissingPositive(int[] nums) {\n",
    "        if (nums == null) return -1;\n",
    "\n",
    "        for (int i = 0; i < nums.length; i++) {\n",
    "            while (nums[i] > 0 \n",
    "                   && nums[i] <= nums.length\n",
    "                   && nums[i] != i + 1\n",
    "                   && (nums[i] != nums[nums[i] - 1])) {\n",
    "\n",
    "                    int temp = nums[nums[i] - 1];\n",
    "                    nums[nums[i] - 1] = nums[i];\n",
    "                    nums[i] = temp;\n",
    "            }\n",
    "        }\n",
    "\n",
    "        for (int i = 0; i < nums.length; i++) {\n",
    "            if (nums[i] != i + 1) return i + 1;\n",
    "        }\n",
    "\n",
    "        return 1 + nums.length;\n",
    "    }\n",
    "}"
   ]
  },
  {
   "cell_type": "markdown",
   "metadata": {},
   "source": [
    "## 复杂度分析"
   ]
  },
  {
   "cell_type": "markdown",
   "metadata": {},
   "source": [
    "「桶排序」需要遍历一次原数组，考虑到while循环也需要一定次数的遍历，故时间复杂度至少为 \n",
    "O(n). 最后求索引值最多遍历一次排序后数组，时间复杂度最高为 \n",
    "O(n), 用到了temp作为中间交换变量，空间复杂度为 \n",
    "O(1)."
   ]
  },
  {
   "cell_type": "code",
   "execution_count": null,
   "metadata": {},
   "outputs": [],
   "source": []
  }
 ],
 "metadata": {
  "kernelspec": {
   "display_name": "Python 3",
   "language": "python",
   "name": "python3"
  },
  "language_info": {
   "codemirror_mode": {
    "name": "ipython",
    "version": 3
   },
   "file_extension": ".py",
   "mimetype": "text/x-python",
   "name": "python",
   "nbconvert_exporter": "python",
   "pygments_lexer": "ipython3",
   "version": "3.7.7"
  }
 },
 "nbformat": 4,
 "nbformat_minor": 4
}
