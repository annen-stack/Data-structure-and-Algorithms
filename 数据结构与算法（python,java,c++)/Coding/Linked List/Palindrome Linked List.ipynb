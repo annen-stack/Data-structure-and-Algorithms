{
 "cells": [
  {
   "cell_type": "code",
   "execution_count": null,
   "metadata": {},
   "outputs": [],
   "source": [
    "class Solution:\n",
    "    # @param head, a ListNode\n",
    "    # @return a boolean\n",
    "    def is_palindrome(self, head):\n",
    "        if not head or not head.next:\n",
    "            return True\n",
    "\n",
    "        stack = []\n",
    "        slow, fast = head, head.next\n",
    "        while fast and fast.next:\n",
    "            stack.append(slow.val)\n",
    "            slow = slow.next\n",
    "            fast = fast.next.next\n",
    "\n",
    "        # for even numbers add mid\n",
    "        if fast:\n",
    "            stack.append(slow.val)\n",
    "\n",
    "        curt = slow.next\n",
    "        while curt:\n",
    "            if curt.val != stack.pop():\n",
    "                return False\n",
    "            curt = curt.next\n",
    "        return True"
   ]
  },
  {
   "cell_type": "markdown",
   "metadata": {},
   "source": [
    "使用了栈作为辅助空间，空间复杂度为 \n",
    "O(12n), 分别遍历链表的前半部分和后半部分，时间复杂度为 \n",
    "O(n)}."
   ]
  },
  {
   "cell_type": "markdown",
   "metadata": {},
   "source": [
    "## 原地反转"
   ]
  },
  {
   "cell_type": "code",
   "execution_count": 1,
   "metadata": {},
   "outputs": [],
   "source": [
    "class Solution:\n",
    "    def is_palindrome(self, head):\n",
    "        if not head or not head.next:\n",
    "            return True\n",
    "\n",
    "        slow, fast = head, head.next\n",
    "        while fast and fast.next:\n",
    "            fast = fast.next.next\n",
    "            slow = slow.next\n",
    "\n",
    "        mid = slow.next\n",
    "        # break\n",
    "        slow.next = None\n",
    "        rhead = self.reverse(mid)\n",
    "        while rhead:\n",
    "            if rhead.val != head.val:\n",
    "                return False\n",
    "            rhead = rhead.next\n",
    "            head = head.next\n",
    "        return True\n",
    "\n",
    "    def reverse(self, head):\n",
    "        dummy = ListNode(-1)\n",
    "        while head:\n",
    "            temp = head.next\n",
    "            head.next = dummy.next\n",
    "            dummy.next = head\n",
    "            head = temp\n",
    "        return dummy.next"
   ]
  },
  {
   "cell_type": "markdown",
   "metadata": {},
   "source": [
    "遍历链表若干次，时间复杂度近似为 \n",
    "O(n), 使用了几个临时遍历，空间复杂度为 \n",
    "O(1)."
   ]
  },
  {
   "cell_type": "code",
   "execution_count": null,
   "metadata": {},
   "outputs": [],
   "source": []
  }
 ],
 "metadata": {
  "kernelspec": {
   "display_name": "Python 3",
   "language": "python",
   "name": "python3"
  },
  "language_info": {
   "codemirror_mode": {
    "name": "ipython",
    "version": 3
   },
   "file_extension": ".py",
   "mimetype": "text/x-python",
   "name": "python",
   "nbconvert_exporter": "python",
   "pygments_lexer": "ipython3",
   "version": "3.7.7"
  }
 },
 "nbformat": 4,
 "nbformat_minor": 4
}
