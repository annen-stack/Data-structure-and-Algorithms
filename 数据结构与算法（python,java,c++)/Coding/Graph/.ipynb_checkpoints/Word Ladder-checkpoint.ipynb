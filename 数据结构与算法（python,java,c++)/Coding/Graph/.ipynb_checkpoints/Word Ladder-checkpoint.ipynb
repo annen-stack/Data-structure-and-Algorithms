{
 "cells": [
  {
   "cell_type": "code",
   "execution_count": null,
   "metadata": {},
   "outputs": [],
   "source": [
    "public class Solution {\n",
    "    /**\n",
    "      * @param start, a string\n",
    "      * @param end, a string\n",
    "      * @param dict, a set of string\n",
    "      * @return an integer\n",
    "      */\n",
    "    public int ladderLength(String start, String end, Set<String> dict) {\n",
    "        if (start == null && end == null) return 0;\n",
    "        if (start.length() == 0 && end.length() == 0) return 0;\n",
    "        assert(start.length() == end.length());\n",
    "        if (dict == null || dict.size() == 0) {\n",
    "            return 0;\n",
    "        }\n",
    "\n",
    "        int ladderLen = 1;\n",
    "        dict.add(end); // add end to dict, important!\n",
    "        Queue<String> q = new LinkedList<String>();\n",
    "        Set<String> hash = new HashSet<String>();\n",
    "        q.offer(start);\n",
    "        hash.add(start);\n",
    "        while (!q.isEmpty()) {\n",
    "            ladderLen++;\n",
    "            int qLen = q.size();\n",
    "            for (int i = 0; i < qLen; i++) {\n",
    "                String strTemp = q.poll();\n",
    "\n",
    "                for (String nextWord : getNextWords(strTemp, dict)) {\n",
    "                    if (nextWord.equals(end)) return ladderLen;\n",
    "                    // filter visited word in the dict\n",
    "                    if (hash.contains(nextWord)) continue;\n",
    "                    q.offer(nextWord);\n",
    "                    hash.add(nextWord);\n",
    "                }\n",
    "            }\n",
    "        }\n",
    "\n",
    "        return 0;\n",
    "    }\n",
    "\n",
    "    private Set<String> getNextWords(String curr, Set<String> dict) {\n",
    "        Set<String> nextWords = new HashSet<String>();\n",
    "        for (int i = 0; i < curr.length(); i++) {\n",
    "            char[] chars = curr.toCharArray();\n",
    "            for (char c = 'a'; c <= 'z'; c++) {\n",
    "                chars[i] = c;\n",
    "                String temp = new String(chars);\n",
    "                if (dict.contains(temp)) {\n",
    "                    nextWords.add(temp);\n",
    "                }\n",
    "            }\n",
    "        }\n",
    "\n",
    "        return nextWords;\n",
    "    }\n",
    "}"
   ]
  }
 ],
 "metadata": {
  "kernelspec": {
   "display_name": "Python 3",
   "language": "python",
   "name": "python3"
  },
  "language_info": {
   "codemirror_mode": {
    "name": "ipython",
    "version": 3
   },
   "file_extension": ".py",
   "mimetype": "text/x-python",
   "name": "python",
   "nbconvert_exporter": "python",
   "pygments_lexer": "ipython3",
   "version": "3.7.7"
  }
 },
 "nbformat": 4,
 "nbformat_minor": 4
}
