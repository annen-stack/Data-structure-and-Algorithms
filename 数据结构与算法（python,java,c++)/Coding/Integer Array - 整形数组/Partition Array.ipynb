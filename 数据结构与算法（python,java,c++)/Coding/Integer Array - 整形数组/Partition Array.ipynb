{
 "cells": [
  {
   "cell_type": "markdown",
   "metadata": {},
   "source": [
    "Given an array nums of integers and an int k, partition the array (i.e move the elements in \"nums\") such that:\n",
    "\n",
    "All elements < k are moved to the left\n",
    "All elements >= k are moved to the right\n",
    "\n",
    "Return the partitioning index, i.e the first index i nums[i] >= k."
   ]
  },
  {
   "cell_type": "markdown",
   "metadata": {},
   "source": [
    "## 题解1 - 自左向右"
   ]
  },
  {
   "cell_type": "markdown",
   "metadata": {},
   "source": [
    "容易想到的一个办法是自左向右遍历，使用right保存大于等于 k 的索引，i则为当前遍历元素的索引，总是保持i >= right, 那么最后返回的right即为所求。"
   ]
  },
  {
   "cell_type": "code",
   "execution_count": null,
   "metadata": {},
   "outputs": [],
   "source": [
    "//C++\n",
    "class Solution{\n",
    "public:\n",
    "    int partitionArray(vector<int>&nums,int k){\n",
    "        int right=0;\n",
    "        const int size=nums.size();\n",
    "        for(int i=0;i<size;i++){\n",
    "            if(nums[i]<k){\n",
    "                if(i!=right){\n",
    "                    int temp=nums[i];\n",
    "                    nums[i]=nums[right];\n",
    "                    nums[right]=temp;\n",
    "                }\n",
    "                ++right;\n",
    "            }\n",
    "        }\n",
    "        return right;\n",
    "    }\n",
    "}"
   ]
  },
  {
   "cell_type": "markdown",
   "metadata": {},
   "source": [
    "### 复杂度分析"
   ]
  },
  {
   "cell_type": "markdown",
   "metadata": {},
   "source": [
    "遍历一次数组，时间复杂度最少为 \n",
    "O(n), 可能需要一定次数的交换。"
   ]
  },
  {
   "cell_type": "markdown",
   "metadata": {},
   "source": [
    "## 题解2 - 两根指针"
   ]
  },
  {
   "cell_type": "code",
   "execution_count": null,
   "metadata": {},
   "outputs": [],
   "source": [
    "//C++\n",
    "class Solution{\n",
    "public:\n",
    "    int partitionArray(vector<int>&nums,int k){\n",
    "        int left;\n",
    "        int right = nums.size()-1;\n",
    "        while(left<=right){\n",
    "            while(left<=right&&nums[left]<k) ++left;\n",
    "            while(left<=right&&nums[right]>k) ++right;\n",
    "            if(left<=right){\n",
    "                int temp=nums[left];\n",
    "                nums[left]=nums[right];\n",
    "                nums[right]=temp;\n",
    "                ++left;\n",
    "                --right;\n",
    "            }\n",
    "        }\n",
    "        return left;\n",
    "    }\n",
    "}"
   ]
  },
  {
   "cell_type": "markdown",
   "metadata": {},
   "source": [
    "### 复杂度分析"
   ]
  },
  {
   "cell_type": "markdown",
   "metadata": {},
   "source": [
    "只需要对整个数组遍历一次，时间复杂度为 \n",
    "O(n), 相比题解1，题解2对全小于 k 的数组效率较高，元素交换次数较少。"
   ]
  },
  {
   "cell_type": "code",
   "execution_count": null,
   "metadata": {},
   "outputs": [],
   "source": []
  }
 ],
 "metadata": {
  "kernelspec": {
   "display_name": "Python 3",
   "language": "python",
   "name": "python3"
  },
  "language_info": {
   "codemirror_mode": {
    "name": "ipython",
    "version": 3
   },
   "file_extension": ".py",
   "mimetype": "text/x-python",
   "name": "python",
   "nbconvert_exporter": "python",
   "pygments_lexer": "ipython3",
   "version": "3.7.7"
  }
 },
 "nbformat": 4,
 "nbformat_minor": 4
}
