{
 "cells": [
  {
   "cell_type": "code",
   "execution_count": null,
   "metadata": {},
   "outputs": [],
   "source": [
    "public class Solution {\n",
    "    public Solution() {\n",
    "        stack1 = new Stack<Integer>();\n",
    "        stack2 = new Stack<Integer>();\n",
    "    }\n",
    "\n",
    "    public void push(int number) {\n",
    "        stack1.push(number);\n",
    "        if (stack2.empty()) {\n",
    "            stack2.push(number);\n",
    "        } else {\n",
    "            stack2.push(Math.min(number, stack2.peek()));\n",
    "        }\n",
    "    }\n",
    "\n",
    "    public int pop() {\n",
    "        stack2.pop();\n",
    "        return stack1.pop();\n",
    "    }\n",
    "\n",
    "    public int min() {\n",
    "        return stack2.peek();\n",
    "    }\n",
    "\n",
    "    private Stack<Integer> stack1; // original stack\n",
    "    private Stack<Integer> stack2; // min stack\n",
    "}"
   ]
  }
 ],
 "metadata": {
  "kernelspec": {
   "display_name": "Python 3",
   "language": "python",
   "name": "python3"
  },
  "language_info": {
   "codemirror_mode": {
    "name": "ipython",
    "version": 3
   },
   "file_extension": ".py",
   "mimetype": "text/x-python",
   "name": "python",
   "nbconvert_exporter": "python",
   "pygments_lexer": "ipython3",
   "version": "3.7.7"
  }
 },
 "nbformat": 4,
 "nbformat_minor": 4
}
