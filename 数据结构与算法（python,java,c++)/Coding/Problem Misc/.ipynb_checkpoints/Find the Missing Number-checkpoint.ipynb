{
 "cells": [
  {
   "cell_type": "code",
   "execution_count": null,
   "metadata": {},
   "outputs": [],
   "source": [
    "public class Solution {\n",
    "    /**\n",
    "     * @param nums: an array of integers\n",
    "     * @return: an integer\n",
    "     */\n",
    "    public int findMissing(int[] nums) {\n",
    "        if (nums == null || nums.length == 0) return -1;\n",
    "\n",
    "        // get xor from 0 to N excluding missing number\n",
    "        int x1 = 0;\n",
    "        for (int i : nums) {\n",
    "            x1 ^= i;\n",
    "        }\n",
    "\n",
    "        // get xor from 0 to N\n",
    "        int x2 = 0;\n",
    "        for (int i = 0; i <= nums.length; i++) {\n",
    "            x2 ^= i;\n",
    "        }\n",
    "\n",
    "        // missing = x1 ^ x2;\n",
    "        return x1 ^ x2;\n",
    "    }\n",
    "}"
   ]
  }
 ],
 "metadata": {
  "kernelspec": {
   "display_name": "Python 3",
   "language": "python",
   "name": "python3"
  },
  "language_info": {
   "codemirror_mode": {
    "name": "ipython",
    "version": 3
   },
   "file_extension": ".py",
   "mimetype": "text/x-python",
   "name": "python",
   "nbconvert_exporter": "python",
   "pygments_lexer": "ipython3",
   "version": "3.7.7"
  }
 },
 "nbformat": 4,
 "nbformat_minor": 4
}
