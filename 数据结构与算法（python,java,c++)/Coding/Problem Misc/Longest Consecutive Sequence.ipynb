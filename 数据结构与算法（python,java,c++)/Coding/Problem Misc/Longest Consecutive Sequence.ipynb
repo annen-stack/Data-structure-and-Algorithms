{
 "cells": [
  {
   "cell_type": "code",
   "execution_count": null,
   "metadata": {},
   "outputs": [],
   "source": [
    "class Solution {\n",
    "    public int longestConsecutive(int[] nums) {\n",
    "        if (nums == null || nums.length <= 0) return 0;\n",
    "        Set<Integer> sets = new HashSet<>(nums.length);\n",
    "        for (int num : nums) {\n",
    "            sets.add(num);\n",
    "        }\n",
    "\n",
    "        int result = 1;\n",
    "        for (int num : nums) {\n",
    "            int seq = 1;\n",
    "            int right = num, left = num;\n",
    "            // right\n",
    "            while (sets.contains(++right)) {\n",
    "                seq++;\n",
    "                sets.remove(right);\n",
    "            }\n",
    "            // left\n",
    "            while (sets.contains(--left)) {\n",
    "                seq++;\n",
    "                sets.remove(left);\n",
    "            }\n",
    "            sets.remove(num);\n",
    "            if (seq > result) result = seq;\n",
    "        }\n",
    "\n",
    "        return result;\n",
    "    }\n",
    "}"
   ]
  }
 ],
 "metadata": {
  "kernelspec": {
   "display_name": "Python 3",
   "language": "python",
   "name": "python3"
  },
  "language_info": {
   "codemirror_mode": {
    "name": "ipython",
    "version": 3
   },
   "file_extension": ".py",
   "mimetype": "text/x-python",
   "name": "python",
   "nbconvert_exporter": "python",
   "pygments_lexer": "ipython3",
   "version": "3.7.7"
  }
 },
 "nbformat": 4,
 "nbformat_minor": 4
}
