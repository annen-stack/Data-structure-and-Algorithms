{
 "cells": [
  {
   "cell_type": "code",
   "execution_count": null,
   "metadata": {},
   "outputs": [],
   "source": [
    "class Solution:\n",
    "    \"\"\"\n",
    "    @param L: Given n pieces of wood with length L[i]\n",
    "    @param k: An integer\n",
    "    return: The maximum length of the small pieces.\n",
    "    \"\"\"\n",
    "    def woodCut(self, L, k):\n",
    "        if sum(L) < k:\n",
    "            return 0\n",
    "\n",
    "        start, end = 1, max(L)\n",
    "        while start + 1 < end:\n",
    "            mid = (start + end) / 2\n",
    "            pieces_sum = sum(len_i / mid for len_i in L)\n",
    "            if pieces_sum < k:\n",
    "                end = mid\n",
    "            else:\n",
    "                start = mid\n",
    "\n",
    "        if sum(len_i / end for len_i in L) >= k:\n",
    "            return end\n",
    "        return start"
   ]
  }
 ],
 "metadata": {
  "kernelspec": {
   "display_name": "Python 3",
   "language": "python",
   "name": "python3"
  },
  "language_info": {
   "codemirror_mode": {
    "name": "ipython",
    "version": 3
   },
   "file_extension": ".py",
   "mimetype": "text/x-python",
   "name": "python",
   "nbconvert_exporter": "python",
   "pygments_lexer": "ipython3",
   "version": "3.7.7"
  }
 },
 "nbformat": 4,
 "nbformat_minor": 4
}
