{
 "cells": [
  {
   "cell_type": "code",
   "execution_count": null,
   "metadata": {},
   "outputs": [],
   "source": [
    "public class Solution {\n",
    "    /**\n",
    "     * @param A an array of Integer\n",
    "     * @return  an integer\n",
    "     */\n",
    "    public int longestIncreasingContinuousSubsequence(int[] A) {\n",
    "        if (A == null || A.length == 0) return 0;\n",
    "\n",
    "        int start = 0, licsMax = 1;\n",
    "        boolean ascending = false;\n",
    "        for (int i = 1; i < A.length; i++) {\n",
    "            // ascending order\n",
    "            if (A[i - 1] < A[i]) {\n",
    "                if (!ascending) {\n",
    "                    ascending = true;\n",
    "                    start = i - 1;\n",
    "                }\n",
    "            } else if (A[i - 1] > A[i]) {\n",
    "            // descending order\n",
    "                if (ascending) {\n",
    "                    ascending = false;\n",
    "                    start = i - 1;\n",
    "                }\n",
    "            } else {\n",
    "                start = i - 1;\n",
    "            }\n",
    "            licsMax = Math.max(licsMax, i - start + 1);\n",
    "        }\n",
    "\n",
    "        return licsMax;\n",
    "    }\n",
    "}"
   ]
  }
 ],
 "metadata": {
  "kernelspec": {
   "display_name": "Python 3",
   "language": "python",
   "name": "python3"
  },
  "language_info": {
   "codemirror_mode": {
    "name": "ipython",
    "version": 3
   },
   "file_extension": ".py",
   "mimetype": "text/x-python",
   "name": "python",
   "nbconvert_exporter": "python",
   "pygments_lexer": "ipython3",
   "version": "3.7.7"
  }
 },
 "nbformat": 4,
 "nbformat_minor": 4
}
