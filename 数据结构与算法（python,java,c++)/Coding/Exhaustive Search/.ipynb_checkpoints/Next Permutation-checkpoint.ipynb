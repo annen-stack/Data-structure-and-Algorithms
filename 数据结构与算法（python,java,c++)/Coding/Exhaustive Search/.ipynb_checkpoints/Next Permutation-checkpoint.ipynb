{
 "cells": [
  {
   "cell_type": "code",
   "execution_count": null,
   "metadata": {},
   "outputs": [],
   "source": [
    "class Solution(object):\n",
    "    def nextPermutation(self, nums):\n",
    "        \"\"\"\n",
    "        :type nums: List[int]\n",
    "        :rtype: void Do not return anything, modify nums in-place instead.\n",
    "        \"\"\"\n",
    "        if nums is None or len(nums) <= 1:\n",
    "            return\n",
    "        # step1: find nums[i] < nums[i + 1], Loop backwards\n",
    "        i = 0\n",
    "        for i in xrange(len(nums) - 2, -1, -1):\n",
    "            if nums[i] < nums[i + 1]:\n",
    "                break\n",
    "            elif i == 0:\n",
    "                # reverse nums if reach maximum\n",
    "                nums = nums.reverse()\n",
    "                return\n",
    "        # step2: find nums[i] < nums[j], Loop backwards\n",
    "        j = 0\n",
    "        for j in xrange(len(nums) - 1, i, -1):\n",
    "            if nums[i] < nums[j]:\n",
    "                break\n",
    "        # step3: swap betwenn nums[i] and nums[j]\n",
    "        nums[i], nums[j] = nums[j], nums[i]\n",
    "        # step4: reverse between [i + 1, n - 1]\n",
    "        nums[i + 1:len(nums)] = nums[len(nums) - 1:i:-1]"
   ]
  }
 ],
 "metadata": {
  "kernelspec": {
   "display_name": "Python 3",
   "language": "python",
   "name": "python3"
  },
  "language_info": {
   "codemirror_mode": {
    "name": "ipython",
    "version": 3
   },
   "file_extension": ".py",
   "mimetype": "text/x-python",
   "name": "python",
   "nbconvert_exporter": "python",
   "pygments_lexer": "ipython3",
   "version": "3.7.7"
  }
 },
 "nbformat": 4,
 "nbformat_minor": 4
}
