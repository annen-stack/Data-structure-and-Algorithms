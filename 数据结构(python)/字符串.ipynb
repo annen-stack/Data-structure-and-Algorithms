{
 "cells": [
  {
   "cell_type": "code",
   "execution_count": 1,
   "metadata": {},
   "outputs": [],
   "source": [
    "def strStr(self,haystack,needle):\n",
    "    for i in range(len(haystack)-len(needle)+1):\n",
    "        if haystack[i:i+len(needle)]==needle:\n",
    "            return i\n",
    "    return -1"
   ]
  },
  {
   "cell_type": "code",
   "execution_count": 2,
   "metadata": {},
   "outputs": [],
   "source": [
    "def longestComminPrefix(self,m):\n",
    "    if not m:\n",
    "        return ''\n",
    "    s1 = min(m)\n",
    "    s2 = max(m)\n",
    "    for i,c in enumerate(s1):\n",
    "        if c!=s2[i]:\n",
    "            return s2[:i]\n",
    "    return \"\""
   ]
  },
  {
   "cell_type": "code",
   "execution_count": 3,
   "metadata": {},
   "outputs": [],
   "source": [
    "def firstUniqChar(self,s):\n",
    "    cnt = collections.Counter(s)\n",
    "    for i in range(len(s)):\n",
    "        if cnt[s[i]]==1:\n",
    "            return i\n",
    "    return -1"
   ]
  },
  {
   "cell_type": "code",
   "execution_count": 4,
   "metadata": {},
   "outputs": [],
   "source": [
    "def canConstruct(self,ransomNote,magazine):\n",
    "    for letter in set(ransomNote):\n",
    "        if ransomNote.count(letter) > magazine.count(letter):\n",
    "            return False\n",
    "    return True"
   ]
  },
  {
   "cell_type": "code",
   "execution_count": 5,
   "metadata": {},
   "outputs": [],
   "source": [
    "def reverseWords(self,s):\n",
    "    return ' '.join(s.split()[::-1])"
   ]
  },
  {
   "cell_type": "code",
   "execution_count": 7,
   "metadata": {},
   "outputs": [],
   "source": [
    "def isIsomorphic(sef,s,t):\n",
    "    d={}\n",
    "    for i,c in enumerate(s):\n",
    "        if not c in d:\n",
    "            if t[i] in d.values():\n",
    "                return False\n",
    "            d[c]=t[i]\n",
    "        else:\n",
    "            if not d[c]==t[i]:\n",
    "                return False\n",
    "    return True\n"
   ]
  },
  {
   "cell_type": "code",
   "execution_count": 8,
   "metadata": {},
   "outputs": [],
   "source": [
    "class Solution:\n",
    "    def wordPattern(self, pattern,str):\n",
    "        s = pattern\n",
    "        t = str.split()\n",
    "        return list(map(s.find, s)) == list(map(t.index, t))"
   ]
  },
  {
   "cell_type": "code",
   "execution_count": 9,
   "metadata": {},
   "outputs": [],
   "source": [
    "class Solution:\n",
    "    def isAnagram(self,s,t):\n",
    "      #  return collections.Counter(s) == collections.Counter(t)\n",
    "\n",
    "        return sorted(s) == sorted(t)"
   ]
  },
  {
   "cell_type": "code",
   "execution_count": 10,
   "metadata": {},
   "outputs": [],
   "source": [
    "def groupAnagrams(self,strs):\n",
    "    ans = collections.defaultdict(list)\n",
    "    for s in ans:\n",
    "        ans[tuple(sorted(s))].append(s)\n",
    "    return ans.values()"
   ]
  },
  {
   "cell_type": "code",
   "execution_count": 11,
   "metadata": {},
   "outputs": [],
   "source": [
    "class Solution:\n",
    "    def largestNumber(self, nums):\n",
    "        if set(nums) == {0}: \n",
    "            return \"0\"\n",
    "        return \"\".join(sorted(map(str,nums),key = lambda x: x*3, reverse = True))"
   ]
  },
  {
   "cell_type": "code",
   "execution_count": 12,
   "metadata": {},
   "outputs": [],
   "source": [
    "def convert(self,s,numRows):\n",
    "    if numRows==1 or numRows>len(s):\n",
    "        return s\n",
    "    zigzag=[\"\" for i in range(numRows)]\n",
    "    row,step=0,1\n",
    "    for char in s:\n",
    "        zigzag[row]+=char\n",
    "        if row==0:\n",
    "            step=1\n",
    "        elif row==numRows-1:\n",
    "            step=step-1\n",
    "        row=row+step\n",
    "    return \"\".join(zigzag)"
   ]
  },
  {
   "cell_type": "code",
   "execution_count": 13,
   "metadata": {},
   "outputs": [],
   "source": [
    "class Solution:\n",
    "    def romanToInt(self, s):\n",
    "        dic = {'I': 1, 'V': 5, 'X': 10, 'L': 50, 'C': 100, 'D': 500, 'M': 1000}\n",
    "        res = mini = 0\n",
    "        for i in s[::-1]:\n",
    "            if dic[i] < mini:\n",
    "                res -= dic[i]\n",
    "            else:\n",
    "                res += dic[i]\n",
    "            mini = dic[i]\n",
    "        return res"
   ]
  },
  {
   "cell_type": "code",
   "execution_count": 14,
   "metadata": {},
   "outputs": [],
   "source": [
    "class Solution:\n",
    "    def lengthOfLongestSubstring(self, s):\n",
    "        start = maxLength = 0\n",
    "        used = {}\n",
    "        for i, c in enumerate(s):\n",
    "            if c in used and start <= used[c]:\n",
    "                start = used[c] + 1\n",
    "            else:\n",
    "                maxLength = max(maxLength, i - start + 1)\n",
    "            used[c] = i\n",
    "        return maxLength"
   ]
  },
  {
   "cell_type": "code",
   "execution_count": 16,
   "metadata": {},
   "outputs": [],
   "source": [
    "def longestSubstring(self,s,k):\n",
    "    for c in set(s):\n",
    "        if s.coiunt(c)<k:\n",
    "            return max([self.longsetSubstring(i,k) for i in s.split(c)])\n",
    "    return len(s)"
   ]
  },
  {
   "cell_type": "code",
   "execution_count": 17,
   "metadata": {},
   "outputs": [],
   "source": [
    "def isPalindrome(self,s):\n",
    "    res=[]\n",
    "    for i in s:\n",
    "        if i.isalpha() or i.isdigit():\n",
    "            res.append(i)\n",
    "    return res==res[::-1]"
   ]
  },
  {
   "cell_type": "code",
   "execution_count": 18,
   "metadata": {},
   "outputs": [],
   "source": [
    "def isPalindrome(self,x):\n",
    "    return str(x)==str(x)[::-1]"
   ]
  },
  {
   "cell_type": "code",
   "execution_count": 19,
   "metadata": {},
   "outputs": [],
   "source": [
    "class Solution:\n",
    "    def isValid(self, s):\n",
    "        stack = []\n",
    "        dic = {')': '(', '}': '{', ']': '['}\n",
    "        for i in s:\n",
    "            if i in dic:\n",
    "                if not stack: return False\n",
    "                if stack[-1] != dic[i]:\n",
    "                    return False\n",
    "                stack.pop()\n",
    "            else:\n",
    "                stack.append(i)\n",
    "        return not stack"
   ]
  },
  {
   "cell_type": "code",
   "execution_count": 20,
   "metadata": {},
   "outputs": [],
   "source": [
    "def generateParenthesis(self,N):\n",
    "    def generate(p,left,right,pars=[]):\n",
    "        if left:\n",
    "            generate(p+'(',left-1,right)\n",
    "        if right>left:\n",
    "            generate(p+')',left,right-1)\n",
    "        if not right:\n",
    "            pars.append(p)\n",
    "        return pars\n",
    "    return generate('',N,N)"
   ]
  },
  {
   "cell_type": "code",
   "execution_count": 21,
   "metadata": {},
   "outputs": [],
   "source": [
    "class Solution:\n",
    "    def isSubsequence(self,s,t):\n",
    "        for c in s:\n",
    "            i = t.find(c)\n",
    "            if i == -1:\n",
    "                return False\n",
    "            else:\n",
    "                t = t[i+1:]\n",
    "        return True"
   ]
  },
  {
   "cell_type": "code",
   "execution_count": null,
   "metadata": {},
   "outputs": [],
   "source": []
  }
 ],
 "metadata": {
  "kernelspec": {
   "display_name": "Python 3",
   "language": "python",
   "name": "python3"
  },
  "language_info": {
   "codemirror_mode": {
    "name": "ipython",
    "version": 3
   },
   "file_extension": ".py",
   "mimetype": "text/x-python",
   "name": "python",
   "nbconvert_exporter": "python",
   "pygments_lexer": "ipython3",
   "version": "3.7.7"
  }
 },
 "nbformat": 4,
 "nbformat_minor": 4
}
