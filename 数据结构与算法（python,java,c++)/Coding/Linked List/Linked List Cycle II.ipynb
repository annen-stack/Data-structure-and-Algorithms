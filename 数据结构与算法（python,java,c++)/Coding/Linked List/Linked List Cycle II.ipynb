{
 "cells": [
  {
   "cell_type": "markdown",
   "metadata": {},
   "source": [
    "Given a linked list, return the node where the cycle begins. If there is no cycle, return null.\n"
   ]
  },
  {
   "cell_type": "code",
   "execution_count": null,
   "metadata": {},
   "outputs": [],
   "source": [
    "//JAVA\n",
    "public class Solution {\n",
    "    public ListNode detectCycle(ListNode head) {\n",
    "        if (head == null || head.next == null) {\n",
    "            return null;\n",
    "        }\n",
    "\n",
    "        ListNode slow = head;\n",
    "        ListNode fast = head;\n",
    "        while (fast.next != null && fast.next.next != null) {\n",
    "            slow = slow.next;\n",
    "            fast = fast.next.next;\n",
    "            if (slow == fast) {\n",
    "                fast = head;\n",
    "                while (fast != slow) {\n",
    "                    fast = fast.next;\n",
    "                    slow = slow.next;\n",
    "                }\n",
    "                return fast;\n",
    "            }\n",
    "        }\n",
    "        return null;\n",
    "    }\n",
    "}"
   ]
  },
  {
   "cell_type": "markdown",
   "metadata": {},
   "source": [
    "第一次相遇的最坏时间复杂度为 \n",
    "O(n), 第二次相遇的最坏时间复杂度为 \n",
    "O(n). 故总的时间复杂度近似为 \n",
    "O(n), 空间复杂度 \n",
    "O(1)"
   ]
  },
  {
   "cell_type": "code",
   "execution_count": null,
   "metadata": {},
   "outputs": [],
   "source": []
  }
 ],
 "metadata": {
  "kernelspec": {
   "display_name": "Python 3",
   "language": "python",
   "name": "python3"
  },
  "language_info": {
   "codemirror_mode": {
    "name": "ipython",
    "version": 3
   },
   "file_extension": ".py",
   "mimetype": "text/x-python",
   "name": "python",
   "nbconvert_exporter": "python",
   "pygments_lexer": "ipython3",
   "version": "3.7.7"
  }
 },
 "nbformat": 4,
 "nbformat_minor": 4
}
