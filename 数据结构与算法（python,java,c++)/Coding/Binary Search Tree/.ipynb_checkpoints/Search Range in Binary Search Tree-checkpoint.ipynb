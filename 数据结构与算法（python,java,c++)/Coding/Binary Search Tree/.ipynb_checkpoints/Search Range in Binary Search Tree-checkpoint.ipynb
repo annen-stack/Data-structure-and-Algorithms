{
 "cells": [
  {
   "cell_type": "code",
   "execution_count": null,
   "metadata": {},
   "outputs": [],
   "source": [
    "public class Solution {\n",
    "    /**\n",
    "     * @param root: The root of the binary search tree.\n",
    "     * @param k1 and k2: range k1 to k2.\n",
    "     * @return: Return all keys that k1<=key<=k2 in ascending order.\n",
    "     */\n",
    "    public ArrayList<Integer> searchRange(TreeNode root, int k1, int k2) {\n",
    "        ArrayList<Integer> result = new ArrayList<Integer>();\n",
    "        helper(root, k1, k2, result);\n",
    "\n",
    "        return result;\n",
    "    }\n",
    "\n",
    "    private void helper(TreeNode root, int k1, int k2, ArrayList<Integer> result) {\n",
    "        if (root == null) return;\n",
    "\n",
    "        // in-order binary tree iteration\n",
    "        helper(root.left, k1, k2, result);\n",
    "        if (k1 <= root.val && root.val <= k2) {\n",
    "            result.add(root.val);\n",
    "        }\n",
    "        helper(root.right, k1, k2, result);\n",
    "    }\n",
    "}"
   ]
  }
 ],
 "metadata": {
  "kernelspec": {
   "display_name": "Python 3",
   "language": "python",
   "name": "python3"
  },
  "language_info": {
   "codemirror_mode": {
    "name": "ipython",
    "version": 3
   },
   "file_extension": ".py",
   "mimetype": "text/x-python",
   "name": "python",
   "nbconvert_exporter": "python",
   "pygments_lexer": "ipython3",
   "version": "3.7.7"
  }
 },
 "nbformat": 4,
 "nbformat_minor": 4
}
