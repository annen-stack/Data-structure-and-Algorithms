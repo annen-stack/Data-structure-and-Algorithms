{
 "cells": [
  {
   "cell_type": "code",
   "execution_count": null,
   "metadata": {},
   "outputs": [],
   "source": [
    "class Solution:\n",
    "    # @param s, a string\n",
    "    # @param wordDict, a set<string>\n",
    "    # @return a boolean\n",
    "    def wordBreak(self, s, wordDict):\n",
    "        if not s:\n",
    "            return True\n",
    "        if not wordDict:\n",
    "            return False\n",
    "\n",
    "        max_word_len = max([len(w) for w in wordDict])\n",
    "        can_break = [True]\n",
    "        for i in xrange(len(s)):\n",
    "            can_break.append(False)\n",
    "            for j in xrange(i, -1, -1):\n",
    "                # optimize for too long interval\n",
    "                if i - j + 1 > max_word_len:\n",
    "                    break\n",
    "                if can_break[j] and s[j:i + 1] in wordDict:\n",
    "                    can_break[i + 1] = True\n",
    "                    break\n",
    "        return can_break[-1]"
   ]
  }
 ],
 "metadata": {
  "kernelspec": {
   "display_name": "Python 3",
   "language": "python",
   "name": "python3"
  },
  "language_info": {
   "codemirror_mode": {
    "name": "ipython",
    "version": 3
   },
   "file_extension": ".py",
   "mimetype": "text/x-python",
   "name": "python",
   "nbconvert_exporter": "python",
   "pygments_lexer": "ipython3",
   "version": "3.7.7"
  }
 },
 "nbformat": 4,
 "nbformat_minor": 4
}
