{
 "cells": [
  {
   "cell_type": "markdown",
   "metadata": {},
   "source": [
    "栈是一种 LIFO(Last In First Out) 的数据结构，常用方法有添加元素，取栈顶元素，弹出栈顶元素，判断栈是否为空。"
   ]
  },
  {
   "cell_type": "markdown",
   "metadata": {},
   "source": [
    "## Python"
   ]
  },
  {
   "cell_type": "code",
   "execution_count": 1,
   "metadata": {},
   "outputs": [],
   "source": [
    "stack = []\n",
    "len(stack) # size of stack\n",
    "\n",
    "# more efficient stack\n",
    "import collections\n",
    "stack = collections.deque()\n",
    "\n",
    "#list作为最基本的python数据结构之一， 可以很轻松的实现stack。 \n",
    "#如果需要更高效的stack， 建议使用deque。"
   ]
  },
  {
   "cell_type": "markdown",
   "metadata": {},
   "source": [
    "### Methods"
   ]
  },
  {
   "cell_type": "markdown",
   "metadata": {},
   "source": [
    "栈用list表示\n",
    "\n",
    "\n",
    "len(stack) != 0 - 判断stack是否weikong\n",
    "\n",
    "\n",
    "stack[-1] - 取栈顶元素，不移除\n",
    "\n",
    "\n",
    "pop() - 移除栈顶元素并返回该元素\n",
    "\n",
    "\n",
    "append(item) - 向栈顶添加元素"
   ]
  },
  {
   "cell_type": "markdown",
   "metadata": {},
   "source": [
    "## Java"
   ]
  },
  {
   "cell_type": "code",
   "execution_count": null,
   "metadata": {},
   "outputs": [],
   "source": [
    "Deque<Integer> stack = new ArrayDeque<Integer>();\n",
    "\n",
    "s.size(); // size of stack"
   ]
  },
  {
   "cell_type": "markdown",
   "metadata": {},
   "source": [
    "JDK doc 中建议使用Deque代替Stack实现栈，因为Stack继承自Vector，需要synchronized，性能略低。"
   ]
  },
  {
   "cell_type": "markdown",
   "metadata": {},
   "source": [
    "### methods"
   ]
  },
  {
   "cell_type": "markdown",
   "metadata": {},
   "source": [
    "boolean isEmpty() - 判断栈是否为空，若使用 Stack 类构造则为 empty()\n",
    "\n",
    "E peek() - 取栈顶元素，不移除\n",
    "\n",
    "E pop() - 移除栈顶元素并返回该元素\n",
    "\n",
    "E push(E item) - 向栈顶添加元素"
   ]
  },
  {
   "cell_type": "code",
   "execution_count": null,
   "metadata": {},
   "outputs": [],
   "source": []
  }
 ],
 "metadata": {
  "kernelspec": {
   "display_name": "Python 3",
   "language": "python",
   "name": "python3"
  },
  "language_info": {
   "codemirror_mode": {
    "name": "ipython",
    "version": 3
   },
   "file_extension": ".py",
   "mimetype": "text/x-python",
   "name": "python",
   "nbconvert_exporter": "python",
   "pygments_lexer": "ipython3",
   "version": "3.7.7"
  }
 },
 "nbformat": 4,
 "nbformat_minor": 4
}
