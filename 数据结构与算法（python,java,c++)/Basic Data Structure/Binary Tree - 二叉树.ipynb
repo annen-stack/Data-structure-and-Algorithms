{
 "cells": [
  {
   "cell_type": "markdown",
   "metadata": {},
   "source": [
    "- 二叉树\n",
    "\n",
    "\n",
    "二叉树是每个节点最多有两个子树的树结构与，子树有左右之分，二叉树常被用于实现二叉查找树和二叉堆。\n",
    "\n",
    "二叉树的第i层最多有2（i-1)个节点，即第一层有一个节点。（把第一层也算进去了）深度为K的二叉树最多有2K-1个节点。对于任何一颗二叉树，如果其终端节点数为n0（即没有子节点的节点），度为2的节点数为n2,则n2=n0+1。\n",
    "\n",
    "- 满二叉树\n",
    "\n",
    "\n",
    "一颗深度为K,且有2K-1个节点称为满二叉树，即度为1的节点没有。\n",
    "\n",
    "\n",
    "- 完全二叉树\n",
    "\n",
    "\n",
    "完全二叉树：当二叉树的深度为h时，它的h层节点必须都是连续靠左并不可隔开的(满二叉树也符合)，并且1～h-1层的结点数都达到最大个数(即1~h-1层为一个满二叉树)。\n",
    "\n",
    "- 二叉搜索树/二叉排序树\n",
    "\n",
    "不一定是完全二叉树。\n",
    "\n",
    "\n",
    "深度为K，有n个节点的而擦函数，当且仅当每个节点都与深度为k的满二叉树中序号为1-n的节点对应时，称之为完全二叉树。一颗二叉查找树(BST)是一颗二叉树，其中每个节点都含有一个可进行比较的键及相应的值，且每个节点的键都大于等于左子树中的任意节点的键，而小于右子树中的任意节点的键。"
   ]
  },
  {
   "cell_type": "code",
   "execution_count": 1,
   "metadata": {},
   "outputs": [],
   "source": [
    "#python\n",
    "class TreeNode:\n",
    "    def __init__(self,val):\n",
    "        self.val=val\n",
    "        self.left=None\n",
    "        self.right=None\n",
    "        "
   ]
  },
  {
   "cell_type": "code",
   "execution_count": null,
   "metadata": {},
   "outputs": [],
   "source": [
    "//C++\n",
    "struct TreeNode{\n",
    "    int val;\n",
    "    TreeNode *left;\n",
    "    TreeNode *right;\n",
    "    TreeNode(int x): val(x),left(NULL),right(NULL){}\n",
    "}"
   ]
  },
  {
   "cell_type": "code",
   "execution_count": null,
   "metadata": {},
   "outputs": [],
   "source": [
    "//JAVA\n",
    "public class TreeNode{\n",
    "    public int val;\n",
    "    public TreeNode left,right;\n",
    "    public TreeNode(int val){\n",
    "        this.val=val;\n",
    "        this.left=NULL;\n",
    "        this.right=NULL;\n",
    "    }\n",
    "}"
   ]
  },
  {
   "cell_type": "markdown",
   "metadata": {},
   "source": [
    "# 树的遍历"
   ]
  },
  {
   "cell_type": "markdown",
   "metadata": {},
   "source": [
    "- 深度遍历\n",
    "\n",
    "使用递归，也就是栈的思想\n",
    "\n",
    "前序(pre-order)：先根后左再右\n",
    "\n",
    "中序(in-order)：先左后根再右\n",
    "\n",
    "后序(post-order)：先左后右再根\n",
    "\n",
    "- 广度优先\n",
    "\n",
    "队列的思想。\n",
    "\n",
    "\n",
    "先访问根节点，沿着树的宽度遍历子节点，直到所有节点均被访问为止。"
   ]
  },
  {
   "cell_type": "markdown",
   "metadata": {},
   "source": [
    "### 二叉树还原"
   ]
  },
  {
   "cell_type": "markdown",
   "metadata": {},
   "source": [
    "如果已知中序遍历和前序遍历或者后序遍历，那么就可以完全恢复出原二叉树结构。其中最为关键的是前序遍历中第一个一定是根，而后序遍历最后一个一定是根，中序遍历在得知根节点后又可进一步递归得知左右子树的根节点。\n",
    "\n",
    "但是这种方法也是有适用范围的：元素不能重复！否则无法完成定位。"
   ]
  },
  {
   "cell_type": "code",
   "execution_count": 3,
   "metadata": {},
   "outputs": [],
   "source": [
    "#python   深度遍历\n",
    "class TreeNode:\n",
    "    def __init__(self,val):\n",
    "        self.val=val\n",
    "        self.left=None\n",
    "        self.right=None\n",
    "\n",
    "class Traversal(object):\n",
    "    def __init__(self):\n",
    "        self.traverse_path=[]\n",
    "        \n",
    "    def preorder(self,root):\n",
    "        if root:\n",
    "            self.traverse_path.append(root.val)\n",
    "            self.preorder(root.left)\n",
    "            self.preorder(root.right)\n",
    "    \n",
    "    def inorder(self,root):\n",
    "        if root:\n",
    "            self.inorder(root.left)\n",
    "            self.traverse_path.append(root.val)\n",
    "            self.inorder(root.right)\n",
    "    \n",
    "    def postorder(self,root):\n",
    "        if root:\n",
    "            self.postorder(root.left)\n",
    "            self.postorder(root.right)\n",
    "            self.traverse_path.append(root.val)\n",
    "            \n",
    "            "
   ]
  },
  {
   "cell_type": "markdown",
   "metadata": {},
   "source": [
    "### 树类题的复杂度分析"
   ]
  },
  {
   "cell_type": "markdown",
   "metadata": {},
   "source": [
    "对树相关的题进行复杂度分析时可统计对每个节点被访问的次数，进而求得总的时间复杂度。"
   ]
  },
  {
   "cell_type": "markdown",
   "metadata": {},
   "source": [
    "## Binary Search Tree - 二叉查找树"
   ]
  },
  {
   "cell_type": "markdown",
   "metadata": {},
   "source": [
    "二叉查找树，二叉搜索树，二叉排序树\n",
    "\n",
    "是满二叉树吗？\n",
    "\n",
    "一颗二叉查找树(BST)是一颗二叉树，*其中每个节点都含有一个可进行比较的键及相应的值，且每个节点的键都大于等于左子树中的任意节点的键，而小于右子树中的任意节点的键。*"
   ]
  },
  {
   "cell_type": "markdown",
   "metadata": {},
   "source": [
    "使用中序遍历可得到有序数组，这是二叉查找树的一个重要特征。\n",
    "\n",
    "二叉查找树使用的每个节点含有两个链接，它是将链表插入的灵活性O(1)和有序数组查找的高效性结合起来的高效性结合起来的高效符号表表现。"
   ]
  },
  {
   "cell_type": "code",
   "execution_count": null,
   "metadata": {},
   "outputs": [],
   "source": []
  }
 ],
 "metadata": {
  "kernelspec": {
   "display_name": "Python 3",
   "language": "python",
   "name": "python3"
  },
  "language_info": {
   "codemirror_mode": {
    "name": "ipython",
    "version": 3
   },
   "file_extension": ".py",
   "mimetype": "text/x-python",
   "name": "python",
   "nbconvert_exporter": "python",
   "pygments_lexer": "ipython3",
   "version": "3.7.7"
  }
 },
 "nbformat": 4,
 "nbformat_minor": 4
}
