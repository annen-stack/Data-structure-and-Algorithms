{
 "cells": [
  {
   "cell_type": "code",
   "execution_count": null,
   "metadata": {},
   "outputs": [],
   "source": [
    "class Solution:\n",
    "    # @param {int[]} A an integer array\n",
    "    # @return {long} a long integer\n",
    "    def permutationIndexII(self, A):\n",
    "        if A is None or len(A) == 0:\n",
    "            return 0\n",
    "\n",
    "        index = 1\n",
    "        factor = 1\n",
    "        for i in xrange(len(A) - 1, -1, -1):\n",
    "            hash_map = {A[i]: 1}\n",
    "            rank = 0\n",
    "            for j in xrange(i + 1, len(A)):\n",
    "                if A[j] in hash_map.keys():\n",
    "                    hash_map[A[j]] += 1\n",
    "                else:\n",
    "                    hash_map[A[j]] = 1\n",
    "                # get rank\n",
    "                if A[i] > A[j]:\n",
    "                    rank += 1\n",
    "\n",
    "            index += rank * factor / self.dupPerm(hash_map)\n",
    "            factor *= (len(A) - i)\n",
    "\n",
    "        return index\n",
    "\n",
    "\n",
    "    def dupPerm(self, hash_map):\n",
    "        if hash_map is None or len(hash_map) == 0:\n",
    "            return 0\n",
    "        dup = 1\n",
    "        for val in hash_map.values():\n",
    "            dup *= self.factorial(val)\n",
    "\n",
    "        return dup\n",
    "\n",
    "\n",
    "    def factorial(self, n):\n",
    "        r = 1\n",
    "        for i in xrange(1, n + 1):\n",
    "            r *= i\n",
    "\n",
    "        return r"
   ]
  }
 ],
 "metadata": {
  "kernelspec": {
   "display_name": "Python 3",
   "language": "python",
   "name": "python3"
  },
  "language_info": {
   "codemirror_mode": {
    "name": "ipython",
    "version": 3
   },
   "file_extension": ".py",
   "mimetype": "text/x-python",
   "name": "python",
   "nbconvert_exporter": "python",
   "pygments_lexer": "ipython3",
   "version": "3.7.7"
  }
 },
 "nbformat": 4,
 "nbformat_minor": 4
}
