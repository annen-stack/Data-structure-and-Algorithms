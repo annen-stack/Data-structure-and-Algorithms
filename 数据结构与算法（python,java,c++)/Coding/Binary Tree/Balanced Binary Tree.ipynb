{
 "cells": [
  {
   "cell_type": "code",
   "execution_count": null,
   "metadata": {},
   "outputs": [],
   "source": [
    "class Solution {\n",
    "public:\n",
    "    /**\n",
    "     * @param root: The root of binary tree.\n",
    "     * @return: True if this Binary tree is Balanced, or false.\n",
    "     */\n",
    "    bool isBalanced(TreeNode *root) {\n",
    "        return (-1 != maxDepth(root));\n",
    "    }\n",
    "\n",
    "private:\n",
    "    int maxDepth(TreeNode *root) {\n",
    "        if (NULL == root) {\n",
    "            return 0;\n",
    "        }\n",
    "\n",
    "        int leftDepth = maxDepth(root->left);\n",
    "        int rightDepth = maxDepth(root->right);\n",
    "        if (leftDepth == -1 || rightDepth == -1 || \\\n",
    "            abs(leftDepth - rightDepth) > 1) {\n",
    "            return -1;\n",
    "        }\n",
    "\n",
    "        return max(leftDepth, rightDepth) + 1;\n",
    "    }\n",
    "};"
   ]
  },
  {
   "cell_type": "code",
   "execution_count": null,
   "metadata": {},
   "outputs": [],
   "source": [
    "public class Solution {\n",
    "    public boolean isBalanced(TreeNode root) {\n",
    "        return maxDepth(root) != -1;\n",
    "    }\n",
    "\n",
    "    private int maxDepth(TreeNode root) {\n",
    "        if (root == null) return 0;\n",
    "\n",
    "        int leftDepth = maxDepth(root.left);\n",
    "        int rightDepth = maxDepth(root.right);\n",
    "        if (leftDepth == -1 || rightDepth == -1 ||\n",
    "            Math.abs(leftDepth - rightDepth) > 1) {\n",
    "\n",
    "            return -1;\n",
    "        }\n",
    "\n",
    "        return 1 + Math.max(leftDepth, rightDepth);\n",
    "    }\n",
    "}"
   ]
  },
  {
   "cell_type": "markdown",
   "metadata": {},
   "source": [
    "遍历所有节点各一次，时间复杂度为 \n",
    "O(n), 使用了部分辅助变量，空间复杂度 \n",
    "O(1)."
   ]
  },
  {
   "cell_type": "code",
   "execution_count": null,
   "metadata": {},
   "outputs": [],
   "source": []
  }
 ],
 "metadata": {
  "kernelspec": {
   "display_name": "Python 3",
   "language": "python",
   "name": "python3"
  },
  "language_info": {
   "codemirror_mode": {
    "name": "ipython",
    "version": 3
   },
   "file_extension": ".py",
   "mimetype": "text/x-python",
   "name": "python",
   "nbconvert_exporter": "python",
   "pygments_lexer": "ipython3",
   "version": "3.7.7"
  }
 },
 "nbformat": 4,
 "nbformat_minor": 4
}
