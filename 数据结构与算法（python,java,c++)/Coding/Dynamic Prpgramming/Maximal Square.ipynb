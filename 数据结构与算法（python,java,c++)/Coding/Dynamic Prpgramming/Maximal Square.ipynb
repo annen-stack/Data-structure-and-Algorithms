{
 "cells": [
  {
   "cell_type": "code",
   "execution_count": null,
   "metadata": {},
   "outputs": [],
   "source": [
    "public class Solution {\n",
    "    /**\n",
    "     * @param matrix: a matrix of 0 and 1\n",
    "     * @return: an integer\n",
    "     */\n",
    "    public int maxSquare(int[][] matrix) {\n",
    "        int side = 0;\n",
    "        if (matrix == null || matrix.length == 0 || matrix[0].length == 0) {\n",
    "            return side;\n",
    "        }\n",
    "\n",
    "        final int ROW = matrix.length, COL = matrix[0].length;\n",
    "        int[][] dp = new int[ROW][COL];\n",
    "        for (int i = 0; i < ROW; i++) {\n",
    "            dp[i][0] = matrix[i][0];\n",
    "            side = 1;\n",
    "        }\n",
    "        for (int i = 0; i < COL; i++) {\n",
    "            dp[0][i] = matrix[0][i];\n",
    "            side = 1;\n",
    "        }\n",
    "\n",
    "        for (int i = 1; i < ROW; i++) {\n",
    "            side = Math.max(side, matrix[i][0]);\n",
    "            for (int j = 1; j < COL; j++) {\n",
    "                if (matrix[i][j] == 1) {\n",
    "                    dp[i][j] = 1 + minTri(dp[i-1][j-1], dp[i-1][j], dp[i][j-1]);\n",
    "                    side = Math.max(side, dp[i][j]);\n",
    "                }\n",
    "            }\n",
    "        }\n",
    "\n",
    "        return side * side;\n",
    "    }\n",
    "\n",
    "    private int minTri(int a, int b, int c) {\n",
    "        return Math.min(a, Math.min(b, c));\n",
    "    }\n",
    "}"
   ]
  }
 ],
 "metadata": {
  "kernelspec": {
   "display_name": "Python 3",
   "language": "python",
   "name": "python3"
  },
  "language_info": {
   "codemirror_mode": {
    "name": "ipython",
    "version": 3
   },
   "file_extension": ".py",
   "mimetype": "text/x-python",
   "name": "python",
   "nbconvert_exporter": "python",
   "pygments_lexer": "ipython3",
   "version": "3.7.7"
  }
 },
 "nbformat": 4,
 "nbformat_minor": 4
}
