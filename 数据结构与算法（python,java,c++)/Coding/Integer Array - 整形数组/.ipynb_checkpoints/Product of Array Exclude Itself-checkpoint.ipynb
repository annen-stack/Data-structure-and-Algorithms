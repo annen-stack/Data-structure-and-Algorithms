{
 "cells": [
  {
   "cell_type": "markdown",
   "metadata": {},
   "source": [
    "Given an integers array A.\n",
    "\n",
    "Define B[i] = A[0] * ... * A[i-1] * A[i+1] * ... * A[n-1], calculate B WITHOUT divide operation.\n",
    "\n",
    "Example\n",
    "For A=[1, 2, 3], return [6, 3, 2]."
   ]
  },
  {
   "cell_type": "code",
   "execution_count": null,
   "metadata": {},
   "outputs": [],
   "source": [
    "//C++\n",
    "class Solution{\n",
    "public:\n",
    "    vector<long long>productExcludeItself(vector<int> &nums){\n",
    "        const int nums_size=nums.size();\n",
    "        vector<long long> result(nums_size,1);\n",
    "        if(nums.empty()||nums_size==1){\n",
    "            return result;\n",
    "        }\n",
    "        vector<long long> left(nums_size, 1);\n",
    "        vector<long long> right(nums_size, 1);\n",
    "        \n",
    "        for(int i=1;i!=nums_size;++i){\n",
    "            left[i]=left[i-1]*nums[i-1];\n",
    "            right[nums_size-i-1]=right[nums_size-i]*nums[nums_size-i];\n",
    "            \n",
    "        }\n",
    "        for(int i=0;i!=nums_size;i++){\n",
    "            result[i]=left[i]*right[i];\n",
    "        }\n",
    "        return result;\n",
    "    }\n",
    "}"
   ]
  },
  {
   "cell_type": "markdown",
   "metadata": {},
   "source": [
    "### 复杂度分析"
   ]
  },
  {
   "cell_type": "markdown",
   "metadata": {},
   "source": [
    "两次for循环，时间复杂度 \n",
    "O(n). 使用了左右两半部分辅助空间，空间复杂度 \n",
    "O(2n)."
   ]
  },
  {
   "cell_type": "markdown",
   "metadata": {},
   "source": [
    "## 原地求积"
   ]
  },
  {
   "cell_type": "code",
   "execution_count": null,
   "metadata": {},
   "outputs": [],
   "source": [
    "//C++\n",
    "class Solution{\n",
    "public:\n",
    "    vector<long long>productExcludeItself(vector<int>&nums){\n",
    "        const int nums_size=nums.size();\n",
    "        vector<long long> result(nums_size,1);\n",
    "        for(int i=1;i<nums_size;i++){\n",
    "            result[i]=result[i-1]*nums[i];\n",
    "        }\n",
    "        long long temp=1;\n",
    "        for(int i=nums_size-1;i>=0;i--){\n",
    "            result[i]=result[i]*temp;\n",
    "            temp=temp*nums[i];\n",
    "        }\n",
    "        return result;\n",
    "    }\n",
    "}"
   ]
  },
  {
   "cell_type": "markdown",
   "metadata": {},
   "source": [
    "### 复杂度分析"
   ]
  },
  {
   "cell_type": "markdown",
   "metadata": {},
   "source": [
    "时间复杂度同上，空间复杂度为 \n",
    "O(1).\n"
   ]
  },
  {
   "cell_type": "code",
   "execution_count": null,
   "metadata": {},
   "outputs": [],
   "source": []
  }
 ],
 "metadata": {
  "kernelspec": {
   "display_name": "Python 3",
   "language": "python",
   "name": "python3"
  },
  "language_info": {
   "codemirror_mode": {
    "name": "ipython",
    "version": 3
   },
   "file_extension": ".py",
   "mimetype": "text/x-python",
   "name": "python",
   "nbconvert_exporter": "python",
   "pygments_lexer": "ipython3",
   "version": "3.7.7"
  }
 },
 "nbformat": 4,
 "nbformat_minor": 4
}
