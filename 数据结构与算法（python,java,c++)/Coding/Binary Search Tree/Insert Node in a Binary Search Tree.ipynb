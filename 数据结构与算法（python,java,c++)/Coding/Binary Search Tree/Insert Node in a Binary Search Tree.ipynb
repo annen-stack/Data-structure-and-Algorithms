{
 "cells": [
  {
   "cell_type": "code",
   "execution_count": null,
   "metadata": {},
   "outputs": [],
   "source": [
    "//递归\n",
    "public class Solution {\n",
    "    /**\n",
    "     * @param root: The root of the binary search tree.\n",
    "     * @param node: insert this node into the binary search tree\n",
    "     * @return: The root of the new binary search tree.\n",
    "     */\n",
    "    public TreeNode insertNode(TreeNode root, TreeNode node) {\n",
    "        if (root == null) {\n",
    "            return node;\n",
    "        }\n",
    "        if (root.val > node.val) {\n",
    "            root.left = insertNode(root.left, node);\n",
    "        } else {\n",
    "            root.right = insertNode(root.right, node);\n",
    "        }\n",
    "        return root;\n",
    "    }\n",
    "}"
   ]
  },
  {
   "cell_type": "code",
   "execution_count": null,
   "metadata": {},
   "outputs": [],
   "source": [
    "//迭代\n",
    "public class Solution {\n",
    "    /**\n",
    "     * @param root: The root of the binary search tree.\n",
    "     * @param node: insert this node into the binary search tree\n",
    "     * @return: The root of the new binary search tree.\n",
    "     */\n",
    "    public TreeNode insertNode(TreeNode root, TreeNode node) {\n",
    "        // write your code here\n",
    "        if (root == null) return node;\n",
    "        if (node == null) return root;\n",
    "\n",
    "        TreeNode rootcopy = root;\n",
    "        while (root != null) {\n",
    "            if (root.val <= node.val && root.right == null) {\n",
    "                root.right = node;\n",
    "                break;\n",
    "            }\n",
    "            else if (root.val > node.val && root.left == null) {\n",
    "                root.left = node;\n",
    "                break;\n",
    "            }\n",
    "            else if(root.val <= node.val) root = root.right;\n",
    "            else root = root.left;\n",
    "        }\n",
    "        return rootcopy;\n",
    "    }\n",
    "}"
   ]
  }
 ],
 "metadata": {
  "kernelspec": {
   "display_name": "Python 3",
   "language": "python",
   "name": "python3"
  },
  "language_info": {
   "codemirror_mode": {
    "name": "ipython",
    "version": 3
   },
   "file_extension": ".py",
   "mimetype": "text/x-python",
   "name": "python",
   "nbconvert_exporter": "python",
   "pygments_lexer": "ipython3",
   "version": "3.7.7"
  }
 },
 "nbformat": 4,
 "nbformat_minor": 4
}
