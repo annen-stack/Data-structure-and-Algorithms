{
 "cells": [
  {
   "cell_type": "markdown",
   "metadata": {},
   "source": [
    "Given an array S of n integers, find three integers in S such that the sum is closest to a given number, target. \n",
    "Return the sum of the three integers. You may assume that each input would have exactly one solution.\n",
    "\n",
    "For example, given array S = {-1 2 1 -4}, and target = 1.\n",
    "The sum that is closest to the target is 2. (-1 + 2 + 1 = 2)."
   ]
  },
  {
   "cell_type": "code",
   "execution_count": null,
   "metadata": {},
   "outputs": [],
   "source": [
    "class Solution:\n",
    "    \"\"\"\n",
    "    @param numbers: Give an array numbers of n integer\n",
    "    @param target : An integer\n",
    "    @return : return the sum of the three integers, the sum closest target.\n",
    "    \"\"\"\n",
    "    def threeSumClosest(self, numbers, target):\n",
    "        result = 2**31 - 1\n",
    "        length = len(numbers)\n",
    "        if length < 3:\n",
    "            return result\n",
    "\n",
    "        numbers.sort()\n",
    "        larger_count = 0\n",
    "        for i, item_i in enumerate(numbers):\n",
    "            start = i + 1\n",
    "            end = length - 1\n",
    "            # optimization 1 - filter the smallest sum greater then target\n",
    "            if start < end:\n",
    "                sum3_smallest = numbers[start] + numbers[start + 1] + item_i\n",
    "                if sum3_smallest > target:\n",
    "                    larger_count += 1\n",
    "                    if larger_count > 1:\n",
    "                        return result\n",
    "\n",
    "            while (start < end):\n",
    "                sum3 = numbers[start] + numbers[end] + item_i\n",
    "                if abs(sum3 - target) < abs(result - target):\n",
    "                    result = sum3\n",
    "\n",
    "                # optimization 2 - filter the sum3 closest to target\n",
    "                sum_flag = 0\n",
    "                if sum3 > target:\n",
    "                    end -= 1\n",
    "                    if sum_flag == -1:\n",
    "                        break\n",
    "                    sum_flag = 1\n",
    "                elif sum3 < target:\n",
    "                    start += 1\n",
    "                    if sum_flag == 1:\n",
    "                        break\n",
    "                    sum_flag = -1\n",
    "                else:\n",
    "                    return result\n",
    "\n",
    "        return result"
   ]
  },
  {
   "cell_type": "markdown",
   "metadata": {},
   "source": [
    "### 复杂度分析"
   ]
  },
  {
   "cell_type": "markdown",
   "metadata": {},
   "source": [
    "对原数组排序，平均时间复杂度为 \n",
    "O(nlogn), 两重for循环，由于有两处优化，故最坏的时间复杂度才是 \n",
    "O(n2), 使用了result作为临时值保存最接近target的值，两处优化各使用了一个辅助变量，空间复杂度 \n",
    "O(1)."
   ]
  },
  {
   "cell_type": "code",
   "execution_count": null,
   "metadata": {},
   "outputs": [],
   "source": [
    "//C++\n",
    "class Solution {\n",
    "public:\n",
    "    int threeSumClosest(vector<int> &num, int target) \n",
    "    {\n",
    "        if (num.size() <= 3) return accumulate(num.begin(), num.end(), 0);\n",
    "        sort (num.begin(), num.end());\n",
    "\n",
    "        int result = 0, n = num.size(), temp;\n",
    "        result = num[0] + num[1] + num[2];\n",
    "        for (int i = 0; i < n - 2; ++i)\n",
    "        {\n",
    "            int j = i + 1, k = n - 1;\n",
    "            while (j < k)\n",
    "            {\n",
    "                temp = num[i] + num[j] + num[k];\n",
    "\n",
    "                if (abs(target - result) > abs(target - temp))\n",
    "                    result = temp;\n",
    "                if (result == target)\n",
    "                    return result;\n",
    "                ( temp > target ) ? --k : ++j;\n",
    "            }\n",
    "        }\n",
    "        return result;\n",
    "    }\n",
    "};"
   ]
  }
 ],
 "metadata": {
  "kernelspec": {
   "display_name": "Python 3",
   "language": "python",
   "name": "python3"
  },
  "language_info": {
   "codemirror_mode": {
    "name": "ipython",
    "version": 3
   },
   "file_extension": ".py",
   "mimetype": "text/x-python",
   "name": "python",
   "nbconvert_exporter": "python",
   "pygments_lexer": "ipython3",
   "version": "3.7.7"
  }
 },
 "nbformat": 4,
 "nbformat_minor": 4
}
