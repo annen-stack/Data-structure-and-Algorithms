{
 "cells": [
  {
   "cell_type": "markdown",
   "metadata": {},
   "source": [
    "Given \"abcdefg\".\n",
    "offset=0 => \"abcdefg\"\n",
    "offset=1 => \"gabcdef\"\n",
    "offset=2 => \"fgabcde\"\n",
    "offset=3 => \"efgabcd\""
   ]
  },
  {
   "cell_type": "code",
   "execution_count": 1,
   "metadata": {},
   "outputs": [],
   "source": [
    "class Solution:\n",
    "    \"\"\"\n",
    "    param A: A string\n",
    "    param offset: Rotate string with offset.\n",
    "    return: Rotated string.\n",
    "    \"\"\"\n",
    "    def rotateString(self, A, offset):\n",
    "        if A is None or len(A) == 0:\n",
    "            return A\n",
    "\n",
    "        offset %= len(A)\n",
    "        before = A[:len(A) - offset]\n",
    "        after = A[len(A) - offset:]\n",
    "        # [::-1] means reverse in Python\n",
    "        A = before+ after\n",
    "        return A"
   ]
  },
  {
   "cell_type": "code",
   "execution_count": null,
   "metadata": {},
   "outputs": [],
   "source": [
    "class Solution:\n",
    "    # @param A: a list of char\n",
    "    # @param offset: an integer\n",
    "    # @return: nothing\n",
    "    def rotateString(self, A, offset):\n",
    "        if A is None or len(A) == 0:\n",
    "            return\n",
    "\n",
    "        offset %= len(A)\n",
    "        self.reverse(A, 0, len(A)-offset-1)\n",
    "        self.reverse(A, len(A)-offset, len(A)-1)\n",
    "        self.reverse(A, 0, len(A)-1)\n",
    "\n",
    "    def reverse(self, str_l, start, end):\n",
    "        while start < end:\n",
    "            str_l[start], str_l[end] = str_l[end], str_l[start]\n",
    "            start += 1\n",
    "            end -= 1"
   ]
  },
  {
   "cell_type": "code",
   "execution_count": null,
   "metadata": {},
   "outputs": [],
   "source": [
    "//C++\n",
    "class Solution {\n",
    "public:\n",
    "    string rotateString(string A, int offset) {\n",
    "        if (A.empty() || A.size() == 0) {\n",
    "            return A;\n",
    "        }\n",
    "\n",
    "        int len = A.size();\n",
    "        offset %= len;\n",
    "        reverse(A, 0, len - offset - 1);\n",
    "        reverse(A, len - offset, len - 1);\n",
    "        reverse(A, 0, len - 1);\n",
    "        return A;\n",
    "    }\n",
    "\n",
    "private:\n",
    "    void reverse(string &str, int start, int end) {\n",
    "        while (start < end) {\n",
    "            char temp = str[start];\n",
    "            str[start] = str[end];\n",
    "            str[end] = temp;\n",
    "            start++;\n",
    "            end--;\n",
    "        }\n",
    "    }\n",
    "};"
   ]
  },
  {
   "cell_type": "code",
   "execution_count": null,
   "metadata": {},
   "outputs": [],
   "source": [
    "//JAVA\n",
    "public class Solution {\n",
    "    /*\n",
    "     * param A: A string\n",
    "     * param offset: Rotate string with offset.\n",
    "     * return: Rotated string.\n",
    "     */\n",
    "    public char[] rotateString(char[] A, int offset) {\n",
    "        if (A == null || A.length == 0) {\n",
    "            return A;\n",
    "        }\n",
    "\n",
    "        int len = A.length;\n",
    "        offset %= len;\n",
    "        reverse(A, 0, len - offset - 1);\n",
    "        reverse(A, len - offset, len - 1);\n",
    "        reverse(A, 0, len - 1);\n",
    "\n",
    "        return A;\n",
    "    }\n",
    "\n",
    "    private void reverse(char[] str, int start, int end) {\n",
    "        while (start < end) {\n",
    "            char temp = str[start];\n",
    "            str[start] = str[end];\n",
    "            str[end] = temp;\n",
    "            start++;\n",
    "            end--;\n",
    "        }\n",
    "    }\n",
    "};"
   ]
  },
  {
   "cell_type": "markdown",
   "metadata": {},
   "source": [
    "### 复杂度分析"
   ]
  },
  {
   "cell_type": "markdown",
   "metadata": {},
   "source": [
    "翻转一次时间复杂度近似为 \n",
    "O(n), 原地交换的空间复杂度为 \n",
    "O(1), 非原地交换的空间复杂度为 \n",
    "O(n). 总共翻转3次，所以总的时间复杂度为 \n",
    "O(n), 空间复杂度为 \n",
    "O(1) 或者 \n",
    "O(n)."
   ]
  },
  {
   "cell_type": "code",
   "execution_count": null,
   "metadata": {},
   "outputs": [],
   "source": []
  }
 ],
 "metadata": {
  "kernelspec": {
   "display_name": "Python 3",
   "language": "python",
   "name": "python3"
  },
  "language_info": {
   "codemirror_mode": {
    "name": "ipython",
    "version": 3
   },
   "file_extension": ".py",
   "mimetype": "text/x-python",
   "name": "python",
   "nbconvert_exporter": "python",
   "pygments_lexer": "ipython3",
   "version": "3.7.7"
  }
 },
 "nbformat": 4,
 "nbformat_minor": 4
}
