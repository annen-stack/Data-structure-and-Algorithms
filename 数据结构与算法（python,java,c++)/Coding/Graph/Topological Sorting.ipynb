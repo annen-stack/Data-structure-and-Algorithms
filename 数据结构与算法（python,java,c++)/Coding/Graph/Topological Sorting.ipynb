{
 "cells": [
  {
   "cell_type": "code",
   "execution_count": null,
   "metadata": {},
   "outputs": [],
   "source": [
    "public class Solution {\n",
    "    /*\n",
    "     * @param graph: A list of Directed graph node\n",
    "     * @return: Any topological order for the given graph.\n",
    "     */\n",
    "    public ArrayList<DirectedGraphNode> topSort(ArrayList<DirectedGraphNode> graph) {\n",
    "        ArrayList<DirectedGraphNode> result = new ArrayList<DirectedGraphNode>();\n",
    "\n",
    "        if (graph == null || graph.size() == 0) return result;\n",
    "\n",
    "        Queue<DirectedGraphNode> queue = new LinkedList<>();\n",
    "        Map<DirectedGraphNode, Integer> map = getIndegreeMap(graph);\n",
    "        for (Map.Entry<DirectedGraphNode, Integer> entry : map.entrySet()) {\n",
    "            if (entry.getValue() == 0) {\n",
    "                queue.offer(entry.getKey());\n",
    "            }\n",
    "        }\n",
    "\n",
    "        bfs(queue, map, result);\n",
    "\n",
    "        return result;\n",
    "    }\n",
    "\n",
    "    private Map<DirectedGraphNode, Integer> getIndegreeMap(ArrayList<DirectedGraphNode> graph) {\n",
    "        Map<DirectedGraphNode, Integer> map = new HashMap<>();\n",
    "\n",
    "        for (DirectedGraphNode node : graph) {\n",
    "            map.putIfAbsent(node, 0);\n",
    "            for (DirectedGraphNode neighbor : node.neighbors) {\n",
    "                map.put(neighbor, map.getOrDefault(neighbor, 0) + 1);\n",
    "            }\n",
    "        }\n",
    "\n",
    "        return map;\n",
    "    }\n",
    "\n",
    "    private void bfs(Queue<DirectedGraphNode> queue, Map<DirectedGraphNode, Integer> map, ArrayList<DirectedGraphNode> result) {\n",
    "\n",
    "        while (!queue.isEmpty()) {\n",
    "            DirectedGraphNode node = queue.poll();\n",
    "            result.add(node);\n",
    "            for (DirectedGraphNode neighbor : node.neighbors) {\n",
    "                map.put(neighbor, map.get(neighbor) - 1);\n",
    "                if (map.get(neighbor) == 0) {\n",
    "                    queue.offer(neighbor);\n",
    "                }\n",
    "            }\n",
    "        }\n",
    "    }\n",
    "}"
   ]
  }
 ],
 "metadata": {
  "kernelspec": {
   "display_name": "Python 3",
   "language": "python",
   "name": "python3"
  },
  "language_info": {
   "codemirror_mode": {
    "name": "ipython",
    "version": 3
   },
   "file_extension": ".py",
   "mimetype": "text/x-python",
   "name": "python",
   "nbconvert_exporter": "python",
   "pygments_lexer": "ipython3",
   "version": "3.7.7"
  }
 },
 "nbformat": 4,
 "nbformat_minor": 4
}
