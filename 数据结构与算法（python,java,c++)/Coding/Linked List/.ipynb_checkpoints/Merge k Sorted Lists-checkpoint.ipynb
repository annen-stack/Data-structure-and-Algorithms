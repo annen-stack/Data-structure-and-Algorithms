{
 "cells": [
  {
   "cell_type": "markdown",
   "metadata": {},
   "source": [
    "## 题解1 选择归并"
   ]
  },
  {
   "cell_type": "code",
   "execution_count": null,
   "metadata": {},
   "outputs": [],
   "source": [
    "class Solution {\n",
    "public:\n",
    "    /**\n",
    "     * @param lists: a list of ListNode\n",
    "     * @return: The head of one sorted list.\n",
    "     */\n",
    "    ListNode *mergeKLists(vector<ListNode *> &lists) {\n",
    "        if (lists.empty()) {\n",
    "            return NULL;\n",
    "        }\n",
    "\n",
    "        ListNode *dummy = new ListNode(INT_MAX);\n",
    "        ListNode *last = dummy;\n",
    "\n",
    "        while (true) {\n",
    "            int count = 0;\n",
    "            int index = -1, tempVal = INT_MAX;\n",
    "            for (int i = 0; i != lists.size(); ++i) {\n",
    "                if (NULL == lists[i]) {\n",
    "                    ++count;\n",
    "                    if (count == lists.size()) {\n",
    "                        last->next = NULL;\n",
    "                        return dummy->next;\n",
    "                    }\n",
    "                    continue;\n",
    "                }\n",
    "\n",
    "                // choose the min value in non-NULL ListNode\n",
    "                if (NULL != lists[i] && lists[i]->val <= tempVal) {\n",
    "                    tempVal = lists[i]->val;\n",
    "                    index = i;\n",
    "                }\n",
    "            }\n",
    "\n",
    "            last->next = lists[index];\n",
    "            last = last->next;\n",
    "            lists[index] = lists[index]->next;\n",
    "        }\n",
    "    }\n",
    "};"
   ]
  }
 ],
 "metadata": {
  "kernelspec": {
   "display_name": "Python 3",
   "language": "python",
   "name": "python3"
  },
  "language_info": {
   "codemirror_mode": {
    "name": "ipython",
    "version": 3
   },
   "file_extension": ".py",
   "mimetype": "text/x-python",
   "name": "python",
   "nbconvert_exporter": "python",
   "pygments_lexer": "ipython3",
   "version": "3.7.7"
  }
 },
 "nbformat": 4,
 "nbformat_minor": 4
}
