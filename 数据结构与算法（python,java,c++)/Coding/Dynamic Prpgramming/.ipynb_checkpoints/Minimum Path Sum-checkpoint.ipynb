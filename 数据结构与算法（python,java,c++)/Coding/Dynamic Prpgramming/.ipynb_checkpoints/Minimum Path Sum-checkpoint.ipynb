{
 "cells": [
  {
   "cell_type": "code",
   "execution_count": null,
   "metadata": {},
   "outputs": [],
   "source": [
    "class Solution {\n",
    "public:\n",
    "    /**\n",
    "     * @param grid: a list of lists of integers.\n",
    "     * @return: An integer, minimizes the sum of all numbers along its path\n",
    "     */\n",
    "    int minPathSum(vector<vector<int> > &grid) {\n",
    "        if (grid.empty() || grid[0].empty()) {\n",
    "            return 0;\n",
    "        }\n",
    "\n",
    "        const int M = grid.size();\n",
    "        const int N = grid[0].size();\n",
    "        vector<vector<int> > ret(M, vector<int> (N, 0));\n",
    "\n",
    "        ret[0][0] = grid[0][0];\n",
    "        for (int i = 1; i != M; ++i) {\n",
    "            ret[i][0] = grid[i][0] + ret[i - 1][0];\n",
    "        }\n",
    "        for (int i = 1; i != N; ++i) {\n",
    "            ret[0][i] = grid[0][i] + ret[0][i - 1];\n",
    "        }\n",
    "\n",
    "        for (int i = 1; i != M; ++i) {\n",
    "            for (int j = 1; j != N; ++j) {\n",
    "                ret[i][j] = grid[i][j] + min(ret[i - 1][j], ret[i][j - 1]);\n",
    "            }\n",
    "        }\n",
    "\n",
    "        return ret[M - 1][N - 1];\n",
    "    }\n",
    "};"
   ]
  }
 ],
 "metadata": {
  "kernelspec": {
   "display_name": "Python 3",
   "language": "python",
   "name": "python3"
  },
  "language_info": {
   "codemirror_mode": {
    "name": "ipython",
    "version": 3
   },
   "file_extension": ".py",
   "mimetype": "text/x-python",
   "name": "python",
   "nbconvert_exporter": "python",
   "pygments_lexer": "ipython3",
   "version": "3.7.7"
  }
 },
 "nbformat": 4,
 "nbformat_minor": 4
}
