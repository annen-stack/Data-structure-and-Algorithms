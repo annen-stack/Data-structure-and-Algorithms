{
 "cells": [
  {
   "cell_type": "markdown",
   "metadata": {},
   "source": [
    "Your solution should be in logarithmic complexity.由时间复杂度的暗示可知应使用二分搜索。"
   ]
  },
  {
   "cell_type": "code",
   "execution_count": 1,
   "metadata": {},
   "outputs": [],
   "source": [
    "class Solution:\n",
    "    #@param A: An integers list.\n",
    "    #@return: return any of peek positions.\n",
    "    def findPeak(self, A):\n",
    "        if not A:\n",
    "            return -1\n",
    "\n",
    "        l, r = 0, len(A) - 1\n",
    "        while l + 1 < r:\n",
    "            mid = l + (r - l) / 2\n",
    "            if A[mid] < A[mid - 1]:\n",
    "                r = mid\n",
    "            elif A[mid] < A[mid + 1]:\n",
    "                l = mid\n",
    "            else:\n",
    "                return mid\n",
    "        mid = l if A[l] > A[r] else r\n",
    "        return mid"
   ]
  },
  {
   "cell_type": "code",
   "execution_count": null,
   "metadata": {},
   "outputs": [],
   "source": [
    "//C++\n",
    "class Solution {\n",
    "public:\n",
    "    /**\n",
    "     * @param A: An integers array.\n",
    "     * @return: return any of peek positions.\n",
    "     */\n",
    "    int findPeak(vector<int> A) {\n",
    "        if (A.size() == 0) return -1;\n",
    "\n",
    "        int l = 0, r = A.size() - 1;\n",
    "        while (l + 1 < r) {\n",
    "            int mid = l + (r - l) / 2;\n",
    "            if (A[mid] < A[mid - 1]) {\n",
    "                r = mid;\n",
    "            } else if (A[mid] < A[mid + 1]) {\n",
    "                l = mid;\n",
    "            } else {\n",
    "                return mid;\n",
    "            }\n",
    "        }\n",
    "\n",
    "        int mid = A[l] > A[r] ? l : r;\n",
    "        return mid;\n",
    "    }\n",
    "};"
   ]
  },
  {
   "cell_type": "code",
   "execution_count": null,
   "metadata": {},
   "outputs": [],
   "source": [
    "//JAVA\n",
    "class Solution {\n",
    "    /**\n",
    "     * @param A: An integers array.\n",
    "     * @return: return any of peek positions.\n",
    "     */\n",
    "    public int findPeak(int[] A) {\n",
    "        if (A == null || A.length == 0) return -1;\n",
    "\n",
    "        int lb = 0, ub = A.length - 1;\n",
    "        while (lb + 1 < ub) {\n",
    "            int mid = lb + (ub - lb) / 2;\n",
    "            if (A[mid] < A[mid + 1]) {\n",
    "                lb = mid;\n",
    "            } else if (A[mid] < A[mid - 1]){\n",
    "                ub = mid;\n",
    "            } else {\n",
    "                // find a peak\n",
    "                return mid;\n",
    "            }\n",
    "        }\n",
    "\n",
    "        // return a larger number\n",
    "        return A[lb] > A[ub] ? lb : ub;\n",
    "    }\n",
    "}"
   ]
  },
  {
   "cell_type": "markdown",
   "metadata": {},
   "source": [
    "## 复杂度分析\n"
   ]
  },
  {
   "cell_type": "markdown",
   "metadata": {},
   "source": [
    "二分法，时间复杂度 \n",
    "O(logn)."
   ]
  },
  {
   "cell_type": "code",
   "execution_count": null,
   "metadata": {},
   "outputs": [],
   "source": []
  }
 ],
 "metadata": {
  "kernelspec": {
   "display_name": "Python 3",
   "language": "python",
   "name": "python3"
  },
  "language_info": {
   "codemirror_mode": {
    "name": "ipython",
    "version": 3
   },
   "file_extension": ".py",
   "mimetype": "text/x-python",
   "name": "python",
   "nbconvert_exporter": "python",
   "pygments_lexer": "ipython3",
   "version": "3.7.7"
  }
 },
 "nbformat": 4,
 "nbformat_minor": 4
}
