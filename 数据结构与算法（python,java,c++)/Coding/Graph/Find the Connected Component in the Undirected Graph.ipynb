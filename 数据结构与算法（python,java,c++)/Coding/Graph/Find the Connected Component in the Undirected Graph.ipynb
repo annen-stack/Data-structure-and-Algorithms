{
 "cells": [
  {
   "cell_type": "code",
   "execution_count": null,
   "metadata": {},
   "outputs": [],
   "source": [
    "public class Solution {\n",
    "    /**\n",
    "     * @param nodes a array of Undirected graph node\n",
    "     * @return a connected set of a Undirected graph\n",
    "     */\n",
    "    public List<List<Integer>> connectedSet(ArrayList<UndirectedGraphNode> nodes) {\n",
    "        if (nodes == null || nodes.size() == 0) return null;\n",
    "\n",
    "        List<List<Integer>> result = new ArrayList<List<Integer>>();\n",
    "        Set<UndirectedGraphNode> visited = new HashSet<UndirectedGraphNode>();\n",
    "        for (UndirectedGraphNode node : nodes) {\n",
    "            if (visited.contains(node)) continue;\n",
    "            List<Integer> temp = new ArrayList<Integer>();\n",
    "            dfs(node, visited, temp);\n",
    "            Collections.sort(temp);\n",
    "            result.add(temp);\n",
    "        }\n",
    "\n",
    "        return result;\n",
    "    }\n",
    "\n",
    "    private void dfs(UndirectedGraphNode node,\n",
    "                     Set<UndirectedGraphNode> visited,\n",
    "                     List<Integer> result) {\n",
    "\n",
    "        // add node into result\n",
    "        result.add(node.label);\n",
    "        visited.add(node);\n",
    "        // node is not connected, exclude by for iteration\n",
    "        // if (node.neighbors.size() == 0 ) return;\n",
    "        for (UndirectedGraphNode neighbor : node.neighbors) {\n",
    "            if (visited.contains(neighbor)) continue;\n",
    "            dfs(neighbor, visited, result);\n",
    "        }\n",
    "    }\n",
    "}"
   ]
  },
  {
   "cell_type": "code",
   "execution_count": null,
   "metadata": {},
   "outputs": [],
   "source": []
  }
 ],
 "metadata": {
  "kernelspec": {
   "display_name": "Python 3",
   "language": "python",
   "name": "python3"
  },
  "language_info": {
   "codemirror_mode": {
    "name": "ipython",
    "version": 3
   },
   "file_extension": ".py",
   "mimetype": "text/x-python",
   "name": "python",
   "nbconvert_exporter": "python",
   "pygments_lexer": "ipython3",
   "version": "3.7.7"
  }
 },
 "nbformat": 4,
 "nbformat_minor": 4
}
