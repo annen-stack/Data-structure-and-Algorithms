{
 "cells": [
  {
   "cell_type": "code",
   "execution_count": null,
   "metadata": {},
   "outputs": [],
   "source": [
    "public class Solution {\n",
    "    /**\n",
    "     * @param n the integer to be reversed\n",
    "     * @return the reversed integer\n",
    "     */\n",
    "    public int reverseInteger(int n) {\n",
    "        long result = 0;\n",
    "        while (n != 0) {\n",
    "            result = n % 10 + 10 * result;\n",
    "            n /= 10;\n",
    "        }\n",
    "\n",
    "        if (result < Integer.MIN_VALUE || result > Integer.MAX_VALUE) {\n",
    "            return 0;\n",
    "        }\n",
    "        return (int)result;\n",
    "    }\n",
    "}"
   ]
  }
 ],
 "metadata": {
  "kernelspec": {
   "display_name": "Python 3",
   "language": "python",
   "name": "python3"
  },
  "language_info": {
   "codemirror_mode": {
    "name": "ipython",
    "version": 3
   },
   "file_extension": ".py",
   "mimetype": "text/x-python",
   "name": "python",
   "nbconvert_exporter": "python",
   "pygments_lexer": "ipython3",
   "version": "3.7.7"
  }
 },
 "nbformat": 4,
 "nbformat_minor": 4
}
