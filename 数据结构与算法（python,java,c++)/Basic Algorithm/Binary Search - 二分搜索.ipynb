{
 "cells": [
  {
   "cell_type": "markdown",
   "metadata": {},
   "source": [
    "二分搜索是一种在有序数组中寻找目标值的经典方法，也就是说使用前提是**有序数组**。非常简单的题中『有序』特征非常明显，但更多时候可能需要我们自己**去构造有序数组**。下面我们从最基本的二分搜索开始逐步深入。"
   ]
  },
  {
   "cell_type": "markdown",
   "metadata": {},
   "source": [
    "### 模板一 lower/upper bound"
   ]
  },
  {
   "cell_type": "code",
   "execution_count": null,
   "metadata": {},
   "outputs": [],
   "source": [
    "import java.util.*;\n",
    "\n",
    "public class Main {\n",
    "    public static void main(String[] args) {\n",
    "        int[] nums = new int[]{1,2,2,3,4,6,6,6,13,18};\n",
    "        System.out.println(lowerBound(nums, 6)); // 5\n",
    "        System.out.println(upperBound(nums, 6)); // 7\n",
    "        System.out.println(lowerBound(nums, 7)); // 8\n",
    "        System.out.println(upperBound(nums, 7)); // 7\n",
    "    }\n",
    "\n",
    "    /*\n",
    "    * nums[index] >= target, min(index)\n",
    "    */\n",
    "    public static int lowerBound(int[] nums, int target) {\n",
    "        if (nums == null || nums.length == 0) return -1;\n",
    "        int lb = -1, ub = nums.length;\n",
    "        while (lb + 1 < ub) {\n",
    "            int mid = lb + (ub - lb) / 2;\n",
    "            if (nums[mid] < target) {\n",
    "                lb = mid;\n",
    "            } else {\n",
    "                ub = mid;\n",
    "            }\n",
    "        }\n",
    "\n",
    "        return lb + 1;\n",
    "    }\n",
    "\n",
    "    /*\n",
    "    * nums[index] <= target, max(index)\n",
    "    */\n",
    "    public static int upperBound(int[] nums, int target) {\n",
    "        if (nums == null || nums.length == 0) return -1;\n",
    "        int lb = -1, ub = nums.length;\n",
    "        while (lb + 1 < ub) {\n",
    "            int mid = lb + (ub - lb) / 2;\n",
    "            if (nums[mid] > target) {\n",
    "                ub = mid;\n",
    "            } else {\n",
    "                lb = mid;\n",
    "            }\n",
    "        }\n",
    "\n",
    "        return ub - 1;\n",
    "    }\n",
    "}"
   ]
  },
  {
   "cell_type": "markdown",
   "metadata": {},
   "source": [
    "### 模板二 - 最优解"
   ]
  },
  {
   "cell_type": "markdown",
   "metadata": {},
   "source": [
    "除了在有序数组中寻找目标值这种非常直接的二分搜索外，我们还可以利用二分搜索求最优解（最大值/最小值），通常这种题中只是隐含了『有序数组』，需要我们自己构造。"
   ]
  },
  {
   "cell_type": "code",
   "execution_count": null,
   "metadata": {},
   "outputs": [],
   "source": [
    "import java.io.*;\n",
    "import java.util.*;\n",
    "\n",
    "public class Main {\n",
    "    public static void main(String[] args) {\n",
    "        Scanner in = new Scanner(System.in);\n",
    "        int n = in.nextInt();\n",
    "        int k = in.nextInt();\n",
    "        double[] nums = new double[n];\n",
    "        for (int i = 0; i < n; i++) {\n",
    "            nums[i] = in.nextDouble();\n",
    "        }\n",
    "        System.out.printf(\"%.2f\\n\", Math.floor(solve(nums, k) * 100) / 100);\n",
    "    }\n",
    "\n",
    "    public static double solve(double[] nums, int K) {\n",
    "        double lb = 0.00, ub = 10e5 + 0.01;\n",
    "        // while (lb + 0.001 < ub) {\n",
    "    for (int i = 0; i < 100; i++) {\n",
    "            double mid = lb + (ub - lb) / 2;\n",
    "            if (C(nums, mid, K)) {\n",
    "                lb = mid;\n",
    "            } else {\n",
    "                ub = mid;\n",
    "            }\n",
    "        }\n",
    "        return lb;\n",
    "    }\n",
    "\n",
    "    public static boolean C(double[] nums, double seg, int k) {\n",
    "        int count = 0;\n",
    "        for (double num : nums) {\n",
    "            count += Math.floor(num / seg);\n",
    "        }\n",
    "        return count >= k;\n",
    "    }\n",
    "}"
   ]
  },
  {
   "cell_type": "markdown",
   "metadata": {},
   "source": [
    "### 模板三 - 二分搜索的while结束条件判定"
   ]
  },
  {
   "cell_type": "code",
   "execution_count": null,
   "metadata": {},
   "outputs": [],
   "source": []
  }
 ],
 "metadata": {
  "kernelspec": {
   "display_name": "Python 3",
   "language": "python",
   "name": "python3"
  },
  "language_info": {
   "codemirror_mode": {
    "name": "ipython",
    "version": 3
   },
   "file_extension": ".py",
   "mimetype": "text/x-python",
   "name": "python",
   "nbconvert_exporter": "python",
   "pygments_lexer": "ipython3",
   "version": "3.7.7"
  }
 },
 "nbformat": 4,
 "nbformat_minor": 4
}
