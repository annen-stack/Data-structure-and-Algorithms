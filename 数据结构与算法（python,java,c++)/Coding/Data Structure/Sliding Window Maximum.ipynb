{
 "cells": [
  {
   "cell_type": "code",
   "execution_count": null,
   "metadata": {},
   "outputs": [],
   "source": [
    "public class Solution {\n",
    "    /**\n",
    "     * @param nums: A list of integers.\n",
    "     * @return: The maximum number inside the window at each moving.\n",
    "     */\n",
    "    public ArrayList<Integer> maxSlidingWindow(int[] nums, int k) {\n",
    "        ArrayList<Integer> winMax = new ArrayList<Integer>();\n",
    "        if (nums == null || nums.length == 0 || k <= 0) return winMax;\n",
    "\n",
    "        int len = nums.length;\n",
    "        Deque<Integer> deque = new ArrayDeque<Integer>();\n",
    "        for (int i = 0; i < len; i++) {\n",
    "            // remove the smaller in the rear of queue\n",
    "            while ((!deque.isEmpty()) && (nums[i] > deque.peekLast())) {\n",
    "                deque.pollLast();\n",
    "            }\n",
    "            // push element in the rear of queue\n",
    "            deque.offer(nums[i]);\n",
    "            // remove invalid max\n",
    "            if (i + 1 > k && deque.peekFirst() == nums[i - k]) {\n",
    "                deque.pollFirst();\n",
    "            }\n",
    "            // add max in current window\n",
    "            if (i + 1 >= k) {\n",
    "                winMax.add(deque.peekFirst());\n",
    "            }\n",
    "        }\n",
    "\n",
    "        return winMax;\n",
    "    }\n",
    "}"
   ]
  }
 ],
 "metadata": {
  "kernelspec": {
   "display_name": "Python 3",
   "language": "python",
   "name": "python3"
  },
  "language_info": {
   "codemirror_mode": {
    "name": "ipython",
    "version": 3
   },
   "file_extension": ".py",
   "mimetype": "text/x-python",
   "name": "python",
   "nbconvert_exporter": "python",
   "pygments_lexer": "ipython3",
   "version": "3.7.7"
  }
 },
 "nbformat": 4,
 "nbformat_minor": 4
}
