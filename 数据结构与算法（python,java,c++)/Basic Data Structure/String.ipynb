{
 "cells": [
  {
   "cell_type": "markdown",
   "metadata": {},
   "source": [
    "## python\n"
   ]
  },
  {
   "cell_type": "code",
   "execution_count": 13,
   "metadata": {},
   "outputs": [
    {
     "name": "stdout",
     "output_type": "stream",
     "text": [
      "5\n",
      "5\n",
      "5\n"
     ]
    }
   ],
   "source": [
    "s1 = str()\n",
    "# in python `''` or `\"\"` is the same\n",
    "#字符串\n",
    "s2 = \"shaunwei\" # 'shaunwei'\n",
    "s2len = len(s2)\n",
    "# last 3 chars\n",
    "s2[-3:] # wei\n",
    "s2[5:8] # wei\n",
    "s3 = s2[:5] # shaun\n",
    "s3 += 'wei' # return 'shaunwei'\n",
    "print(s3.index('w') )# 5\n",
    "print(s3.find('w') )# 5\n",
    "s=list(s3)\n",
    "print(s.index('w') )# 5\n"
   ]
  },
  {
   "cell_type": "markdown",
   "metadata": {},
   "source": [
    "## Java"
   ]
  },
  {
   "cell_type": "code",
   "execution_count": null,
   "metadata": {},
   "outputs": [],
   "source": [
    "String s1=new String();\n",
    "String s2=\"billryan\";\n",
    "int s2len=s2.length();\n",
    "\n",
    "s2.substring(4,8);#取4-8 ryan\n",
    "#重构string\n",
    "StringBuilder s3=new StringBuilder(s2.substring(4,8));\n",
    "s3.append(\"bill\");\n",
    "String s2New=s3.toString();//return \"ryanbill\"\n",
    "\n",
    "char[] s2Char=s2.toCharArray();//'billryan'\n",
    "char ch=s2.charAt(4); //'r'\n",
    "\n",
    "int index=s2.indexOf('r');"
   ]
  }
 ],
 "metadata": {
  "kernelspec": {
   "display_name": "Python 3",
   "language": "python",
   "name": "python3"
  },
  "language_info": {
   "codemirror_mode": {
    "name": "ipython",
    "version": 3
   },
   "file_extension": ".py",
   "mimetype": "text/x-python",
   "name": "python",
   "nbconvert_exporter": "python",
   "pygments_lexer": "ipython3",
   "version": "3.7.7"
  }
 },
 "nbformat": 4,
 "nbformat_minor": 4
}
