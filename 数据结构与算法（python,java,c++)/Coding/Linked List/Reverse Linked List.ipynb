{
 "cells": [
  {
   "cell_type": "code",
   "execution_count": 1,
   "metadata": {},
   "outputs": [],
   "source": [
    "class Solution:\n",
    "    # @param {ListNode} head\n",
    "    # @return {ListNode}\n",
    "    def reverseList(self, head):\n",
    "        prev = None\n",
    "        curr = head\n",
    "        while curr is not None:\n",
    "            temp = curr.next\n",
    "            curr.next = prev\n",
    "            prev = curr\n",
    "            curr = temp\n",
    "        # fix head\n",
    "        head = prev\n",
    "\n",
    "        return head"
   ]
  },
  {
   "cell_type": "code",
   "execution_count": null,
   "metadata": {},
   "outputs": [],
   "source": [
    "class Solution {\n",
    "public:\n",
    "    ListNode* reverse(ListNode* head) {\n",
    "        ListNode *prev = NULL;\n",
    "        ListNode *curr = head;\n",
    "        while (curr != NULL) {\n",
    "            ListNode *temp = curr->next;\n",
    "            curr->next = prev;\n",
    "            prev = curr;\n",
    "            curr = temp;\n",
    "        }\n",
    "        // fix head\n",
    "        head = prev;\n",
    "\n",
    "        return head;\n",
    "    }\n",
    "};"
   ]
  },
  {
   "cell_type": "code",
   "execution_count": null,
   "metadata": {},
   "outputs": [],
   "source": [
    "public class Solution {\n",
    "    public ListNode reverseList(ListNode head) {\n",
    "        ListNode prev = null;\n",
    "        ListNode curr = head;\n",
    "        while (curr != null) {\n",
    "            ListNode temp = curr.next;\n",
    "            curr.next = prev;\n",
    "            prev = curr;\n",
    "            curr = temp;\n",
    "        }\n",
    "        // fix head\n",
    "        head = prev;\n",
    "\n",
    "        return head;\n",
    "    }\n",
    "}"
   ]
  },
  {
   "cell_type": "markdown",
   "metadata": {},
   "source": [
    "遍历一次链表，时间复杂度为 \n",
    "O(n), 使用了辅助变量，空间复杂度 \n",
    "O(1)."
   ]
  },
  {
   "cell_type": "code",
   "execution_count": null,
   "metadata": {},
   "outputs": [],
   "source": []
  }
 ],
 "metadata": {
  "kernelspec": {
   "display_name": "Python 3",
   "language": "python",
   "name": "python3"
  },
  "language_info": {
   "codemirror_mode": {
    "name": "ipython",
    "version": 3
   },
   "file_extension": ".py",
   "mimetype": "text/x-python",
   "name": "python",
   "nbconvert_exporter": "python",
   "pygments_lexer": "ipython3",
   "version": "3.7.7"
  }
 },
 "nbformat": 4,
 "nbformat_minor": 4
}
