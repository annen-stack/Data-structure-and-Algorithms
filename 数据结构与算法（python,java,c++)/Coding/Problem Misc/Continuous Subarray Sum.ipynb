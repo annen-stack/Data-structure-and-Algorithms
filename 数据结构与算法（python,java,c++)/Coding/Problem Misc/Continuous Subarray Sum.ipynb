{
 "cells": [
  {
   "cell_type": "code",
   "execution_count": null,
   "metadata": {},
   "outputs": [],
   "source": [
    "public class Solution {\n",
    "    /**\n",
    "     * @param A an integer array\n",
    "     * @return  A list of integers includes the index of the first number and the index of the last number\n",
    "     */\n",
    "    public ArrayList<Integer> continuousSubarraySum(int[] A) {\n",
    "        ArrayList<Integer> result = new ArrayList<Integer>();\n",
    "        if (A == null || A.length == 0) return result;\n",
    "\n",
    "        int sum = 0, minSum = 0, maxSub = Integer.MIN_VALUE;\n",
    "        int first = 0, last = 0;\n",
    "        int first2 = 0; // candidate for first\n",
    "        for (int i = 0; i < A.length; i++) {\n",
    "            if (minSum > sum) {\n",
    "                minSum = sum;\n",
    "                first2 = i;\n",
    "            }\n",
    "            sum += A[i];\n",
    "            if (sum - minSum > maxSub) {\n",
    "                maxSub = sum - minSum;\n",
    "                last = i;\n",
    "                // update first if valid\n",
    "                if (first2 <= last) first = first2;\n",
    "            }\n",
    "        }\n",
    "\n",
    "        result.add(first);\n",
    "        result.add(last);\n",
    "        return result;\n",
    "    }\n",
    "}"
   ]
  }
 ],
 "metadata": {
  "kernelspec": {
   "display_name": "Python 3",
   "language": "python",
   "name": "python3"
  },
  "language_info": {
   "codemirror_mode": {
    "name": "ipython",
    "version": 3
   },
   "file_extension": ".py",
   "mimetype": "text/x-python",
   "name": "python",
   "nbconvert_exporter": "python",
   "pygments_lexer": "ipython3",
   "version": "3.7.7"
  }
 },
 "nbformat": 4,
 "nbformat_minor": 4
}
