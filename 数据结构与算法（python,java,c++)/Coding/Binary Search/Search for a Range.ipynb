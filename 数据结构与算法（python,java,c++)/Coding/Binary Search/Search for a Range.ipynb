{
 "cells": [
  {
   "cell_type": "markdown",
   "metadata": {},
   "source": [
    "Given [5, 7, 7, 8, 8, 10] and target value 8, return [3, 4]."
   ]
  },
  {
   "cell_type": "code",
   "execution_count": null,
   "metadata": {},
   "outputs": [],
   "source": [
    "class Solution:\n",
    "    \"\"\"\n",
    "    @param A : a list of integers\n",
    "    @param target : an integer to be searched\n",
    "    @return : a list of length 2, [index1, index2]\n",
    "    \"\"\"\n",
    "    def searchRange(self, A, target):\n",
    "        ret = [-1, -1]\n",
    "        if not A:\n",
    "            return ret\n",
    "\n",
    "        # find the first position of target\n",
    "        st, ed = 0, len(A) - 1\n",
    "        while st + 1 < ed:\n",
    "            mid = (st + ed) / 2\n",
    "            if A[mid] == target:\n",
    "                ed = mid\n",
    "            elif A[mid] < target:\n",
    "                st = mid\n",
    "            else:\n",
    "                ed = mid\n",
    "        if A[st] == target:\n",
    "            ret[0] = st\n",
    "        elif A[ed] == target:\n",
    "            ret[0] = ed\n",
    "        # find the last position of target\n",
    "        st, ed = 0, len(A) - 1\n",
    "        while st + 1 < ed:\n",
    "            mid = (st + ed) / 2\n",
    "            if A[mid] == target:\n",
    "                st = mid\n",
    "            elif A[mid] < target:\n",
    "                st = mid\n",
    "            else:\n",
    "                ed = mid\n",
    "        if A[ed] == target:\n",
    "            ret[1] = ed\n",
    "        elif A[st] == target:\n",
    "            ret[1] = st\n",
    "\n",
    "        return ret"
   ]
  },
  {
   "cell_type": "code",
   "execution_count": null,
   "metadata": {},
   "outputs": [],
   "source": [
    "//JAVA\n",
    "public class Solution {\n",
    "    /**\n",
    "     *@param A : an integer sorted array\n",
    "     *@param target :  an integer to be inserted\n",
    "     *return : a list of length 2, [index1, index2]\n",
    "     */\n",
    "    public int[] searchRange(int[] A, int target) {\n",
    "        int[] result = new int[]{-1, -1};\n",
    "        if (A == null || A.length == 0) return result;\n",
    "\n",
    "        int lb = -1, ub = A.length;\n",
    "        // lower bound\n",
    "        while (lb + 1 < ub) {\n",
    "            int mid = lb + (ub - lb) / 2;\n",
    "            if (A[mid] < target) {\n",
    "                lb = mid;\n",
    "            } else {\n",
    "                ub = mid;\n",
    "            }\n",
    "        }\n",
    "        // whether A[lb + 1] == target, check lb + 1 first\n",
    "        if ((lb + 1 < A.length) && (A[lb + 1] == target)) {\n",
    "            result[0] = lb + 1;\n",
    "        } else {\n",
    "            result[0] = -1;\n",
    "            result[1] = -1;\n",
    "            // target is not in the array\n",
    "            return result;\n",
    "        }\n",
    "\n",
    "        // upper bound, since ub >= lb, we do not reset lb\n",
    "        ub = A.length;\n",
    "        while (lb + 1 < ub) {\n",
    "            int mid = lb + (ub - lb) / 2;\n",
    "            if (A[mid] > target) {\n",
    "                ub = mid;\n",
    "            } else {\n",
    "                lb = mid;\n",
    "            }\n",
    "        }\n",
    "        // target must exist in the array\n",
    "        result[1] = ub - 1;\n",
    "\n",
    "        return result;\n",
    "    }\n",
    "}"
   ]
  },
  {
   "cell_type": "markdown",
   "metadata": {},
   "source": [
    "### 复杂度分析"
   ]
  },
  {
   "cell_type": "markdown",
   "metadata": {},
   "source": [
    "两次二分搜索，时间复杂度仍为 \n",
    "O(logn)."
   ]
  },
  {
   "cell_type": "code",
   "execution_count": null,
   "metadata": {},
   "outputs": [],
   "source": []
  }
 ],
 "metadata": {
  "kernelspec": {
   "display_name": "Python 3",
   "language": "python",
   "name": "python3"
  },
  "language_info": {
   "codemirror_mode": {
    "name": "ipython",
    "version": 3
   },
   "file_extension": ".py",
   "mimetype": "text/x-python",
   "name": "python",
   "nbconvert_exporter": "python",
   "pygments_lexer": "ipython3",
   "version": "3.7.7"
  }
 },
 "nbformat": 4,
 "nbformat_minor": 4
}
