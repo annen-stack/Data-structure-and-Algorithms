{
 "cells": [
  {
   "cell_type": "code",
   "execution_count": null,
   "metadata": {},
   "outputs": [],
   "source": [
    "class Solution:\n",
    "    # @param S, T: Two string.\n",
    "    # @return: Count the number of distinct subsequences\n",
    "    def numDistinct(self, S, T):\n",
    "        if S is None or T is None:\n",
    "            return 0\n",
    "        if len(S) < len(T):\n",
    "            return 0\n",
    "        if len(T) == 0:\n",
    "            return 1\n",
    "\n",
    "        f = [[0 for i in xrange(len(T) + 1)] for j in xrange(len(S) + 1)]\n",
    "        for i, Si in enumerate(S):\n",
    "            f[i][0] = 1\n",
    "            for j, Tj in enumerate(T):\n",
    "                if Si == Tj:\n",
    "                    f[i + 1][j + 1] = f[i][j + 1] + f[i][j]\n",
    "                else:\n",
    "                    f[i + 1][j + 1] = f[i][j + 1]\n",
    "\n",
    "        return f[len(S)][len(T)]"
   ]
  }
 ],
 "metadata": {
  "kernelspec": {
   "display_name": "Python 3",
   "language": "python",
   "name": "python3"
  },
  "language_info": {
   "codemirror_mode": {
    "name": "ipython",
    "version": 3
   },
   "file_extension": ".py",
   "mimetype": "text/x-python",
   "name": "python",
   "nbconvert_exporter": "python",
   "pygments_lexer": "ipython3",
   "version": "3.7.7"
  }
 },
 "nbformat": 4,
 "nbformat_minor": 4
}
