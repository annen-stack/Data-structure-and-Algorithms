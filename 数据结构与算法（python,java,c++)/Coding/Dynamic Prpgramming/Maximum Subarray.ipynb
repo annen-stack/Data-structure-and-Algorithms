{
 "cells": [
  {
   "cell_type": "code",
   "execution_count": null,
   "metadata": {},
   "outputs": [],
   "source": [
    "public class Solution {\n",
    "    /**\n",
    "     * @param nums: A list of integers\n",
    "     * @return: A integer indicate the sum of max subarray\n",
    "     */\n",
    "    public int maxSubArray(ArrayList<Integer> nums) {\n",
    "        // -1 is not proper for illegal input\n",
    "        if (nums == null || nums.isEmpty()) return -1;\n",
    "\n",
    "        int sum = 0, minSum = 0, maxSub = Integer.MIN_VALUE;\n",
    "        for (int num : nums) {\n",
    "            minSum = Math.min(minSum, sum);\n",
    "            sum += num;\n",
    "            maxSub = Math.max(maxSub, sum - minSum);\n",
    "        }\n",
    "\n",
    "        return maxSub;\n",
    "    }\n",
    "}"
   ]
  }
 ],
 "metadata": {
  "kernelspec": {
   "display_name": "Python 3",
   "language": "python",
   "name": "python3"
  },
  "language_info": {
   "codemirror_mode": {
    "name": "ipython",
    "version": 3
   },
   "file_extension": ".py",
   "mimetype": "text/x-python",
   "name": "python",
   "nbconvert_exporter": "python",
   "pygments_lexer": "ipython3",
   "version": "3.7.7"
  }
 },
 "nbformat": 4,
 "nbformat_minor": 4
}
