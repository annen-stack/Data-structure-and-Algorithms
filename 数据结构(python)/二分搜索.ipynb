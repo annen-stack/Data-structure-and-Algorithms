{
 "cells": [
  {
   "cell_type": "code",
   "execution_count": 1,
   "metadata": {},
   "outputs": [],
   "source": [
    "class Solution:\n",
    "    def firstBadVersion(self,n):\n",
    "        lo.hi=1,n\n",
    "        while lo<hi:\n",
    "            mid = (lo+hi)//2\n",
    "            if not isBadVersion(mid):\n",
    "                lo = mid+1\n",
    "            else:\n",
    "                hi = mid\n",
    "        return lo"
   ]
  },
  {
   "cell_type": "code",
   "execution_count": 3,
   "metadata": {},
   "outputs": [],
   "source": [
    "class Solution:\n",
    "    def searchInsert(self, nums,target):\n",
    "        lo,hi=0,len(nums)\n",
    "        while lo<hi:\n",
    "            mid = (lo+hi)//2\n",
    "            if nums[mid] < target:\n",
    "                lo=mid+1\n",
    "            else:\n",
    "                hi = mid\n",
    "        return lo   "
   ]
  },
  {
   "cell_type": "code",
   "execution_count": 4,
   "metadata": {},
   "outputs": [],
   "source": [
    "class Solution:\n",
    "    def search(self, nums, target):\n",
    "        lo, hi = 0, len(nums) - 1\n",
    "        while lo < hi:\n",
    "            mid = (lo + hi) // 2\n",
    "            if (nums[0] > target) ^ (nums[0] > nums[mid]) ^ (target > nums[mid]):\n",
    "                lo = mid + 1\n",
    "            else:\n",
    "                hi = mid\n",
    "        return lo if lo == hi and target == nums[lo] else -1"
   ]
  },
  {
   "cell_type": "code",
   "execution_count": 5,
   "metadata": {},
   "outputs": [],
   "source": [
    "class Solution:\n",
    "    def findMin(self,nums):\n",
    "        lo,hi=0,len(nums)-1\n",
    "        while lo < hi:\n",
    "            mid = (lo+hi)//2\n",
    "            if nums[mid]>nums[hi]:\n",
    "                lo=mid+1\n",
    "            else:\n",
    "                hi=mid\n",
    "        return nums[lo]"
   ]
  },
  {
   "cell_type": "code",
   "execution_count": 6,
   "metadata": {},
   "outputs": [],
   "source": [
    "class Solution:\n",
    "    def findMin(self, nums):\n",
    "        lo, hi = 0, len(nums)-1\n",
    "        while lo < hi:\n",
    "            mid = (lo + hi) // 2\n",
    "            if nums[mid] > nums[hi]:\n",
    "                lo = mid + 1\n",
    "            elif nums[mid] == nums[hi]:\n",
    "                hi -= 1\n",
    "            else:\n",
    "                hi = mid\n",
    "        return nums[lo]"
   ]
  },
  {
   "cell_type": "code",
   "execution_count": 7,
   "metadata": {},
   "outputs": [],
   "source": [
    "class Solution:\n",
    "    def findPeakElement(self, nums):\n",
    "        lo, hi = 0, len(nums)-1\n",
    "        while lo < hi:\n",
    "            mid = (lo + hi) // 2\n",
    "            if nums[mid] < nums[mid + 1]:\n",
    "                lo = mid + 1\n",
    "            else:\n",
    "                hi = mid\n",
    "        return lo"
   ]
  },
  {
   "cell_type": "code",
   "execution_count": 8,
   "metadata": {},
   "outputs": [],
   "source": [
    "class Solution:\n",
    "    def searchRange(self, nums,target):\n",
    "        if not nums: return [-1, -1]\n",
    "        def search(lo, hi):\n",
    "            if nums[lo] == target == nums[hi]:\n",
    "                return [lo, hi]\n",
    "            if nums[lo] <= target <= nums[hi]:\n",
    "                mid = (lo + hi) // 2\n",
    "                l, r = search(lo, mid), search(mid+1, hi)\n",
    "                return max(l, r) if -1 in l+r else [l[0], r[1]]\n",
    "            return [-1, -1]\n",
    "        return search(0, len(nums)-1)"
   ]
  },
  {
   "cell_type": "code",
   "execution_count": 9,
   "metadata": {},
   "outputs": [],
   "source": [
    "class Solution:  # 哈希表做法\n",
    "    def twoSum(self, nums,target):\n",
    "        used = {}\n",
    "        for i, v in enumerate(nums):\n",
    "            if v in used:\n",
    "                return i, used[v]\n",
    "            used[target - v] = i"
   ]
  },
  {
   "cell_type": "code",
   "execution_count": 10,
   "metadata": {},
   "outputs": [],
   "source": [
    "###双指针\n",
    "class Solution:\n",
    "    def twoSum(self,nums,target):\n",
    "        nums = list(enumerate(nums))\n",
    "        nums = sorted(nums,key=lambda x:x[1])\n",
    "        i=0\n",
    "        j=len(nums)-1\n",
    "        while i<j:\n",
    "            if nums[i][1] + nums[j][1] <target:\n",
    "                i=i+1\n",
    "            if nums[i][1] + nums[j][1] > target:\n",
    "                j=j-1\n",
    "            else:\n",
    "                return nums[i][0];nums[j][0]"
   ]
  },
  {
   "cell_type": "code",
   "execution_count": 13,
   "metadata": {},
   "outputs": [],
   "source": [
    "###双指针\n",
    "class Solution:\n",
    "    def twoSum(self,nums,target):\n",
    "        i,j=0,len(numbers)-1\n",
    "        while i<j:\n",
    "            if numbers[i]+numbers[j]<target:\n",
    "                i=i+1\n",
    "            elif numbers[i]+numbers[j]>target:\n",
    "                    j=j-1\n",
    "            else:\n",
    "                return i+1,j+1"
   ]
  },
  {
   "cell_type": "code",
   "execution_count": 14,
   "metadata": {},
   "outputs": [],
   "source": [
    "class Solution:\n",
    "    def threeSum(self, nums):\n",
    "        res = []\n",
    "        nums.sort()\n",
    "        for i in range(len(nums)-2):\n",
    "            if i > 0 and nums[i] == nums[i-1]:\n",
    "                continue\n",
    "            l, r = i+1, len(nums)-1\n",
    "            while l < r:\n",
    "                s = nums[i] + nums[l] + nums[r]\n",
    "                if s < 0:\n",
    "                    l +=1\n",
    "                elif s > 0:\n",
    "                    r -= 1\n",
    "                else:\n",
    "                    res.append((nums[i], nums[l], nums[r]))\n",
    "                    while l < r and nums[l] == nums[l+1]:\n",
    "                        l += 1\n",
    "                    while l < r and nums[r] == nums[r-1]:\n",
    "                        r -= 1\n",
    "                    l += 1; r -= 1\n",
    "        return res"
   ]
  },
  {
   "cell_type": "code",
   "execution_count": 15,
   "metadata": {},
   "outputs": [],
   "source": [
    "class Solution:\n",
    "    def threeSumClosest(self, nums, target):\n",
    "        num.sort()\n",
    "        res = sum(nums[:3])\n",
    "        for i in range(len(nums)):\n",
    "            l,r = i+1,len(nums)-1\n",
    "            while l<r:\n",
    "                s = sum((nums[i],nums[l],nums[r]))\n",
    "                if abs(s-target) < abs(res-target):\n",
    "                    res = s\n",
    "                if s< target:\n",
    "                    l+=1\n",
    "                elif s>target:\n",
    "                    r-=1\n",
    "                else:\n",
    "                    return res\n",
    "        return res"
   ]
  },
  {
   "cell_type": "code",
   "execution_count": 17,
   "metadata": {},
   "outputs": [],
   "source": [
    "class Solution:\n",
    "    def fourSum(self, nums,target):\n",
    "        def findNsum(l, r, target, N, result, results):\n",
    "            if r-l+1 < N or N < 2 or target < nums[l]*N or target > nums[r]*N:  # early termination\n",
    "                return\n",
    "            if N == 2: # two pointers solve sorted 2-sum problem\n",
    "                while l < r:\n",
    "                    s = nums[l] + nums[r]\n",
    "                    if s == target:\n",
    "                        results.append(result + [nums[l], nums[r]])\n",
    "                        l += 1\n",
    "                        while l < r and nums[l] == nums[l-1]:\n",
    "                            l += 1\n",
    "                    elif s < target:\n",
    "                        l += 1\n",
    "                    else:\n",
    "                        r -= 1\n",
    "            else: # recursively reduce N\n",
    "                for i in range(l, r+1):\n",
    "                    if i == l or (i > l and nums[i-1] != nums[i]):\n",
    "                        findNsum(i+1, r, target-nums[i], N-1, result+[nums[i]], results)\n",
    "\n",
    "        nums.sort()\n",
    "        results = []\n",
    "        findNsum(0, len(nums)-1, target, 4, [], results)\n",
    "        return results  "
   ]
  },
  {
   "cell_type": "code",
   "execution_count": 18,
   "metadata": {},
   "outputs": [],
   "source": [
    "##三角形判别\n",
    "class Solution:\n",
    "    def triangleNumber(self,nums):\n",
    "        nums.sort()\n",
    "        res=0\n",
    "        for c in range(len(nums)-1,1,-1):\n",
    "            a,b=0,c-1\n",
    "            while a<b:\n",
    "                if nums[a]+nums[b]>nums[c]:\n",
    "                    res=res+b-a\n",
    "                    b=b-1\n",
    "                else:\n",
    "                    a=a+1\n",
    "        return res"
   ]
  },
  {
   "cell_type": "code",
   "execution_count": 19,
   "metadata": {},
   "outputs": [],
   "source": [
    "#找1\n",
    "class Solution:\n",
    "    def countDigitOne(self, n):\n",
    "        count, i = 0, 1\n",
    "        while i <= n:\n",
    "            a, b = n // i, n % i\n",
    "            count += (a+8) // 10 * i + (a%10 == 1) * (b+1)\n",
    "            i *= 10\n",
    "        return count"
   ]
  },
  {
   "cell_type": "code",
   "execution_count": 20,
   "metadata": {},
   "outputs": [],
   "source": [
    "class Solution:\n",
    "    def isHappy(self,n):\n",
    "        stop={1}\n",
    "        while n not in stop:\n",
    "            stop.add(n)\n",
    "            n = sum( int(i)**2 for i in str(n))\n",
    "        return n==1"
   ]
  },
  {
   "cell_type": "code",
   "execution_count": 21,
   "metadata": {},
   "outputs": [],
   "source": [
    "class Solution:\n",
    "    def isUgly(self, num):\n",
    "        for p in 2, 3, 5:\n",
    "            while num % p == 0 < num:\n",
    "                num /= p\n",
    "        return num == 1"
   ]
  },
  {
   "cell_type": "code",
   "execution_count": 22,
   "metadata": {},
   "outputs": [],
   "source": [
    "class Solution:\n",
    "    def nthUglyNumber(self, n):\n",
    "        ugly = [1]\n",
    "        i2 = i3 = i5 = 0\n",
    "        while len(ugly) < n:\n",
    "            while ugly[i2] * 2 <= ugly[-1]: i2 += 1\n",
    "            while ugly[i3] * 3 <= ugly[-1]: i3 += 1\n",
    "            while ugly[i5] * 5 <= ugly[-1]: i5 += 1\n",
    "            ugly.append(min(ugly[i2] * 2, ugly[i3] * 3, ugly[i5] * 5))\n",
    "        return ugly[-1]"
   ]
  },
  {
   "cell_type": "code",
   "execution_count": 23,
   "metadata": {},
   "outputs": [],
   "source": [
    "class Solution:\n",
    "    def trailingZeroes(self, n):\n",
    "        return 0 if n == 0 else n // 5 + self.trailingZeroes(n // 5)"
   ]
  },
  {
   "cell_type": "code",
   "execution_count": 24,
   "metadata": {},
   "outputs": [],
   "source": [
    "class Solution:\n",
    "    def integerBreak(self,n):\n",
    "        dp=[0]*(n+1)\n",
    "        for i in range(2,n+1):\n",
    "            for j in range(1,i):\n",
    "                dp[i]=max(dp[i],max(dp[i]*(i-j),j*(i-j)))\n",
    "        return dp[n]"
   ]
  },
  {
   "cell_type": "code",
   "execution_count": null,
   "metadata": {},
   "outputs": [],
   "source": []
  }
 ],
 "metadata": {
  "kernelspec": {
   "display_name": "Python 3",
   "language": "python",
   "name": "python3"
  },
  "language_info": {
   "codemirror_mode": {
    "name": "ipython",
    "version": 3
   },
   "file_extension": ".py",
   "mimetype": "text/x-python",
   "name": "python",
   "nbconvert_exporter": "python",
   "pygments_lexer": "ipython3",
   "version": "3.7.7"
  }
 },
 "nbformat": 4,
 "nbformat_minor": 4
}
